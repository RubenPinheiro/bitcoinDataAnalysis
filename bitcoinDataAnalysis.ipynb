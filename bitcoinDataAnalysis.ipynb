{
 "cells": [
  {
   "cell_type": "code",
   "execution_count": 1,
   "id": "5e755cc3-bdb7-42d8-adbe-37c5c8b29686",
   "metadata": {},
   "outputs": [],
   "source": [
    "# preparing data"
   ]
  },
  {
   "cell_type": "code",
   "execution_count": 1,
   "id": "3f3c92fc-8304-4d4e-96cc-c19035c9c27b",
   "metadata": {},
   "outputs": [],
   "source": [
    "import pandas as pd\n",
    "import numpy as np\n",
    "import matplotlib.pyplot as plt\n",
    "import seaborn as sns\n",
    "import os"
   ]
  },
  {
   "cell_type": "code",
   "execution_count": 2,
   "id": "7d44d56d-48d9-4388-8ac4-abaeab568369",
   "metadata": {},
   "outputs": [
    {
     "data": {
      "text/plain": [
       "['bitcoin_analysis_Shan_Singh.ipynb', 'bitcoin_price_Training - Training.csv']"
      ]
     },
     "execution_count": 2,
     "metadata": {},
     "output_type": "execute_result"
    }
   ],
   "source": [
    "os.listdir(r\"C:\\Users\\ruben\\Desktop\\DataPortfolio\\Datasets\\Bitcoin\")"
   ]
  },
  {
   "cell_type": "code",
   "execution_count": 3,
   "id": "955bb3b3-5409-49ad-9967-461664003f4e",
   "metadata": {},
   "outputs": [],
   "source": [
    "btc_df = pd.read_csv(r\"C:\\Users\\ruben\\Desktop\\DataPortfolio\\Datasets\\Bitcoin\\bitcoin_price_Training - Training.csv\")"
   ]
  },
  {
   "cell_type": "code",
   "execution_count": 29,
   "id": "ccd66ff5-2008-425d-a0b8-11cead9013c5",
   "metadata": {},
   "outputs": [
    {
     "data": {
      "text/html": [
       "<div>\n",
       "<style scoped>\n",
       "    .dataframe tbody tr th:only-of-type {\n",
       "        vertical-align: middle;\n",
       "    }\n",
       "\n",
       "    .dataframe tbody tr th {\n",
       "        vertical-align: top;\n",
       "    }\n",
       "\n",
       "    .dataframe thead th {\n",
       "        text-align: right;\n",
       "    }\n",
       "</style>\n",
       "<table border=\"1\" class=\"dataframe\">\n",
       "  <thead>\n",
       "    <tr style=\"text-align: right;\">\n",
       "      <th></th>\n",
       "      <th>Date</th>\n",
       "      <th>Open</th>\n",
       "      <th>High</th>\n",
       "      <th>Low</th>\n",
       "      <th>Close</th>\n",
       "      <th>Volume</th>\n",
       "      <th>Market Cap</th>\n",
       "    </tr>\n",
       "  </thead>\n",
       "  <tbody>\n",
       "    <tr>\n",
       "      <th>0</th>\n",
       "      <td>2013-04-28</td>\n",
       "      <td>135.30</td>\n",
       "      <td>135.98</td>\n",
       "      <td>132.10</td>\n",
       "      <td>134.21</td>\n",
       "      <td>-</td>\n",
       "      <td>1,500,520,000</td>\n",
       "    </tr>\n",
       "    <tr>\n",
       "      <th>1</th>\n",
       "      <td>2013-04-29</td>\n",
       "      <td>134.44</td>\n",
       "      <td>147.49</td>\n",
       "      <td>134.00</td>\n",
       "      <td>144.54</td>\n",
       "      <td>-</td>\n",
       "      <td>1,491,160,000</td>\n",
       "    </tr>\n",
       "    <tr>\n",
       "      <th>2</th>\n",
       "      <td>2013-04-30</td>\n",
       "      <td>144.00</td>\n",
       "      <td>146.93</td>\n",
       "      <td>134.05</td>\n",
       "      <td>139.00</td>\n",
       "      <td>-</td>\n",
       "      <td>1,597,780,000</td>\n",
       "    </tr>\n",
       "  </tbody>\n",
       "</table>\n",
       "</div>"
      ],
      "text/plain": [
       "        Date    Open    High     Low   Close Volume     Market Cap\n",
       "0 2013-04-28  135.30  135.98  132.10  134.21      -  1,500,520,000\n",
       "1 2013-04-29  134.44  147.49  134.00  144.54      -  1,491,160,000\n",
       "2 2013-04-30  144.00  146.93  134.05  139.00      -  1,597,780,000"
      ]
     },
     "execution_count": 29,
     "metadata": {},
     "output_type": "execute_result"
    }
   ],
   "source": [
    "btc_df.head(3)"
   ]
  },
  {
   "cell_type": "code",
   "execution_count": 9,
   "id": "f492f52d-a087-4fee-b987-66e4c7cb9812",
   "metadata": {},
   "outputs": [
    {
     "data": {
      "text/plain": [
       "Index(['Date', 'Open', 'High', 'Low', 'Close', 'Volume', 'Market Cap'], dtype='object')"
      ]
     },
     "execution_count": 9,
     "metadata": {},
     "output_type": "execute_result"
    }
   ],
   "source": [
    "btc_df.columns"
   ]
  },
  {
   "cell_type": "code",
   "execution_count": 10,
   "id": "62f98489-3d67-4072-8d91-8d9f87d8bdc3",
   "metadata": {},
   "outputs": [
    {
     "data": {
      "text/plain": [
       "(1556, 7)"
      ]
     },
     "execution_count": 10,
     "metadata": {},
     "output_type": "execute_result"
    }
   ],
   "source": [
    "btc_df.shape"
   ]
  },
  {
   "cell_type": "code",
   "execution_count": 11,
   "id": "c6b182ad-4baa-4c7f-b8bf-364c42ffffd0",
   "metadata": {},
   "outputs": [],
   "source": [
    "# to check null values and the types of objects we run .info"
   ]
  },
  {
   "cell_type": "code",
   "execution_count": 12,
   "id": "eae7d7fa-9e6f-436e-9f54-79909382f46a",
   "metadata": {},
   "outputs": [
    {
     "name": "stdout",
     "output_type": "stream",
     "text": [
      "<class 'pandas.core.frame.DataFrame'>\n",
      "RangeIndex: 1556 entries, 0 to 1555\n",
      "Data columns (total 7 columns):\n",
      " #   Column      Non-Null Count  Dtype  \n",
      "---  ------      --------------  -----  \n",
      " 0   Date        1556 non-null   object \n",
      " 1   Open        1556 non-null   float64\n",
      " 2   High        1556 non-null   float64\n",
      " 3   Low         1556 non-null   float64\n",
      " 4   Close       1556 non-null   float64\n",
      " 5   Volume      1556 non-null   object \n",
      " 6   Market Cap  1556 non-null   object \n",
      "dtypes: float64(4), object(3)\n",
      "memory usage: 85.2+ KB\n"
     ]
    }
   ],
   "source": [
    "btc_df.info()"
   ]
  },
  {
   "cell_type": "code",
   "execution_count": 16,
   "id": "dfb04caf-c78d-4e7a-83d2-c5c37c4a65ca",
   "metadata": {},
   "outputs": [],
   "source": [
    "# to convet the date column to a datetime object"
   ]
  },
  {
   "cell_type": "code",
   "execution_count": 10,
   "id": "21d875bc-d5fc-4db4-860b-05d64ae36a3d",
   "metadata": {},
   "outputs": [
    {
     "data": {
      "text/plain": [
       "Timestamp('2017-07-31 00:00:00')"
      ]
     },
     "execution_count": 10,
     "metadata": {},
     "output_type": "execute_result"
    }
   ],
   "source": [
    "btc_df[\"Date\"] = pd.to_datetime(btc_df[\"Date\"])\n",
    "btc_df[\"Date\"][0]"
   ]
  },
  {
   "cell_type": "code",
   "execution_count": 41,
   "id": "f4c9f761-9c84-4d71-8662-af3233a6897f",
   "metadata": {},
   "outputs": [
    {
     "name": "stdout",
     "output_type": "stream",
     "text": [
      "<class 'pandas.core.frame.DataFrame'>\n",
      "RangeIndex: 1556 entries, 0 to 1555\n",
      "Data columns (total 7 columns):\n",
      " #   Column      Non-Null Count  Dtype         \n",
      "---  ------      --------------  -----         \n",
      " 0   Date        1556 non-null   datetime64[ns]\n",
      " 1   Open        1556 non-null   float64       \n",
      " 2   High        1556 non-null   float64       \n",
      " 3   Low         1556 non-null   float64       \n",
      " 4   Close       1556 non-null   float64       \n",
      " 5   Volume      1313 non-null   float64       \n",
      " 6   Market Cap  1556 non-null   float64       \n",
      "dtypes: datetime64[ns](1), float64(6)\n",
      "memory usage: 85.2 KB\n"
     ]
    }
   ],
   "source": [
    "btc_df.info()"
   ]
  },
  {
   "cell_type": "code",
   "execution_count": 17,
   "id": "1808449a-424c-471a-a8f9-743dc255098b",
   "metadata": {},
   "outputs": [],
   "source": [
    "# to explore some metrics, we use .describe() with transpose aka switching columns with rows (.T)\n",
    "# to ignore the date column, we use the .iloc function"
   ]
  },
  {
   "cell_type": "code",
   "execution_count": 7,
   "id": "8347bf76-7918-42de-bdfa-9ce34513a0fb",
   "metadata": {},
   "outputs": [
    {
     "data": {
      "text/html": [
       "<div>\n",
       "<style scoped>\n",
       "    .dataframe tbody tr th:only-of-type {\n",
       "        vertical-align: middle;\n",
       "    }\n",
       "\n",
       "    .dataframe tbody tr th {\n",
       "        vertical-align: top;\n",
       "    }\n",
       "\n",
       "    .dataframe thead th {\n",
       "        text-align: right;\n",
       "    }\n",
       "</style>\n",
       "<table border=\"1\" class=\"dataframe\">\n",
       "  <thead>\n",
       "    <tr style=\"text-align: right;\">\n",
       "      <th></th>\n",
       "      <th>count</th>\n",
       "      <th>mean</th>\n",
       "      <th>std</th>\n",
       "      <th>min</th>\n",
       "      <th>25%</th>\n",
       "      <th>50%</th>\n",
       "      <th>75%</th>\n",
       "      <th>max</th>\n",
       "    </tr>\n",
       "  </thead>\n",
       "  <tbody>\n",
       "    <tr>\n",
       "      <th>Open</th>\n",
       "      <td>1556.0</td>\n",
       "      <td>582.625328</td>\n",
       "      <td>523.137312</td>\n",
       "      <td>68.50</td>\n",
       "      <td>254.2875</td>\n",
       "      <td>438.600</td>\n",
       "      <td>662.4375</td>\n",
       "      <td>2953.22</td>\n",
       "    </tr>\n",
       "    <tr>\n",
       "      <th>High</th>\n",
       "      <td>1556.0</td>\n",
       "      <td>597.992847</td>\n",
       "      <td>542.992855</td>\n",
       "      <td>74.56</td>\n",
       "      <td>260.3275</td>\n",
       "      <td>447.560</td>\n",
       "      <td>674.5250</td>\n",
       "      <td>2999.91</td>\n",
       "    </tr>\n",
       "    <tr>\n",
       "      <th>Low</th>\n",
       "      <td>1556.0</td>\n",
       "      <td>567.851446</td>\n",
       "      <td>505.877401</td>\n",
       "      <td>65.53</td>\n",
       "      <td>248.8350</td>\n",
       "      <td>430.570</td>\n",
       "      <td>646.7350</td>\n",
       "      <td>2840.53</td>\n",
       "    </tr>\n",
       "    <tr>\n",
       "      <th>Close</th>\n",
       "      <td>1556.0</td>\n",
       "      <td>584.239396</td>\n",
       "      <td>525.904442</td>\n",
       "      <td>68.43</td>\n",
       "      <td>254.3200</td>\n",
       "      <td>438.855</td>\n",
       "      <td>663.4025</td>\n",
       "      <td>2958.11</td>\n",
       "    </tr>\n",
       "  </tbody>\n",
       "</table>\n",
       "</div>"
      ],
      "text/plain": [
       "        count        mean         std    min       25%      50%       75%  \\\n",
       "Open   1556.0  582.625328  523.137312  68.50  254.2875  438.600  662.4375   \n",
       "High   1556.0  597.992847  542.992855  74.56  260.3275  447.560  674.5250   \n",
       "Low    1556.0  567.851446  505.877401  65.53  248.8350  430.570  646.7350   \n",
       "Close  1556.0  584.239396  525.904442  68.43  254.3200  438.855  663.4025   \n",
       "\n",
       "           max  \n",
       "Open   2953.22  \n",
       "High   2999.91  \n",
       "Low    2840.53  \n",
       "Close  2958.11  "
      ]
     },
     "execution_count": 7,
     "metadata": {},
     "output_type": "execute_result"
    }
   ],
   "source": [
    "btc_df.iloc[:, 1:].describe().T"
   ]
  },
  {
   "cell_type": "code",
   "execution_count": 30,
   "id": "d3c5d094-ba64-420b-93de-039cbef0e9b0",
   "metadata": {},
   "outputs": [],
   "source": [
    "# examples of insights:\n",
    "\n",
    "# the average value at Open is 582,63\n",
    "# the variation at High is 542,99\n",
    "# 25% of the values at Low is < 248,84\n",
    "# 75% of the Values at Close is < 663,40"
   ]
  },
  {
   "cell_type": "code",
   "execution_count": 12,
   "id": "cc64c798-9693-47b8-ba82-91b8971fcf9c",
   "metadata": {},
   "outputs": [
    {
     "data": {
      "text/html": [
       "<div>\n",
       "<style scoped>\n",
       "    .dataframe tbody tr th:only-of-type {\n",
       "        vertical-align: middle;\n",
       "    }\n",
       "\n",
       "    .dataframe tbody tr th {\n",
       "        vertical-align: top;\n",
       "    }\n",
       "\n",
       "    .dataframe thead th {\n",
       "        text-align: right;\n",
       "    }\n",
       "</style>\n",
       "<table border=\"1\" class=\"dataframe\">\n",
       "  <thead>\n",
       "    <tr style=\"text-align: right;\">\n",
       "      <th></th>\n",
       "      <th>Date</th>\n",
       "      <th>Open</th>\n",
       "      <th>High</th>\n",
       "      <th>Low</th>\n",
       "      <th>Close</th>\n",
       "      <th>Volume</th>\n",
       "      <th>Market Cap</th>\n",
       "    </tr>\n",
       "  </thead>\n",
       "  <tbody>\n",
       "    <tr>\n",
       "      <th>1555</th>\n",
       "      <td>2013-04-28</td>\n",
       "      <td>135.30</td>\n",
       "      <td>135.98</td>\n",
       "      <td>132.10</td>\n",
       "      <td>134.21</td>\n",
       "      <td>-</td>\n",
       "      <td>1,500,520,000</td>\n",
       "    </tr>\n",
       "    <tr>\n",
       "      <th>1554</th>\n",
       "      <td>2013-04-29</td>\n",
       "      <td>134.44</td>\n",
       "      <td>147.49</td>\n",
       "      <td>134.00</td>\n",
       "      <td>144.54</td>\n",
       "      <td>-</td>\n",
       "      <td>1,491,160,000</td>\n",
       "    </tr>\n",
       "    <tr>\n",
       "      <th>1553</th>\n",
       "      <td>2013-04-30</td>\n",
       "      <td>144.00</td>\n",
       "      <td>146.93</td>\n",
       "      <td>134.05</td>\n",
       "      <td>139.00</td>\n",
       "      <td>-</td>\n",
       "      <td>1,597,780,000</td>\n",
       "    </tr>\n",
       "    <tr>\n",
       "      <th>1552</th>\n",
       "      <td>2013-05-01</td>\n",
       "      <td>139.00</td>\n",
       "      <td>139.89</td>\n",
       "      <td>107.72</td>\n",
       "      <td>116.99</td>\n",
       "      <td>-</td>\n",
       "      <td>1,542,820,000</td>\n",
       "    </tr>\n",
       "    <tr>\n",
       "      <th>1551</th>\n",
       "      <td>2013-05-02</td>\n",
       "      <td>116.38</td>\n",
       "      <td>125.60</td>\n",
       "      <td>92.28</td>\n",
       "      <td>105.21</td>\n",
       "      <td>-</td>\n",
       "      <td>1,292,190,000</td>\n",
       "    </tr>\n",
       "    <tr>\n",
       "      <th>...</th>\n",
       "      <td>...</td>\n",
       "      <td>...</td>\n",
       "      <td>...</td>\n",
       "      <td>...</td>\n",
       "      <td>...</td>\n",
       "      <td>...</td>\n",
       "      <td>...</td>\n",
       "    </tr>\n",
       "    <tr>\n",
       "      <th>4</th>\n",
       "      <td>2017-07-27</td>\n",
       "      <td>2538.71</td>\n",
       "      <td>2693.32</td>\n",
       "      <td>2529.34</td>\n",
       "      <td>2671.78</td>\n",
       "      <td>789,104,000</td>\n",
       "      <td>41,816,500,000</td>\n",
       "    </tr>\n",
       "    <tr>\n",
       "      <th>3</th>\n",
       "      <td>2017-07-28</td>\n",
       "      <td>2679.73</td>\n",
       "      <td>2897.45</td>\n",
       "      <td>2679.73</td>\n",
       "      <td>2809.01</td>\n",
       "      <td>1,380,100,000</td>\n",
       "      <td>44,144,400,000</td>\n",
       "    </tr>\n",
       "    <tr>\n",
       "      <th>2</th>\n",
       "      <td>2017-07-29</td>\n",
       "      <td>2807.02</td>\n",
       "      <td>2808.76</td>\n",
       "      <td>2692.80</td>\n",
       "      <td>2726.45</td>\n",
       "      <td>803,746,000</td>\n",
       "      <td>46,246,700,000</td>\n",
       "    </tr>\n",
       "    <tr>\n",
       "      <th>1</th>\n",
       "      <td>2017-07-30</td>\n",
       "      <td>2724.39</td>\n",
       "      <td>2758.53</td>\n",
       "      <td>2644.85</td>\n",
       "      <td>2757.18</td>\n",
       "      <td>705,943,000</td>\n",
       "      <td>44,890,700,000</td>\n",
       "    </tr>\n",
       "    <tr>\n",
       "      <th>0</th>\n",
       "      <td>2017-07-31</td>\n",
       "      <td>2763.24</td>\n",
       "      <td>2889.62</td>\n",
       "      <td>2720.61</td>\n",
       "      <td>2875.34</td>\n",
       "      <td>860,575,000</td>\n",
       "      <td>45,535,800,000</td>\n",
       "    </tr>\n",
       "  </tbody>\n",
       "</table>\n",
       "<p>1556 rows × 7 columns</p>\n",
       "</div>"
      ],
      "text/plain": [
       "           Date     Open     High      Low    Close         Volume  \\\n",
       "1555 2013-04-28   135.30   135.98   132.10   134.21              -   \n",
       "1554 2013-04-29   134.44   147.49   134.00   144.54              -   \n",
       "1553 2013-04-30   144.00   146.93   134.05   139.00              -   \n",
       "1552 2013-05-01   139.00   139.89   107.72   116.99              -   \n",
       "1551 2013-05-02   116.38   125.60    92.28   105.21              -   \n",
       "...         ...      ...      ...      ...      ...            ...   \n",
       "4    2017-07-27  2538.71  2693.32  2529.34  2671.78    789,104,000   \n",
       "3    2017-07-28  2679.73  2897.45  2679.73  2809.01  1,380,100,000   \n",
       "2    2017-07-29  2807.02  2808.76  2692.80  2726.45    803,746,000   \n",
       "1    2017-07-30  2724.39  2758.53  2644.85  2757.18    705,943,000   \n",
       "0    2017-07-31  2763.24  2889.62  2720.61  2875.34    860,575,000   \n",
       "\n",
       "          Market Cap  \n",
       "1555   1,500,520,000  \n",
       "1554   1,491,160,000  \n",
       "1553   1,597,780,000  \n",
       "1552   1,542,820,000  \n",
       "1551   1,292,190,000  \n",
       "...              ...  \n",
       "4     41,816,500,000  \n",
       "3     44,144,400,000  \n",
       "2     46,246,700,000  \n",
       "1     44,890,700,000  \n",
       "0     45,535,800,000  \n",
       "\n",
       "[1556 rows x 7 columns]"
      ]
     },
     "execution_count": 12,
     "metadata": {},
     "output_type": "execute_result"
    }
   ],
   "source": [
    "btc_df.sort_index(ascending=False)"
   ]
  },
  {
   "cell_type": "code",
   "execution_count": 36,
   "id": "3d44842c-ef16-4570-ba14-0dddd09f30e0",
   "metadata": {},
   "outputs": [],
   "source": [
    "# the data is collected between 28th of April, 2013 and 31st of July, 2017"
   ]
  },
  {
   "cell_type": "code",
   "execution_count": 37,
   "id": "92e91b96-bc86-4200-8118-cf42fafc33ef",
   "metadata": {},
   "outputs": [],
   "source": [
    "# to check duplicates:"
   ]
  },
  {
   "cell_type": "code",
   "execution_count": 38,
   "id": "83f70b48-fa36-4c4c-880e-907041b3bb2b",
   "metadata": {},
   "outputs": [
    {
     "data": {
      "text/plain": [
       "0"
      ]
     },
     "execution_count": 38,
     "metadata": {},
     "output_type": "execute_result"
    }
   ],
   "source": [
    "btc_df.duplicated().sum()"
   ]
  },
  {
   "cell_type": "code",
   "execution_count": 42,
   "id": "3b6b97f3-672e-42e5-b35e-0fc2ee7176d7",
   "metadata": {},
   "outputs": [],
   "source": [
    "# QUESTION: what was the change of stock price overtime?"
   ]
  },
  {
   "cell_type": "code",
   "execution_count": 44,
   "id": "30e9b2be-9a1f-4f4c-b0ca-81138503c5e2",
   "metadata": {},
   "outputs": [],
   "source": [
    "# to achieve this, a good approach would be a line chart overtime for the 4 metrics available\n",
    "# an image of 4 graphs with the dimensions 2x2 and correlation to the index of each metric"
   ]
  },
  {
   "cell_type": "code",
   "execution_count": 45,
   "id": "3beab6ec-0588-41ed-bacc-6a1feaa0ca77",
   "metadata": {},
   "outputs": [],
   "source": [
    "# resetting index of the df in order to oldest values show up first"
   ]
  },
  {
   "cell_type": "code",
   "execution_count": 13,
   "id": "19b1c360-8ed0-4c11-9084-a7eb00829d05",
   "metadata": {},
   "outputs": [],
   "source": [
    "btc_df = btc_df.sort_index(ascending=False).reset_index()"
   ]
  },
  {
   "cell_type": "code",
   "execution_count": 50,
   "id": "cb72650f-81e8-46ed-8d32-ebccd8ecf95b",
   "metadata": {},
   "outputs": [],
   "source": [
    "#to drop the index column"
   ]
  },
  {
   "cell_type": "code",
   "execution_count": 14,
   "id": "1bf32201-8c24-4555-89d5-e248f473fb86",
   "metadata": {},
   "outputs": [],
   "source": [
    "btc_df.drop('index', axis=1, inplace=True)"
   ]
  },
  {
   "cell_type": "code",
   "execution_count": 15,
   "id": "a6fda1ea-0b84-4eef-83d9-7ecf070378df",
   "metadata": {},
   "outputs": [
    {
     "data": {
      "text/html": [
       "<div>\n",
       "<style scoped>\n",
       "    .dataframe tbody tr th:only-of-type {\n",
       "        vertical-align: middle;\n",
       "    }\n",
       "\n",
       "    .dataframe tbody tr th {\n",
       "        vertical-align: top;\n",
       "    }\n",
       "\n",
       "    .dataframe thead th {\n",
       "        text-align: right;\n",
       "    }\n",
       "</style>\n",
       "<table border=\"1\" class=\"dataframe\">\n",
       "  <thead>\n",
       "    <tr style=\"text-align: right;\">\n",
       "      <th></th>\n",
       "      <th>Date</th>\n",
       "      <th>Open</th>\n",
       "      <th>High</th>\n",
       "      <th>Low</th>\n",
       "      <th>Close</th>\n",
       "      <th>Volume</th>\n",
       "      <th>Market Cap</th>\n",
       "    </tr>\n",
       "  </thead>\n",
       "  <tbody>\n",
       "    <tr>\n",
       "      <th>0</th>\n",
       "      <td>2013-04-28</td>\n",
       "      <td>135.30</td>\n",
       "      <td>135.98</td>\n",
       "      <td>132.10</td>\n",
       "      <td>134.21</td>\n",
       "      <td>-</td>\n",
       "      <td>1,500,520,000</td>\n",
       "    </tr>\n",
       "    <tr>\n",
       "      <th>1</th>\n",
       "      <td>2013-04-29</td>\n",
       "      <td>134.44</td>\n",
       "      <td>147.49</td>\n",
       "      <td>134.00</td>\n",
       "      <td>144.54</td>\n",
       "      <td>-</td>\n",
       "      <td>1,491,160,000</td>\n",
       "    </tr>\n",
       "    <tr>\n",
       "      <th>2</th>\n",
       "      <td>2013-04-30</td>\n",
       "      <td>144.00</td>\n",
       "      <td>146.93</td>\n",
       "      <td>134.05</td>\n",
       "      <td>139.00</td>\n",
       "      <td>-</td>\n",
       "      <td>1,597,780,000</td>\n",
       "    </tr>\n",
       "  </tbody>\n",
       "</table>\n",
       "</div>"
      ],
      "text/plain": [
       "        Date    Open    High     Low   Close Volume     Market Cap\n",
       "0 2013-04-28  135.30  135.98  132.10  134.21      -  1,500,520,000\n",
       "1 2013-04-29  134.44  147.49  134.00  144.54      -  1,491,160,000\n",
       "2 2013-04-30  144.00  146.93  134.05  139.00      -  1,597,780,000"
      ]
     },
     "execution_count": 15,
     "metadata": {},
     "output_type": "execute_result"
    }
   ],
   "source": [
    "btc_df.head(3)"
   ]
  },
  {
   "cell_type": "code",
   "execution_count": 57,
   "id": "7a153009-263e-42d9-80da-500503a0e9c1",
   "metadata": {},
   "outputs": [
    {
     "data": {
      "text/plain": [
       "Index(['Date', 'Open', 'High', 'Low', 'Close', 'Volume', 'Market Cap'], dtype='object')"
      ]
     },
     "execution_count": 57,
     "metadata": {},
     "output_type": "execute_result"
    }
   ],
   "source": [
    "btc_df.columns"
   ]
  },
  {
   "cell_type": "code",
   "execution_count": null,
   "id": "45363f36-2d48-4a6d-b28f-b0a72438c97f",
   "metadata": {},
   "outputs": [],
   "source": [
    "# since the subplot structure requires index to start with 1, we call that attribute into the enumerate()\n",
    "# to expand the graphs, we use figure()"
   ]
  },
  {
   "cell_type": "code",
   "execution_count": 12,
   "id": "114702ff-17a1-49a1-b59b-62327b917203",
   "metadata": {},
   "outputs": [
    {
     "data": {
      "image/png": "[encoded data removed]",
      "text/plain": [
       "<Figure size 2000x1200 with 2 Axes>"
      ]
     },
     "metadata": {},
     "output_type": "display_data"
    }
   ],
   "source": [
    "plt.figure(figsize=(20,12))\n",
    "\n",
    "for index, col in enumerate (['High', 'Low'], 1):\n",
    "    plt.subplot(2,2,index)\n",
    "    # we want a graph with date as x and metric as y\n",
    "    plt.plot(btc_df['Date'], btc_df[col])\n",
    "    # to have the metric as title\n",
    "    plt.title(col)"
   ]
  },
  {
   "cell_type": "code",
   "execution_count": 63,
   "id": "bf1afffd-192a-48fc-b275-f754855424f9",
   "metadata": {},
   "outputs": [],
   "source": [
    "# we have 2 line charts showing the trend on our 4 metrics"
   ]
  },
  {
   "cell_type": "code",
   "execution_count": 64,
   "id": "9668610e-d029-4f9b-9519-84962490ea9b",
   "metadata": {},
   "outputs": [],
   "source": [
    "# ANSWER: we have a big spike of value on both charts from 2017-01 to 2017-07"
   ]
  },
  {
   "cell_type": "code",
   "execution_count": 65,
   "id": "c4f8020d-e2bd-4e79-ba47-78c7145ec522",
   "metadata": {},
   "outputs": [],
   "source": [
    "# QUESTION: extract several insights from the dataset\n",
    "# we will use a candlestick plot: the bigger the \"candles\", the higher the variation"
   ]
  },
  {
   "cell_type": "code",
   "execution_count": 13,
   "id": "ee662a9e-639f-4a23-b8d9-9c3556c9c0c7",
   "metadata": {},
   "outputs": [],
   "source": [
    "# how to create a data sample"
   ]
  },
  {
   "cell_type": "code",
   "execution_count": 14,
   "id": "b82dce4c-4ccc-439c-bf65-51e3a70d7ed5",
   "metadata": {},
   "outputs": [],
   "source": [
    "btc_sample = btc_df[0:50]"
   ]
  },
  {
   "cell_type": "code",
   "execution_count": 121,
   "id": "ca84f456-9a37-44ba-9e6a-e6aa73c49d09",
   "metadata": {},
   "outputs": [],
   "source": [
    "import chart_studio.plotly as py\n",
    "import plotly.graph_objects as go\n",
    "import plotly.express as px\n",
    "from plotly.offline import download_plotlyjs, init_notebook_mode, plot, iplot"
   ]
  },
  {
   "cell_type": "code",
   "execution_count": 122,
   "id": "a90c9586-87f3-4f85-ad6c-072cb43726b6",
   "metadata": {},
   "outputs": [
    {
     "data": {
      "text/html": [
       "        <script type=\"text/javascript\">\n",
       "        window.PlotlyConfig = {MathJaxConfig: 'local'};\n",
       "        if (window.MathJax && window.MathJax.Hub && window.MathJax.Hub.Config) {window.MathJax.Hub.Config({SVG: {font: \"STIX-Web\"}});}\n",
       "        </script>\n",
       "        <script type=\"module\">import \"https://cdn.plot.ly/plotly-3.0.0.min\"</script>\n",
       "        "
      ]
     },
     "metadata": {},
     "output_type": "display_data"
    }
   ],
   "source": [
    "init_notebook_mode(connected=True)"
   ]
  },
  {
   "cell_type": "code",
   "execution_count": 38,
   "id": "3853fa5f-67af-4a5d-a52d-c4093a649384",
   "metadata": {},
   "outputs": [],
   "source": [
    "cols_to_convert = ['Open', 'High', 'Low', 'Close', 'Market Cap', 'Volume']\n",
    "btc_df[cols_to_convert] = btc_df[cols_to_convert].replace({'-': None, ',': ''}, regex=True).astype(float)"
   ]
  },
  {
   "cell_type": "code",
   "execution_count": 39,
   "id": "dbe77f2a-ef5e-4fb8-a8ee-490ed25c5860",
   "metadata": {},
   "outputs": [],
   "source": [
    "btc_df.dropna(subset=['Open', 'High', 'Low', 'Close'], inplace=True)"
   ]
  },
  {
   "cell_type": "code",
   "execution_count": 40,
   "id": "9f5a77ee-b164-4787-a8f9-438b37174b1a",
   "metadata": {},
   "outputs": [
    {
     "data": {
      "text/html": [
       "<div>\n",
       "<style scoped>\n",
       "    .dataframe tbody tr th:only-of-type {\n",
       "        vertical-align: middle;\n",
       "    }\n",
       "\n",
       "    .dataframe tbody tr th {\n",
       "        vertical-align: top;\n",
       "    }\n",
       "\n",
       "    .dataframe thead th {\n",
       "        text-align: right;\n",
       "    }\n",
       "</style>\n",
       "<table border=\"1\" class=\"dataframe\">\n",
       "  <thead>\n",
       "    <tr style=\"text-align: right;\">\n",
       "      <th></th>\n",
       "      <th>Date</th>\n",
       "      <th>Open</th>\n",
       "      <th>High</th>\n",
       "      <th>Low</th>\n",
       "      <th>Close</th>\n",
       "      <th>Volume</th>\n",
       "      <th>Market Cap</th>\n",
       "    </tr>\n",
       "  </thead>\n",
       "  <tbody>\n",
       "    <tr>\n",
       "      <th>0</th>\n",
       "      <td>2013-04-28</td>\n",
       "      <td>135.30</td>\n",
       "      <td>135.98</td>\n",
       "      <td>132.10</td>\n",
       "      <td>134.21</td>\n",
       "      <td>NaN</td>\n",
       "      <td>1.500520e+09</td>\n",
       "    </tr>\n",
       "    <tr>\n",
       "      <th>1</th>\n",
       "      <td>2013-04-29</td>\n",
       "      <td>134.44</td>\n",
       "      <td>147.49</td>\n",
       "      <td>134.00</td>\n",
       "      <td>144.54</td>\n",
       "      <td>NaN</td>\n",
       "      <td>1.491160e+09</td>\n",
       "    </tr>\n",
       "    <tr>\n",
       "      <th>2</th>\n",
       "      <td>2013-04-30</td>\n",
       "      <td>144.00</td>\n",
       "      <td>146.93</td>\n",
       "      <td>134.05</td>\n",
       "      <td>139.00</td>\n",
       "      <td>NaN</td>\n",
       "      <td>1.597780e+09</td>\n",
       "    </tr>\n",
       "  </tbody>\n",
       "</table>\n",
       "</div>"
      ],
      "text/plain": [
       "        Date    Open    High     Low   Close  Volume    Market Cap\n",
       "0 2013-04-28  135.30  135.98  132.10  134.21     NaN  1.500520e+09\n",
       "1 2013-04-29  134.44  147.49  134.00  144.54     NaN  1.491160e+09\n",
       "2 2013-04-30  144.00  146.93  134.05  139.00     NaN  1.597780e+09"
      ]
     },
     "execution_count": 40,
     "metadata": {},
     "output_type": "execute_result"
    }
   ],
   "source": [
    "btc_df.head(3)"
   ]
  },
  {
   "cell_type": "code",
   "execution_count": 62,
   "id": "791d48f6-1858-4da2-9154-753036e98d9c",
   "metadata": {},
   "outputs": [
    {
     "data": {
      "application/vnd.plotly.v1+json": {
       "config": {
        "plotlyServerURL": "https://plot.ly"
       },
       "data": [
        {
         "close": {
          "bdata": "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",
          "dtype": "f8"
         },
         "high": {
          "bdata": "j8L1KFz/YEBI4XoUrm9iQPYoXI/CXWJAFK5H4Xp8YUBmZmZmZmZfQLgehetRCFtAAAAAAADAXEAzMzMzM7NdQArXo3A9Kl9AXI/C9ShcXEBSuB6F6/FcQD0K16NwXVxAAAAAAACAXkDsUbgehatdQM3MzMzMXF1AzczMzMysXUAzMzMzM/NdQKRwPQrX81xAcT0K16OwXUAzMzMzM1NfQAAAAAAAUF9AAAAAAAAgX0BI4XoUrudeQAAAAAAAwF5AAAAAAAAAX0DsUbgehbtfQDMzMzMzu2BA16NwPQqnYEAAAAAAAABhQNejcD0K72BAw/UoXI9SYEB7FK5H4ZJgQAAAAAAAiGBAzczMzMw8YEApXI/C9ThgQM3MzMzMLGBAAAAAAACgXkD2KFyPwvVeQK5H4XoU3l5AZmZmZmbGXkAAAAAAAMBdQHsUrkfh2ltAj8L1KFw/W0BmZmZmZoZbQGZmZmZmZltAw/UoXI/yW0AzMzMzM5NbQM3MzMzMLFpAzczMzMzsWUBmZmZmZmZZQD0K16NwjVlA16NwPQrHW0CuR+F6FI5bQDMzMzMzk1xAj8L1KFy/XEA9CtejcH1bQDMzMzMzM1tAhetRuB4VW0CuR+F6FJ5aQI/C9ShcX1pAAAAAAAAAWkCPwvUoXG9ZQI/C9Shc/1hASOF6FK6HWEAK16NwPWpYQDMzMzMzE1dAH4XrUbi+VkDXo3A9CsdUQAAAAAAAAFRAAAAAAADAUkCkcD0K16NSQAAAAAAAAFRAMzMzMzOTU0AAAAAAAMBVQFK4HoXrkVZAAAAAAAAAWkAAAAAAAJBYQM3MzMzMrFhAmpmZmZl5WUDXo3A9CvdYQK5H4XoU/lhAMzMzMzOzWEDNzMzMzMxXQGZmZmZmRldAzczMzMz8VkAAAAAAAABXQBSuR+F6NFhAj8L1KFz/V0CF61G4HlVYQK5H4XoUXlhAAAAAAABAWECF61G4HiVZQAAAAAAAoFlAj8L1KFz/WkD2KFyPwtVbQAAAAAAAAFtAAAAAAAAAW0BSuB6F63FaQM3MzMzMfFpA4XoUrkfxWkC4HoXrUdhaQAAAAAAAsFpAAAAAAACwWkAAAAAAAHBaQJqZmZmZ+VlAXI/C9ShMWkAAAAAAAABbQGZmZmZmVltAAAAAAADAXEAAAAAAAFBcQDMzMzMzE1xAAAAAAABwXEBcj8L1KKxcQKRwPQrXw15AcT0K16PAXkAK16NwPTpfQAAAAAAA4F5AAAAAAACAXkApXI/C9VheQI/C9Shcv15AAAAAAACwXkCPwvUoXM9fQBSuR+F61F9AzczMzMzsXkAAAAAAAPhgQBSuR+F6nGFAUrgehes5YkAAAAAAAFBiQHsUrkfhSmFAAAAAAAAQYkCuR+F6FG5gQPYoXI/C1V9AXI/C9Sh8X0CuR+F6FC5fQFK4HoXrIWBASOF6FK43YEDD9ShcjzphQMP1KFyPAmFAw/UoXI8yYUAzMzMzM/tgQK5H4XoUbmBA16NwPQqXYEC4HoXrUZhgQGZmZmZmpmBAcT0K16N4YECkcD0K1/NgQOxRuB6FE2BArkfhehS+YEDXo3A9CpdgQD0K16Nw3V9ArkfhehQ2YED2KFyPwt1gQEjhehSu12BAXI/C9Sj0YEDsUbgehZNhQDMzMzMzS2FAXI/C9SjUYEB7FK5H4bJgQLgehetR6F5AexSuR+FCYECuR+F6FE5gQIXrUbgeNWBAcT0K16NIYECuR+F6FN5fQAAAAAAAeGBAAAAAAABwYEBSuB6F63lgQIXrUbge9WBAhetRuB5VYUCkcD0K1wNiQBSuR+F6LGJAj8L1KFwHY0A9CtejcG1iQB+F61G4fmNAj8L1KFwvZkCF61G4Ht1lQArXo3A9GmdAcT0K16OIaECkcD0K17NqQD0K16NwLWtApHA9CtfbaECF61G4Ho1nQK5H4XoUjmhApHA9CtfTaEDhehSuR5lpQIXrUbgeJWpA9ihcj8KlaUDNzMzMzNRpQLgehetR+GlAmpmZmZnhakC4HoXrUeBsQIXrUbgeVW9AAAAAAABwcEAfhetRuAJzQMP1KFyPKnVAhetRuB4td0AzMzMzM+t1QLgehetR9HVAKVyPwvWsdkDNzMzMzOB5QGZmZmZmnnpACtejcD1ee0Bcj8L1KCR8QOF6FK5HSX9ACtejcD3+hUB7FK5H4TCJQDMzMzMzvYJAMzMzMzPrhkDNzMzMzGaIQPYoXI/CZ4pAexSuR+E6iUA9CtejcFWJQLgehetRBI1ASOF6FK5Pj0AK16NwPdaQQHsUrkfh65FAw/UoXI8QkkC4HoXrUbSRQEjhehSufZBAAAAAAAAgkUAUrkfhehCSQD0K16NwCZJA7FG4HoVJkECF61G4HrWKQK5H4XoUFIlAPQrXo3DPjECkcD0K1ymPQHE9CtejTI9A7FG4HoUvjEC4HoXrUW6NQDMzMzMzRYxA4XoUrkexi0AAAAAAAJKLQHE9CtejlodAw/UoXI86hUCkcD0K1xmGQOF6FK5HyYZAXI/C9ShyhEBSuB6F69WEQOF6FK5HR4VAhetRuB5jhUCamZmZmVWFQAAAAAAATohArkfhehRMiEAUrkfheliHQHsUrkfhZIdAzczMzMz0h0BxPQrXo8SHQM3MzMzMOohAFK5H4XqiiUAzMzMzMxGKQK5H4XoU3IpAMzMzMzPDjUApXI/C9ciPQFK4HoXrLY5APQrXo3A1i0B7FK5H4QKLQOxRuB6FOYtApHA9CtfLjEBcj8L1KASNQLgehetR6opA7FG4HoW9ikAUrkfhekaLQOF6FK5HEYtA4XoUrkdXikBSuB6F60uKQEjhehSuN4tAhetRuB6zi0CamZmZmYmLQDMzMzMzMYtAw/UoXI+cikA9CtejcLOJQJqZmZmZ64pAXI/C9SgIjEAAAAAAAOiLQAAAAAAABIpAKVyPwvUmikAAAAAAAPSJQClcj8L1/olAXI/C9SisikD2KFyPwmWKQKRwPQrX04lAj8L1KFxBikDD9ShcjyqKQBSuR+F6nolAmpmZmZl5iEDD9Shcj46GQFyPwvUoQoZASOF6FK79hUBI4XoUrkOGQDMzMzMzB4VAUrgeheuPhED2KFyPwp2FQB+F61G4roRAzczMzMzIhECamZmZmYeEQK5H4XoULoRAXI/C9Si+g0CkcD0K152DQEjhehSuN4JApHA9Ctczg0DhehSuR/+DQHsUrkfh/IJA16NwPQrrgEBmZmZmZt6CQGZmZmZmkIJAhetRuB5BgkDXo3A9CuuBQKRwPQrX04FA4XoUrkf3hUD2KFyPwsGFQArXo3A9EoVAXI/C9SjuhEAfhetRuMqEQIXrUbge2YNAmpmZmZkfhECuR+F6FCaEQI/C9Shc84NACtejcD1AhECamZmZmSGEQArXo3A9/INAhetRuB75g0Bcj8L1KOyDQD0K16NwxYNAhetRuB5zg0AAAAAAAHCDQAAAAAAADoNAH4XrUbjkgkBmZmZmZuSBQFK4HoXr0YFAFK5H4XpUgkDsUbgehUuCQArXo3A9cIJAFK5H4XokgkBcj8L1KHCAQPYoXI/CjX9AUrgehevFfkC4HoXrUTB+QD0K16Nw9X5AzczMzMzwfkApXI/C9Rh8QGZmZmZmanxAhetRuB75fECF61G4HiV9QClcj8L16HxAH4XrUbiWfEBI4XoUrnt8QFK4HoXrtXtAuB6F61HcekD2KFyPwnl7QGZmZmZmtnpAAAAAAABcfUAAAAAAADiAQNejcD0K84BAXI/C9SisgECamZmZmSl/QClcj8L1eH9AUrgehevtf0CF61G4Hul/QOxRuB6Fc39AAAAAAADUfkCPwvUoXEd/QM3MzMzMRH9AcT0K16MIfUDhehSuR7V8QBSuR+F6+HtACtejcD06fECamZmZmTF8QPYoXI/CyXxAexSuR+GefEBmZmZmZhZ8QLgehetRfHtA7FG4HoWPe0BxPQrXowB8QK5H4XoU4ntAZmZmZmYGfEDXo3A9Ckt8QLgehetRfHxAPQrXo3B1fEBcj8L1KKR7QEjhehSun3tAw/UoXI/qe0DNzMzMzBx8QMP1KFyPKnxASOF6FK4/fEC4HoXrURx8QClcj8L1+HtA16NwPQq3fkBSuB6F6+V+QHsUrkfhaoBASOF6FK7vgECPwvUoXGmAQKRwPQrXA4JAhetRuB5jgkBcj8L1KGyCQClcj8L1FIJAzczMzMwIgkBI4XoUrlODQPYoXI/ChYNArkfhehT8hEAAAAAAAMyEQHsUrkfhEIVAFK5H4XrkhEAK16NwPbyEQClcj8L1qoRA7FG4HoWHhEDXo3A9CpeEQJqZmZmZjYRAKVyPwvWchEC4HoXrUYiEQHsUrkfh8INAhetRuB45g0Bcj8L1KMqCQOxRuB6Fh4JA9ihcj8IFg0CF61G4HheDQNejcD0KP4NAUrgeheshg0AAAAAAAL6CQEjhehSuu4JAAAAAAADwgkBI4XoUrtmCQPYoXI/Cp4JAzczMzMw8gkDXo3A9Ci2CQClcj8L1wIJA9ihcj8LjgkBxPQrXo+CCQDMzMzMzKYRAexSuR+GOhEA9CtejcIWEQFyPwvUoVoRAPQrXo3BDhED2KFyPwsmDQDMzMzMz9YNA4XoUrkfpg0CamZmZmZWDQAAAAAAAmINAKVyPwvWQg0AfhetRuMCDQOF6FK5H5YNApHA9CtfVg0AfhetRuJqDQIXrUbgeiYNAH4XrUbh4g0C4HoXrUZKDQEjhehSuqYNAj8L1KFypg0AUrkfheqSDQB+F61G4gINAZmZmZmaCg0A9CtejcIODQD0K16NwY4NAw/UoXI/4gkAfhetRuNCCQOxRuB6Ft4JAw/UoXI+UgkDXo3A9CmOCQClcj8L1SIJAUrgehetRgkCPwvUoXK+CQOF6FK5Hl4JAMzMzMzNpgkCamZmZmX+CQClcj8L1boJAUrgehetbgkDNzMzMzHiCQClcj8L1sIJA9ihcj8KDgkBI4XoUrpOCQK5H4XoUfIJAmpmZmZkHgkAK16NwPeiBQFK4HoXrEYFAPQrXo3AxgECkcD0K10uAQOxRuB6FQYBAUrgehes1f0CPwvUoXFt+QArXo3A9MoBAMzMzMzOfgECkcD0K10uAQGZmZmZmEoBAhetRuB4HgEDsUbgehcN/QOxRuB6FBYBASOF6FK5FgEDhehSuRyGAQNejcD0K+39AKVyPwvXUf0CuR+F6FI5/QClcj8L1VH5ApHA9CtcvfkCPwvUoXBt+QHsUrkfh3n5ACtejcD2qfkCamZmZmYl+QIXrUbgegX5A4XoUrkedfkCuR+F6FNZ9QOxRuB6Fd35AmpmZmZklfkCuR+F6FPp9QFK4HoXrIX5AmpmZmZn9fUBSuB6F6+l9QArXo3A9un1AH4XrUbhCfUD2KFyPwo18QOF6FK5HvXpAzczMzMx0ekB7FK5H4cZ5QB+F61G4bnlAKVyPwvWYe0D2KFyPwkF7QLgehetReHpA16NwPQrveUBSuB6F62l5QLgehetREHlAj8L1KFwTeEBI4XoUrm94QK5H4XoUdnhAAAAAAAAYeEDXo3A9Cpt3QKRwPQrXx3ZAzczMzMxcdUCuR+F6FJJ1QAAAAAAANHVA9ihcj8IldkBI4XoUrut3QIXrUbgecXdA16NwPQrzdkB7FK5H4bZ3QEjhehSu03hAMzMzMzO7eUBI4XoUriN5QClcj8L17HhASOF6FK4XeEDD9Shcj7J4QNejcD0Kn3hA4XoUrkdheEBmZmZmZop4QOF6FK5HSXhAzczMzMwQeECamZmZmcV2QPYoXI/CfXZA7FG4HoVzdkCuR+F6FGp2QEjhehSuf3ZA4XoUrkdddkDD9Shcj+51QM3MzMzMwHVAFK5H4XpIdUDNzMzMzJB0QAAAAAAA4HRAuB6F61G8dEBSuB6F63V1QOxRuB6FD3ZASOF6FK4LdkAUrkfherB1QK5H4XoUunZAhetRuB5td0ApXI/C9TR3QOxRuB6F23pAPQrXo3CRfEAAAAAAADR6QBSuR+F6WHlAzczMzMxseEAzMzMzM6N5QGZmZmZmhnhASOF6FK4neEC4HoXrUeB3QK5H4XoUXnZAPQrXo3DNdkCamZmZmS13QI/C9ShcM3hAMzMzMzOreEAzMzMzM5t3QKRwPQrXX3dAPQrXo3Dtd0CamZmZmTl4QBSuR+F66HdAw/UoXI/6d0BxPQrXowB4QBSuR+F68HdAZmZmZmaqd0DXo3A9CrN3QDMzMzMzp3dAcT0K16OEd0AUrkfheoB3QIXrUbgesXZArkfhehQGdkD2KFyPwpV2QEjhehSuD3ZArkfhehQGdkCF61G4HhV2QClcj8L1/HVA9ihcj8KddUAzMzMzM990QI/C9ShcO3RAFK5H4Xroc0CF61G4HqV0QK5H4XoUmnRAUrgehevhdEBxPQrXowR1QKRwPQrX63RAH4XrUbgqdEAfhetRuLZ0QMP1KFyPjnRAFK5H4XoAdEC4HoXrUQR0QClcj8L1rHNA16NwPQoDdEDXo3A9Cgd0QD0K16NwvXNAZmZmZmayc0BI4XoUrvNxQD0K16NwZXFAzczMzMz4cUAAAAAAAKxyQK5H4XoUYnJA9ihcj8IxckCuR+F6FAJyQArXo3A9enFAMzMzMzMDcUAUrkfhesRwQBSuR+F6/GtACtejcD2ibEB7FK5H4bJrQI/C9Shcd2pArkfhehRWa0CPwvUoXBdrQEjhehSu52pA4XoUrkd5bEBxPQrXo6BtQHsUrkfhWm1AH4XrUbgGb0AK16NwPeJvQK5H4XoUVnNASOF6FK43cUBxPQrXo6hwQB+F61G41m1AMzMzMzNbbkAAAAAAADBtQArXo3A98mxA9ihcj8JFbkAfhetRuL5uQFK4HoXrwWxAhetRuB7tbUC4HoXrUdBsQJqZmZmZyWxArkfhehSubECPwvUoXP9rQFK4HoXruWtAhetRuB7ta0BmZmZmZsZrQLgehetRCG5AKVyPwvU8cED2KFyPwplwQHE9Ctej8G1AKVyPwvW4bkAAAAAAAIhuQD0K16NwVW5AMzMzMzPjbkAK16NwPepvQBSuR+F6zG5A7FG4HoUDbkDNzMzMzPxtQHsUrkfh6m1AH4XrUbi2bUBmZmZmZgpwQK5H4XoU1m9Aw/UoXI9acEDNzMzMzERxQM3MzMzM3HFASOF6FK7DcUAfhetRuJpxQPYoXI/CWXFAmpmZmZldcUD2KFyPwl1xQDMzMzMzS3JAcT0K16PAckAK16NwPZZyQD0K16NwkXJAAAAAAABockA9CtejcOVxQBSuR+F66HFA9ihcj8JhckBSuB6F60VyQD0K16Nw1XFApHA9CteDcECamZmZmY1wQDMzMzMzY3BAAAAAAADccEDNzMzMzFRxQAAAAAAAsHBArkfhehQmb0AzMzMzM8tvQClcj8L1DHBAH4XrUbjGb0AUrkfheqRvQEjhehSuJ29Aj8L1KFwXb0DhehSuR/FuQB+F61G4zm9AcT0K16MAcEC4HoXrUehvQHsUrkfhSnBAzczMzMxccEBSuB6F6/lvQDMzMzMzu29ApHA9CtfDbkCuR+F6FHZuQOF6FK5H8W1Aj8L1KFy3bUCuR+F6FJ5tQI/C9ShcH2xAw/UoXI/6a0A9CtejcLVsQIXrUbgenWxACtejcD0KbEAzMzMzM0tsQDMzMzMzS2xAcT0K16NobUCF61G4Hr1tQNejcD0Kj21AUrgeheuJbUBSuB6F6xFtQK5H4XoUXmxAUrgehespbUAAAAAAALBsQOF6FK5HYWxAUrgehevxbUDXo3A9Ct9tQI/C9Shcd21ASOF6FK5nbkAUrkfhelRuQGZmZmZm5m1AZmZmZmaObUAzMzMzM+NtQClcj8L1yG5AmpmZmZn5bkAK16NwPYJuQHE9CtejiG5AXI/C9ShcbkBmZmZmZnZuQJqZmZmZuW1AAAAAAADYbUBmZmZmZrZtQClcj8L1wG1AH4XrUbimbUDNzMzMzERtQPYoXI/CVW1ASOF6FK6HbUDXo3A9Ch9uQClcj8L1IG5Aj8L1KFw/bkBxPQrXoyBuQEjhehSux21AFK5H4XrUbUAK16NwPbptQHE9CtejsG1AexSuR+GibUAAAAAAAChtQB+F61G49mxAPQrXo3BNbEDNzMzMzGxsQMP1KFyPUmxA16NwPQo/bEDXo3A9CjdsQK5H4XoURmxAH4XrUbiubEBmZmZmZt5sQClcj8L1uGxA4XoUrkfJbEBSuB6F6+FsQM3MzMzMFG1A7FG4HoVbbUB7FK5H4bptQEjhehSud29AmpmZmZkNcEDsUbgehYNvQI/C9ShcX29Aw/UoXI+6bkDXo3A9CqduQD0K16Nw/W5AmpmZmZnpbkB7FK5H4YpuQMP1KFyPam5AAAAAAAB4bkB7FK5H4WpvQD0K16NwZW9AH4XrUbgScEBSuB6F671wQB+F61G4knBArkfhehRacEDhehSuRxFwQI/C9ShcV3BAXI/C9SgocUAfhetRuFZxQD0K16Nw9XBA7FG4HoUPcUDhehSuRwVxQD0K16NwaXJAXI/C9SiockAK16NwPaZzQDMzMzMzb3NAZmZmZmaCckAAAAAAAFRyQHsUrkfhMnJAFK5H4XqEcUAUrkfheqhxQB+F61G4OnFASOF6FK5vcUDNzMzMzIhxQB+F61G4WnFA9ihcj8JhcUAAAAAAABRyQEjhehSuK3JAzczMzMxQckC4HoXrUZxyQGZmZmZminJAcT0K16NockCuR+F6FCJyQI/C9ShcD3JAexSuR+HOcUAUrkfherBxQOxRuB6F13FAj8L1KFzbcUAAAAAAANhxQMP1KFyPnnFACtejcD2GcUB7FK5H4X5xQAAAAAAAsHBAFK5H4XqwcEAK16NwPeZwQB+F61G46nBASOF6FK6jcEDsUbgehbdwQB+F61G4qnBA16NwPQpncEAAAAAAAEhwQKRwPQrXH3BAhetRuB6tbUCkcD0K16ttQPYoXI/CjW1AH4XrUbhebUAfhetRuBZtQBSuR+F6hGxACtejcD1KbED2KFyPwuVsQBSuR+F6lGxA16NwPQpnbUDXo3A9CidtQArXo3A9Am1AH4XrUbj+bEDXo3A9CudsQMP1KFyP0mxAMzMzMzOzbEDNzMzMzNxsQBSuR+F6hG1AhetRuB5dbkDsUbgehUNuQClcj8L1uG5APQrXo3CNbkDhehSuRyluQD0K16NwJW5ApHA9CtcDbkCuR+F6FH5tQK5H4XoUDm1AexSuR+EycEDXo3A9CudsQClcj8L1yGxAMzMzMzNLbUAfhetRuCZtQKRwPQrXC21A16NwPQrnbEAUrkfhegxtQHsUrkfh+mxAzczMzMx0bUD2KFyPwq1tQM3MzMzMbG1AKVyPwvVQbUB7FK5H4eptQJqZmZmZ+W1Aj8L1KFy3bUCuR+F6FM5tQOF6FK5H0W1AUrgehevpbUDXo3A9Ct9tQFyPwvUoDG5ArkfhehTebkD2KFyPwtVuQAAAAAAAiG5Aj8L1KFyHbkAK16NwPapuQEjhehSu525AZmZmZmbubkBI4XoUrkdvQClcj8L1yG9AH4XrUbj+b0CuR+F6FKJwQOF6FK5HGXFAH4XrUbj6cECF61G4Ho1wQOF6FK5H7XBAuB6F61HscEBcj8L1KEhxQHsUrkfhanFAj8L1KFybcUApXI/C9WByQM3MzMzM1HFAj8L1KFyDckDhehSuRyVzQB+F61G44nNAH4XrUbjidEAUrkfhesx0QOxRuB6Fd3RA9ihcj8LVdkBmZmZmZh56QClcj8L1+H5AKVyPwvX4e0A9CtejcL14QD0K16NwaXhACtejcD1eeEAUrkfhehR4QArXo3A91ndA4XoUrkdJdUDhehSuR5F1QMP1KFyPTnVAexSuR+EidUDD9Shcj+p0QK5H4XoUunRAmpmZmZkldUAUrkfhegh1QOF6FK5H9XRA7FG4HoVndEDD9Shcj4J0QFyPwvUocHRAUrgehetRdEApXI/C9TB0QK5H4XoUknRAXI/C9SjsdkA9CtejcLl2QHE9CtejeHZA16NwPQo/d0D2KFyPwuV3QHsUrkfhrndASOF6FK6jdkC4HoXrUSR3QLgehetRuHZAcT0K16NceEApXI/C9Sx5QOxRuB6F/3hAKVyPwvX4eUBSuB6F63F6QFyPwvUoOHpA16NwPQo/fECamZmZmVF9QHsUrkfhmntACtejcD3ye0CF61G4HhV9QI/C9ShcE31A9ihcj8KdfEB7FK5H4RJ9QOF6FK5HGX1ACtejcD3qfEBI4XoUrst7QNejcD0Ku3tAFK5H4XrIe0CPwvUoXKd8QClcj8L1pHxApHA9CteXfEBcj8L1KIB6QLgehetR3HpASOF6FK4Pe0AK16NwPSZ7QB+F61G4DntAAAAAAABEe0ApXI/C9UB7QKRwPQrXG3tAuB6F61Eoe0B7FK5H4SJ7QPYoXI/C/XpAuB6F61GsfEB7FK5H4e58QArXo3A9anxAKVyPwvUEfEDD9Shcjyp8QHsUrkfhAnxA16NwPQoze0CF61G4HhV7QAAAAAAA5HpAKVyPwvVoeECPwvUoXG94QJqZmZmZQXhASOF6FK47eEC4HoXrUZR6QK5H4XoUbnpAw/UoXI+meUBxPQrXo6h4QKRwPQrXV3lAhetRuB4leUC4HoXrUdx4QD0K16NwzXhAAAAAAAC4eECuR+F6FAZ4QB+F61G4zndAmpmZmZnFd0CF61G4HqF3QK5H4XoUfndAMzMzMzNvd0D2KFyPwnl4QD0K16NwcXhArkfhehQqeEBSuB6F6813QK5H4XoUvndAAAAAAACUd0BI4XoUrhd4QK5H4XoU8ndAMzMzMzMPeED2KFyPwn14QEjhehSuc3lArkfhehSmeUDXo3A9Co95QB+F61G4UnpAAAAAAACgekCamZmZmXF6QEjhehSun3tAzczMzMwAfEDNzMzMzHB7QPYoXI/CfXtAzczMzMyYekDsUbgehbt6QGZmZmZmAntASOF6FK4je0B7FK5H4Tp7QFyPwvUomHtAZmZmZmZ6e0AfhetRuD57QFK4HoXrlXpAexSuR+GSekBcj8L1KLR5QMP1KFyPvnlAH4XrUbj+eUCkcD0K1wN6QBSuR+F6AHpAXI/C9SgYekB7FK5H4X56QM3MzMzMXHpAmpmZmZkJekB7FK5H4Qp6QK5H4XoUInpA16NwPQobekAAAAAAAFB6QM3MzMzMSHpASOF6FK6veUCuR+F6FOp5QB+F61G41nlArkfhehQmekC4HoXrUTR6QHsUrkfhKnpA4XoUrkchekCkcD0K1y96QM3MzMzMzHpA9ihcj8KtekAzMzMzM6N6QOF6FK5HDXpAUrgeheslekAfhetRuCJ6QOF6FK5HYXpA4XoUrkdZekA9CtejcGV6QFyPwvUohHpAFK5H4XqIekDD9Shcj3p6QPYoXI/ClXpACtejcD1OekDXo3A9Cmd6QKRwPQrXa3pAFK5H4Xq0ekDD9Shcj6p6QFK4HoXrlXpAexSuR+HeekCuR+F6FAp7QFK4HoXr9XpAuB6F61HUekC4HoXrUUB7QM3MzMzMsHtAzczMzMwofEApXI/C9Rx8QBSuR+F6JHxAZmZmZmbCfEBSuB6F6yl9QI/C9ShcP31A4XoUrkcxfUDNzMzMzBh8QK5H4XoUdnxAPQrXo3B5fEBI4XoUrkd8QNejcD0KR3xAmpmZmZkxfECuR+F6FCZ8QFyPwvUoCHxArkfhehTWfEB7FK5H4cp8QB+F61G4tnxASOF6FK7nfEB7FK5H4d58QOF6FK5HaXxAMzMzMzNvfEApXI/C9ZB8QD0K16NwjXxA16NwPQqrfEAzMzMzM6N8QIXrUbgecXxAAAAAAACAfECuR+F6FGp8QM3MzMzMwHtAFK5H4Xq8e0B7FK5H4bZ7QJqZmZmZxXtAmpmZmZnxe0DNzMzMzCR8QArXo3A9WnxAZmZmZmbifUD2KFyPwquAQEjhehSuT4FAzczMzMwCgUApXI/C9RSBQHE9Ctej+IBAzczMzMzigECF61G4HvWBQNejcD0KcYJAFK5H4Xo2gkD2KFyPwlOCQK5H4XoUcoJAH4XrUbg2gkCamZmZmTGCQNejcD0KGYJAKVyPwvX4gkAfhetRuGaFQAAAAAAAYIZAAAAAAAAEhkBmZmZmZsKFQPYoXI/CLYhAexSuR+E6iEBSuB6F60+IQClcj8L19IdAcT0K16Pgh0DXo3A9Cv+GQI/C9ShcNYVAcT0K16Oqg0CkcD0K102FQKRwPQrXnYVApHA9CtfPhEBcj8L1KHqEQAAAAAAAmoRAPQrXo3AlhEAzMzMzMxuFQDMzMzMzcYVAmpmZmZn9hUD2KFyPwgeGQOF6FK5HXYVAUrgehetbhUAzMzMzM0+FQD0K16NwU4VASOF6FK7VhEDXo3A9CtOEQLgehetRYoRA16NwPQqdhECuR+F6FBqFQJqZmZmZ5YRAMzMzMzO3hEBxPQrXo9iEQEjhehSu04RAKVyPwvVShUBmZmZmZkyFQArXo3A9CoVAPQrXo3AHhUD2KFyPwtGEQHE9Ctej1IRAKVyPwvWChEB7FK5H4biEQHE9CtejroRApHA9CteBhEBI4XoUrouEQM3MzMzMjIRAZmZmZmaOhED2KFyPwpGEQArXo3A9eoRAKVyPwvWQg0DNzMzMzCaDQHsUrkfh6oFAAAAAAAAcgkAK16NwPRKCQDMzMzMzY4JArkfhehSsgkBSuB6F64eCQB+F61G4eIJApHA9Cte/gkC4HoXrUayCQOF6FK5Hb4JAXI/C9ShugkCPwvUoXE2CQHE9Ctej7IFAUrgehestgkCF61G4HieCQLgehetRDoJAUrgehesRgkDD9ShcjzaCQOF6FK5HQYJAmpmZmZljgkD2KFyPwmuCQB+F61G4PIJAmpmZmZkjgkApXI/C9SSCQM3MzMzMHoJAuB6F61HwgUAK16NwPQKCQHsUrkfhEoJAexSuR+EOgkAUrkfhegKCQIXrUbge/YFAAAAAAAC8gkAfhetRuB6DQGZmZmZmCINAcT0K16MWg0C4HoXrUTSDQFyPwvUopoNAcT0K16OWg0DNzMzMzIiDQMP1KFyPpoNASOF6FK4Dg0DsUbgehRmDQJqZmZmZH4NAH4XrUbgYg0CuR+F6FAqDQHsUrkfh/oJA4XoUrkcRg0A9CtejcBeDQFyPwvUoDINAH4XrUbjcgkBSuB6F67OCQEjhehSu2YJAcT0K16PkgkDXo3A9CtuCQIXrUbgeAYNAAAAAAAACg0AfhetRuPSCQMP1KFyP9oJAUrgehesNg0BSuB6F6zmDQAAAAAAAMINAw/UoXI8kg0BmZmZmZiCDQBSuR+F6LoNAw/UoXI8ug0DhehSuR0+DQM3MzMzMXoNAmpmZmZlZg0DD9Shcj2qDQHE9CtejEIRAH4XrUbgKhEBxPQrXo/aDQArXo3A9CoRAzczMzMwQhEAzMzMzMxeEQHE9CtejEoRAUrgehesFhEApXI/C9faDQI/C9Shcv4NAH4XrUbjQg0CamZmZmZGEQNejcD0KqYRAAAAAAACKhECPwvUoXMOEQKRwPQrXPYVAH4XrUbiEhUDsUbgehZOFQDMzMzMzg4ZAKVyPwvVQhkC4HoXrUSqGQJqZmZmZA4dAcT0K16Mmh0Bcj8L1KE6HQD0K16NwF4ZArkfhehQchkCuR+F6FFKGQFK4HoXrNYZAUrgehetHhkBmZmZmZiCHQFyPwvUomIZAw/UoXI9yhkAzMzMzM2mGQK5H4XoUCoZACtejcD0ShkD2KFyPwl2GQClcj8L1XIdAhetRuB6dh0DXo3A9CoeHQFK4HoXroYdApHA9Ctebh0D2KFyPwi2HQClcj8L1jodAAAAAAACCh0BxPQrXo1aHQDMzMzMzLYdASOF6FK4xh0Bcj8L1KBiHQK5H4XoUEIdA9ihcj8ILh0A9CtejcF+HQFyPwvUosodAZmZmZmZqiEAAAAAAAFKIQClcj8L1LohA9ihcj8IriEApXI/C9eyHQLgehetRHIhAmpmZmZk1iEAK16NwPTSIQB+F61G4SIhAZmZmZmY2iECPwvUoXG+IQEjhehSuo4hACtejcD1wiEA9CtejcGuIQArXo3A9iIhArkfhehTEiEBSuB6F69WIQHsUrkfhzIhAH4XrUbgKiUAK16NwPRKKQArXo3A9XotAKVyPwvXojECkcD0K19uMQDMzMzMzHYxAPQrXo3CJjEBmZmZmZmCNQI/C9Shcf45AMzMzMzObjkAK16NwPWSOQFK4HoXrHY5AcT0K16NYj0DD9Shcjx2QQLgehetRUJBASOF6FK4dkkBmZmZmZpySQArXo3A9W5BAH4XrUbhkjED2KFyPwnWNQOxRuB6FjYxAKVyPwvWWjECamZmZmbuMQAAAAAAA0olAAAAAAADoiUAfhetRuBiKQBSuR+F6uolACtejcD0UikAUrkfhenSMQAAAAAAArIxAexSuR+FEjEAzMzMzMxuMQClcj8L1+oxAXI/C9ShMjUBcj8L1KAKNQIXrUbge4YxAAAAAAAA6jEBxPQrXo7qMQPYoXI/C2YxA4XoUrkffjECPwvUoXNuMQGZmZmZm2IxAXI/C9ShgjkB7FK5H4eiOQFyPwvUorI9AFK5H4XonkECamZmZmVeQQOxRuB6FTpBAw/UoXI9SkEAfhetRuJeQQHsUrkfh25BAKVyPwvUDkUAzMzMzMzePQLgehetRio9ArkfhehRmj0DNzMzMzFCPQK5H4XoUnI9AH4XrUbiGj0AUrkfheiWQQEjhehSudJBAZmZmZmaUkEAK16NwPYOQQClcj8L14ZBAAAAAAAB1kUDD9Shcj5WRQBSuR+F6YpJAw/UoXI/BkkBmZmZmZluSQHsUrkfhPZJAUrgehet3kkAAAAAAAKWSQAAAAAAAGpNA7FG4HoW4k0AK16NwPQGUQJqZmZmZ/ZNAXI/C9SjNk0AAAAAAAPCTQDMzMzMz7pNAcT0K16NAk0CkcD0K17WSQHsUrkfh2ZNAuB6F61GnkkBSuB6F6yuTQBSuR+F6VZNACtejcD1zk0A9CtejcI6TQFK4HoXrp5NAcT0K16NwkkDhehSuR2iRQHE9Ctejt5BAhetRuB6ckEAfhetRuImRQJqZmZmZgpFA16NwPQqIkEB7FK5H4UGQQK5H4XoUfo5ASOF6FK5/j0CamZmZmVmQQJqZmZmZopBA7FG4HoV8kEBcj8L1KGWQQEjhehSuy5BAexSuR+EOkUCPwvUoXE6RQClcj8L1/pFA9ihcj8IRkkCPwvUoXLyRQBSuR+F6kZJAuB6F61GKkkBSuB6F64OSQKRwPQrXtJJAj8L1KFyZkkDhehSuR+CSQMP1KFyP3JJAw/UoXI/XkkAzMzMzM5uSQAAAAAAAkJJAexSuR+GMkkCamZmZmauSQOF6FK5HBpNA16NwPQr+kkBcj8L1KGOTQPYoXI/CT5NACtejcD1Ok0DNzMzMzECTQPYoXI/Ci5NAuB6F61HOk0C4HoXrUTuUQM3MzMzMnpRAhetRuB7NlEDNzMzMzLyUQHE9CtejD5VA4XoUrkdplkCamZmZmQeXQK5H4XoUU5dAcT0K16MjmUCF61G4HkiZQDMzMzMzq5hAexSuR+HymEBmZmZmZu2aQClcj8L1pZxA9ihcj8Lxm0AfhetRuEedQJqZmZmZAJ1AKVyPwvVTnEBI4XoUrp2cQDMzMzMzU5xA9ihcj8Lnm0AzMzMzMyCdQFK4HoXrwZ1ArkfhehRSn0ApXI/CdUmgQFyPwvUojqBAzczMzMz/oUBxPQrXoyGiQD0K16Nwt6NAUrgehWuXpUCuR+F6lBukQGZmZmZmqKFASOF6FK62oUCamZmZGQaiQFK4HoXr+6FAXI/C9SgOokDhehSuxyCjQJqZmZkZcaNAuB6F69ErpEDhehSuxzOkQIXrUbie/aRAuB6F69Fvp0D2KFyPwmqmQJqZmZmZ/qVAUrgehWurpkAUrkfh+g2nQDMzMzMzaadA7FG4HoVqp0CuR+F6FMqlQFyPwvWoxaVAUrgehWvNo0CkcD0K19ejQHsUrkdh+qRAMzMzMzPMpEAzMzMzs82kQGZmZmbmlqVA7FG4HgWopUAUrkfhekelQKRwPQpXmqVAexSuR+GLpUDsUbgehfSkQAAAAACAbqRAZmZmZubwo0ApXI/C9VekQFyPwvWoOaRAAAAAAID+o0DXo3A9iqajQMP1KFyPpKNAAAAAAABGpEBI4XoULo+kQM3MzMxMfaRAPQrXo3BxpEDhehSuR8imQEjhehSuFqRAFK5H4fqWpEC4HoXrUdKjQD0K16Pw2qJAUrgehWvvokA9CtejcPKiQAAAAACAdqJA4XoUrkduoUDXo3A9ihWgQBSuR+H6bKFAH4XrUTinokCkcD0KV7qiQGZmZmZmqaZAuB6F69EspkCkcD0K11ymQI/C9ShcIKZA7FG4HoWypUBcj8L1KKClQOxRuB6FZaRAcT0K16MKpUBmZmZm5qKmQOxRuB6F8aVAw/UoXA+NpUAK16NwPZOmQA==",
          "dtype": "f8"
         },
         "low": {
          "bdata": "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",
          "dtype": "f8"
         },
         "open": {
          "bdata": "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",
          "dtype": "f8"
         },
         "type": "candlestick",
         "x": [
          "2013-04-28T00:00:00.000000000",
          "2013-04-29T00:00:00.000000000",
          "2013-04-30T00:00:00.000000000",
          "2013-05-01T00:00:00.000000000",
          "2013-05-02T00:00:00.000000000",
          "2013-05-03T00:00:00.000000000",
          "2013-05-04T00:00:00.000000000",
          "2013-05-05T00:00:00.000000000",
          "2013-05-06T00:00:00.000000000",
          "2013-05-07T00:00:00.000000000",
          "2013-05-08T00:00:00.000000000",
          "2013-05-09T00:00:00.000000000",
          "2013-05-10T00:00:00.000000000",
          "2013-05-11T00:00:00.000000000",
          "2013-05-12T00:00:00.000000000",
          "2013-05-13T00:00:00.000000000",
          "2013-05-14T00:00:00.000000000",
          "2013-05-15T00:00:00.000000000",
          "2013-05-16T00:00:00.000000000",
          "2013-05-17T00:00:00.000000000",
          "2013-05-18T00:00:00.000000000",
          "2013-05-19T00:00:00.000000000",
          "2013-05-20T00:00:00.000000000",
          "2013-05-21T00:00:00.000000000",
          "2013-05-22T00:00:00.000000000",
          "2013-05-23T00:00:00.000000000",
          "2013-05-24T00:00:00.000000000",
          "2013-05-25T00:00:00.000000000",
          "2013-05-26T00:00:00.000000000",
          "2013-05-27T00:00:00.000000000",
          "2013-05-28T00:00:00.000000000",
          "2013-05-29T00:00:00.000000000",
          "2013-05-30T00:00:00.000000000",
          "2013-05-31T00:00:00.000000000",
          "2013-06-01T00:00:00.000000000",
          "2013-06-02T00:00:00.000000000",
          "2013-06-03T00:00:00.000000000",
          "2013-06-04T00:00:00.000000000",
          "2013-06-05T00:00:00.000000000",
          "2013-06-06T00:00:00.000000000",
          "2013-06-07T00:00:00.000000000",
          "2013-06-08T00:00:00.000000000",
          "2013-06-09T00:00:00.000000000",
          "2013-06-10T00:00:00.000000000",
          "2013-06-11T00:00:00.000000000",
          "2013-06-12T00:00:00.000000000",
          "2013-06-13T00:00:00.000000000",
          "2013-06-14T00:00:00.000000000",
          "2013-06-15T00:00:00.000000000",
          "2013-06-16T00:00:00.000000000",
          "2013-06-17T00:00:00.000000000",
          "2013-06-18T00:00:00.000000000",
          "2013-06-19T00:00:00.000000000",
          "2013-06-20T00:00:00.000000000",
          "2013-06-21T00:00:00.000000000",
          "2013-06-22T00:00:00.000000000",
          "2013-06-23T00:00:00.000000000",
          "2013-06-24T00:00:00.000000000",
          "2013-06-25T00:00:00.000000000",
          "2013-06-26T00:00:00.000000000",
          "2013-06-27T00:00:00.000000000",
          "2013-06-28T00:00:00.000000000",
          "2013-06-29T00:00:00.000000000",
          "2013-06-30T00:00:00.000000000",
          "2013-07-01T00:00:00.000000000",
          "2013-07-02T00:00:00.000000000",
          "2013-07-03T00:00:00.000000000",
          "2013-07-04T00:00:00.000000000",
          "2013-07-05T00:00:00.000000000",
          "2013-07-06T00:00:00.000000000",
          "2013-07-07T00:00:00.000000000",
          "2013-07-08T00:00:00.000000000",
          "2013-07-09T00:00:00.000000000",
          "2013-07-10T00:00:00.000000000",
          "2013-07-11T00:00:00.000000000",
          "2013-07-12T00:00:00.000000000",
          "2013-07-13T00:00:00.000000000",
          "2013-07-14T00:00:00.000000000",
          "2013-07-15T00:00:00.000000000",
          "2013-07-16T00:00:00.000000000",
          "2013-07-17T00:00:00.000000000",
          "2013-07-18T00:00:00.000000000",
          "2013-07-19T00:00:00.000000000",
          "2013-07-20T00:00:00.000000000",
          "2013-07-21T00:00:00.000000000",
          "2013-07-22T00:00:00.000000000",
          "2013-07-23T00:00:00.000000000",
          "2013-07-24T00:00:00.000000000",
          "2013-07-25T00:00:00.000000000",
          "2013-07-26T00:00:00.000000000",
          "2013-07-27T00:00:00.000000000",
          "2013-07-28T00:00:00.000000000",
          "2013-07-29T00:00:00.000000000",
          "2013-07-30T00:00:00.000000000",
          "2013-07-31T00:00:00.000000000",
          "2013-08-01T00:00:00.000000000",
          "2013-08-02T00:00:00.000000000",
          "2013-08-03T00:00:00.000000000",
          "2013-08-04T00:00:00.000000000",
          "2013-08-05T00:00:00.000000000",
          "2013-08-06T00:00:00.000000000",
          "2013-08-07T00:00:00.000000000",
          "2013-08-08T00:00:00.000000000",
          "2013-08-09T00:00:00.000000000",
          "2013-08-10T00:00:00.000000000",
          "2013-08-11T00:00:00.000000000",
          "2013-08-12T00:00:00.000000000",
          "2013-08-13T00:00:00.000000000",
          "2013-08-14T00:00:00.000000000",
          "2013-08-15T00:00:00.000000000",
          "2013-08-16T00:00:00.000000000",
          "2013-08-17T00:00:00.000000000",
          "2013-08-18T00:00:00.000000000",
          "2013-08-19T00:00:00.000000000",
          "2013-08-20T00:00:00.000000000",
          "2013-08-21T00:00:00.000000000",
          "2013-08-22T00:00:00.000000000",
          "2013-08-23T00:00:00.000000000",
          "2013-08-24T00:00:00.000000000",
          "2013-08-25T00:00:00.000000000",
          "2013-08-26T00:00:00.000000000",
          "2013-08-27T00:00:00.000000000",
          "2013-08-28T00:00:00.000000000",
          "2013-08-29T00:00:00.000000000",
          "2013-08-30T00:00:00.000000000",
          "2013-08-31T00:00:00.000000000",
          "2013-09-01T00:00:00.000000000",
          "2013-09-02T00:00:00.000000000",
          "2013-09-03T00:00:00.000000000",
          "2013-09-04T00:00:00.000000000",
          "2013-09-05T00:00:00.000000000",
          "2013-09-06T00:00:00.000000000",
          "2013-09-07T00:00:00.000000000",
          "2013-09-08T00:00:00.000000000",
          "2013-09-09T00:00:00.000000000",
          "2013-09-10T00:00:00.000000000",
          "2013-09-11T00:00:00.000000000",
          "2013-09-12T00:00:00.000000000",
          "2013-09-13T00:00:00.000000000",
          "2013-09-14T00:00:00.000000000",
          "2013-09-15T00:00:00.000000000",
          "2013-09-16T00:00:00.000000000",
          "2013-09-17T00:00:00.000000000",
          "2013-09-18T00:00:00.000000000",
          "2013-09-19T00:00:00.000000000",
          "2013-09-20T00:00:00.000000000",
          "2013-09-21T00:00:00.000000000",
          "2013-09-22T00:00:00.000000000",
          "2013-09-23T00:00:00.000000000",
          "2013-09-24T00:00:00.000000000",
          "2013-09-25T00:00:00.000000000",
          "2013-09-26T00:00:00.000000000",
          "2013-09-27T00:00:00.000000000",
          "2013-09-28T00:00:00.000000000",
          "2013-09-29T00:00:00.000000000",
          "2013-09-30T00:00:00.000000000",
          "2013-10-01T00:00:00.000000000",
          "2013-10-02T00:00:00.000000000",
          "2013-10-03T00:00:00.000000000",
          "2013-10-04T00:00:00.000000000",
          "2013-10-05T00:00:00.000000000",
          "2013-10-06T00:00:00.000000000",
          "2013-10-07T00:00:00.000000000",
          "2013-10-08T00:00:00.000000000",
          "2013-10-09T00:00:00.000000000",
          "2013-10-10T00:00:00.000000000",
          "2013-10-11T00:00:00.000000000",
          "2013-10-12T00:00:00.000000000",
          "2013-10-13T00:00:00.000000000",
          "2013-10-14T00:00:00.000000000",
          "2013-10-15T00:00:00.000000000",
          "2013-10-16T00:00:00.000000000",
          "2013-10-17T00:00:00.000000000",
          "2013-10-18T00:00:00.000000000",
          "2013-10-19T00:00:00.000000000",
          "2013-10-20T00:00:00.000000000",
          "2013-10-21T00:00:00.000000000",
          "2013-10-22T00:00:00.000000000",
          "2013-10-23T00:00:00.000000000",
          "2013-10-24T00:00:00.000000000",
          "2013-10-25T00:00:00.000000000",
          "2013-10-26T00:00:00.000000000",
          "2013-10-27T00:00:00.000000000",
          "2013-10-28T00:00:00.000000000",
          "2013-10-29T00:00:00.000000000",
          "2013-10-30T00:00:00.000000000",
          "2013-10-31T00:00:00.000000000",
          "2013-11-01T00:00:00.000000000",
          "2013-11-02T00:00:00.000000000",
          "2013-11-03T00:00:00.000000000",
          "2013-11-04T00:00:00.000000000",
          "2013-11-05T00:00:00.000000000",
          "2013-11-06T00:00:00.000000000",
          "2013-11-07T00:00:00.000000000",
          "2013-11-08T00:00:00.000000000",
          "2013-11-09T00:00:00.000000000",
          "2013-11-10T00:00:00.000000000",
          "2013-11-11T00:00:00.000000000",
          "2013-11-12T00:00:00.000000000",
          "2013-11-13T00:00:00.000000000",
          "2013-11-14T00:00:00.000000000",
          "2013-11-15T00:00:00.000000000",
          "2013-11-16T00:00:00.000000000",
          "2013-11-17T00:00:00.000000000",
          "2013-11-18T00:00:00.000000000",
          "2013-11-19T00:00:00.000000000",
          "2013-11-20T00:00:00.000000000",
          "2013-11-21T00:00:00.000000000",
          "2013-11-22T00:00:00.000000000",
          "2013-11-23T00:00:00.000000000",
          "2013-11-24T00:00:00.000000000",
          "2013-11-25T00:00:00.000000000",
          "2013-11-26T00:00:00.000000000",
          "2013-11-27T00:00:00.000000000",
          "2013-11-28T00:00:00.000000000",
          "2013-11-29T00:00:00.000000000",
          "2013-11-30T00:00:00.000000000",
          "2013-12-01T00:00:00.000000000",
          "2013-12-02T00:00:00.000000000",
          "2013-12-03T00:00:00.000000000",
          "2013-12-04T00:00:00.000000000",
          "2013-12-05T00:00:00.000000000",
          "2013-12-06T00:00:00.000000000",
          "2013-12-07T00:00:00.000000000",
          "2013-12-08T00:00:00.000000000",
          "2013-12-09T00:00:00.000000000",
          "2013-12-10T00:00:00.000000000",
          "2013-12-11T00:00:00.000000000",
          "2013-12-12T00:00:00.000000000",
          "2013-12-13T00:00:00.000000000",
          "2013-12-14T00:00:00.000000000",
          "2013-12-15T00:00:00.000000000",
          "2013-12-16T00:00:00.000000000",
          "2013-12-17T00:00:00.000000000",
          "2013-12-18T00:00:00.000000000",
          "2013-12-19T00:00:00.000000000",
          "2013-12-20T00:00:00.000000000",
          "2013-12-21T00:00:00.000000000",
          "2013-12-22T00:00:00.000000000",
          "2013-12-23T00:00:00.000000000",
          "2013-12-24T00:00:00.000000000",
          "2013-12-25T00:00:00.000000000",
          "2013-12-26T00:00:00.000000000",
          "2013-12-27T00:00:00.000000000",
          "2013-12-28T00:00:00.000000000",
          "2013-12-29T00:00:00.000000000",
          "2013-12-30T00:00:00.000000000",
          "2013-12-31T00:00:00.000000000",
          "2014-01-01T00:00:00.000000000",
          "2014-01-02T00:00:00.000000000",
          "2014-01-03T00:00:00.000000000",
          "2014-01-04T00:00:00.000000000",
          "2014-01-05T00:00:00.000000000",
          "2014-01-06T00:00:00.000000000",
          "2014-01-07T00:00:00.000000000",
          "2014-01-08T00:00:00.000000000",
          "2014-01-09T00:00:00.000000000",
          "2014-01-10T00:00:00.000000000",
          "2014-01-11T00:00:00.000000000",
          "2014-01-12T00:00:00.000000000",
          "2014-01-13T00:00:00.000000000",
          "2014-01-14T00:00:00.000000000",
          "2014-01-15T00:00:00.000000000",
          "2014-01-16T00:00:00.000000000",
          "2014-01-17T00:00:00.000000000",
          "2014-01-18T00:00:00.000000000",
          "2014-01-19T00:00:00.000000000",
          "2014-01-20T00:00:00.000000000",
          "2014-01-21T00:00:00.000000000",
          "2014-01-22T00:00:00.000000000",
          "2014-01-23T00:00:00.000000000",
          "2014-01-24T00:00:00.000000000",
          "2014-01-25T00:00:00.000000000",
          "2014-01-26T00:00:00.000000000",
          "2014-01-27T00:00:00.000000000",
          "2014-01-28T00:00:00.000000000",
          "2014-01-29T00:00:00.000000000",
          "2014-01-30T00:00:00.000000000",
          "2014-01-31T00:00:00.000000000",
          "2014-02-01T00:00:00.000000000",
          "2014-02-02T00:00:00.000000000",
          "2014-02-03T00:00:00.000000000",
          "2014-02-04T00:00:00.000000000",
          "2014-02-05T00:00:00.000000000",
          "2014-02-06T00:00:00.000000000",
          "2014-02-07T00:00:00.000000000",
          "2014-02-08T00:00:00.000000000",
          "2014-02-09T00:00:00.000000000",
          "2014-02-10T00:00:00.000000000",
          "2014-02-11T00:00:00.000000000",
          "2014-02-12T00:00:00.000000000",
          "2014-02-13T00:00:00.000000000",
          "2014-02-14T00:00:00.000000000",
          "2014-02-15T00:00:00.000000000",
          "2014-02-16T00:00:00.000000000",
          "2014-02-17T00:00:00.000000000",
          "2014-02-18T00:00:00.000000000",
          "2014-02-19T00:00:00.000000000",
          "2014-02-20T00:00:00.000000000",
          "2014-02-21T00:00:00.000000000",
          "2014-02-22T00:00:00.000000000",
          "2014-02-23T00:00:00.000000000",
          "2014-02-24T00:00:00.000000000",
          "2014-02-25T00:00:00.000000000",
          "2014-02-26T00:00:00.000000000",
          "2014-02-27T00:00:00.000000000",
          "2014-02-28T00:00:00.000000000",
          "2014-03-01T00:00:00.000000000",
          "2014-03-02T00:00:00.000000000",
          "2014-03-03T00:00:00.000000000",
          "2014-03-04T00:00:00.000000000",
          "2014-03-05T00:00:00.000000000",
          "2014-03-06T00:00:00.000000000",
          "2014-03-07T00:00:00.000000000",
          "2014-03-08T00:00:00.000000000",
          "2014-03-09T00:00:00.000000000",
          "2014-03-10T00:00:00.000000000",
          "2014-03-11T00:00:00.000000000",
          "2014-03-12T00:00:00.000000000",
          "2014-03-13T00:00:00.000000000",
          "2014-03-14T00:00:00.000000000",
          "2014-03-15T00:00:00.000000000",
          "2014-03-16T00:00:00.000000000",
          "2014-03-17T00:00:00.000000000",
          "2014-03-18T00:00:00.000000000",
          "2014-03-19T00:00:00.000000000",
          "2014-03-20T00:00:00.000000000",
          "2014-03-21T00:00:00.000000000",
          "2014-03-22T00:00:00.000000000",
          "2014-03-23T00:00:00.000000000",
          "2014-03-24T00:00:00.000000000",
          "2014-03-25T00:00:00.000000000",
          "2014-03-26T00:00:00.000000000",
          "2014-03-27T00:00:00.000000000",
          "2014-03-28T00:00:00.000000000",
          "2014-03-29T00:00:00.000000000",
          "2014-03-30T00:00:00.000000000",
          "2014-03-31T00:00:00.000000000",
          "2014-04-01T00:00:00.000000000",
          "2014-04-02T00:00:00.000000000",
          "2014-04-03T00:00:00.000000000",
          "2014-04-04T00:00:00.000000000",
          "2014-04-05T00:00:00.000000000",
          "2014-04-06T00:00:00.000000000",
          "2014-04-07T00:00:00.000000000",
          "2014-04-08T00:00:00.000000000",
          "2014-04-09T00:00:00.000000000",
          "2014-04-10T00:00:00.000000000",
          "2014-04-11T00:00:00.000000000",
          "2014-04-12T00:00:00.000000000",
          "2014-04-13T00:00:00.000000000",
          "2014-04-14T00:00:00.000000000",
          "2014-04-15T00:00:00.000000000",
          "2014-04-16T00:00:00.000000000",
          "2014-04-17T00:00:00.000000000",
          "2014-04-18T00:00:00.000000000",
          "2014-04-19T00:00:00.000000000",
          "2014-04-20T00:00:00.000000000",
          "2014-04-21T00:00:00.000000000",
          "2014-04-22T00:00:00.000000000",
          "2014-04-23T00:00:00.000000000",
          "2014-04-24T00:00:00.000000000",
          "2014-04-25T00:00:00.000000000",
          "2014-04-26T00:00:00.000000000",
          "2014-04-27T00:00:00.000000000",
          "2014-04-28T00:00:00.000000000",
          "2014-04-29T00:00:00.000000000",
          "2014-04-30T00:00:00.000000000",
          "2014-05-01T00:00:00.000000000",
          "2014-05-02T00:00:00.000000000",
          "2014-05-03T00:00:00.000000000",
          "2014-05-04T00:00:00.000000000",
          "2014-05-05T00:00:00.000000000",
          "2014-05-06T00:00:00.000000000",
          "2014-05-07T00:00:00.000000000",
          "2014-05-08T00:00:00.000000000",
          "2014-05-09T00:00:00.000000000",
          "2014-05-10T00:00:00.000000000",
          "2014-05-11T00:00:00.000000000",
          "2014-05-12T00:00:00.000000000",
          "2014-05-13T00:00:00.000000000",
          "2014-05-14T00:00:00.000000000",
          "2014-05-15T00:00:00.000000000",
          "2014-05-16T00:00:00.000000000",
          "2014-05-17T00:00:00.000000000",
          "2014-05-18T00:00:00.000000000",
          "2014-05-19T00:00:00.000000000",
          "2014-05-20T00:00:00.000000000",
          "2014-05-21T00:00:00.000000000",
          "2014-05-22T00:00:00.000000000",
          "2014-05-23T00:00:00.000000000",
          "2014-05-24T00:00:00.000000000",
          "2014-05-25T00:00:00.000000000",
          "2014-05-26T00:00:00.000000000",
          "2014-05-27T00:00:00.000000000",
          "2014-05-28T00:00:00.000000000",
          "2014-05-29T00:00:00.000000000",
          "2014-05-30T00:00:00.000000000",
          "2014-05-31T00:00:00.000000000",
          "2014-06-01T00:00:00.000000000",
          "2014-06-02T00:00:00.000000000",
          "2014-06-03T00:00:00.000000000",
          "2014-06-04T00:00:00.000000000",
          "2014-06-05T00:00:00.000000000",
          "2014-06-06T00:00:00.000000000",
          "2014-06-07T00:00:00.000000000",
          "2014-06-08T00:00:00.000000000",
          "2014-06-09T00:00:00.000000000",
          "2014-06-10T00:00:00.000000000",
          "2014-06-11T00:00:00.000000000",
          "2014-06-12T00:00:00.000000000",
          "2014-06-13T00:00:00.000000000",
          "2014-06-14T00:00:00.000000000",
          "2014-06-15T00:00:00.000000000",
          "2014-06-16T00:00:00.000000000",
          "2014-06-17T00:00:00.000000000",
          "2014-06-18T00:00:00.000000000",
          "2014-06-19T00:00:00.000000000",
          "2014-06-20T00:00:00.000000000",
          "2014-06-21T00:00:00.000000000",
          "2014-06-22T00:00:00.000000000",
          "2014-06-23T00:00:00.000000000",
          "2014-06-24T00:00:00.000000000",
          "2014-06-25T00:00:00.000000000",
          "2014-06-26T00:00:00.000000000",
          "2014-06-27T00:00:00.000000000",
          "2014-06-28T00:00:00.000000000",
          "2014-06-29T00:00:00.000000000",
          "2014-06-30T00:00:00.000000000",
          "2014-07-01T00:00:00.000000000",
          "2014-07-02T00:00:00.000000000",
          "2014-07-03T00:00:00.000000000",
          "2014-07-04T00:00:00.000000000",
          "2014-07-05T00:00:00.000000000",
          "2014-07-06T00:00:00.000000000",
          "2014-07-07T00:00:00.000000000",
          "2014-07-08T00:00:00.000000000",
          "2014-07-09T00:00:00.000000000",
          "2014-07-10T00:00:00.000000000",
          "2014-07-11T00:00:00.000000000",
          "2014-07-12T00:00:00.000000000",
          "2014-07-13T00:00:00.000000000",
          "2014-07-14T00:00:00.000000000",
          "2014-07-15T00:00:00.000000000",
          "2014-07-16T00:00:00.000000000",
          "2014-07-17T00:00:00.000000000",
          "2014-07-18T00:00:00.000000000",
          "2014-07-19T00:00:00.000000000",
          "2014-07-20T00:00:00.000000000",
          "2014-07-21T00:00:00.000000000",
          "2014-07-22T00:00:00.000000000",
          "2014-07-23T00:00:00.000000000",
          "2014-07-24T00:00:00.000000000",
          "2014-07-25T00:00:00.000000000",
          "2014-07-26T00:00:00.000000000",
          "2014-07-27T00:00:00.000000000",
          "2014-07-28T00:00:00.000000000",
          "2014-07-29T00:00:00.000000000",
          "2014-07-30T00:00:00.000000000",
          "2014-07-31T00:00:00.000000000",
          "2014-08-01T00:00:00.000000000",
          "2014-08-02T00:00:00.000000000",
          "2014-08-03T00:00:00.000000000",
          "2014-08-04T00:00:00.000000000",
          "2014-08-05T00:00:00.000000000",
          "2014-08-06T00:00:00.000000000",
          "2014-08-07T00:00:00.000000000",
          "2014-08-08T00:00:00.000000000",
          "2014-08-09T00:00:00.000000000",
          "2014-08-10T00:00:00.000000000",
          "2014-08-11T00:00:00.000000000",
          "2014-08-12T00:00:00.000000000",
          "2014-08-13T00:00:00.000000000",
          "2014-08-14T00:00:00.000000000",
          "2014-08-15T00:00:00.000000000",
          "2014-08-16T00:00:00.000000000",
          "2014-08-17T00:00:00.000000000",
          "2014-08-18T00:00:00.000000000",
          "2014-08-19T00:00:00.000000000",
          "2014-08-20T00:00:00.000000000",
          "2014-08-21T00:00:00.000000000",
          "2014-08-22T00:00:00.000000000",
          "2014-08-23T00:00:00.000000000",
          "2014-08-24T00:00:00.000000000",
          "2014-08-25T00:00:00.000000000",
          "2014-08-26T00:00:00.000000000",
          "2014-08-27T00:00:00.000000000",
          "2014-08-28T00:00:00.000000000",
          "2014-08-29T00:00:00.000000000",
          "2014-08-30T00:00:00.000000000",
          "2014-08-31T00:00:00.000000000",
          "2014-09-01T00:00:00.000000000",
          "2014-09-02T00:00:00.000000000",
          "2014-09-03T00:00:00.000000000",
          "2014-09-04T00:00:00.000000000",
          "2014-09-05T00:00:00.000000000",
          "2014-09-06T00:00:00.000000000",
          "2014-09-07T00:00:00.000000000",
          "2014-09-08T00:00:00.000000000",
          "2014-09-09T00:00:00.000000000",
          "2014-09-10T00:00:00.000000000",
          "2014-09-11T00:00:00.000000000",
          "2014-09-12T00:00:00.000000000",
          "2014-09-13T00:00:00.000000000",
          "2014-09-14T00:00:00.000000000",
          "2014-09-15T00:00:00.000000000",
          "2014-09-16T00:00:00.000000000",
          "2014-09-17T00:00:00.000000000",
          "2014-09-18T00:00:00.000000000",
          "2014-09-19T00:00:00.000000000",
          "2014-09-20T00:00:00.000000000",
          "2014-09-21T00:00:00.000000000",
          "2014-09-22T00:00:00.000000000",
          "2014-09-23T00:00:00.000000000",
          "2014-09-24T00:00:00.000000000",
          "2014-09-25T00:00:00.000000000",
          "2014-09-26T00:00:00.000000000",
          "2014-09-27T00:00:00.000000000",
          "2014-09-28T00:00:00.000000000",
          "2014-09-29T00:00:00.000000000",
          "2014-09-30T00:00:00.000000000",
          "2014-10-01T00:00:00.000000000",
          "2014-10-02T00:00:00.000000000",
          "2014-10-03T00:00:00.000000000",
          "2014-10-04T00:00:00.000000000",
          "2014-10-05T00:00:00.000000000",
          "2014-10-06T00:00:00.000000000",
          "2014-10-07T00:00:00.000000000",
          "2014-10-08T00:00:00.000000000",
          "2014-10-09T00:00:00.000000000",
          "2014-10-10T00:00:00.000000000",
          "2014-10-11T00:00:00.000000000",
          "2014-10-12T00:00:00.000000000",
          "2014-10-13T00:00:00.000000000",
          "2014-10-14T00:00:00.000000000",
          "2014-10-15T00:00:00.000000000",
          "2014-10-16T00:00:00.000000000",
          "2014-10-17T00:00:00.000000000",
          "2014-10-18T00:00:00.000000000",
          "2014-10-19T00:00:00.000000000",
          "2014-10-20T00:00:00.000000000",
          "2014-10-21T00:00:00.000000000",
          "2014-10-22T00:00:00.000000000",
          "2014-10-23T00:00:00.000000000",
          "2014-10-24T00:00:00.000000000",
          "2014-10-25T00:00:00.000000000",
          "2014-10-26T00:00:00.000000000",
          "2014-10-27T00:00:00.000000000",
          "2014-10-28T00:00:00.000000000",
          "2014-10-29T00:00:00.000000000",
          "2014-10-30T00:00:00.000000000",
          "2014-10-31T00:00:00.000000000",
          "2014-11-01T00:00:00.000000000",
          "2014-11-02T00:00:00.000000000",
          "2014-11-03T00:00:00.000000000",
          "2014-11-04T00:00:00.000000000",
          "2014-11-05T00:00:00.000000000",
          "2014-11-06T00:00:00.000000000",
          "2014-11-07T00:00:00.000000000",
          "2014-11-08T00:00:00.000000000",
          "2014-11-09T00:00:00.000000000",
          "2014-11-10T00:00:00.000000000",
          "2014-11-11T00:00:00.000000000",
          "2014-11-12T00:00:00.000000000",
          "2014-11-13T00:00:00.000000000",
          "2014-11-14T00:00:00.000000000",
          "2014-11-15T00:00:00.000000000",
          "2014-11-16T00:00:00.000000000",
          "2014-11-17T00:00:00.000000000",
          "2014-11-18T00:00:00.000000000",
          "2014-11-19T00:00:00.000000000",
          "2014-11-20T00:00:00.000000000",
          "2014-11-21T00:00:00.000000000",
          "2014-11-22T00:00:00.000000000",
          "2014-11-23T00:00:00.000000000",
          "2014-11-24T00:00:00.000000000",
          "2014-11-25T00:00:00.000000000",
          "2014-11-26T00:00:00.000000000",
          "2014-11-27T00:00:00.000000000",
          "2014-11-28T00:00:00.000000000",
          "2014-11-29T00:00:00.000000000",
          "2014-11-30T00:00:00.000000000",
          "2014-12-01T00:00:00.000000000",
          "2014-12-02T00:00:00.000000000",
          "2014-12-03T00:00:00.000000000",
          "2014-12-04T00:00:00.000000000",
          "2014-12-05T00:00:00.000000000",
          "2014-12-06T00:00:00.000000000",
          "2014-12-07T00:00:00.000000000",
          "2014-12-08T00:00:00.000000000",
          "2014-12-09T00:00:00.000000000",
          "2014-12-10T00:00:00.000000000",
          "2014-12-11T00:00:00.000000000",
          "2014-12-12T00:00:00.000000000",
          "2014-12-13T00:00:00.000000000",
          "2014-12-14T00:00:00.000000000",
          "2014-12-15T00:00:00.000000000",
          "2014-12-16T00:00:00.000000000",
          "2014-12-17T00:00:00.000000000",
          "2014-12-18T00:00:00.000000000",
          "2014-12-19T00:00:00.000000000",
          "2014-12-20T00:00:00.000000000",
          "2014-12-21T00:00:00.000000000",
          "2014-12-22T00:00:00.000000000",
          "2014-12-23T00:00:00.000000000",
          "2014-12-24T00:00:00.000000000",
          "2014-12-25T00:00:00.000000000",
          "2014-12-26T00:00:00.000000000",
          "2014-12-27T00:00:00.000000000",
          "2014-12-28T00:00:00.000000000",
          "2014-12-29T00:00:00.000000000",
          "2014-12-30T00:00:00.000000000",
          "2014-12-31T00:00:00.000000000",
          "2015-01-01T00:00:00.000000000",
          "2015-01-02T00:00:00.000000000",
          "2015-01-03T00:00:00.000000000",
          "2015-01-04T00:00:00.000000000",
          "2015-01-05T00:00:00.000000000",
          "2015-01-06T00:00:00.000000000",
          "2015-01-07T00:00:00.000000000",
          "2015-01-08T00:00:00.000000000",
          "2015-01-09T00:00:00.000000000",
          "2015-01-10T00:00:00.000000000",
          "2015-01-11T00:00:00.000000000",
          "2015-01-12T00:00:00.000000000",
          "2015-01-13T00:00:00.000000000",
          "2015-01-14T00:00:00.000000000",
          "2015-01-15T00:00:00.000000000",
          "2015-01-16T00:00:00.000000000",
          "2015-01-17T00:00:00.000000000",
          "2015-01-18T00:00:00.000000000",
          "2015-01-19T00:00:00.000000000",
          "2015-01-20T00:00:00.000000000",
          "2015-01-21T00:00:00.000000000",
          "2015-01-22T00:00:00.000000000",
          "2015-01-23T00:00:00.000000000",
          "2015-01-24T00:00:00.000000000",
          "2015-01-25T00:00:00.000000000",
          "2015-01-26T00:00:00.000000000",
          "2015-01-27T00:00:00.000000000",
          "2015-01-28T00:00:00.000000000",
          "2015-01-29T00:00:00.000000000",
          "2015-01-30T00:00:00.000000000",
          "2015-01-31T00:00:00.000000000",
          "2015-02-01T00:00:00.000000000",
          "2015-02-02T00:00:00.000000000",
          "2015-02-03T00:00:00.000000000",
          "2015-02-04T00:00:00.000000000",
          "2015-02-05T00:00:00.000000000",
          "2015-02-06T00:00:00.000000000",
          "2015-02-07T00:00:00.000000000",
          "2015-02-08T00:00:00.000000000",
          "2015-02-09T00:00:00.000000000",
          "2015-02-10T00:00:00.000000000",
          "2015-02-11T00:00:00.000000000",
          "2015-02-12T00:00:00.000000000",
          "2015-02-13T00:00:00.000000000",
          "2015-02-14T00:00:00.000000000",
          "2015-02-15T00:00:00.000000000",
          "2015-02-16T00:00:00.000000000",
          "2015-02-17T00:00:00.000000000",
          "2015-02-18T00:00:00.000000000",
          "2015-02-19T00:00:00.000000000",
          "2015-02-20T00:00:00.000000000",
          "2015-02-21T00:00:00.000000000",
          "2015-02-22T00:00:00.000000000",
          "2015-02-23T00:00:00.000000000",
          "2015-02-24T00:00:00.000000000",
          "2015-02-25T00:00:00.000000000",
          "2015-02-26T00:00:00.000000000",
          "2015-02-27T00:00:00.000000000",
          "2015-02-28T00:00:00.000000000",
          "2015-03-01T00:00:00.000000000",
          "2015-03-02T00:00:00.000000000",
          "2015-03-03T00:00:00.000000000",
          "2015-03-04T00:00:00.000000000",
          "2015-03-05T00:00:00.000000000",
          "2015-03-06T00:00:00.000000000",
          "2015-03-07T00:00:00.000000000",
          "2015-03-08T00:00:00.000000000",
          "2015-03-09T00:00:00.000000000",
          "2015-03-10T00:00:00.000000000",
          "2015-03-11T00:00:00.000000000",
          "2015-03-12T00:00:00.000000000",
          "2015-03-13T00:00:00.000000000",
          "2015-03-14T00:00:00.000000000",
          "2015-03-15T00:00:00.000000000",
          "2015-03-16T00:00:00.000000000",
          "2015-03-17T00:00:00.000000000",
          "2015-03-18T00:00:00.000000000",
          "2015-03-19T00:00:00.000000000",
          "2015-03-20T00:00:00.000000000",
          "2015-03-21T00:00:00.000000000",
          "2015-03-22T00:00:00.000000000",
          "2015-03-23T00:00:00.000000000",
          "2015-03-24T00:00:00.000000000",
          "2015-03-25T00:00:00.000000000",
          "2015-03-26T00:00:00.000000000",
          "2015-03-27T00:00:00.000000000",
          "2015-03-28T00:00:00.000000000",
          "2015-03-29T00:00:00.000000000",
          "2015-03-30T00:00:00.000000000",
          "2015-03-31T00:00:00.000000000",
          "2015-04-01T00:00:00.000000000",
          "2015-04-02T00:00:00.000000000",
          "2015-04-03T00:00:00.000000000",
          "2015-04-04T00:00:00.000000000",
          "2015-04-05T00:00:00.000000000",
          "2015-04-06T00:00:00.000000000",
          "2015-04-07T00:00:00.000000000",
          "2015-04-08T00:00:00.000000000",
          "2015-04-09T00:00:00.000000000",
          "2015-04-10T00:00:00.000000000",
          "2015-04-11T00:00:00.000000000",
          "2015-04-12T00:00:00.000000000",
          "2015-04-13T00:00:00.000000000",
          "2015-04-14T00:00:00.000000000",
          "2015-04-15T00:00:00.000000000",
          "2015-04-16T00:00:00.000000000",
          "2015-04-17T00:00:00.000000000",
          "2015-04-18T00:00:00.000000000",
          "2015-04-19T00:00:00.000000000",
          "2015-04-20T00:00:00.000000000",
          "2015-04-21T00:00:00.000000000",
          "2015-04-22T00:00:00.000000000",
          "2015-04-23T00:00:00.000000000",
          "2015-04-24T00:00:00.000000000",
          "2015-04-25T00:00:00.000000000",
          "2015-04-26T00:00:00.000000000",
          "2015-04-27T00:00:00.000000000",
          "2015-04-28T00:00:00.000000000",
          "2015-04-29T00:00:00.000000000",
          "2015-04-30T00:00:00.000000000",
          "2015-05-01T00:00:00.000000000",
          "2015-05-02T00:00:00.000000000",
          "2015-05-03T00:00:00.000000000",
          "2015-05-04T00:00:00.000000000",
          "2015-05-05T00:00:00.000000000",
          "2015-05-06T00:00:00.000000000",
          "2015-05-07T00:00:00.000000000",
          "2015-05-08T00:00:00.000000000",
          "2015-05-09T00:00:00.000000000",
          "2015-05-10T00:00:00.000000000",
          "2015-05-11T00:00:00.000000000",
          "2015-05-12T00:00:00.000000000",
          "2015-05-13T00:00:00.000000000",
          "2015-05-14T00:00:00.000000000",
          "2015-05-15T00:00:00.000000000",
          "2015-05-16T00:00:00.000000000",
          "2015-05-17T00:00:00.000000000",
          "2015-05-18T00:00:00.000000000",
          "2015-05-19T00:00:00.000000000",
          "2015-05-20T00:00:00.000000000",
          "2015-05-21T00:00:00.000000000",
          "2015-05-22T00:00:00.000000000",
          "2015-05-23T00:00:00.000000000",
          "2015-05-24T00:00:00.000000000",
          "2015-05-25T00:00:00.000000000",
          "2015-05-26T00:00:00.000000000",
          "2015-05-27T00:00:00.000000000",
          "2015-05-28T00:00:00.000000000",
          "2015-05-29T00:00:00.000000000",
          "2015-05-30T00:00:00.000000000",
          "2015-05-31T00:00:00.000000000",
          "2015-06-01T00:00:00.000000000",
          "2015-06-02T00:00:00.000000000",
          "2015-06-03T00:00:00.000000000",
          "2015-06-04T00:00:00.000000000",
          "2015-06-05T00:00:00.000000000",
          "2015-06-06T00:00:00.000000000",
          "2015-06-07T00:00:00.000000000",
          "2015-06-08T00:00:00.000000000",
          "2015-06-09T00:00:00.000000000",
          "2015-06-10T00:00:00.000000000",
          "2015-06-11T00:00:00.000000000",
          "2015-06-12T00:00:00.000000000",
          "2015-06-13T00:00:00.000000000",
          "2015-06-14T00:00:00.000000000",
          "2015-06-15T00:00:00.000000000",
          "2015-06-16T00:00:00.000000000",
          "2015-06-17T00:00:00.000000000",
          "2015-06-18T00:00:00.000000000",
          "2015-06-19T00:00:00.000000000",
          "2015-06-20T00:00:00.000000000",
          "2015-06-21T00:00:00.000000000",
          "2015-06-22T00:00:00.000000000",
          "2015-06-23T00:00:00.000000000",
          "2015-06-24T00:00:00.000000000",
          "2015-06-25T00:00:00.000000000",
          "2015-06-26T00:00:00.000000000",
          "2015-06-27T00:00:00.000000000",
          "2015-06-28T00:00:00.000000000",
          "2015-06-29T00:00:00.000000000",
          "2015-06-30T00:00:00.000000000",
          "2015-07-01T00:00:00.000000000",
          "2015-07-02T00:00:00.000000000",
          "2015-07-03T00:00:00.000000000",
          "2015-07-04T00:00:00.000000000",
          "2015-07-05T00:00:00.000000000",
          "2015-07-06T00:00:00.000000000",
          "2015-07-07T00:00:00.000000000",
          "2015-07-08T00:00:00.000000000",
          "2015-07-09T00:00:00.000000000",
          "2015-07-10T00:00:00.000000000",
          "2015-07-11T00:00:00.000000000",
          "2015-07-12T00:00:00.000000000",
          "2015-07-13T00:00:00.000000000",
          "2015-07-14T00:00:00.000000000",
          "2015-07-15T00:00:00.000000000",
          "2015-07-16T00:00:00.000000000",
          "2015-07-17T00:00:00.000000000",
          "2015-07-18T00:00:00.000000000",
          "2015-07-19T00:00:00.000000000",
          "2015-07-20T00:00:00.000000000",
          "2015-07-21T00:00:00.000000000",
          "2015-07-22T00:00:00.000000000",
          "2015-07-23T00:00:00.000000000",
          "2015-07-24T00:00:00.000000000",
          "2015-07-25T00:00:00.000000000",
          "2015-07-26T00:00:00.000000000",
          "2015-07-27T00:00:00.000000000",
          "2015-07-28T00:00:00.000000000",
          "2015-07-29T00:00:00.000000000",
          "2015-07-30T00:00:00.000000000",
          "2015-07-31T00:00:00.000000000",
          "2015-08-01T00:00:00.000000000",
          "2015-08-02T00:00:00.000000000",
          "2015-08-03T00:00:00.000000000",
          "2015-08-04T00:00:00.000000000",
          "2015-08-05T00:00:00.000000000",
          "2015-08-06T00:00:00.000000000",
          "2015-08-07T00:00:00.000000000",
          "2015-08-08T00:00:00.000000000",
          "2015-08-09T00:00:00.000000000",
          "2015-08-10T00:00:00.000000000",
          "2015-08-11T00:00:00.000000000",
          "2015-08-12T00:00:00.000000000",
          "2015-08-13T00:00:00.000000000",
          "2015-08-14T00:00:00.000000000",
          "2015-08-15T00:00:00.000000000",
          "2015-08-16T00:00:00.000000000",
          "2015-08-17T00:00:00.000000000",
          "2015-08-18T00:00:00.000000000",
          "2015-08-19T00:00:00.000000000",
          "2015-08-20T00:00:00.000000000",
          "2015-08-21T00:00:00.000000000",
          "2015-08-22T00:00:00.000000000",
          "2015-08-23T00:00:00.000000000",
          "2015-08-24T00:00:00.000000000",
          "2015-08-25T00:00:00.000000000",
          "2015-08-26T00:00:00.000000000",
          "2015-08-27T00:00:00.000000000",
          "2015-08-28T00:00:00.000000000",
          "2015-08-29T00:00:00.000000000",
          "2015-08-30T00:00:00.000000000",
          "2015-08-31T00:00:00.000000000",
          "2015-09-01T00:00:00.000000000",
          "2015-09-02T00:00:00.000000000",
          "2015-09-03T00:00:00.000000000",
          "2015-09-04T00:00:00.000000000",
          "2015-09-05T00:00:00.000000000",
          "2015-09-06T00:00:00.000000000",
          "2015-09-07T00:00:00.000000000",
          "2015-09-08T00:00:00.000000000",
          "2015-09-09T00:00:00.000000000",
          "2015-09-10T00:00:00.000000000",
          "2015-09-11T00:00:00.000000000",
          "2015-09-12T00:00:00.000000000",
          "2015-09-13T00:00:00.000000000",
          "2015-09-14T00:00:00.000000000",
          "2015-09-15T00:00:00.000000000",
          "2015-09-16T00:00:00.000000000",
          "2015-09-17T00:00:00.000000000",
          "2015-09-18T00:00:00.000000000",
          "2015-09-19T00:00:00.000000000",
          "2015-09-20T00:00:00.000000000",
          "2015-09-21T00:00:00.000000000",
          "2015-09-22T00:00:00.000000000",
          "2015-09-23T00:00:00.000000000",
          "2015-09-24T00:00:00.000000000",
          "2015-09-25T00:00:00.000000000",
          "2015-09-26T00:00:00.000000000",
          "2015-09-27T00:00:00.000000000",
          "2015-09-28T00:00:00.000000000",
          "2015-09-29T00:00:00.000000000",
          "2015-09-30T00:00:00.000000000",
          "2015-10-01T00:00:00.000000000",
          "2015-10-02T00:00:00.000000000",
          "2015-10-03T00:00:00.000000000",
          "2015-10-04T00:00:00.000000000",
          "2015-10-05T00:00:00.000000000",
          "2015-10-06T00:00:00.000000000",
          "2015-10-07T00:00:00.000000000",
          "2015-10-08T00:00:00.000000000",
          "2015-10-09T00:00:00.000000000",
          "2015-10-10T00:00:00.000000000",
          "2015-10-11T00:00:00.000000000",
          "2015-10-12T00:00:00.000000000",
          "2015-10-13T00:00:00.000000000",
          "2015-10-14T00:00:00.000000000",
          "2015-10-15T00:00:00.000000000",
          "2015-10-16T00:00:00.000000000",
          "2015-10-17T00:00:00.000000000",
          "2015-10-18T00:00:00.000000000",
          "2015-10-19T00:00:00.000000000",
          "2015-10-20T00:00:00.000000000",
          "2015-10-21T00:00:00.000000000",
          "2015-10-22T00:00:00.000000000",
          "2015-10-23T00:00:00.000000000",
          "2015-10-24T00:00:00.000000000",
          "2015-10-25T00:00:00.000000000",
          "2015-10-26T00:00:00.000000000",
          "2015-10-27T00:00:00.000000000",
          "2015-10-28T00:00:00.000000000",
          "2015-10-29T00:00:00.000000000",
          "2015-10-30T00:00:00.000000000",
          "2015-10-31T00:00:00.000000000",
          "2015-11-01T00:00:00.000000000",
          "2015-11-02T00:00:00.000000000",
          "2015-11-03T00:00:00.000000000",
          "2015-11-04T00:00:00.000000000",
          "2015-11-05T00:00:00.000000000",
          "2015-11-06T00:00:00.000000000",
          "2015-11-07T00:00:00.000000000",
          "2015-11-08T00:00:00.000000000",
          "2015-11-09T00:00:00.000000000",
          "2015-11-10T00:00:00.000000000",
          "2015-11-11T00:00:00.000000000",
          "2015-11-12T00:00:00.000000000",
          "2015-11-13T00:00:00.000000000",
          "2015-11-14T00:00:00.000000000",
          "2015-11-15T00:00:00.000000000",
          "2015-11-16T00:00:00.000000000",
          "2015-11-17T00:00:00.000000000",
          "2015-11-18T00:00:00.000000000",
          "2015-11-19T00:00:00.000000000",
          "2015-11-20T00:00:00.000000000",
          "2015-11-21T00:00:00.000000000",
          "2015-11-22T00:00:00.000000000",
          "2015-11-23T00:00:00.000000000",
          "2015-11-24T00:00:00.000000000",
          "2015-11-25T00:00:00.000000000",
          "2015-11-26T00:00:00.000000000",
          "2015-11-27T00:00:00.000000000",
          "2015-11-28T00:00:00.000000000",
          "2015-11-29T00:00:00.000000000",
          "2015-11-30T00:00:00.000000000",
          "2015-12-01T00:00:00.000000000",
          "2015-12-02T00:00:00.000000000",
          "2015-12-03T00:00:00.000000000",
          "2015-12-04T00:00:00.000000000",
          "2015-12-05T00:00:00.000000000",
          "2015-12-06T00:00:00.000000000",
          "2015-12-07T00:00:00.000000000",
          "2015-12-08T00:00:00.000000000",
          "2015-12-09T00:00:00.000000000",
          "2015-12-10T00:00:00.000000000",
          "2015-12-11T00:00:00.000000000",
          "2015-12-12T00:00:00.000000000",
          "2015-12-13T00:00:00.000000000",
          "2015-12-14T00:00:00.000000000",
          "2015-12-15T00:00:00.000000000",
          "2015-12-16T00:00:00.000000000",
          "2015-12-17T00:00:00.000000000",
          "2015-12-18T00:00:00.000000000",
          "2015-12-19T00:00:00.000000000",
          "2015-12-20T00:00:00.000000000",
          "2015-12-21T00:00:00.000000000",
          "2015-12-22T00:00:00.000000000",
          "2015-12-23T00:00:00.000000000",
          "2015-12-24T00:00:00.000000000",
          "2015-12-25T00:00:00.000000000",
          "2015-12-26T00:00:00.000000000",
          "2015-12-27T00:00:00.000000000",
          "2015-12-28T00:00:00.000000000",
          "2015-12-29T00:00:00.000000000",
          "2015-12-30T00:00:00.000000000",
          "2015-12-31T00:00:00.000000000",
          "2016-01-01T00:00:00.000000000",
          "2016-01-02T00:00:00.000000000",
          "2016-01-03T00:00:00.000000000",
          "2016-01-04T00:00:00.000000000",
          "2016-01-05T00:00:00.000000000",
          "2016-01-06T00:00:00.000000000",
          "2016-01-07T00:00:00.000000000",
          "2016-01-08T00:00:00.000000000",
          "2016-01-09T00:00:00.000000000",
          "2016-01-10T00:00:00.000000000",
          "2016-01-11T00:00:00.000000000",
          "2016-01-12T00:00:00.000000000",
          "2016-01-13T00:00:00.000000000",
          "2016-01-14T00:00:00.000000000",
          "2016-01-15T00:00:00.000000000",
          "2016-01-16T00:00:00.000000000",
          "2016-01-17T00:00:00.000000000",
          "2016-01-18T00:00:00.000000000",
          "2016-01-19T00:00:00.000000000",
          "2016-01-20T00:00:00.000000000",
          "2016-01-21T00:00:00.000000000",
          "2016-01-22T00:00:00.000000000",
          "2016-01-23T00:00:00.000000000",
          "2016-01-24T00:00:00.000000000",
          "2016-01-25T00:00:00.000000000",
          "2016-01-26T00:00:00.000000000",
          "2016-01-27T00:00:00.000000000",
          "2016-01-28T00:00:00.000000000",
          "2016-01-29T00:00:00.000000000",
          "2016-01-30T00:00:00.000000000",
          "2016-01-31T00:00:00.000000000",
          "2016-02-01T00:00:00.000000000",
          "2016-02-02T00:00:00.000000000",
          "2016-02-03T00:00:00.000000000",
          "2016-02-04T00:00:00.000000000",
          "2016-02-05T00:00:00.000000000",
          "2016-02-06T00:00:00.000000000",
          "2016-02-07T00:00:00.000000000",
          "2016-02-08T00:00:00.000000000",
          "2016-02-09T00:00:00.000000000",
          "2016-02-10T00:00:00.000000000",
          "2016-02-11T00:00:00.000000000",
          "2016-02-12T00:00:00.000000000",
          "2016-02-13T00:00:00.000000000",
          "2016-02-14T00:00:00.000000000",
          "2016-02-15T00:00:00.000000000",
          "2016-02-16T00:00:00.000000000",
          "2016-02-17T00:00:00.000000000",
          "2016-02-18T00:00:00.000000000",
          "2016-02-19T00:00:00.000000000",
          "2016-02-20T00:00:00.000000000",
          "2016-02-21T00:00:00.000000000",
          "2016-02-22T00:00:00.000000000",
          "2016-02-23T00:00:00.000000000",
          "2016-02-24T00:00:00.000000000",
          "2016-02-25T00:00:00.000000000",
          "2016-02-26T00:00:00.000000000",
          "2016-02-27T00:00:00.000000000",
          "2016-02-28T00:00:00.000000000",
          "2016-02-29T00:00:00.000000000",
          "2016-03-01T00:00:00.000000000",
          "2016-03-02T00:00:00.000000000",
          "2016-03-03T00:00:00.000000000",
          "2016-03-04T00:00:00.000000000",
          "2016-03-05T00:00:00.000000000",
          "2016-03-06T00:00:00.000000000",
          "2016-03-07T00:00:00.000000000",
          "2016-03-08T00:00:00.000000000",
          "2016-03-09T00:00:00.000000000",
          "2016-03-10T00:00:00.000000000",
          "2016-03-11T00:00:00.000000000",
          "2016-03-12T00:00:00.000000000",
          "2016-03-13T00:00:00.000000000",
          "2016-03-14T00:00:00.000000000",
          "2016-03-15T00:00:00.000000000",
          "2016-03-16T00:00:00.000000000",
          "2016-03-17T00:00:00.000000000",
          "2016-03-18T00:00:00.000000000",
          "2016-03-19T00:00:00.000000000",
          "2016-03-20T00:00:00.000000000",
          "2016-03-21T00:00:00.000000000",
          "2016-03-22T00:00:00.000000000",
          "2016-03-23T00:00:00.000000000",
          "2016-03-24T00:00:00.000000000",
          "2016-03-25T00:00:00.000000000",
          "2016-03-26T00:00:00.000000000",
          "2016-03-27T00:00:00.000000000",
          "2016-03-28T00:00:00.000000000",
          "2016-03-29T00:00:00.000000000",
          "2016-03-30T00:00:00.000000000",
          "2016-03-31T00:00:00.000000000",
          "2016-04-01T00:00:00.000000000",
          "2016-04-02T00:00:00.000000000",
          "2016-04-03T00:00:00.000000000",
          "2016-04-04T00:00:00.000000000",
          "2016-04-05T00:00:00.000000000",
          "2016-04-06T00:00:00.000000000",
          "2016-04-07T00:00:00.000000000",
          "2016-04-08T00:00:00.000000000",
          "2016-04-09T00:00:00.000000000",
          "2016-04-10T00:00:00.000000000",
          "2016-04-11T00:00:00.000000000",
          "2016-04-12T00:00:00.000000000",
          "2016-04-13T00:00:00.000000000",
          "2016-04-14T00:00:00.000000000",
          "2016-04-15T00:00:00.000000000",
          "2016-04-16T00:00:00.000000000",
          "2016-04-17T00:00:00.000000000",
          "2016-04-18T00:00:00.000000000",
          "2016-04-19T00:00:00.000000000",
          "2016-04-20T00:00:00.000000000",
          "2016-04-21T00:00:00.000000000",
          "2016-04-22T00:00:00.000000000",
          "2016-04-23T00:00:00.000000000",
          "2016-04-24T00:00:00.000000000",
          "2016-04-25T00:00:00.000000000",
          "2016-04-26T00:00:00.000000000",
          "2016-04-27T00:00:00.000000000",
          "2016-04-28T00:00:00.000000000",
          "2016-04-29T00:00:00.000000000",
          "2016-04-30T00:00:00.000000000",
          "2016-05-01T00:00:00.000000000",
          "2016-05-02T00:00:00.000000000",
          "2016-05-03T00:00:00.000000000",
          "2016-05-04T00:00:00.000000000",
          "2016-05-05T00:00:00.000000000",
          "2016-05-06T00:00:00.000000000",
          "2016-05-07T00:00:00.000000000",
          "2016-05-08T00:00:00.000000000",
          "2016-05-09T00:00:00.000000000",
          "2016-05-10T00:00:00.000000000",
          "2016-05-11T00:00:00.000000000",
          "2016-05-12T00:00:00.000000000",
          "2016-05-13T00:00:00.000000000",
          "2016-05-14T00:00:00.000000000",
          "2016-05-15T00:00:00.000000000",
          "2016-05-16T00:00:00.000000000",
          "2016-05-17T00:00:00.000000000",
          "2016-05-18T00:00:00.000000000",
          "2016-05-19T00:00:00.000000000",
          "2016-05-20T00:00:00.000000000",
          "2016-05-21T00:00:00.000000000",
          "2016-05-22T00:00:00.000000000",
          "2016-05-23T00:00:00.000000000",
          "2016-05-24T00:00:00.000000000",
          "2016-05-25T00:00:00.000000000",
          "2016-05-26T00:00:00.000000000",
          "2016-05-27T00:00:00.000000000",
          "2016-05-28T00:00:00.000000000",
          "2016-05-29T00:00:00.000000000",
          "2016-05-30T00:00:00.000000000",
          "2016-05-31T00:00:00.000000000",
          "2016-06-01T00:00:00.000000000",
          "2016-06-02T00:00:00.000000000",
          "2016-06-03T00:00:00.000000000",
          "2016-06-04T00:00:00.000000000",
          "2016-06-05T00:00:00.000000000",
          "2016-06-06T00:00:00.000000000",
          "2016-06-07T00:00:00.000000000",
          "2016-06-08T00:00:00.000000000",
          "2016-06-09T00:00:00.000000000",
          "2016-06-10T00:00:00.000000000",
          "2016-06-11T00:00:00.000000000",
          "2016-06-12T00:00:00.000000000",
          "2016-06-13T00:00:00.000000000",
          "2016-06-14T00:00:00.000000000",
          "2016-06-15T00:00:00.000000000",
          "2016-06-16T00:00:00.000000000",
          "2016-06-17T00:00:00.000000000",
          "2016-06-18T00:00:00.000000000",
          "2016-06-19T00:00:00.000000000",
          "2016-06-20T00:00:00.000000000",
          "2016-06-21T00:00:00.000000000",
          "2016-06-22T00:00:00.000000000",
          "2016-06-23T00:00:00.000000000",
          "2016-06-24T00:00:00.000000000",
          "2016-06-25T00:00:00.000000000",
          "2016-06-26T00:00:00.000000000",
          "2016-06-27T00:00:00.000000000",
          "2016-06-28T00:00:00.000000000",
          "2016-06-29T00:00:00.000000000",
          "2016-06-30T00:00:00.000000000",
          "2016-07-01T00:00:00.000000000",
          "2016-07-02T00:00:00.000000000",
          "2016-07-03T00:00:00.000000000",
          "2016-07-04T00:00:00.000000000",
          "2016-07-05T00:00:00.000000000",
          "2016-07-06T00:00:00.000000000",
          "2016-07-07T00:00:00.000000000",
          "2016-07-08T00:00:00.000000000",
          "2016-07-09T00:00:00.000000000",
          "2016-07-10T00:00:00.000000000",
          "2016-07-11T00:00:00.000000000",
          "2016-07-12T00:00:00.000000000",
          "2016-07-13T00:00:00.000000000",
          "2016-07-14T00:00:00.000000000",
          "2016-07-15T00:00:00.000000000",
          "2016-07-16T00:00:00.000000000",
          "2016-07-17T00:00:00.000000000",
          "2016-07-18T00:00:00.000000000",
          "2016-07-19T00:00:00.000000000",
          "2016-07-20T00:00:00.000000000",
          "2016-07-21T00:00:00.000000000",
          "2016-07-22T00:00:00.000000000",
          "2016-07-23T00:00:00.000000000",
          "2016-07-24T00:00:00.000000000",
          "2016-07-25T00:00:00.000000000",
          "2016-07-26T00:00:00.000000000",
          "2016-07-27T00:00:00.000000000",
          "2016-07-28T00:00:00.000000000",
          "2016-07-29T00:00:00.000000000",
          "2016-07-30T00:00:00.000000000",
          "2016-07-31T00:00:00.000000000",
          "2016-08-01T00:00:00.000000000",
          "2016-08-02T00:00:00.000000000",
          "2016-08-03T00:00:00.000000000",
          "2016-08-04T00:00:00.000000000",
          "2016-08-05T00:00:00.000000000",
          "2016-08-06T00:00:00.000000000",
          "2016-08-07T00:00:00.000000000",
          "2016-08-08T00:00:00.000000000",
          "2016-08-09T00:00:00.000000000",
          "2016-08-10T00:00:00.000000000",
          "2016-08-11T00:00:00.000000000",
          "2016-08-12T00:00:00.000000000",
          "2016-08-13T00:00:00.000000000",
          "2016-08-14T00:00:00.000000000",
          "2016-08-15T00:00:00.000000000",
          "2016-08-16T00:00:00.000000000",
          "2016-08-17T00:00:00.000000000",
          "2016-08-18T00:00:00.000000000",
          "2016-08-19T00:00:00.000000000",
          "2016-08-20T00:00:00.000000000",
          "2016-08-21T00:00:00.000000000",
          "2016-08-22T00:00:00.000000000",
          "2016-08-23T00:00:00.000000000",
          "2016-08-24T00:00:00.000000000",
          "2016-08-25T00:00:00.000000000",
          "2016-08-26T00:00:00.000000000",
          "2016-08-27T00:00:00.000000000",
          "2016-08-28T00:00:00.000000000",
          "2016-08-29T00:00:00.000000000",
          "2016-08-30T00:00:00.000000000",
          "2016-08-31T00:00:00.000000000",
          "2016-09-01T00:00:00.000000000",
          "2016-09-02T00:00:00.000000000",
          "2016-09-03T00:00:00.000000000",
          "2016-09-04T00:00:00.000000000",
          "2016-09-05T00:00:00.000000000",
          "2016-09-06T00:00:00.000000000",
          "2016-09-07T00:00:00.000000000",
          "2016-09-08T00:00:00.000000000",
          "2016-09-09T00:00:00.000000000",
          "2016-09-10T00:00:00.000000000",
          "2016-09-11T00:00:00.000000000",
          "2016-09-12T00:00:00.000000000",
          "2016-09-13T00:00:00.000000000",
          "2016-09-14T00:00:00.000000000",
          "2016-09-15T00:00:00.000000000",
          "2016-09-16T00:00:00.000000000",
          "2016-09-17T00:00:00.000000000",
          "2016-09-18T00:00:00.000000000",
          "2016-09-19T00:00:00.000000000",
          "2016-09-20T00:00:00.000000000",
          "2016-09-21T00:00:00.000000000",
          "2016-09-22T00:00:00.000000000",
          "2016-09-23T00:00:00.000000000",
          "2016-09-24T00:00:00.000000000",
          "2016-09-25T00:00:00.000000000",
          "2016-09-26T00:00:00.000000000",
          "2016-09-27T00:00:00.000000000",
          "2016-09-28T00:00:00.000000000",
          "2016-09-29T00:00:00.000000000",
          "2016-09-30T00:00:00.000000000",
          "2016-10-01T00:00:00.000000000",
          "2016-10-02T00:00:00.000000000",
          "2016-10-03T00:00:00.000000000",
          "2016-10-04T00:00:00.000000000",
          "2016-10-05T00:00:00.000000000",
          "2016-10-06T00:00:00.000000000",
          "2016-10-07T00:00:00.000000000",
          "2016-10-08T00:00:00.000000000",
          "2016-10-09T00:00:00.000000000",
          "2016-10-10T00:00:00.000000000",
          "2016-10-11T00:00:00.000000000",
          "2016-10-12T00:00:00.000000000",
          "2016-10-13T00:00:00.000000000",
          "2016-10-14T00:00:00.000000000",
          "2016-10-15T00:00:00.000000000",
          "2016-10-16T00:00:00.000000000",
          "2016-10-17T00:00:00.000000000",
          "2016-10-18T00:00:00.000000000",
          "2016-10-19T00:00:00.000000000",
          "2016-10-20T00:00:00.000000000",
          "2016-10-21T00:00:00.000000000",
          "2016-10-22T00:00:00.000000000",
          "2016-10-23T00:00:00.000000000",
          "2016-10-24T00:00:00.000000000",
          "2016-10-25T00:00:00.000000000",
          "2016-10-26T00:00:00.000000000",
          "2016-10-27T00:00:00.000000000",
          "2016-10-28T00:00:00.000000000",
          "2016-10-29T00:00:00.000000000",
          "2016-10-30T00:00:00.000000000",
          "2016-10-31T00:00:00.000000000",
          "2016-11-01T00:00:00.000000000",
          "2016-11-02T00:00:00.000000000",
          "2016-11-03T00:00:00.000000000",
          "2016-11-04T00:00:00.000000000",
          "2016-11-05T00:00:00.000000000",
          "2016-11-06T00:00:00.000000000",
          "2016-11-07T00:00:00.000000000",
          "2016-11-08T00:00:00.000000000",
          "2016-11-09T00:00:00.000000000",
          "2016-11-10T00:00:00.000000000",
          "2016-11-11T00:00:00.000000000",
          "2016-11-12T00:00:00.000000000",
          "2016-11-13T00:00:00.000000000",
          "2016-11-14T00:00:00.000000000",
          "2016-11-15T00:00:00.000000000",
          "2016-11-16T00:00:00.000000000",
          "2016-11-17T00:00:00.000000000",
          "2016-11-18T00:00:00.000000000",
          "2016-11-19T00:00:00.000000000",
          "2016-11-20T00:00:00.000000000",
          "2016-11-21T00:00:00.000000000",
          "2016-11-22T00:00:00.000000000",
          "2016-11-23T00:00:00.000000000",
          "2016-11-24T00:00:00.000000000",
          "2016-11-25T00:00:00.000000000",
          "2016-11-26T00:00:00.000000000",
          "2016-11-27T00:00:00.000000000",
          "2016-11-28T00:00:00.000000000",
          "2016-11-29T00:00:00.000000000",
          "2016-11-30T00:00:00.000000000",
          "2016-12-01T00:00:00.000000000",
          "2016-12-02T00:00:00.000000000",
          "2016-12-03T00:00:00.000000000",
          "2016-12-04T00:00:00.000000000",
          "2016-12-05T00:00:00.000000000",
          "2016-12-06T00:00:00.000000000",
          "2016-12-07T00:00:00.000000000",
          "2016-12-08T00:00:00.000000000",
          "2016-12-09T00:00:00.000000000",
          "2016-12-10T00:00:00.000000000",
          "2016-12-11T00:00:00.000000000",
          "2016-12-12T00:00:00.000000000",
          "2016-12-13T00:00:00.000000000",
          "2016-12-14T00:00:00.000000000",
          "2016-12-15T00:00:00.000000000",
          "2016-12-16T00:00:00.000000000",
          "2016-12-17T00:00:00.000000000",
          "2016-12-18T00:00:00.000000000",
          "2016-12-19T00:00:00.000000000",
          "2016-12-20T00:00:00.000000000",
          "2016-12-21T00:00:00.000000000",
          "2016-12-22T00:00:00.000000000",
          "2016-12-23T00:00:00.000000000",
          "2016-12-24T00:00:00.000000000",
          "2016-12-25T00:00:00.000000000",
          "2016-12-26T00:00:00.000000000",
          "2016-12-27T00:00:00.000000000",
          "2016-12-28T00:00:00.000000000",
          "2016-12-29T00:00:00.000000000",
          "2016-12-30T00:00:00.000000000",
          "2016-12-31T00:00:00.000000000",
          "2017-01-01T00:00:00.000000000",
          "2017-01-02T00:00:00.000000000",
          "2017-01-03T00:00:00.000000000",
          "2017-01-04T00:00:00.000000000",
          "2017-01-05T00:00:00.000000000",
          "2017-01-06T00:00:00.000000000",
          "2017-01-07T00:00:00.000000000",
          "2017-01-08T00:00:00.000000000",
          "2017-01-09T00:00:00.000000000",
          "2017-01-10T00:00:00.000000000",
          "2017-01-11T00:00:00.000000000",
          "2017-01-12T00:00:00.000000000",
          "2017-01-13T00:00:00.000000000",
          "2017-01-14T00:00:00.000000000",
          "2017-01-15T00:00:00.000000000",
          "2017-01-16T00:00:00.000000000",
          "2017-01-17T00:00:00.000000000",
          "2017-01-18T00:00:00.000000000",
          "2017-01-19T00:00:00.000000000",
          "2017-01-20T00:00:00.000000000",
          "2017-01-21T00:00:00.000000000",
          "2017-01-22T00:00:00.000000000",
          "2017-01-23T00:00:00.000000000",
          "2017-01-24T00:00:00.000000000",
          "2017-01-25T00:00:00.000000000",
          "2017-01-26T00:00:00.000000000",
          "2017-01-27T00:00:00.000000000",
          "2017-01-28T00:00:00.000000000",
          "2017-01-29T00:00:00.000000000",
          "2017-01-30T00:00:00.000000000",
          "2017-01-31T00:00:00.000000000",
          "2017-02-01T00:00:00.000000000",
          "2017-02-02T00:00:00.000000000",
          "2017-02-03T00:00:00.000000000",
          "2017-02-04T00:00:00.000000000",
          "2017-02-05T00:00:00.000000000",
          "2017-02-06T00:00:00.000000000",
          "2017-02-07T00:00:00.000000000",
          "2017-02-08T00:00:00.000000000",
          "2017-02-09T00:00:00.000000000",
          "2017-02-10T00:00:00.000000000",
          "2017-02-11T00:00:00.000000000",
          "2017-02-12T00:00:00.000000000",
          "2017-02-13T00:00:00.000000000",
          "2017-02-14T00:00:00.000000000",
          "2017-02-15T00:00:00.000000000",
          "2017-02-16T00:00:00.000000000",
          "2017-02-17T00:00:00.000000000",
          "2017-02-18T00:00:00.000000000",
          "2017-02-19T00:00:00.000000000",
          "2017-02-20T00:00:00.000000000",
          "2017-02-21T00:00:00.000000000",
          "2017-02-22T00:00:00.000000000",
          "2017-02-23T00:00:00.000000000",
          "2017-02-24T00:00:00.000000000",
          "2017-02-25T00:00:00.000000000",
          "2017-02-26T00:00:00.000000000",
          "2017-02-27T00:00:00.000000000",
          "2017-02-28T00:00:00.000000000",
          "2017-03-01T00:00:00.000000000",
          "2017-03-02T00:00:00.000000000",
          "2017-03-03T00:00:00.000000000",
          "2017-03-04T00:00:00.000000000",
          "2017-03-05T00:00:00.000000000",
          "2017-03-06T00:00:00.000000000",
          "2017-03-07T00:00:00.000000000",
          "2017-03-08T00:00:00.000000000",
          "2017-03-09T00:00:00.000000000",
          "2017-03-10T00:00:00.000000000",
          "2017-03-11T00:00:00.000000000",
          "2017-03-12T00:00:00.000000000",
          "2017-03-13T00:00:00.000000000",
          "2017-03-14T00:00:00.000000000",
          "2017-03-15T00:00:00.000000000",
          "2017-03-16T00:00:00.000000000",
          "2017-03-17T00:00:00.000000000",
          "2017-03-18T00:00:00.000000000",
          "2017-03-19T00:00:00.000000000",
          "2017-03-20T00:00:00.000000000",
          "2017-03-21T00:00:00.000000000",
          "2017-03-22T00:00:00.000000000",
          "2017-03-23T00:00:00.000000000",
          "2017-03-24T00:00:00.000000000",
          "2017-03-25T00:00:00.000000000",
          "2017-03-26T00:00:00.000000000",
          "2017-03-27T00:00:00.000000000",
          "2017-03-28T00:00:00.000000000",
          "2017-03-29T00:00:00.000000000",
          "2017-03-30T00:00:00.000000000",
          "2017-03-31T00:00:00.000000000",
          "2017-04-01T00:00:00.000000000",
          "2017-04-02T00:00:00.000000000",
          "2017-04-03T00:00:00.000000000",
          "2017-04-04T00:00:00.000000000",
          "2017-04-05T00:00:00.000000000",
          "2017-04-06T00:00:00.000000000",
          "2017-04-07T00:00:00.000000000",
          "2017-04-08T00:00:00.000000000",
          "2017-04-09T00:00:00.000000000",
          "2017-04-10T00:00:00.000000000",
          "2017-04-11T00:00:00.000000000",
          "2017-04-12T00:00:00.000000000",
          "2017-04-13T00:00:00.000000000",
          "2017-04-14T00:00:00.000000000",
          "2017-04-15T00:00:00.000000000",
          "2017-04-16T00:00:00.000000000",
          "2017-04-17T00:00:00.000000000",
          "2017-04-18T00:00:00.000000000",
          "2017-04-19T00:00:00.000000000",
          "2017-04-20T00:00:00.000000000",
          "2017-04-21T00:00:00.000000000",
          "2017-04-22T00:00:00.000000000",
          "2017-04-23T00:00:00.000000000",
          "2017-04-24T00:00:00.000000000",
          "2017-04-25T00:00:00.000000000",
          "2017-04-26T00:00:00.000000000",
          "2017-04-27T00:00:00.000000000",
          "2017-04-28T00:00:00.000000000",
          "2017-04-29T00:00:00.000000000",
          "2017-04-30T00:00:00.000000000",
          "2017-05-01T00:00:00.000000000",
          "2017-05-02T00:00:00.000000000",
          "2017-05-03T00:00:00.000000000",
          "2017-05-04T00:00:00.000000000",
          "2017-05-05T00:00:00.000000000",
          "2017-05-06T00:00:00.000000000",
          "2017-05-07T00:00:00.000000000",
          "2017-05-08T00:00:00.000000000",
          "2017-05-09T00:00:00.000000000",
          "2017-05-10T00:00:00.000000000",
          "2017-05-11T00:00:00.000000000",
          "2017-05-12T00:00:00.000000000",
          "2017-05-13T00:00:00.000000000",
          "2017-05-14T00:00:00.000000000",
          "2017-05-15T00:00:00.000000000",
          "2017-05-16T00:00:00.000000000",
          "2017-05-17T00:00:00.000000000",
          "2017-05-18T00:00:00.000000000",
          "2017-05-19T00:00:00.000000000",
          "2017-05-20T00:00:00.000000000",
          "2017-05-21T00:00:00.000000000",
          "2017-05-22T00:00:00.000000000",
          "2017-05-23T00:00:00.000000000",
          "2017-05-24T00:00:00.000000000",
          "2017-05-25T00:00:00.000000000",
          "2017-05-26T00:00:00.000000000",
          "2017-05-27T00:00:00.000000000",
          "2017-05-28T00:00:00.000000000",
          "2017-05-29T00:00:00.000000000",
          "2017-05-30T00:00:00.000000000",
          "2017-05-31T00:00:00.000000000",
          "2017-06-01T00:00:00.000000000",
          "2017-06-02T00:00:00.000000000",
          "2017-06-03T00:00:00.000000000",
          "2017-06-04T00:00:00.000000000",
          "2017-06-05T00:00:00.000000000",
          "2017-06-06T00:00:00.000000000",
          "2017-06-07T00:00:00.000000000",
          "2017-06-08T00:00:00.000000000",
          "2017-06-09T00:00:00.000000000",
          "2017-06-10T00:00:00.000000000",
          "2017-06-11T00:00:00.000000000",
          "2017-06-12T00:00:00.000000000",
          "2017-06-13T00:00:00.000000000",
          "2017-06-14T00:00:00.000000000",
          "2017-06-15T00:00:00.000000000",
          "2017-06-16T00:00:00.000000000",
          "2017-06-17T00:00:00.000000000",
          "2017-06-18T00:00:00.000000000",
          "2017-06-19T00:00:00.000000000",
          "2017-06-20T00:00:00.000000000",
          "2017-06-21T00:00:00.000000000",
          "2017-06-22T00:00:00.000000000",
          "2017-06-23T00:00:00.000000000",
          "2017-06-24T00:00:00.000000000",
          "2017-06-25T00:00:00.000000000",
          "2017-06-26T00:00:00.000000000",
          "2017-06-27T00:00:00.000000000",
          "2017-06-28T00:00:00.000000000",
          "2017-06-29T00:00:00.000000000",
          "2017-06-30T00:00:00.000000000",
          "2017-07-01T00:00:00.000000000",
          "2017-07-02T00:00:00.000000000",
          "2017-07-03T00:00:00.000000000",
          "2017-07-04T00:00:00.000000000",
          "2017-07-05T00:00:00.000000000",
          "2017-07-06T00:00:00.000000000",
          "2017-07-07T00:00:00.000000000",
          "2017-07-08T00:00:00.000000000",
          "2017-07-09T00:00:00.000000000",
          "2017-07-10T00:00:00.000000000",
          "2017-07-11T00:00:00.000000000",
          "2017-07-12T00:00:00.000000000",
          "2017-07-13T00:00:00.000000000",
          "2017-07-14T00:00:00.000000000",
          "2017-07-15T00:00:00.000000000",
          "2017-07-16T00:00:00.000000000",
          "2017-07-17T00:00:00.000000000",
          "2017-07-18T00:00:00.000000000",
          "2017-07-19T00:00:00.000000000",
          "2017-07-20T00:00:00.000000000",
          "2017-07-21T00:00:00.000000000",
          "2017-07-22T00:00:00.000000000",
          "2017-07-23T00:00:00.000000000",
          "2017-07-24T00:00:00.000000000",
          "2017-07-25T00:00:00.000000000",
          "2017-07-26T00:00:00.000000000",
          "2017-07-27T00:00:00.000000000",
          "2017-07-28T00:00:00.000000000",
          "2017-07-29T00:00:00.000000000",
          "2017-07-30T00:00:00.000000000",
          "2017-07-31T00:00:00.000000000"
         ]
        }
       ],
       "layout": {
        "template": {
         "data": {
          "bar": [
           {
            "error_x": {
             "color": "#2a3f5f"
            },
            "error_y": {
             "color": "#2a3f5f"
            },
            "marker": {
             "line": {
              "color": "#E5ECF6",
              "width": 0.5
             },
             "pattern": {
              "fillmode": "overlay",
              "size": 10,
              "solidity": 0.2
             }
            },
            "type": "bar"
           }
          ],
          "barpolar": [
           {
            "marker": {
             "line": {
              "color": "#E5ECF6",
              "width": 0.5
             },
             "pattern": {
              "fillmode": "overlay",
              "size": 10,
              "solidity": 0.2
             }
            },
            "type": "barpolar"
           }
          ],
          "carpet": [
           {
            "aaxis": {
             "endlinecolor": "#2a3f5f",
             "gridcolor": "white",
             "linecolor": "white",
             "minorgridcolor": "white",
             "startlinecolor": "#2a3f5f"
            },
            "baxis": {
             "endlinecolor": "#2a3f5f",
             "gridcolor": "white",
             "linecolor": "white",
             "minorgridcolor": "white",
             "startlinecolor": "#2a3f5f"
            },
            "type": "carpet"
           }
          ],
          "choropleth": [
           {
            "colorbar": {
             "outlinewidth": 0,
             "ticks": ""
            },
            "type": "choropleth"
           }
          ],
          "contour": [
           {
            "colorbar": {
             "outlinewidth": 0,
             "ticks": ""
            },
            "colorscale": [
             [
              0,
              "#0d0887"
             ],
             [
              0.1111111111111111,
              "#46039f"
             ],
             [
              0.2222222222222222,
              "#7201a8"
             ],
             [
              0.3333333333333333,
              "#9c179e"
             ],
             [
              0.4444444444444444,
              "#bd3786"
             ],
             [
              0.5555555555555556,
              "#d8576b"
             ],
             [
              0.6666666666666666,
              "#ed7953"
             ],
             [
              0.7777777777777778,
              "#fb9f3a"
             ],
             [
              0.8888888888888888,
              "#fdca26"
             ],
             [
              1,
              "#f0f921"
             ]
            ],
            "type": "contour"
           }
          ],
          "contourcarpet": [
           {
            "colorbar": {
             "outlinewidth": 0,
             "ticks": ""
            },
            "type": "contourcarpet"
           }
          ],
          "heatmap": [
           {
            "colorbar": {
             "outlinewidth": 0,
             "ticks": ""
            },
            "colorscale": [
             [
              0,
              "#0d0887"
             ],
             [
              0.1111111111111111,
              "#46039f"
             ],
             [
              0.2222222222222222,
              "#7201a8"
             ],
             [
              0.3333333333333333,
              "#9c179e"
             ],
             [
              0.4444444444444444,
              "#bd3786"
             ],
             [
              0.5555555555555556,
              "#d8576b"
             ],
             [
              0.6666666666666666,
              "#ed7953"
             ],
             [
              0.7777777777777778,
              "#fb9f3a"
             ],
             [
              0.8888888888888888,
              "#fdca26"
             ],
             [
              1,
              "#f0f921"
             ]
            ],
            "type": "heatmap"
           }
          ],
          "histogram": [
           {
            "marker": {
             "pattern": {
              "fillmode": "overlay",
              "size": 10,
              "solidity": 0.2
             }
            },
            "type": "histogram"
           }
          ],
          "histogram2d": [
           {
            "colorbar": {
             "outlinewidth": 0,
             "ticks": ""
            },
            "colorscale": [
             [
              0,
              "#0d0887"
             ],
             [
              0.1111111111111111,
              "#46039f"
             ],
             [
              0.2222222222222222,
              "#7201a8"
             ],
             [
              0.3333333333333333,
              "#9c179e"
             ],
             [
              0.4444444444444444,
              "#bd3786"
             ],
             [
              0.5555555555555556,
              "#d8576b"
             ],
             [
              0.6666666666666666,
              "#ed7953"
             ],
             [
              0.7777777777777778,
              "#fb9f3a"
             ],
             [
              0.8888888888888888,
              "#fdca26"
             ],
             [
              1,
              "#f0f921"
             ]
            ],
            "type": "histogram2d"
           }
          ],
          "histogram2dcontour": [
           {
            "colorbar": {
             "outlinewidth": 0,
             "ticks": ""
            },
            "colorscale": [
             [
              0,
              "#0d0887"
             ],
             [
              0.1111111111111111,
              "#46039f"
             ],
             [
              0.2222222222222222,
              "#7201a8"
             ],
             [
              0.3333333333333333,
              "#9c179e"
             ],
             [
              0.4444444444444444,
              "#bd3786"
             ],
             [
              0.5555555555555556,
              "#d8576b"
             ],
             [
              0.6666666666666666,
              "#ed7953"
             ],
             [
              0.7777777777777778,
              "#fb9f3a"
             ],
             [
              0.8888888888888888,
              "#fdca26"
             ],
             [
              1,
              "#f0f921"
             ]
            ],
            "type": "histogram2dcontour"
           }
          ],
          "mesh3d": [
           {
            "colorbar": {
             "outlinewidth": 0,
             "ticks": ""
            },
            "type": "mesh3d"
           }
          ],
          "parcoords": [
           {
            "line": {
             "colorbar": {
              "outlinewidth": 0,
              "ticks": ""
             }
            },
            "type": "parcoords"
           }
          ],
          "pie": [
           {
            "automargin": true,
            "type": "pie"
           }
          ],
          "scatter": [
           {
            "fillpattern": {
             "fillmode": "overlay",
             "size": 10,
             "solidity": 0.2
            },
            "type": "scatter"
           }
          ],
          "scatter3d": [
           {
            "line": {
             "colorbar": {
              "outlinewidth": 0,
              "ticks": ""
             }
            },
            "marker": {
             "colorbar": {
              "outlinewidth": 0,
              "ticks": ""
             }
            },
            "type": "scatter3d"
           }
          ],
          "scattercarpet": [
           {
            "marker": {
             "colorbar": {
              "outlinewidth": 0,
              "ticks": ""
             }
            },
            "type": "scattercarpet"
           }
          ],
          "scattergeo": [
           {
            "marker": {
             "colorbar": {
              "outlinewidth": 0,
              "ticks": ""
             }
            },
            "type": "scattergeo"
           }
          ],
          "scattergl": [
           {
            "marker": {
             "colorbar": {
              "outlinewidth": 0,
              "ticks": ""
             }
            },
            "type": "scattergl"
           }
          ],
          "scattermap": [
           {
            "marker": {
             "colorbar": {
              "outlinewidth": 0,
              "ticks": ""
             }
            },
            "type": "scattermap"
           }
          ],
          "scattermapbox": [
           {
            "marker": {
             "colorbar": {
              "outlinewidth": 0,
              "ticks": ""
             }
            },
            "type": "scattermapbox"
           }
          ],
          "scatterpolar": [
           {
            "marker": {
             "colorbar": {
              "outlinewidth": 0,
              "ticks": ""
             }
            },
            "type": "scatterpolar"
           }
          ],
          "scatterpolargl": [
           {
            "marker": {
             "colorbar": {
              "outlinewidth": 0,
              "ticks": ""
             }
            },
            "type": "scatterpolargl"
           }
          ],
          "scatterternary": [
           {
            "marker": {
             "colorbar": {
              "outlinewidth": 0,
              "ticks": ""
             }
            },
            "type": "scatterternary"
           }
          ],
          "surface": [
           {
            "colorbar": {
             "outlinewidth": 0,
             "ticks": ""
            },
            "colorscale": [
             [
              0,
              "#0d0887"
             ],
             [
              0.1111111111111111,
              "#46039f"
             ],
             [
              0.2222222222222222,
              "#7201a8"
             ],
             [
              0.3333333333333333,
              "#9c179e"
             ],
             [
              0.4444444444444444,
              "#bd3786"
             ],
             [
              0.5555555555555556,
              "#d8576b"
             ],
             [
              0.6666666666666666,
              "#ed7953"
             ],
             [
              0.7777777777777778,
              "#fb9f3a"
             ],
             [
              0.8888888888888888,
              "#fdca26"
             ],
             [
              1,
              "#f0f921"
             ]
            ],
            "type": "surface"
           }
          ],
          "table": [
           {
            "cells": {
             "fill": {
              "color": "#EBF0F8"
             },
             "line": {
              "color": "white"
             }
            },
            "header": {
             "fill": {
              "color": "#C8D4E3"
             },
             "line": {
              "color": "white"
             }
            },
            "type": "table"
           }
          ]
         },
         "layout": {
          "annotationdefaults": {
           "arrowcolor": "#2a3f5f",
           "arrowhead": 0,
           "arrowwidth": 1
          },
          "autotypenumbers": "strict",
          "coloraxis": {
           "colorbar": {
            "outlinewidth": 0,
            "ticks": ""
           }
          },
          "colorscale": {
           "diverging": [
            [
             0,
             "#8e0152"
            ],
            [
             0.1,
             "#c51b7d"
            ],
            [
             0.2,
             "#de77ae"
            ],
            [
             0.3,
             "#f1b6da"
            ],
            [
             0.4,
             "#fde0ef"
            ],
            [
             0.5,
             "#f7f7f7"
            ],
            [
             0.6,
             "#e6f5d0"
            ],
            [
             0.7,
             "#b8e186"
            ],
            [
             0.8,
             "#7fbc41"
            ],
            [
             0.9,
             "#4d9221"
            ],
            [
             1,
             "#276419"
            ]
           ],
           "sequential": [
            [
             0,
             "#0d0887"
            ],
            [
             0.1111111111111111,
             "#46039f"
            ],
            [
             0.2222222222222222,
             "#7201a8"
            ],
            [
             0.3333333333333333,
             "#9c179e"
            ],
            [
             0.4444444444444444,
             "#bd3786"
            ],
            [
             0.5555555555555556,
             "#d8576b"
            ],
            [
             0.6666666666666666,
             "#ed7953"
            ],
            [
             0.7777777777777778,
             "#fb9f3a"
            ],
            [
             0.8888888888888888,
             "#fdca26"
            ],
            [
             1,
             "#f0f921"
            ]
           ],
           "sequentialminus": [
            [
             0,
             "#0d0887"
            ],
            [
             0.1111111111111111,
             "#46039f"
            ],
            [
             0.2222222222222222,
             "#7201a8"
            ],
            [
             0.3333333333333333,
             "#9c179e"
            ],
            [
             0.4444444444444444,
             "#bd3786"
            ],
            [
             0.5555555555555556,
             "#d8576b"
            ],
            [
             0.6666666666666666,
             "#ed7953"
            ],
            [
             0.7777777777777778,
             "#fb9f3a"
            ],
            [
             0.8888888888888888,
             "#fdca26"
            ],
            [
             1,
             "#f0f921"
            ]
           ]
          },
          "colorway": [
           "#636efa",
           "#EF553B",
           "#00cc96",
           "#ab63fa",
           "#FFA15A",
           "#19d3f3",
           "#FF6692",
           "#B6E880",
           "#FF97FF",
           "#FECB52"
          ],
          "font": {
           "color": "#2a3f5f"
          },
          "geo": {
           "bgcolor": "white",
           "lakecolor": "white",
           "landcolor": "#E5ECF6",
           "showlakes": true,
           "showland": true,
           "subunitcolor": "white"
          },
          "hoverlabel": {
           "align": "left"
          },
          "hovermode": "closest",
          "mapbox": {
           "style": "light"
          },
          "paper_bgcolor": "white",
          "plot_bgcolor": "#E5ECF6",
          "polar": {
           "angularaxis": {
            "gridcolor": "white",
            "linecolor": "white",
            "ticks": ""
           },
           "bgcolor": "#E5ECF6",
           "radialaxis": {
            "gridcolor": "white",
            "linecolor": "white",
            "ticks": ""
           }
          },
          "scene": {
           "xaxis": {
            "backgroundcolor": "#E5ECF6",
            "gridcolor": "white",
            "gridwidth": 2,
            "linecolor": "white",
            "showbackground": true,
            "ticks": "",
            "zerolinecolor": "white"
           },
           "yaxis": {
            "backgroundcolor": "#E5ECF6",
            "gridcolor": "white",
            "gridwidth": 2,
            "linecolor": "white",
            "showbackground": true,
            "ticks": "",
            "zerolinecolor": "white"
           },
           "zaxis": {
            "backgroundcolor": "#E5ECF6",
            "gridcolor": "white",
            "gridwidth": 2,
            "linecolor": "white",
            "showbackground": true,
            "ticks": "",
            "zerolinecolor": "white"
           }
          },
          "shapedefaults": {
           "line": {
            "color": "#2a3f5f"
           }
          },
          "ternary": {
           "aaxis": {
            "gridcolor": "white",
            "linecolor": "white",
            "ticks": ""
           },
           "baxis": {
            "gridcolor": "white",
            "linecolor": "white",
            "ticks": ""
           },
           "bgcolor": "#E5ECF6",
           "caxis": {
            "gridcolor": "white",
            "linecolor": "white",
            "ticks": ""
           }
          },
          "title": {
           "x": 0.05
          },
          "xaxis": {
           "automargin": true,
           "gridcolor": "white",
           "linecolor": "white",
           "ticks": "",
           "title": {
            "standoff": 15
           },
           "zerolinecolor": "white",
           "zerolinewidth": 2
          },
          "yaxis": {
           "automargin": true,
           "gridcolor": "white",
           "linecolor": "white",
           "ticks": "",
           "title": {
            "standoff": 15
           },
           "zerolinecolor": "white",
           "zerolinewidth": 2
          }
         }
        }
       }
      },
      "text/html": [
       "<div>            <script src=\"https://cdnjs.cloudflare.com/ajax/libs/mathjax/2.7.5/MathJax.js?config=TeX-AMS-MML_SVG\"></script><script type=\"text/javascript\">if (window.MathJax && window.MathJax.Hub && window.MathJax.Hub.Config) {window.MathJax.Hub.Config({SVG: {font: \"STIX-Web\"}});}</script>                <script type=\"text/javascript\">window.PlotlyConfig = {MathJaxConfig: 'local'};</script>\n",
       "        <script charset=\"utf-8\" src=\"https://cdn.plot.ly/plotly-3.0.0.min.js\"></script>                <div id=\"a5759d3a-aedc-4983-a6fe-bf12d86e58e0\" class=\"plotly-graph-div\" style=\"height:525px; width:100%;\"></div>            <script type=\"text/javascript\">                window.PLOTLYENV=window.PLOTLYENV || {};                                if (document.getElementById(\"a5759d3a-aedc-4983-a6fe-bf12d86e58e0\")) {                    Plotly.newPlot(                        \"a5759d3a-aedc-4983-a6fe-bf12d86e58e0\",                        [{\"close\":{\"dtype\":\"f8\",\"bdata\":\"H4XrUbjGYEDhehSuRxFiQAAAAAAAYGFAj8L1KFw\\u002fXUA9CtejcE1aQAAAAAAAcFhAAAAAAAAgXEAK16NwPfpcQDMzMzMzE1xAAAAAAADgW0AUrkfhemRcQHsUrkfhKlxAzczMzMxMXUCPwvUoXM9cQAAAAAAAwFxAH4XrUbh+XUAAAAAAAOBbQK5H4XoUjlxAcT0K16OwXUDhehSuR8FeQAAAAAAA4F5Aj8L1KFx\\u002fXkAAAAAAAIBeQLgehetRuF5AKVyPwvX4XkDNzMzMzKxfQGZmZmZmpmBAj8L1KFx\\u002fYECPwvUoXK9gQAAAAAAAOGBAAAAAAAAgYECamZmZmYlgQJqZmZmZGWBAAAAAAAAgYECamZmZmSlgQMP1KFyPkl5ArkfhehSOXkB7FK5H4VpeQJqZmZmZaV5AAAAAAACAXUAAAAAAAOBbQDMzMzMzE1tAAAAAAAAAWUBmZmZmZpZaQJqZmZmZOVtAmpmZmZkJW0AAAAAAAABaQB+F61G4\\u002flhAj8L1KFz\\u002fWEBxPQrXo+BYQM3MzMzMbFlAmpmZmZnZWkAAAAAAABBbQJqZmZmZiVtAAAAAAABgW0AzMzMzMxNbQGZmZmZm5lpAj8L1KFyvWUDNzMzMzPxZQAAAAAAAAFpAXI\\u002fC9ShcWUCamZmZmalXQI\\u002fC9Shcv1dA16NwPQonWEAzMzMzMwNWQLgehetRiFZAUrgehethU0BSuB6F6yFUQOxRuB6FG1FAUrgeheuRUUCkcD0K16NSQOF6FK5HIVNAXI\\u002fC9SgsU0BxPQrXo7BVQB+F61G4PlZA9ihcj8JlV0C4HoXrUYhYQFyPwvUorFdAmpmZmZmZWEDNzMzMzFxYQAAAAAAAoFhAhetRuB6lVkB7FK5H4QpXQClcj8L1WFZAcT0K16OwVkDXo3A9CudWQKRwPQrX41dAcT0K16OgV0CamZmZmTlYQOF6FK5HAVhASOF6FK6HV0BxPQrXo\\u002fBYQM3MzMzMTFlAj8L1KFz\\u002fWkD2KFyPwoVaQAAAAAAAAFpAAAAAAAAgWkAAAAAAAABaQClcj8L1SFpArkfhehSOWkAAAAAAALBaQAAAAAAAsFpAAAAAAADAWUAzMzMzM7NZQAAAAAAAwFlAAAAAAABAWkApXI\\u002fC9ahaQAAAAAAAQFtApHA9CtcjXECPwvUoXH9bQI\\u002fC9ShcP1tAAAAAAABgXEAAAAAAAGBcQAAAAAAAwF1AzczMzMxMXkAzMzMzM9NeQJqZmZmZSV5AAAAAAACgXUAzMzMzMwNeQNejcD0Kh15ApHA9CtcDXkAAAAAAAKBfQEjhehSup15AKVyPwvWYXkBI4XoUrq9gQDMzMzMz62BAexSuR+FKYUAzMzMzM\\u002ftgQHE9CtejGGFAj8L1KFyvX0DsUbgehZtfQJqZmZmZyV1AmpmZmZkJX0AK16NwPWpeQNejcD0Kx19ACtejcD16X0AAAAAAAOhgQFyPwvUopGBAj8L1KFzfYEDXo3A9CidgQKRwPQrXS2BA16NwPQp3YECF61G4HnVgQNejcD0Kb2BAzczMzMw0YEDD9Shcj8JfQOxRuB6F219ApHA9CtcjYEDNzMzMzHxfQAAAAAAA0F9A16NwPQoHYEBcj8L1KAxgQClcj8L1uGBAKVyPwvXYYEB7FK5H4SphQAAAAAAAoGBA9ihcj8KFYEC4HoXrUYhcQLgehetR6F5AuB6F61EgYECamZmZmRFgQAAAAAAAIGBAXI\\u002fC9Si8X0AAAAAAAIBfQK5H4XoUVmBAexSuR+FSYEDNzMzMzFxgQK5H4XoU5mBAXI\\u002fC9ShEYUBxPQrXo5BhQEjhehSuJ2JAmpmZmZnRYUAAAAAAAEhiQB+F61G4fmNAPQrXo3CNZUDsUbgehdNlQB+F61G4xmZAuB6F61E4aECkcD0K17NqQI\\u002fC9Shcx2hArkfhehRWZ0AK16NwPSpmQK5H4XoUjmhAmpmZmZnRaEAUrkfheoxpQNejcD0K\\u002f2hAAAAAAACAaUD2KFyPwsVpQNejcD0Kx2lAmpmZmZnhakAzMzMzM6NsQEjhehSup25AAAAAAABocEDD9Shcj4ZyQPYoXI\\u002fCIXVA9ihcj8IxdUBSuB6F62l0QNejcD0KZ3VA4XoUrkeFdkBSuB6F63V5QDMzMzMzQ3pAMzMzMzMfekDsUbgehYN7QPYoXI\\u002fCwX5AFK5H4Xr8hUB7FK5H4USCQHE9CtejdoJAPQrXo3CThkDsUbgehRuIQMP1KFyP7ohAAAAAAAAyiEB7FK5H4fiIQM3MzMzMAI1ASOF6FK5Pj0DNzMzMzB+QQHsUrkfhr5FAH4XrUbilkUDNzMzMzN6NQLgehetRTZBAhetRuB7ZkEBI4XoUrvyRQD0K16NwVJBAmpmZmZnriUCkcD0K19GFQClcj8L13ohA7FG4HoXpi0CuR+F6FOSOQKRwPQrXc4tArkfhehRKi0BxPQrXo+SLQM3MzMzMRItAKVyPwvVgi0D2KFyPwg+GQClcj8L1UIVAmpmZmZlVgEBI4XoUrp+FQMP1KFyPioNA4XoUrkftgkA9CtejcEmDQOF6FK5HC4VAcT0K16PMhEBI4XoUrlGFQKRwPQrXz4dAw\\u002fUoXI\\u002f4hkBxPQrXo76GQGZmZmZmSIdA16NwPQqhh0CuR+F6FJCHQDMzMzMzG4hAhetRuB4TiUD2KFyPwpWJQK5H4XoU3IpACtejcD0sjUC4HoXrUcqNQAAAAAAAEIlA9ihcj8JVikB7FK5H4XaKQKRwPQrXI4tAmpmZmZmPjED2KFyPwvmKQJqZmZmZSYpAXI\\u002fC9SgKikAzMzMzM+eKQNejcD0KHYpAhetRuB51iUAAAAAAAECKQEjhehSuN4tAmpmZmZkxi0DhehSuR\\u002f+KQB+F61G4bIpAuB6F61GwiUDD9Shcj+iIQHsUrkfhrIpACtejcD2qi0CF61G4HhuIQK5H4XoUZIlAAAAAAADQiUAK16NwPZiJQI\\u002fC9Shc74lAcT0K16MEikApXI\\u002fC9cqJQHE9CtejvolASOF6FK7fiUDhehSuR1+JQGZmZmZmbIhAMzMzMzNDhkCPwvUoXA+FQDMzMzMzV4VACtejcD1IhUCPwvUoXAGFQPYoXI\\u002fCXYRAUrgehevpgkBSuB6F66+EQI\\u002fC9ShcV4RA16NwPQpFg0Bcj8L1KJKDQM3MzMzMlINACtejcD14g0CF61G4HmGBQOF6FK5H8YFAj8L1KFzrgkDD9Shcj+6CQMP1KFyPEoFASOF6FK7VgEDsUbgehTWCQFyPwvUoFoJArkfhehQqgUB7FK5H4ayBQLgehetRfoFArkfhehTehEAK16NwPdaEQK5H4XoUzIRAexSuR+G+hEAzMzMzM6mDQJqZmZmZS4NASOF6FK7ng0C4HoXrUZ6DQHsUrkfh0INAzczMzMzAg0CF61G4HvGDQGZmZmZmpoNAKVyPwvXgg0B7FK5H4biDQClcj8L1coNAcT0K16M2g0CF61G4Hg+DQFyPwvUoZoJAUrgehevbgUC4HoXrUaiBQFyPwvUoioFA4XoUrkc7gkCPwvUoXD+CQHE9CtejJoJApHA9CtdzfUAfhetRuPp+QB+F61G4sn5AuB6F61HEfEAAAAAAAJB8QK5H4XoU5n1ACtejcD1Se0DsUbgehct7QBSuR+F6+HtAw\\u002fUoXI\\u002fefEAAAAAAAMh8QB+F61G4FnxAPQrXo3BRfEBI4XoUrqt7QHsUrkfh0nZAMzMzMzNPekBSuB6F61F6QClcj8L14HlAcT0K16OsfEAfhetRuByAQIXrUbgee4BAj8L1KFz\\u002ffkAK16NwPfp9QClcj8L1WH9AH4XrUbgif0C4HoXrUfx+QB+F61G4fn5AzczMzMy0fkCPwvUoXEd\\u002fQDMzMzMz13xAmpmZmZmpfEAK16NwPUZ7QHE9CtejhHtAj8L1KFzze0AK16NwPfp7QFyPwvUonHxArkfhehQWfEBcj8L1KFx7QGZmZmZmRntASOF6FK4Xe0CPwvUoXM96QIXrUbgebXtAH4XrUbiCe0CPwvUoXBd8QHsUrkfhZnxACtejcD1ue0CPwvUoXJd7QB+F61G4intA7FG4HoW\\u002fe0AAAAAAAPR7QClcj8L1AHxAZmZmZmYOfEBcj8L1KOR7QHsUrkfh4ntA7FG4HoVbfkC4HoXrUbx+QHE9CtejZIBA9ihcj8JBgECF61G4HmmAQB+F61G43IFAj8L1KFw7gkBSuB6F69mBQBSuR+F6CIJAPQrXo3DBgUBxPQrXozqDQD0K16NwfYNApHA9Ctexg0ApXI\\u002fC9aSEQHsUrkfh3IRAexSuR+EMhECuR+F6FJqEQJqZmZmZbYRA9ihcj8J3hECF61G4HoGEQOF6FK5HSYRAMzMzMzNphEBcj8L1KMiDQJqZmZmZV4JA4XoUrkfBgkB7FK5H4QqCQOxRuB6Fh4JA7FG4HoWBgkB7FK5H4RaDQEjhehSu\\u002f4JAw\\u002fUoXI+wgkAzMzMzM5GCQFK4HoXrl4JAXI\\u002fC9SjSgkCkcD0K14+CQHsUrkfhMoJAH4XrUbiygUCF61G4HimCQK5H4XoUqoJAZmZmZmakgkD2KFyPwtWCQGZmZmZm\\u002foNAFK5H4XoGhEDXo3A9CleEQOF6FK5HKYRA7FG4HoW1g0BI4XoUrruDQBSuR+F63oNAH4XrUbiAg0DD9Shcj4aDQK5H4XoUhINArkfhehRGg0AAAAAAAMCDQEjhehSuzYNAAAAAAACUg0DD9Shcj1qDQB+F61G4bINAZmZmZmZGg0AfhetRuHiDQArXo3A9poNArkfhehSkg0AzMzMzM3+DQEjhehSucYNAZmZmZmZsg0DhehSuR1uDQKRwPQrXzYJAH4XrUbjIgkAUrkfhep6CQM3MzMzMjoJA7FG4HoVNgkCkcD0K10WCQLgehetRuoFAUrgehetRgkCPwvUoXJeCQHE9CtejaoJAj8L1KFxVgkAK16NwPWaCQOxRuB6FS4JAMzMzMzNFgkApXI\\u002fC9WaCQHE9CtejhIJAKVyPwvVqgkAUrkfheniCQClcj8L1AoJAhetRuB7NgUDhehSuRxWBQOxRuB6Fn39AXI\\u002fC9SgQf0BI4XoUrj2AQM3MzMzMvH5Aj8L1KFzXfEAAAAAAAFR+QEjhehSu\\u002f39AUrgehespgEC4HoXrURCAQIXrUbgeIX9AcT0K16PEf0AAAAAAAGh\\u002fQIXrUbge+X9AZmZmZmbyf0ApXI\\u002fC9bx\\u002fQLgehetRyH9AAAAAAACEf0Bcj8L1KNx9QK5H4XoUrn1AexSuR+HWfUA9CtejcNl9QMP1KFyPmn5APQrXo3A1fkDhehSuR01+QBSuR+F6JH5AmpmZmZmpfUBcj8L1KLR9QPYoXI\\u002fC9X1AAAAAAAD8fUAAAAAAANx9QAAAAAAA8H1ACtejcD3efUBSuB6F67V9QClcj8L1IH1A4XoUrkeVfEDXo3A9Cod6QM3MzMzMrHhAZmZmZmaOeUCF61G4Hu14QGZmZmZmInlAcT0K16M8e0AzMzMzM3N6QIXrUbgeuXlAexSuR+FGeUC4HoXrUfh4QHsUrkfhkndA7FG4HoV3d0DXo3A9Ci94QFK4HoXr+XdAhetRuB5xd0Bcj8L1KHh2QFK4HoXrjXRAXI\\u002fC9SgIdEDhehSuR6F0QNejcD0KA3VA16NwPQoPdkAUrkfhetB2QClcj8L1mHZAzczMzMykdkDNzMzMzKh3QMP1KFyPZnhAUrgehesNeUC4HoXrUax4QClcj8L16HdAXI\\u002fC9Sj8d0DXo3A9Cnd4QM3MzMzMWHhAmpmZmZntd0BI4XoUrid4QMP1KFyP8ndAH4XrUbhmdkCamZmZmWV2QLgehetRtHVAMzMzMzMrdkCkcD0K1w92QFK4HoXrWXZAPQrXo3D5dEApXI\\u002fC9ZR1QIXrUbgeJXVAAAAAAABcdEAK16NwPV50QM3MzMzMeHRApHA9CtendECkcD0K1zd1QHE9Ctej1HVAH4XrUbhmdUCkcD0K15d1QFyPwvUotHZAH4XrUbjudkDXo3A9Cvt2QClcj8L1eHpApHA9CtdLekCF61G4Ht14QK5H4XoUgndArkfhehQ+eEDD9ShcjzZ4QDMzMzMzc3dAKVyPwvXId0A9CtejcF12QJqZmZmZ7XVAH4XrUbgOdkCF61G4Hvl2QGZmZmZmjndAmpmZmZl1d0BSuB6F6wV3QB+F61G4GndAMzMzMzOHd0CkcD0K13d3QM3MzMzMoHdAAAAAAAC0d0ApXI\\u002fC9dR3QFyPwvUocHdAmpmZmZkZd0CamZmZmY13QHE9CtejbHdAmpmZmZlxd0DD9Shcj552QOxRuB6FA3ZAUrgeheuldUBcj8L1KOh1QHE9CtejCHZArkfhehS2dUCuR+F6FPp1QJqZmZmZlXVAKVyPwvVwdEAUrkfhevxzQGZmZmZmdnNAPQrXo3Ddc0CPwvUoXJ90QD0K16NwDXRACtejcD2+dECF61G4Hul0QBSuR+F6KHRAXI\\u002fC9Sjwc0AfhetRuH50QPYoXI\\u002fCvXNApHA9CtfTc0AfhetRuIpzQKRwPQrXa3NA16NwPQoDdEAAAAAAAKRzQBSuR+F6sHNA4XoUrkeRcUDXo3A9CoNwQOxRuB6FJ3FA16NwPQrjcUA9CtejcGVyQJqZmZmZtXFAw\\u002fUoXI8mckDNzMzMzCxxQMP1KFyPmnBAzczMzMy8cEDsUbgehTtsQDMzMzMzQ2ZAexSuR+E6akAzMzMzMwNqQLgehetR6GhAexSuR+FKakDsUbgehdtqQFK4HoXraWpAzczMzMxcbECF61G4Hi1tQFyPwvUoHG1AMzMzMzP7bkDXo3A9CrdvQOxRuB6FF3FASOF6FK53cECF61G4Hj1tQLgehetRMG1A9ihcj8JNbEAfhetRuC5rQNejcD0KX2xAj8L1KFzHbUBxPQrXo2hsQDMzMzMzW2xA7FG4HoUja0BxPQrXo8hrQAAAAAAAeGxAhetRuB7ta0DsUbgehYNrQHsUrkfhemtArkfhehRma0C4HoXrUbhrQPYoXI\\u002fCbW1AhetRuB4VcEAK16NwPVptQHsUrkfhOm1A7FG4HoVzbkDD9Shcj4ptQClcj8L1CG5AKVyPwvV4bkApXI\\u002fC9ZBuQI\\u002fC9Shcf21AFK5H4XrcbUBI4XoUrtdtQNejcD0Kr21A9ihcj8KNbUDD9Shcj7pvQLgehetRyG9AMzMzMzNDcEAfhetRuDpxQDMzMzMzm3FAPQrXo3ARcUB7FK5H4UJxQOxRuB6FC3FAXI\\u002fC9ShEcUCamZmZmSVxQPYoXI\\u002fCGXJAXI\\u002fC9Sg8ckCuR+F6FIZyQJqZmZmZZXJAPQrXo3DVcUCuR+F6FJ5xQArXo3A95nFAPQrXo3ApckAAAAAAANhxQM3MzMzMBHBAexSuR+FOcEAAAAAAAFxwQLgehetRQHBAj8L1KFy\\u002fcECkcD0K16twQHsUrkfhsm5AZmZmZmbGbkApXI\\u002fC9RBvQClcj8L14G5AmpmZmZmZb0AfhetRuFZuQClcj8L18G5A16NwPQqHbkBxPQrXo+huQAAAAAAAoG9ACtejcD3Kb0BmZmZmZrZvQJqZmZmZSXBASOF6FK7vb0D2KFyPwqVvQHE9CtejoG5A9ihcj8J1bkAK16NwPYJtQJqZmZmZkW1AzczMzMyEbUB7FK5H4RJsQIXrUbgeZWtAw\\u002fUoXI\\u002f6a0AK16NwPZJsQFyPwvUo3GtA7FG4HoXra0AzMzMzM9NrQFyPwvUoFGxAcT0K16NobUD2KFyPwkVtQB+F61G4jm1AcT0K16PobEAUrkfhekxsQPYoXI\\u002fCbWtA4XoUrkepbEAzMzMzMztsQFK4HoXrOWxAzczMzMyEbUDD9ShcjwJtQPYoXI\\u002fCXW1A7FG4HoULbkBxPQrXo+BtQKRwPQrXg21AKVyPwvW4bEDD9Shcj6ptQOxRuB6Fe25Aw\\u002fUoXI86bkCamZmZmQluQIXrUbgeRW5A7FG4HoUjbkBcj8L1KIxtQPYoXI\\u002fCnW1AMzMzMzOzbUDNzMzMzIRtQJqZmZmZmW1AXI\\u002fC9SgkbUBmZmZmZv5sQHE9CtejQG1AexSuR+FqbUAzMzMzMwtuQKRwPQrX221AZmZmZmYebkDsUbgehaNtQKRwPQrXo21AKVyPwvWobUCF61G4Hq1tQDMzMzMzo21AexSuR+EqbUCuR+F6FMZsQPYoXI\\u002fC3WtAmpmZmZk5bECkcD0K1ztsQArXo3A9CmxAZmZmZmYebECkcD0K1zNsQFyPwvUo3GtASOF6FK6PbECamZmZmaFsQJqZmZmZmWxAH4XrUbi2bECPwvUoXL9sQM3MzMzMDG1A4XoUrkcxbUAK16NwPZptQM3MzMzMXG9AKVyPwvUob0C4HoXrUSBvQOxRuB6Fk25AH4XrUbimbkCuR+F6FH5uQEjhehSu325AmpmZmZmJbkC4HoXrURBuQJqZmZmZWW5AexSuR+FybkBI4XoUrl9vQLgehetRIG9AKVyPwvUQcECF61G4HnFwQFK4HoXrKXBAhetRuB7tb0A9CtejcAVwQArXo3A9TnBAw\\u002fUoXI\\u002f+cEAUrkfhetBwQI\\u002fC9Shco3BAcT0K16PscEBI4XoUrtNwQArXo3A9znFAUrgehetRckBSuB6F621zQM3MzMzMQHJAj8L1KFz3cUDhehSuR91xQD0K16NwYXFA7FG4HoV3cUBmZmZmZi5xQPYoXI\\u002fCGXFASOF6FK5vcUDhehSuRz1xQOxRuB6FU3FAzczMzMxAcUAUrkfhegRyQDMzMzMzC3JA16NwPQpLckBSuB6F61lyQHsUrkfhZnJAPQrXo3AZckDsUbgehftxQGZmZmZmynFAmpmZmZmZcUD2KFyPwqlxQEjhehSuk3FA7FG4HoXTcUCuR+F6FJ5xQOF6FK5HaXFA4XoUrkd5cUAAAAAAAFBwQOF6FK5HkXBA7FG4HoWHcEAK16NwPeZwQK5H4XoUpnBA4XoUrkeBcEB7FK5H4ZpwQM3MzMzMWHBAXI\\u002fC9SgocEBI4XoUrh9wQMP1KFyPYmpA9ihcj8JVbEAzMzMzM2ttQArXo3A9Em1AFK5H4XrMbEA9CtejcIVsQAAAAAAAUGpA7FG4HoWza0DD9ShcjzpsQHE9CtejGGxAzczMzMzsbEApXI\\u002fC9bhsQLgehetRmGxAUrgehevBbECkcD0K14NsQClcj8L1qGxA9ihcj8JlbECamZmZmclsQHE9CtejYG1AexSuR+H6bUAzMzMzM\\u002fttQOxRuB6Fc25APQrXo3DFbUCPwvUoXM9tQOxRuB6FA25Aj8L1KFxnbUC4HoXrUdBsQBSuR+F61GxAmpmZmZnJbEB7FK5H4aJsQFK4HoXruWxA16NwPQofbUBI4XoUru9sQB+F61G45mxAexSuR+FibECkcD0K19NsQClcj8L1yGxAKVyPwvVQbUAUrkfhemRtQHsUrkfhSm1AuB6F61EYbUAUrkfheuRtQK5H4XoUlm1AUrgeheuBbUCamZmZmbFtQOF6FK5HqW1Aj8L1KFzXbUC4HoXrUchtQFyPwvUoDG5AUrgehevBbkDXo3A9Cl9uQJqZmZmZSW5A9ihcj8J9bkCuR+F6FJ5uQJqZmZmZ4W5AUrgeheupbkC4HoXrUTBvQEjhehSuf29ACtejcD3Kb0BSuB6F621wQArXo3A96nBACtejcD1acEDXo3A9CndwQI\\u002fC9Shc13BAuB6F61GkcEC4HoXrUSBxQAAAAAAASHFAZmZmZmaacUB7FK5H4bpxQM3MzMzM1HFAcT0K16NcckBSuB6F6wlzQPYoXI\\u002fCnXNAXI\\u002fC9SiAdEAfhetRuKJzQHsUrkfhVnRA16NwPQqTdkAfhetRuDZ5QClcj8L1uHlAmpmZmZkleEDsUbgehWd3QEjhehSuJ3hAUrgehetVd0Bcj8L1KMR3QIXrUbgeDXVA4XoUrkdxc0BmZmZmZiJ1QAAAAAAADHVAw\\u002fUoXI\\u002fOdEAfhetRuAJ0QAAAAAAArHRAPQrXo3DxdEA9CtejcOl0QGZmZmZmYnRAuB6F61EgdEB7FK5H4W50QHE9CtejSHRAzczMzMwwdEDNzMzMzAB0QI\\u002fC9Shcg3RAexSuR+EKdkBxPQrXo2B2QK5H4XoUVnZAcT0K16M0d0CF61G4HpV3QKRwPQrXp3ZA16NwPQpzdkDNzMzMzJB2QHsUrkfhsnZAMzMzMzNPeEAUrkfhekx4QHE9CtejuHhAKVyPwvX4eUApXI\\u002fC9Rh6QEjhehSu93lA16NwPQo\\u002ffEAAAAAAADB7QAAAAAAAHHtAexSuR+HCe0CF61G4HhV9QHsUrkfhbnxA4XoUrkeBfEBSuB6F6\\u002fl8QIXrUbge5XxA16NwPQqre0AK16NwPWp7QIXrUbgeSXtAZmZmZmame0CkcD0K1298QGZmZmZmenxAuB6F61EUekCF61G4Hm16QBSuR+F6ZHpASOF6FK4Pe0BSuB6F66l6QIXrUbge6XpA4XoUrkcle0DXo3A9Chd7QFyPwvUo4HpAPQrXo3ARe0CPwvUoXP96QPYoXI\\u002fC0XpAzczMzMygfEBI4XoUrlN8QPYoXI\\u002fC+XtApHA9Ctf\\u002fe0B7FK5H4QZ8QNejcD0KO3tAUrgehesFe0ApXI\\u002fC9eR6QOF6FK5HxXZAcT0K16M4eEDNzMzMzOR3QB+F61G4MnhAZmZmZmbCd0BI4XoUrkN6QFyPwvUopHlApHA9Ctfnd0CkcD0K1zd4QOxRuB6FL3lASOF6FK57eEBmZmZmZoJ4QOxRuB6Fr3hAcT0K16PEd0DsUbgehbd3QAAAAAAApHdAuB6F61EMd0ApXI\\u002fC9VB3QDMzMzMzZ3dAMzMzMzMfd0A9CtejcFl4QM3MzMzMKHhAuB6F61GId0BSuB6F64l3QDMzMzMzV3dAFK5H4XqAd0BmZmZmZtp3QGZmZmZmundAXI\\u002fC9SgEeED2KFyPwn14QEjhehSuc3lA16NwPQoDeUCkcD0K13d5QIXrUbgeBXpAUrgehetlekBxPQrXo0x6QMP1KFyPUntAzczMzMxse0AAAAAAAFx7QKRwPQrXS3pAMzMzMzOPekBxPQrXo4h6QGZmZmZmAntAuB6F61EIe0AAAAAAABh7QDMzMzMzW3tAUrgehesxe0CkcD0K1396QGZmZmZmWnpA16NwPQqveUCF61G4Hgl5QI\\u002fC9Shce3lAhetRuB7leUDsUbgehd95QPYoXI\\u002fC7XlArkfhehQSekDXo3A9Clt6QFK4HoXruXlAKVyPwvXgeUDXo3A9Cgd6QOF6FK5HDXpAXI\\u002fC9SgQekBSuB6F60l6QM3MzMzMmHlA16NwPQqneUAAAAAAANx5QClcj8L11HlAPQrXo3AhekBxPQrXoyB6QArXo3A9BnpAexSuR+ESekDXo3A9Ch96QFyPwvUorHpASOF6FK6DekC4HoXrUQh6QIXrUbge7XlASOF6FK4LekCPwvUoXB96QFK4HoXrTXpAZmZmZmZOekDXo3A9Cld6QBSuR+F6gHpAw\\u002fUoXI92ekAAAAAAAGx6QJqZmZmZRXpAw\\u002fUoXI82ekApXI\\u002fC9Vh6QEjhehSuZ3pA16NwPQqTekBI4XoUrnt6QBSuR+F6hHpAj8L1KFzbekCF61G4Hul6QGZmZmZmtnpAPQrXo3DJekBcj8L1KDh7QArXo3A9lntAexSuR+EWfECkcD0K19t7QBSuR+F6JHxAKVyPwvWofEB7FK5H4dZ8QD0K16NwIX1A16NwPQrLe0Bcj8L1KBB8QJqZmZmZcXxAhetRuB4FfECuR+F6FD58QB+F61G4yntAzczMzMwkfEDsUbgehet7QEjhehSu\\u002f3tAmpmZmZm5fEBxPQrXo6h8QM3MzMzMqHxASOF6FK7HfEAK16NwPS58QEjhehSuS3xAuB6F61FsfEAfhetRuHp8QB+F61G4enxAhetRuB6ZfEDD9Shcj2J8QBSuR+F6XHxAUrgehetpfECPwvUoXGt7QHsUrkfhqntA16NwPQqze0CF61G4HnV7QGZmZmZmwntASOF6FK7fe0CamZmZmRl8QK5H4XoUVnxAj8L1KFyXfUC4HoXrUZCAQKRwPQrXcYBAexSuR+GugECF61G4HpuAQI\\u002fC9Shcx4BA9ihcj8LPgEDsUbgehcmBQKRwPQrX5YFApHA9Ctf3gUC4HoXrUUyCQM3MzMzMBIJAhetRuB4tgkDXo3A9CvWBQPYoXI\\u002fCC4JApHA9Ctf1gkAK16NwPQaFQNejcD0KA4ZAFK5H4XpshUD2KFyPwrOFQBSuR+F68odA4XoUrkdnh0CkcD0K16GHQArXo3A93odApHA9CtcJh0AzMzMzM9WEQClcj8L1oIJApHA9Ctd\\u002fg0BmZmZmZsqEQClcj8L1yIRAKVyPwvWqg0Bcj8L1KHqEQAAAAAAAOIRAhetRuB7\\u002fg0AfhetRuAqFQGZmZmZmIoVAmpmZmZn9hUDhehSuR5WEQOF6FK5HXYVA16NwPQr1hEBxPQrXoyqFQBSuR+F6BIRAXI\\u002fC9SjUhEBI4XoUrleEQHsUrkfhSoRA4XoUrkc9hEBmZmZmZsSEQPYoXI\\u002fCc4RAcT0K16OQhEAAAAAAALqEQFyPwvUopoRASOF6FK47hUB7FK5H4QiFQHsUrkfhBoVAPQrXo3DNhECuR+F6FMiEQClcj8L1VIRAFK5H4Xp8hEAK16NwPaqEQM3MzMzMcIRACtejcD1ehEDNzMzMzHKEQArXo3A9eIRAUrgeheuHhEBmZmZmZniEQD0K16NwhYNAXI\\u002fC9SjygkD2KFyPwhuBQHsUrkfhsoFAuB6F61ESgkC4HoXrUfiBQArXo3A9XoJA7FG4HoWFgkBmZmZmZniCQGZmZmZmXoJAzczMzMyAgkApXI\\u002fC9WiCQBSuR+F6XIJAH4XrUbhMgkD2KFyPwtOBQFK4HoXruYFA7FG4HoULgkD2KFyPwumBQMP1KFyP8oFA16NwPQr9gUCamZmZmS2CQBSuR+F6KoJAAAAAAABWgkDhehSuRzuCQD0K16NwIYJArkfhehQOgkAzMzMzMx2CQJqZmZmZz4FA4XoUrkfvgUB7FK5H4fCBQAAAAAAADIJA9ihcj8L7gUBmZmZmZuKBQLgehetR\\u002fIFASOF6FK6xgkDXo3A9CgWDQB+F61G49IJA7FG4HoUTg0C4HoXrUTSDQMP1KFyPkoNAexSuR+F2g0CuR+F6FHyDQPYoXI\\u002fC9YJAUrgehesBg0BSuB6F6wmDQD0K16NwFYNAMzMzMzP5gkD2KFyPwveCQKRwPQrX74JAKVyPwvUOg0CkcD0K1wmDQBSuR+F6AoNAMzMzMzOpgkBmZmZmZqKCQB+F61G41oJA16NwPQrVgkBxPQrXo8aCQLgehetRAINAj8L1KFzxgkCkcD0K1+WCQOxRuB6F7YJAUrgehesNg0CkcD0K1y+DQIXrUbgeF4NA16NwPQohg0CamZmZmRGDQK5H4XoUJINAXI\\u002fC9Sgog0ApXI\\u002fC9UiDQHsUrkfhWINAAAAAAABGg0BSuB6F61eDQMP1KFyPCIRA7FG4HoXhg0C4HoXrUeaDQNejcD0KA4RAMzMzMzP1g0DXo3A9Cg2EQOxRuB6F+YNASOF6FK7vg0Bcj8L1KLSDQHsUrkfhtoNAcT0K16PGg0C4HoXrUYqEQMP1KFyPiIRArkfhehRuhEAfhetRuIyEQGZmZmZmMoVAFK5H4XqChUAzMzMzM42FQKRwPQrXU4ZAexSuR+HuhUD2KFyPwueFQLgehetRzoZAcT0K16Mmh0CamZmZmYWFQFK4HoXr+YVAj8L1KFz7hUBcj8L1KDyGQNejcD0K+YVAzczMzMwuhkBcj8L1KJqGQArXo3A9XIZA4XoUrkdjhkBmZmZmZgiGQArXo3A98IVAXI\\u002fC9SgIhkApXI\\u002fC9TyGQJqZmZmZQYdApHA9Ctcnh0AfhetRuHyHQClcj8L1fIdACtejcD3YhkAAAAAAABqHQM3MzMzMeodAH4XrUbhEh0C4HoXrUSKHQDMzMzMzLYdA16NwPQr7hkAK16NwPeCGQBSuR+F6\\u002foZAzczMzMz8hkDsUbgehU2HQFyPwvUopodA7FG4HoVPiEAzMzMzMxmIQClcj8L1LohAmpmZmZm1h0D2KFyPwuGHQNejcD0KAYhAFK5H4XoWiEC4HoXrUSaIQDMzMzMzNYhApHA9CtcNiEAfhetRuGCIQBSuR+F6ZIhApHA9CtdriEAfhetRuFCIQOF6FK5Hh4hAcT0K16O2iEAK16NwPbSIQEjhehSuxYhA16NwPQoHiUAK16NwPRKKQLgehetRBItApHA9CtfPjEDD9ShcjxaMQD0K16NwAYxAexSuR+FcjECamZmZmSmNQI\\u002fC9Shcf45AAAAAAABsjkBSuB6F6wmOQFK4HoXrHY5AcT0K16Myj0AAAAAAAO6PQI\\u002fC9ShcT5BAUrgehesKkkDXo3A9CquPQJqZmZmZMYxAH4XrUbhkjECamZmZmXmMQHE9CtejNoxAPQrXo3BdjECuR+F6FE6IQHE9CtejJolApHA9Cte\\u002fiUDhehSuR5OJQGZmZmZmrolACtejcD38iUDsUbgehV+MQClcj8L1tItAw\\u002fUoXI8YjEAK16NwPfiLQLgehetRzoxAj8L1KFzljECuR+F6FMiMQOxRuB6F5YtAuB6F61EsjEAfhetRuKyMQAAAAAAAvoxAH4XrUbjMjEAAAAAAALyMQNejcD0Kw4xAMzMzMzNTjkBcj8L1KOiOQGZmZmZmno9AcT0K16MXkECamZmZmUuQQI\\u002fC9ShcDZBAmpmZmZk4kEBmZmZmZpWQQOF6FK5HnJBA16NwPQoTj0CPwvUoXOWOQJqZmZmZY49APQrXo3A5j0CF61G4HvWOQGZmZmZmZI9ApHA9Ctd7j0D2KFyPwg2QQKRwPQrXWJBASOF6FK55kEAUrkfhel+QQFK4HoXr35BAMzMzMzNtkUD2KFyPwnWRQHsUrkfhOpJAH4XrUbhWkkCPwvUoXN+RQM3MzMzMNJJAexSuR+FvkkB7FK5H4W+SQAAAAAAAGpNA16NwPQqMk0ApXI\\u002fC9euTQJqZmZmZnJNAFK5H4XrMk0C4HoXrUeOTQFyPwvUoHpNAAAAAAAD4kUApXI\\u002fC9ZGSQHsUrkfhcpFAuB6F61FfkkDsUbgehRWTQEjhehSuP5NAAAAAAABgk0A9CtejcIaTQArXo3A9j5JAUrgeheswkUDD9Shcj26OQClcj8L1MpBAUrgehet4kEBcj8L1KIKRQMP1KFyPZJBAj8L1KFw6kEBcj8L1KEyNQArXo3A9Zo5ApHA9Ctc1jkCuR+F6FFeQQJqZmZmZXJBAexSuR+E\\u002fkEAfhetRuAmQQFyPwvUov5BAAAAAAADikEBI4XoUrjiRQArXo3A935FAAAAAAAC1kUCF61G4HpORQB+F61G4epJAmpmZmZljkkDNzMzMzF+SQBSuR+F6j5JA7FG4HoWMkkDXo3A9CtSSQBSuR+F6wZJAhetRuB5FkkBcj8L1KD6SQK5H4XoUUpJA9ihcj8J7kkBxPQrXo6eSQEjhehSu7pJAXI\\u002fC9SjpkkC4HoXrUTSTQDMzMzMzGJNApHA9Ctc+k0CkcD0K19ySQJqZmZmZiJNAKVyPwvXFk0C4HoXrUQSUQFK4HoXrlpRAUrgeheuRlEBcj8L1KKeUQMP1KFyPD5VAZmZmZmY2lkDhehSuR7OWQI\\u002fC9ShcSJdASOF6FK4GmEDNzMzMzE2YQDMzMzMzq5hApHA9CtfymEBmZmZmZu2aQD0K16NwbZtA7FG4HoXsm0DhehSuR+KcQClcj8L18JpAcT0K16MznEBxPQrXo0OcQB+F61G4KZtAzczMzMwZm0CPwvUoXLycQJqZmZmZgp1ApHA9CtcOn0ApXI\\u002fCdUmgQM3MzMzM5J9AzczMzMz6oECkcD0K1yCiQOF6FK5HF6NAKVyPwvUBokCkcD0K1zShQBSuR+F6259AmpmZmZnXoEAfhetROJ+hQD0K16Pw\\u002fqBAuB6F69HcoUD2KFyPws+iQJqZmZkZcaNAMzMzM7Omo0CF61G4np+jQIXrUbie\\u002faRAZmZmZmZepkC4HoXrUVilQArXo3A966VAhetRuJ4PpkBSuB6FawenQB+F61E4HKdA9ihcj0LHpEDXo3A9CjqlQArXo3C9lKNAXI\\u002fC9ShBo0CF61G4Hq2jQPYoXI\\u002fCv6RArkfhepToo0AzMzMzMzukQK5H4XqUQ6VAMzMzMzMCpUC4HoXr0SKlQLgehevRcaVAPQrXo3BhpEC4HoXr0TqkQGZmZmbmXKNAZmZmZubwo0CuR+F6lB2kQHE9Ctej1qNASOF6FK5ho0CamZmZGQWjQD0K16PwlKNAhetRuB4IpEDhehSuR1OkQBSuR+H6U6RAhetRuB5hpEC4HoXrUa2jQEjhehSuFqRAexSuR+Gso0CF61G4HomiQK5H4XqUQ6JASOF6FK69okDNzMzMzGuiQEjhehSucqFAPQrXo3A7n0DhehSuRyeeQLgehevRaKFA9ihcj8IdokCPwvUo3MKhQDMzMzMzA6ZA7FG4HoXXpEAK16NwPfSlQM3MzMzMVKVAH4XrUbiFpUApXI\\u002fC9SCkQGZmZmbmwqNAw\\u002fUoXI\\u002ffpEDsUbgeBfKlQGZmZmbmTKVAj8L1KFyKpUBI4XoUrnamQA==\"},\"high\":{\"dtype\":\"f8\",\"bdata\":\"j8L1KFz\\u002fYEBI4XoUrm9iQPYoXI\\u002fCXWJAFK5H4Xp8YUBmZmZmZmZfQLgehetRCFtAAAAAAADAXEAzMzMzM7NdQArXo3A9Kl9AXI\\u002fC9ShcXEBSuB6F6\\u002fFcQD0K16NwXVxAAAAAAACAXkDsUbgehatdQM3MzMzMXF1AzczMzMysXUAzMzMzM\\u002fNdQKRwPQrX81xAcT0K16OwXUAzMzMzM1NfQAAAAAAAUF9AAAAAAAAgX0BI4XoUrudeQAAAAAAAwF5AAAAAAAAAX0DsUbgehbtfQDMzMzMzu2BA16NwPQqnYEAAAAAAAABhQNejcD0K72BAw\\u002fUoXI9SYEB7FK5H4ZJgQAAAAAAAiGBAzczMzMw8YEApXI\\u002fC9ThgQM3MzMzMLGBAAAAAAACgXkD2KFyPwvVeQK5H4XoU3l5AZmZmZmbGXkAAAAAAAMBdQHsUrkfh2ltAj8L1KFw\\u002fW0BmZmZmZoZbQGZmZmZmZltAw\\u002fUoXI\\u002fyW0AzMzMzM5NbQM3MzMzMLFpAzczMzMzsWUBmZmZmZmZZQD0K16NwjVlA16NwPQrHW0CuR+F6FI5bQDMzMzMzk1xAj8L1KFy\\u002fXEA9CtejcH1bQDMzMzMzM1tAhetRuB4VW0CuR+F6FJ5aQI\\u002fC9ShcX1pAAAAAAAAAWkCPwvUoXG9ZQI\\u002fC9Shc\\u002f1hASOF6FK6HWEAK16NwPWpYQDMzMzMzE1dAH4XrUbi+VkDXo3A9CsdUQAAAAAAAAFRAAAAAAADAUkCkcD0K16NSQAAAAAAAAFRAMzMzMzOTU0AAAAAAAMBVQFK4HoXrkVZAAAAAAAAAWkAAAAAAAJBYQM3MzMzMrFhAmpmZmZl5WUDXo3A9CvdYQK5H4XoU\\u002flhAMzMzMzOzWEDNzMzMzMxXQGZmZmZmRldAzczMzMz8VkAAAAAAAABXQBSuR+F6NFhAj8L1KFz\\u002fV0CF61G4HlVYQK5H4XoUXlhAAAAAAABAWECF61G4HiVZQAAAAAAAoFlAj8L1KFz\\u002fWkD2KFyPwtVbQAAAAAAAAFtAAAAAAAAAW0BSuB6F63FaQM3MzMzMfFpA4XoUrkfxWkC4HoXrUdhaQAAAAAAAsFpAAAAAAACwWkAAAAAAAHBaQJqZmZmZ+VlAXI\\u002fC9ShMWkAAAAAAAABbQGZmZmZmVltAAAAAAADAXEAAAAAAAFBcQDMzMzMzE1xAAAAAAABwXEBcj8L1KKxcQKRwPQrXw15AcT0K16PAXkAK16NwPTpfQAAAAAAA4F5AAAAAAACAXkApXI\\u002fC9VheQI\\u002fC9Shcv15AAAAAAACwXkCPwvUoXM9fQBSuR+F61F9AzczMzMzsXkAAAAAAAPhgQBSuR+F6nGFAUrgehes5YkAAAAAAAFBiQHsUrkfhSmFAAAAAAAAQYkCuR+F6FG5gQPYoXI\\u002fC1V9AXI\\u002fC9Sh8X0CuR+F6FC5fQFK4HoXrIWBASOF6FK43YEDD9ShcjzphQMP1KFyPAmFAw\\u002fUoXI8yYUAzMzMzM\\u002ftgQK5H4XoUbmBA16NwPQqXYEC4HoXrUZhgQGZmZmZmpmBAcT0K16N4YECkcD0K1\\u002fNgQOxRuB6FE2BArkfhehS+YEDXo3A9CpdgQD0K16Nw3V9ArkfhehQ2YED2KFyPwt1gQEjhehSu12BAXI\\u002fC9Sj0YEDsUbgehZNhQDMzMzMzS2FAXI\\u002fC9SjUYEB7FK5H4bJgQLgehetR6F5AexSuR+FCYECuR+F6FE5gQIXrUbgeNWBAcT0K16NIYECuR+F6FN5fQAAAAAAAeGBAAAAAAABwYEBSuB6F63lgQIXrUbge9WBAhetRuB5VYUCkcD0K1wNiQBSuR+F6LGJAj8L1KFwHY0A9CtejcG1iQB+F61G4fmNAj8L1KFwvZkCF61G4Ht1lQArXo3A9GmdAcT0K16OIaECkcD0K17NqQD0K16NwLWtApHA9CtfbaECF61G4Ho1nQK5H4XoUjmhApHA9CtfTaEDhehSuR5lpQIXrUbgeJWpA9ihcj8KlaUDNzMzMzNRpQLgehetR+GlAmpmZmZnhakC4HoXrUeBsQIXrUbgeVW9AAAAAAABwcEAfhetRuAJzQMP1KFyPKnVAhetRuB4td0AzMzMzM+t1QLgehetR9HVAKVyPwvWsdkDNzMzMzOB5QGZmZmZmnnpACtejcD1ee0Bcj8L1KCR8QOF6FK5HSX9ACtejcD3+hUB7FK5H4TCJQDMzMzMzvYJAMzMzMzPrhkDNzMzMzGaIQPYoXI\\u002fCZ4pAexSuR+E6iUA9CtejcFWJQLgehetRBI1ASOF6FK5Pj0AK16NwPdaQQHsUrkfh65FAw\\u002fUoXI8QkkC4HoXrUbSRQEjhehSufZBAAAAAAAAgkUAUrkfhehCSQD0K16NwCZJA7FG4HoVJkECF61G4HrWKQK5H4XoUFIlAPQrXo3DPjECkcD0K1ymPQHE9CtejTI9A7FG4HoUvjEC4HoXrUW6NQDMzMzMzRYxA4XoUrkexi0AAAAAAAJKLQHE9CtejlodAw\\u002fUoXI86hUCkcD0K1xmGQOF6FK5HyYZAXI\\u002fC9ShyhEBSuB6F69WEQOF6FK5HR4VAhetRuB5jhUCamZmZmVWFQAAAAAAATohArkfhehRMiEAUrkfheliHQHsUrkfhZIdAzczMzMz0h0BxPQrXo8SHQM3MzMzMOohAFK5H4XqiiUAzMzMzMxGKQK5H4XoU3IpAMzMzMzPDjUApXI\\u002fC9ciPQFK4HoXrLY5APQrXo3A1i0B7FK5H4QKLQOxRuB6FOYtApHA9CtfLjEBcj8L1KASNQLgehetR6opA7FG4HoW9ikAUrkfhekaLQOF6FK5HEYtA4XoUrkdXikBSuB6F60uKQEjhehSuN4tAhetRuB6zi0CamZmZmYmLQDMzMzMzMYtAw\\u002fUoXI+cikA9CtejcLOJQJqZmZmZ64pAXI\\u002fC9SgIjEAAAAAAAOiLQAAAAAAABIpAKVyPwvUmikAAAAAAAPSJQClcj8L1\\u002folAXI\\u002fC9SisikD2KFyPwmWKQKRwPQrX04lAj8L1KFxBikDD9ShcjyqKQBSuR+F6nolAmpmZmZl5iEDD9Shcj46GQFyPwvUoQoZASOF6FK79hUBI4XoUrkOGQDMzMzMzB4VAUrgeheuPhED2KFyPwp2FQB+F61G4roRAzczMzMzIhECamZmZmYeEQK5H4XoULoRAXI\\u002fC9Si+g0CkcD0K152DQEjhehSuN4JApHA9Ctczg0DhehSuR\\u002f+DQHsUrkfh\\u002fIJA16NwPQrrgEBmZmZmZt6CQGZmZmZmkIJAhetRuB5BgkDXo3A9CuuBQKRwPQrX04FA4XoUrkf3hUD2KFyPwsGFQArXo3A9EoVAXI\\u002fC9SjuhEAfhetRuMqEQIXrUbge2YNAmpmZmZkfhECuR+F6FCaEQI\\u002fC9Shc84NACtejcD1AhECamZmZmSGEQArXo3A9\\u002fINAhetRuB75g0Bcj8L1KOyDQD0K16NwxYNAhetRuB5zg0AAAAAAAHCDQAAAAAAADoNAH4XrUbjkgkBmZmZmZuSBQFK4HoXr0YFAFK5H4XpUgkDsUbgehUuCQArXo3A9cIJAFK5H4XokgkBcj8L1KHCAQPYoXI\\u002fCjX9AUrgehevFfkC4HoXrUTB+QD0K16Nw9X5AzczMzMzwfkApXI\\u002fC9Rh8QGZmZmZmanxAhetRuB75fECF61G4HiV9QClcj8L16HxAH4XrUbiWfEBI4XoUrnt8QFK4HoXrtXtAuB6F61HcekD2KFyPwnl7QGZmZmZmtnpAAAAAAABcfUAAAAAAADiAQNejcD0K84BAXI\\u002fC9SisgECamZmZmSl\\u002fQClcj8L1eH9AUrgehevtf0CF61G4Hul\\u002fQOxRuB6Fc39AAAAAAADUfkCPwvUoXEd\\u002fQM3MzMzMRH9AcT0K16MIfUDhehSuR7V8QBSuR+F6+HtACtejcD06fECamZmZmTF8QPYoXI\\u002fCyXxAexSuR+GefEBmZmZmZhZ8QLgehetRfHtA7FG4HoWPe0BxPQrXowB8QK5H4XoU4ntAZmZmZmYGfEDXo3A9Ckt8QLgehetRfHxAPQrXo3B1fEBcj8L1KKR7QEjhehSun3tAw\\u002fUoXI\\u002fqe0DNzMzMzBx8QMP1KFyPKnxASOF6FK4\\u002ffEC4HoXrURx8QClcj8L1+HtA16NwPQq3fkBSuB6F6+V+QHsUrkfhaoBASOF6FK7vgECPwvUoXGmAQKRwPQrXA4JAhetRuB5jgkBcj8L1KGyCQClcj8L1FIJAzczMzMwIgkBI4XoUrlODQPYoXI\\u002fChYNArkfhehT8hEAAAAAAAMyEQHsUrkfhEIVAFK5H4XrkhEAK16NwPbyEQClcj8L1qoRA7FG4HoWHhEDXo3A9CpeEQJqZmZmZjYRAKVyPwvWchEC4HoXrUYiEQHsUrkfh8INAhetRuB45g0Bcj8L1KMqCQOxRuB6Fh4JA9ihcj8IFg0CF61G4HheDQNejcD0KP4NAUrgeheshg0AAAAAAAL6CQEjhehSuu4JAAAAAAADwgkBI4XoUrtmCQPYoXI\\u002fCp4JAzczMzMw8gkDXo3A9Ci2CQClcj8L1wIJA9ihcj8LjgkBxPQrXo+CCQDMzMzMzKYRAexSuR+GOhEA9CtejcIWEQFyPwvUoVoRAPQrXo3BDhED2KFyPwsmDQDMzMzMz9YNA4XoUrkfpg0CamZmZmZWDQAAAAAAAmINAKVyPwvWQg0AfhetRuMCDQOF6FK5H5YNApHA9CtfVg0AfhetRuJqDQIXrUbgeiYNAH4XrUbh4g0C4HoXrUZKDQEjhehSuqYNAj8L1KFypg0AUrkfheqSDQB+F61G4gINAZmZmZmaCg0A9CtejcIODQD0K16NwY4NAw\\u002fUoXI\\u002f4gkAfhetRuNCCQOxRuB6Ft4JAw\\u002fUoXI+UgkDXo3A9CmOCQClcj8L1SIJAUrgehetRgkCPwvUoXK+CQOF6FK5Hl4JAMzMzMzNpgkCamZmZmX+CQClcj8L1boJAUrgehetbgkDNzMzMzHiCQClcj8L1sIJA9ihcj8KDgkBI4XoUrpOCQK5H4XoUfIJAmpmZmZkHgkAK16NwPeiBQFK4HoXrEYFAPQrXo3AxgECkcD0K10uAQOxRuB6FQYBAUrgehes1f0CPwvUoXFt+QArXo3A9MoBAMzMzMzOfgECkcD0K10uAQGZmZmZmEoBAhetRuB4HgEDsUbgehcN\\u002fQOxRuB6FBYBASOF6FK5FgEDhehSuRyGAQNejcD0K+39AKVyPwvXUf0CuR+F6FI5\\u002fQClcj8L1VH5ApHA9CtcvfkCPwvUoXBt+QHsUrkfh3n5ACtejcD2qfkCamZmZmYl+QIXrUbgegX5A4XoUrkedfkCuR+F6FNZ9QOxRuB6Fd35AmpmZmZklfkCuR+F6FPp9QFK4HoXrIX5AmpmZmZn9fUBSuB6F6+l9QArXo3A9un1AH4XrUbhCfUD2KFyPwo18QOF6FK5HvXpAzczMzMx0ekB7FK5H4cZ5QB+F61G4bnlAKVyPwvWYe0D2KFyPwkF7QLgehetReHpA16NwPQrveUBSuB6F62l5QLgehetREHlAj8L1KFwTeEBI4XoUrm94QK5H4XoUdnhAAAAAAAAYeEDXo3A9Cpt3QKRwPQrXx3ZAzczMzMxcdUCuR+F6FJJ1QAAAAAAANHVA9ihcj8IldkBI4XoUrut3QIXrUbgecXdA16NwPQrzdkB7FK5H4bZ3QEjhehSu03hAMzMzMzO7eUBI4XoUriN5QClcj8L17HhASOF6FK4XeEDD9Shcj7J4QNejcD0Kn3hA4XoUrkdheEBmZmZmZop4QOF6FK5HSXhAzczMzMwQeECamZmZmcV2QPYoXI\\u002fCfXZA7FG4HoVzdkCuR+F6FGp2QEjhehSuf3ZA4XoUrkdddkDD9Shcj+51QM3MzMzMwHVAFK5H4XpIdUDNzMzMzJB0QAAAAAAA4HRAuB6F61G8dEBSuB6F63V1QOxRuB6FD3ZASOF6FK4LdkAUrkfherB1QK5H4XoUunZAhetRuB5td0ApXI\\u002fC9TR3QOxRuB6F23pAPQrXo3CRfEAAAAAAADR6QBSuR+F6WHlAzczMzMxseEAzMzMzM6N5QGZmZmZmhnhASOF6FK4neEC4HoXrUeB3QK5H4XoUXnZAPQrXo3DNdkCamZmZmS13QI\\u002fC9ShcM3hAMzMzMzOreEAzMzMzM5t3QKRwPQrXX3dAPQrXo3Dtd0CamZmZmTl4QBSuR+F66HdAw\\u002fUoXI\\u002f6d0BxPQrXowB4QBSuR+F68HdAZmZmZmaqd0DXo3A9CrN3QDMzMzMzp3dAcT0K16OEd0AUrkfheoB3QIXrUbgesXZArkfhehQGdkD2KFyPwpV2QEjhehSuD3ZArkfhehQGdkCF61G4HhV2QClcj8L1\\u002fHVA9ihcj8KddUAzMzMzM990QI\\u002fC9ShcO3RAFK5H4Xroc0CF61G4HqV0QK5H4XoUmnRAUrgehevhdEBxPQrXowR1QKRwPQrX63RAH4XrUbgqdEAfhetRuLZ0QMP1KFyPjnRAFK5H4XoAdEC4HoXrUQR0QClcj8L1rHNA16NwPQoDdEDXo3A9Cgd0QD0K16NwvXNAZmZmZmayc0BI4XoUrvNxQD0K16NwZXFAzczMzMz4cUAAAAAAAKxyQK5H4XoUYnJA9ihcj8IxckCuR+F6FAJyQArXo3A9enFAMzMzMzMDcUAUrkfhesRwQBSuR+F6\\u002fGtACtejcD2ibEB7FK5H4bJrQI\\u002fC9Shcd2pArkfhehRWa0CPwvUoXBdrQEjhehSu52pA4XoUrkd5bEBxPQrXo6BtQHsUrkfhWm1AH4XrUbgGb0AK16NwPeJvQK5H4XoUVnNASOF6FK43cUBxPQrXo6hwQB+F61G41m1AMzMzMzNbbkAAAAAAADBtQArXo3A98mxA9ihcj8JFbkAfhetRuL5uQFK4HoXrwWxAhetRuB7tbUC4HoXrUdBsQJqZmZmZyWxArkfhehSubECPwvUoXP9rQFK4HoXruWtAhetRuB7ta0BmZmZmZsZrQLgehetRCG5AKVyPwvU8cED2KFyPwplwQHE9Ctej8G1AKVyPwvW4bkAAAAAAAIhuQD0K16NwVW5AMzMzMzPjbkAK16NwPepvQBSuR+F6zG5A7FG4HoUDbkDNzMzMzPxtQHsUrkfh6m1AH4XrUbi2bUBmZmZmZgpwQK5H4XoU1m9Aw\\u002fUoXI9acEDNzMzMzERxQM3MzMzM3HFASOF6FK7DcUAfhetRuJpxQPYoXI\\u002fCWXFAmpmZmZldcUD2KFyPwl1xQDMzMzMzS3JAcT0K16PAckAK16NwPZZyQD0K16NwkXJAAAAAAABockA9CtejcOVxQBSuR+F66HFA9ihcj8JhckBSuB6F60VyQD0K16Nw1XFApHA9CteDcECamZmZmY1wQDMzMzMzY3BAAAAAAADccEDNzMzMzFRxQAAAAAAAsHBArkfhehQmb0AzMzMzM8tvQClcj8L1DHBAH4XrUbjGb0AUrkfheqRvQEjhehSuJ29Aj8L1KFwXb0DhehSuR\\u002fFuQB+F61G4zm9AcT0K16MAcEC4HoXrUehvQHsUrkfhSnBAzczMzMxccEBSuB6F6\\u002flvQDMzMzMzu29ApHA9CtfDbkCuR+F6FHZuQOF6FK5H8W1Aj8L1KFy3bUCuR+F6FJ5tQI\\u002fC9ShcH2xAw\\u002fUoXI\\u002f6a0A9CtejcLVsQIXrUbgenWxACtejcD0KbEAzMzMzM0tsQDMzMzMzS2xAcT0K16NobUCF61G4Hr1tQNejcD0Kj21AUrgeheuJbUBSuB6F6xFtQK5H4XoUXmxAUrgehespbUAAAAAAALBsQOF6FK5HYWxAUrgehevxbUDXo3A9Ct9tQI\\u002fC9Shcd21ASOF6FK5nbkAUrkfhelRuQGZmZmZm5m1AZmZmZmaObUAzMzMzM+NtQClcj8L1yG5AmpmZmZn5bkAK16NwPYJuQHE9CtejiG5AXI\\u002fC9ShcbkBmZmZmZnZuQJqZmZmZuW1AAAAAAADYbUBmZmZmZrZtQClcj8L1wG1AH4XrUbimbUDNzMzMzERtQPYoXI\\u002fCVW1ASOF6FK6HbUDXo3A9Ch9uQClcj8L1IG5Aj8L1KFw\\u002fbkBxPQrXoyBuQEjhehSux21AFK5H4XrUbUAK16NwPbptQHE9CtejsG1AexSuR+GibUAAAAAAAChtQB+F61G49mxAPQrXo3BNbEDNzMzMzGxsQMP1KFyPUmxA16NwPQo\\u002fbEDXo3A9CjdsQK5H4XoURmxAH4XrUbiubEBmZmZmZt5sQClcj8L1uGxA4XoUrkfJbEBSuB6F6+FsQM3MzMzMFG1A7FG4HoVbbUB7FK5H4bptQEjhehSud29AmpmZmZkNcEDsUbgehYNvQI\\u002fC9ShcX29Aw\\u002fUoXI+6bkDXo3A9CqduQD0K16Nw\\u002fW5AmpmZmZnpbkB7FK5H4YpuQMP1KFyPam5AAAAAAAB4bkB7FK5H4WpvQD0K16NwZW9AH4XrUbgScEBSuB6F671wQB+F61G4knBArkfhehRacEDhehSuRxFwQI\\u002fC9ShcV3BAXI\\u002fC9SgocUAfhetRuFZxQD0K16Nw9XBA7FG4HoUPcUDhehSuRwVxQD0K16NwaXJAXI\\u002fC9SiockAK16NwPaZzQDMzMzMzb3NAZmZmZmaCckAAAAAAAFRyQHsUrkfhMnJAFK5H4XqEcUAUrkfheqhxQB+F61G4OnFASOF6FK5vcUDNzMzMzIhxQB+F61G4WnFA9ihcj8JhcUAAAAAAABRyQEjhehSuK3JAzczMzMxQckC4HoXrUZxyQGZmZmZminJAcT0K16NockCuR+F6FCJyQI\\u002fC9ShcD3JAexSuR+HOcUAUrkfherBxQOxRuB6F13FAj8L1KFzbcUAAAAAAANhxQMP1KFyPnnFACtejcD2GcUB7FK5H4X5xQAAAAAAAsHBAFK5H4XqwcEAK16NwPeZwQB+F61G46nBASOF6FK6jcEDsUbgehbdwQB+F61G4qnBA16NwPQpncEAAAAAAAEhwQKRwPQrXH3BAhetRuB6tbUCkcD0K16ttQPYoXI\\u002fCjW1AH4XrUbhebUAfhetRuBZtQBSuR+F6hGxACtejcD1KbED2KFyPwuVsQBSuR+F6lGxA16NwPQpnbUDXo3A9CidtQArXo3A9Am1AH4XrUbj+bEDXo3A9CudsQMP1KFyP0mxAMzMzMzOzbEDNzMzMzNxsQBSuR+F6hG1AhetRuB5dbkDsUbgehUNuQClcj8L1uG5APQrXo3CNbkDhehSuRyluQD0K16NwJW5ApHA9CtcDbkCuR+F6FH5tQK5H4XoUDm1AexSuR+EycEDXo3A9CudsQClcj8L1yGxAMzMzMzNLbUAfhetRuCZtQKRwPQrXC21A16NwPQrnbEAUrkfhegxtQHsUrkfh+mxAzczMzMx0bUD2KFyPwq1tQM3MzMzMbG1AKVyPwvVQbUB7FK5H4eptQJqZmZmZ+W1Aj8L1KFy3bUCuR+F6FM5tQOF6FK5H0W1AUrgehevpbUDXo3A9Ct9tQFyPwvUoDG5ArkfhehTebkD2KFyPwtVuQAAAAAAAiG5Aj8L1KFyHbkAK16NwPapuQEjhehSu525AZmZmZmbubkBI4XoUrkdvQClcj8L1yG9AH4XrUbj+b0CuR+F6FKJwQOF6FK5HGXFAH4XrUbj6cECF61G4Ho1wQOF6FK5H7XBAuB6F61HscEBcj8L1KEhxQHsUrkfhanFAj8L1KFybcUApXI\\u002fC9WByQM3MzMzM1HFAj8L1KFyDckDhehSuRyVzQB+F61G44nNAH4XrUbjidEAUrkfhesx0QOxRuB6Fd3RA9ihcj8LVdkBmZmZmZh56QClcj8L1+H5AKVyPwvX4e0A9CtejcL14QD0K16NwaXhACtejcD1eeEAUrkfhehR4QArXo3A91ndA4XoUrkdJdUDhehSuR5F1QMP1KFyPTnVAexSuR+EidUDD9Shcj+p0QK5H4XoUunRAmpmZmZkldUAUrkfhegh1QOF6FK5H9XRA7FG4HoVndEDD9Shcj4J0QFyPwvUocHRAUrgehetRdEApXI\\u002fC9TB0QK5H4XoUknRAXI\\u002fC9SjsdkA9CtejcLl2QHE9CtejeHZA16NwPQo\\u002fd0D2KFyPwuV3QHsUrkfhrndASOF6FK6jdkC4HoXrUSR3QLgehetRuHZAcT0K16NceEApXI\\u002fC9Sx5QOxRuB6F\\u002f3hAKVyPwvX4eUBSuB6F63F6QFyPwvUoOHpA16NwPQo\\u002ffECamZmZmVF9QHsUrkfhmntACtejcD3ye0CF61G4HhV9QI\\u002fC9ShcE31A9ihcj8KdfEB7FK5H4RJ9QOF6FK5HGX1ACtejcD3qfEBI4XoUrst7QNejcD0Ku3tAFK5H4XrIe0CPwvUoXKd8QClcj8L1pHxApHA9CteXfEBcj8L1KIB6QLgehetR3HpASOF6FK4Pe0AK16NwPSZ7QB+F61G4DntAAAAAAABEe0ApXI\\u002fC9UB7QKRwPQrXG3tAuB6F61Eoe0B7FK5H4SJ7QPYoXI\\u002fC\\u002fXpAuB6F61GsfEB7FK5H4e58QArXo3A9anxAKVyPwvUEfEDD9Shcjyp8QHsUrkfhAnxA16NwPQoze0CF61G4HhV7QAAAAAAA5HpAKVyPwvVoeECPwvUoXG94QJqZmZmZQXhASOF6FK47eEC4HoXrUZR6QK5H4XoUbnpAw\\u002fUoXI+meUBxPQrXo6h4QKRwPQrXV3lAhetRuB4leUC4HoXrUdx4QD0K16NwzXhAAAAAAAC4eECuR+F6FAZ4QB+F61G4zndAmpmZmZnFd0CF61G4HqF3QK5H4XoUfndAMzMzMzNvd0D2KFyPwnl4QD0K16NwcXhArkfhehQqeEBSuB6F6813QK5H4XoUvndAAAAAAACUd0BI4XoUrhd4QK5H4XoU8ndAMzMzMzMPeED2KFyPwn14QEjhehSuc3lArkfhehSmeUDXo3A9Co95QB+F61G4UnpAAAAAAACgekCamZmZmXF6QEjhehSun3tAzczMzMwAfEDNzMzMzHB7QPYoXI\\u002fCfXtAzczMzMyYekDsUbgehbt6QGZmZmZmAntASOF6FK4je0B7FK5H4Tp7QFyPwvUomHtAZmZmZmZ6e0AfhetRuD57QFK4HoXrlXpAexSuR+GSekBcj8L1KLR5QMP1KFyPvnlAH4XrUbj+eUCkcD0K1wN6QBSuR+F6AHpAXI\\u002fC9SgYekB7FK5H4X56QM3MzMzMXHpAmpmZmZkJekB7FK5H4Qp6QK5H4XoUInpA16NwPQobekAAAAAAAFB6QM3MzMzMSHpASOF6FK6veUCuR+F6FOp5QB+F61G41nlArkfhehQmekC4HoXrUTR6QHsUrkfhKnpA4XoUrkchekCkcD0K1y96QM3MzMzMzHpA9ihcj8KtekAzMzMzM6N6QOF6FK5HDXpAUrgeheslekAfhetRuCJ6QOF6FK5HYXpA4XoUrkdZekA9CtejcGV6QFyPwvUohHpAFK5H4XqIekDD9Shcj3p6QPYoXI\\u002fClXpACtejcD1OekDXo3A9Cmd6QKRwPQrXa3pAFK5H4Xq0ekDD9Shcj6p6QFK4HoXrlXpAexSuR+HeekCuR+F6FAp7QFK4HoXr9XpAuB6F61HUekC4HoXrUUB7QM3MzMzMsHtAzczMzMwofEApXI\\u002fC9Rx8QBSuR+F6JHxAZmZmZmbCfEBSuB6F6yl9QI\\u002fC9ShcP31A4XoUrkcxfUDNzMzMzBh8QK5H4XoUdnxAPQrXo3B5fEBI4XoUrkd8QNejcD0KR3xAmpmZmZkxfECuR+F6FCZ8QFyPwvUoCHxArkfhehTWfEB7FK5H4cp8QB+F61G4tnxASOF6FK7nfEB7FK5H4d58QOF6FK5HaXxAMzMzMzNvfEApXI\\u002fC9ZB8QD0K16NwjXxA16NwPQqrfEAzMzMzM6N8QIXrUbgecXxAAAAAAACAfECuR+F6FGp8QM3MzMzMwHtAFK5H4Xq8e0B7FK5H4bZ7QJqZmZmZxXtAmpmZmZnxe0DNzMzMzCR8QArXo3A9WnxAZmZmZmbifUD2KFyPwquAQEjhehSuT4FAzczMzMwCgUApXI\\u002fC9RSBQHE9Ctej+IBAzczMzMzigECF61G4HvWBQNejcD0KcYJAFK5H4Xo2gkD2KFyPwlOCQK5H4XoUcoJAH4XrUbg2gkCamZmZmTGCQNejcD0KGYJAKVyPwvX4gkAfhetRuGaFQAAAAAAAYIZAAAAAAAAEhkBmZmZmZsKFQPYoXI\\u002fCLYhAexSuR+E6iEBSuB6F60+IQClcj8L19IdAcT0K16Pgh0DXo3A9Cv+GQI\\u002fC9ShcNYVAcT0K16Oqg0CkcD0K102FQKRwPQrXnYVApHA9CtfPhEBcj8L1KHqEQAAAAAAAmoRAPQrXo3AlhEAzMzMzMxuFQDMzMzMzcYVAmpmZmZn9hUD2KFyPwgeGQOF6FK5HXYVAUrgehetbhUAzMzMzM0+FQD0K16NwU4VASOF6FK7VhEDXo3A9CtOEQLgehetRYoRA16NwPQqdhECuR+F6FBqFQJqZmZmZ5YRAMzMzMzO3hEBxPQrXo9iEQEjhehSu04RAKVyPwvVShUBmZmZmZkyFQArXo3A9CoVAPQrXo3AHhUD2KFyPwtGEQHE9Ctej1IRAKVyPwvWChEB7FK5H4biEQHE9CtejroRApHA9CteBhEBI4XoUrouEQM3MzMzMjIRAZmZmZmaOhED2KFyPwpGEQArXo3A9eoRAKVyPwvWQg0DNzMzMzCaDQHsUrkfh6oFAAAAAAAAcgkAK16NwPRKCQDMzMzMzY4JArkfhehSsgkBSuB6F64eCQB+F61G4eIJApHA9Cte\\u002fgkC4HoXrUayCQOF6FK5Hb4JAXI\\u002fC9ShugkCPwvUoXE2CQHE9Ctej7IFAUrgehestgkCF61G4HieCQLgehetRDoJAUrgehesRgkDD9ShcjzaCQOF6FK5HQYJAmpmZmZljgkD2KFyPwmuCQB+F61G4PIJAmpmZmZkjgkApXI\\u002fC9SSCQM3MzMzMHoJAuB6F61HwgUAK16NwPQKCQHsUrkfhEoJAexSuR+EOgkAUrkfhegKCQIXrUbge\\u002fYFAAAAAAAC8gkAfhetRuB6DQGZmZmZmCINAcT0K16MWg0C4HoXrUTSDQFyPwvUopoNAcT0K16OWg0DNzMzMzIiDQMP1KFyPpoNASOF6FK4Dg0DsUbgehRmDQJqZmZmZH4NAH4XrUbgYg0CuR+F6FAqDQHsUrkfh\\u002foJA4XoUrkcRg0A9CtejcBeDQFyPwvUoDINAH4XrUbjcgkBSuB6F67OCQEjhehSu2YJAcT0K16PkgkDXo3A9CtuCQIXrUbgeAYNAAAAAAAACg0AfhetRuPSCQMP1KFyP9oJAUrgehesNg0BSuB6F6zmDQAAAAAAAMINAw\\u002fUoXI8kg0BmZmZmZiCDQBSuR+F6LoNAw\\u002fUoXI8ug0DhehSuR0+DQM3MzMzMXoNAmpmZmZlZg0DD9Shcj2qDQHE9CtejEIRAH4XrUbgKhEBxPQrXo\\u002faDQArXo3A9CoRAzczMzMwQhEAzMzMzMxeEQHE9CtejEoRAUrgehesFhEApXI\\u002fC9faDQI\\u002fC9Shcv4NAH4XrUbjQg0CamZmZmZGEQNejcD0KqYRAAAAAAACKhECPwvUoXMOEQKRwPQrXPYVAH4XrUbiEhUDsUbgehZOFQDMzMzMzg4ZAKVyPwvVQhkC4HoXrUSqGQJqZmZmZA4dAcT0K16Mmh0Bcj8L1KE6HQD0K16NwF4ZArkfhehQchkCuR+F6FFKGQFK4HoXrNYZAUrgehetHhkBmZmZmZiCHQFyPwvUomIZAw\\u002fUoXI9yhkAzMzMzM2mGQK5H4XoUCoZACtejcD0ShkD2KFyPwl2GQClcj8L1XIdAhetRuB6dh0DXo3A9CoeHQFK4HoXroYdApHA9Ctebh0D2KFyPwi2HQClcj8L1jodAAAAAAACCh0BxPQrXo1aHQDMzMzMzLYdASOF6FK4xh0Bcj8L1KBiHQK5H4XoUEIdA9ihcj8ILh0A9CtejcF+HQFyPwvUosodAZmZmZmZqiEAAAAAAAFKIQClcj8L1LohA9ihcj8IriEApXI\\u002fC9eyHQLgehetRHIhAmpmZmZk1iEAK16NwPTSIQB+F61G4SIhAZmZmZmY2iECPwvUoXG+IQEjhehSuo4hACtejcD1wiEA9CtejcGuIQArXo3A9iIhArkfhehTEiEBSuB6F69WIQHsUrkfhzIhAH4XrUbgKiUAK16NwPRKKQArXo3A9XotAKVyPwvXojECkcD0K19uMQDMzMzMzHYxAPQrXo3CJjEBmZmZmZmCNQI\\u002fC9Shcf45AMzMzMzObjkAK16NwPWSOQFK4HoXrHY5AcT0K16NYj0DD9Shcjx2QQLgehetRUJBASOF6FK4dkkBmZmZmZpySQArXo3A9W5BAH4XrUbhkjED2KFyPwnWNQOxRuB6FjYxAKVyPwvWWjECamZmZmbuMQAAAAAAA0olAAAAAAADoiUAfhetRuBiKQBSuR+F6uolACtejcD0UikAUrkfhenSMQAAAAAAArIxAexSuR+FEjEAzMzMzMxuMQClcj8L1+oxAXI\\u002fC9ShMjUBcj8L1KAKNQIXrUbge4YxAAAAAAAA6jEBxPQrXo7qMQPYoXI\\u002fC2YxA4XoUrkffjECPwvUoXNuMQGZmZmZm2IxAXI\\u002fC9ShgjkB7FK5H4eiOQFyPwvUorI9AFK5H4XonkECamZmZmVeQQOxRuB6FTpBAw\\u002fUoXI9SkEAfhetRuJeQQHsUrkfh25BAKVyPwvUDkUAzMzMzMzePQLgehetRio9ArkfhehRmj0DNzMzMzFCPQK5H4XoUnI9AH4XrUbiGj0AUrkfheiWQQEjhehSudJBAZmZmZmaUkEAK16NwPYOQQClcj8L14ZBAAAAAAAB1kUDD9Shcj5WRQBSuR+F6YpJAw\\u002fUoXI\\u002fBkkBmZmZmZluSQHsUrkfhPZJAUrgehet3kkAAAAAAAKWSQAAAAAAAGpNA7FG4HoW4k0AK16NwPQGUQJqZmZmZ\\u002fZNAXI\\u002fC9SjNk0AAAAAAAPCTQDMzMzMz7pNAcT0K16NAk0CkcD0K17WSQHsUrkfh2ZNAuB6F61GnkkBSuB6F6yuTQBSuR+F6VZNACtejcD1zk0A9CtejcI6TQFK4HoXrp5NAcT0K16NwkkDhehSuR2iRQHE9Ctejt5BAhetRuB6ckEAfhetRuImRQJqZmZmZgpFA16NwPQqIkEB7FK5H4UGQQK5H4XoUfo5ASOF6FK5\\u002fj0CamZmZmVmQQJqZmZmZopBA7FG4HoV8kEBcj8L1KGWQQEjhehSuy5BAexSuR+EOkUCPwvUoXE6RQClcj8L1\\u002fpFA9ihcj8IRkkCPwvUoXLyRQBSuR+F6kZJAuB6F61GKkkBSuB6F64OSQKRwPQrXtJJAj8L1KFyZkkDhehSuR+CSQMP1KFyP3JJAw\\u002fUoXI\\u002fXkkAzMzMzM5uSQAAAAAAAkJJAexSuR+GMkkCamZmZmauSQOF6FK5HBpNA16NwPQr+kkBcj8L1KGOTQPYoXI\\u002fCT5NACtejcD1Ok0DNzMzMzECTQPYoXI\\u002fCi5NAuB6F61HOk0C4HoXrUTuUQM3MzMzMnpRAhetRuB7NlEDNzMzMzLyUQHE9CtejD5VA4XoUrkdplkCamZmZmQeXQK5H4XoUU5dAcT0K16MjmUCF61G4HkiZQDMzMzMzq5hAexSuR+HymEBmZmZmZu2aQClcj8L1pZxA9ihcj8Lxm0AfhetRuEedQJqZmZmZAJ1AKVyPwvVTnEBI4XoUrp2cQDMzMzMzU5xA9ihcj8Lnm0AzMzMzMyCdQFK4HoXrwZ1ArkfhehRSn0ApXI\\u002fCdUmgQFyPwvUojqBAzczMzMz\\u002foUBxPQrXoyGiQD0K16Nwt6NAUrgehWuXpUCuR+F6lBukQGZmZmZmqKFASOF6FK62oUCamZmZGQaiQFK4HoXr+6FAXI\\u002fC9SgOokDhehSuxyCjQJqZmZkZcaNAuB6F69ErpEDhehSuxzOkQIXrUbie\\u002faRAuB6F69Fvp0D2KFyPwmqmQJqZmZmZ\\u002fqVAUrgehWurpkAUrkfh+g2nQDMzMzMzaadA7FG4HoVqp0CuR+F6FMqlQFyPwvWoxaVAUrgehWvNo0CkcD0K19ejQHsUrkdh+qRAMzMzMzPMpEAzMzMzs82kQGZmZmbmlqVA7FG4HgWopUAUrkfhekelQKRwPQpXmqVAexSuR+GLpUDsUbgehfSkQAAAAACAbqRAZmZmZubwo0ApXI\\u002fC9VekQFyPwvWoOaRAAAAAAID+o0DXo3A9iqajQMP1KFyPpKNAAAAAAABGpEBI4XoULo+kQM3MzMxMfaRAPQrXo3BxpEDhehSuR8imQEjhehSuFqRAFK5H4fqWpEC4HoXrUdKjQD0K16Pw2qJAUrgehWvvokA9CtejcPKiQAAAAACAdqJA4XoUrkduoUDXo3A9ihWgQBSuR+H6bKFAH4XrUTinokCkcD0KV7qiQGZmZmZmqaZAuB6F69EspkCkcD0K11ymQI\\u002fC9ShcIKZA7FG4HoWypUBcj8L1KKClQOxRuB6FZaRAcT0K16MKpUBmZmZm5qKmQOxRuB6F8aVAw\\u002fUoXA+NpUAK16NwPZOmQA==\"},\"low\":{\"dtype\":\"f8\",\"bdata\":\"MzMzMzODYEAAAAAAAMBgQJqZmZmZwWBArkfhehTuWkBSuB6F6xFXQGZmZmZmxlNAAAAAAAAgV0ApXI\\u002fC9chaQClcj8L1qFpAzczMzMxsWEBmZmZmZmZbQHE9CtejUFtAMzMzMzPjW0BxPQrXo0BcQFyPwvUoXFxAAAAAAACgXEAAAAAAAJBbQAAAAAAA4FlAzczMzMwMXEAUrkfheiRdQDMzMzMzk15AFK5H4XrkXUBI4XoUrgdeQD0K16NwTV5AAAAAAACAXkBmZmZmZsZeQK5H4XoUbl9AzczMzMwcYECkcD0K11NgQM3MzMzMLF9AZmZmZmZmX0AK16NwPepfQAAAAAAAwF9AmpmZmZmZX0DNzMzMzMxfQDMzMzMzw1xAAAAAAAAAXUBmZmZmZsZdQJqZmZmZ+V1AAAAAAABQXUB7FK5H4ZpaQDMzMzMz01pAAAAAAAAgVkAAAAAAAMBXQAAAAAAAAFpAH4XrUbiuWkBSuB6F6yFZQAAAAAAAgFhAAAAAAACAWEDNzMzMzLxYQAAAAAAAwFhAUrgehetBWUAAAAAAAHBaQAAAAAAA4FpAXI\\u002fC9SjsWkBxPQrXo+BaQB+F61G4jlpAH4XrUbg+WUBxPQrXo0BZQMP1KFyPsllAZmZmZmZGWUCF61G4HhVXQAAAAAAAQFdArkfhehSOV0AzMzMzM5NVQHE9Ctej4FVAH4XrUbg+U0AAAAAAAABSQFK4HoXrYVBAFK5H4Xq0UEBI4XoUrqdQQGZmZmZmJlJA4XoUrkchUkDNzMzMzAxTQIXrUbgeRVVAexSuR+EKVkCkcD0K1wNWQNejcD0KN1dA16NwPQpHV0ApXI\\u002fC9QhYQOxRuB6FC1hAzczMzMyMVUAzMzMzM\\u002fNVQOF6FK5HUVZAAAAAAAAAVkCF61G4HoVWQGZmZmZm5lZAAAAAAABAV0BI4XoUrndXQAAAAAAAAFhAAAAAAABAV0AAAAAAAIBXQM3MzMzMnFhArkfhehQeWUC4HoXrUfhZQHE9CtejwFlAPQrXo3BNWUAAAAAAAIBZQOF6FK5H4VlAAAAAAABAWkCkcD0K12NaQAAAAAAAsFpAcT0K16NQWUBcj8L1KHxZQArXo3A9mllAAAAAAACwWUAAAAAAAOBZQJqZmZmZKVpAAAAAAAAAW0AAAAAAAEBbQOF6FK5HIVtArkfhehQOW0AAAAAAAABcQOF6FK5H8VtAcT0K16NgXUDsUbgehetdQGZmZmZmJl5AXI\\u002fC9SicXUDhehSuR4FdQHsUrkfhyl1A7FG4HoX7XUAUrkfhegReQEjhehSup15APQrXo3CNXkCPwvUoXD9eQNejcD0Kl2BAUrgehevZYEAUrkfhetxgQAAAAAAAoGBA16NwPQrnXkCF61G4HnVeQJqZmZmZyV1APQrXo3CdXUCPwvUoXB9eQAAAAAAA8F1AmpmZmZl5X0DhehSuR9FeQFK4HoXreWBAcT0K16OIYECkcD0K1xtgQLgehetRCGBAcT0K16M4YEApXI\\u002fC9ThfQOF6FK5HUWBAZmZmZmYOYEDsUbgehatfQI\\u002fC9Shcj19A9ihcj8KlX0AK16NwPWpfQClcj8L1WF9AhetRuB7VX0AUrkfhetRfQEjhehSuD2BAUrgeheuRYEAfhetRuNZgQHE9CtejSGBAmpmZmZlxYEAAAAAAAJBZQBSuR+F69FtACtejcD3aXkApXI\\u002fC9QBgQJqZmZmZiV9A16NwPQqXX0A9CtejcC1fQIXrUbgeZV9AuB6F61EoYEAUrkfhejRgQFK4HoXrUWBAmpmZmZnRYEDNzMzMzFxhQFyPwvUoZGFA9ihcj8LNYUCF61G4Hs1hQArXo3A9MmJAZmZmZmZ2Y0BmZmZmZh5lQJqZmZmZ2WVAzczMzMzUZkBcj8L1KAxoQHE9CtejEGVAAAAAAAAQZUAAAAAAAPhlQDMzMzMzE2ZAUrgehesBaECamZmZmdFoQNejcD0K\\u002f2hAMzMzMzPbaEBcj8L1KERpQM3MzMzMNGlASOF6FK5\\u002faUCuR+F6FL5qQNejcD0KR2xAKVyPwvWYbkDNzMzMzFhwQHsUrkfhjnJAj8L1KFz7c0CkcD0K11NxQBSuR+F6fHNAzczMzMxsdUDNzMzMzHx2QNejcD0Ks3hA9ihcj8LBeECF61G4Hvl5QKRwPQrXg3tA16NwPQrvfkAK16NwPYZ8QDMzMzMzB3xAuB6F61EKgkDXo3A9CuGEQJqZmZmZHYhAKVyPwvWWhkA9CtejcJOHQGZmZmZmBolAPQrXo3Ddi0CPwvUoXBGOQIXrUbgeRY9APQrXo3BKkUDD9Shcjw6JQOF6FK5HU41ASOF6FK6Zj0BxPQrXo7iQQHsUrkfhCIxAmpmZmZnriUD2KFyPwgGEQNejcD0K94RAMzMzMzNniEDD9Shcj+KLQKRwPQrXEYpAmpmZmZlnikBmZmZmZuCKQHsUrkfh0opAAAAAAADIiUAAAAAAAOKEQNejcD0Kt4NAXI\\u002fC9ShIekAK16NwPW5\\u002fQHE9CtejmoJAj8L1KFwZgkCF61G4Hk2CQLgehetRGINASOF6FK4thECkcD0K10uEQOxRuB6FX4VAzczMzMxMhkDNzMzMzAqGQOxRuB6FU4ZAUrgeheshh0CPwvUoXBGHQPYoXI\\u002fCl4dASOF6FK75h0ApXI\\u002fC9aiIQI\\u002fC9ShcDYlAXI\\u002fC9Si0ikBI4XoUrk2MQAAAAAAAEIlAPQrXo3BBiECF61G4HiGJQM3MzMzMtIlA9ihcj8LtikCPwvUoXJmKQGZmZmZmMIlA4XoUrkfNiUB7FK5H4faJQNejcD0KHYpA16NwPQrtiEDD9Shcj4CJQArXo3A9zIlAKVyPwvWuikA9CtejcL+KQHsUrkfhKopAw\\u002fUoXI+aiUBxPQrXo3yIQEjhehSux4hAexSuR+FmikB7FK5H4aiHQKRwPQrX94dAzczMzMxOiUAUrkfheviIQM3MzMzMZIlAexSuR+HYiUCPwvUoXKWJQPYoXI\\u002fCOYlA7FG4HoWniUDhehSuR1+JQB+F61G4FIhAzczMzMxyhEApXI\\u002fC9a6EQAAAAAAAeoRAAAAAAAA0gUDhehSuR+WDQLgehetRGIRA4XoUrkfPgkC4HoXrUeiAQB+F61G4xoNAj8L1KFxBgkAUrkfhevqCQLgehetRJINAmpmZmZlVg0CF61G4HmGBQPYoXI\\u002fCk4BAcT0K16N0gUCamZmZmb2CQJqZmZmZ1YBAw\\u002fUoXI9GekBxPQrXo6SAQClcj8L1tIFAj8L1KFwJgUC4HoXrUdqAQFyPwvUoSoFAXI\\u002fC9SiEgUA9CtejcH2EQArXo3A9MoRAuB6F61FOhEDNzMzMzEKDQEjhehSu44JAzczMzMwig0Bcj8L1KDiDQB+F61G4VoNArkfhehSsg0DNzMzMzLaDQEjhehSumYNAZmZmZmaag0B7FK5H4aCDQHsUrkfhRoNAZmZmZmbegkDNzMzMzAiDQFK4HoXrW4JAFK5H4XqOgUCF61G4HlOBQNejcD0Kh4FAXI\\u002fC9Sg+gUB7FK5H4eSBQEjhehSu14FApHA9CtdzfUBI4XoUrpN9QEjhehSum35AexSuR+HCe0BSuB6F67V7QAAAAAAAkHxAuB6F61H0ekAK16NwPe55QD0K16Nw0XpAMzMzMzPDe0DsUbgehU98QFK4HoXr0XtA9ihcj8Lhe0B7FK5H4Z57QEjhehSua3ZAuB6F61H0dUBxPQrXo\\u002fx5QAAAAAAAtHhAUrgehet1eUBxPQrXo1h8QBSuR+F6bH9AUrgehetNfkCkcD0K14t9QClcj8L1aH1APQrXo3CtfkAzMzMzM9N+QOF6FK5HeX5AhetRuB5dfkAzMzMzMy9+QDMzMzMzr3tAmpmZmZkRfEAK16NwPUZ7QNejcD0Kb3pAexSuR+Eye0AzMzMzM0t7QK5H4XoU+ntAZmZmZma2e0B7FK5H4ep6QM3MzMzM4HpAUrgeheu5ekAAAAAAAHR6QDMzMzMzx3pACtejcD1ie0AK16NwPYJ7QOxRuB6FB3xAZmZmZmYWe0BI4XoUriN7QOxRuB6FT3tAAAAAAACIe0CuR+F6FLp7QI\\u002fC9Shcz3tAzczMzMz0e0AUrkfhesx7QJqZmZmZsXtAXI\\u002fC9Sjge0CkcD0K1zd+QNejcD0Ko35AcT0K16NAgEAK16NwPSKAQKRwPQrXaYBAcT0K16OqgUA9CtejcFOBQB+F61G4oIFAzczMzMyMgUDhehSuR8GBQPYoXI\\u002fC44JA4XoUrkdfg0AAAAAAAFaDQArXo3A9VoRAH4XrUbiAg0AfhetRuACEQGZmZmZmYoRA4XoUrkcnhED2KFyPwmuEQIXrUbgeI4RAFK5H4Xo0hEBmZmZmZsSDQFyPwvUo6oFAmpmZmZlNgkDD9Shcjy6BQIXrUbgeV4FAw\\u002fUoXI9YgkAzMzMzM3OCQDMzMzMz44JAXI\\u002fC9SiogkCuR+F6FF6CQFK4HoXrXYJA16NwPQqVgkAfhetRuFKCQHsUrkfhMoJA16NwPQqtgUCkcD0K16WBQNejcD0KH4JAj8L1KFyfgkDhehSuR6GCQNejcD0Kv4JAexSuR+EAhEAfhetRuPKDQGZmZmZmCoRAMzMzMzOrg0AAAAAAAKCDQOF6FK5HuYNArkfhehRIg0DhehSuR2eDQM3MzMzMdINAzczMzMwig0Bcj8L1KD6DQKRwPQrXl4NA4XoUrkeHg0DD9Shcj0qDQNejcD0KXYNAcT0K16M6g0AzMzMzMwODQPYoXI\\u002fCY4NAzczMzMyEg0Bcj8L1KHaDQHsUrkfhWINASOF6FK5ng0C4HoXrUVKDQMP1KFyPnIJApHA9CtepgkBI4XoUro+CQD0K16Nwi4JAPQrXo3D5gUCamZmZmS2CQDMzMzMzp4FArkfhehSkgUDXo3A9Cj2CQDMzMzMzUYJAMzMzMzMtgkBSuB6F6z2CQM3MzMzMQIJAzczMzMw4gkBmZmZmZkCCQLgehetRZoJA16NwPQpdgkDsUbgehV+CQGZmZmZm8IFAzczMzMy0gUCPwvUoXKWAQEjhehSuK39AexSuR+F+fkCkcD0K13t+QK5H4XoUOn5AmpmZmZm9e0BxPQrXo3h8QFyPwvUoOH1AMzMzMzPnf0C4HoXrUVR\\u002fQPYoXI\\u002fCwX5AmpmZmZkVf0BI4XoUrjN\\u002fQHE9CtejaH9AH4XrUbjuf0CuR+F6FK5\\u002fQIXrUbgefX9ACtejcD1af0ApXI\\u002fC9ax9QMP1KFyPfn1AhetRuB6FfUCPwvUoXMN9QD0K16Nw0X1A9ihcj8IZfkAAAAAAADB+QBSuR+F6JH5AcT0K16NMfUAUrkfhejx9QArXo3A9sn1A9ihcj8KpfUBcj8L1KJB9QJqZmZmZsX1AUrgehevBfUC4HoXrUaB9QK5H4XoUEn1AH4XrUbhGfECamZmZmdF5QBSuR+F6CHhArkfhehReeEB7FK5H4ZJ4QK5H4XoU0nhAMzMzMzPDeECuR+F6FFJ6QOxRuB6Fl3lAXI\\u002fC9SgAeUBSuB6F69V4QOF6FK5HZXdApHA9CtdDd0DXo3A9Cld3QBSuR+F6zHdAMzMzMzNPd0D2KFyPwl12QArXo3A9XnRAzczMzMwUckApXI\\u002fC9ehyQEjhehSuB3RA16NwPQpzdEDXo3A9Crt1QI\\u002fC9ShcD3ZAMzMzMzM\\u002fdkAK16NwPUJ2QGZmZmZmDndAhetRuB51eEC4HoXrUUx4QIXrUbgeUXdACtejcD12d0DsUbgeha93QI\\u002fC9ShcJ3hAAAAAAACkd0DhehSuR813QAAAAAAA5HdAMzMzMzNHdkApXI\\u002fC9RR2QK5H4XoUbnVAexSuR+F+dUApXI\\u002fC9dx1QHsUrkfhCnZAPQrXo3D1dECF61G4HvF0QArXo3A9EnVAKVyPwvUQdECuR+F6FAp0QEjhehSuV3RA4XoUrkdRdEB7FK5H4ap0QB+F61G4JnVAFK5H4XpcdUBmZmZmZmJ1QAAAAAAAhHVAKVyPwvVYdkCkcD0K17t2QKRwPQrX\\u002f3ZAUrgehesReUBxPQrXowx4QFyPwvUoMHdAmpmZmZlpd0AAAAAAAJh3QFK4HoXrMXdAZmZmZmZed0AUrkfhekx2QPYoXI\\u002fCgXVArkfhehTudUB7FK5H4RJ2QB+F61G46nZAFK5H4Xpsd0CF61G4Ht12QBSuR+F6BHdAMzMzMzNndkAK16NwPUJ3QClcj8L1VHdAH4XrUbiKd0D2KFyPwp13QJqZmZmZZXdAXI\\u002fC9Sj8dkBcj8L1KNx2QNejcD0KL3dAuB6F61FUd0AK16NwPZ52QDMzMzMzj3VAUrgeheuldUBcj8L1KCx1QHE9Ctej1HVAPQrXo3CpdUAfhetRuJZ1QHsUrkfhjnVAKVyPwvVwdEBmZmZmZrJzQEjhehSuA3NAuB6F61Esc0BxPQrXo8BzQGZmZmZm7nNAexSuR+EGdECamZmZmZl0QPYoXI\\u002fCFXRAj8L1KFzPc0CuR+F6FMpzQK5H4XoUinNA4XoUrkdxc0ApXI\\u002fC9YRzQFK4HoXrVXNAj8L1KFxjc0AAAAAAAKBzQClcj8L1mHNA4XoUrkeRcUD2KFyPwhlwQOF6FK5HkXBAMzMzMzMLcUDhehSuR7FxQHsUrkfhonFAFK5H4XqIcUDsUbgehR9xQHE9CtejkHBAMzMzMzOTcECF61G4Hn1rQLgehetRcGVAzczMzMwcZkBxPQrXo\\u002fhoQFyPwvUoXGhAuB6F61FQaEAK16NwPeppQM3MzMzMpGlAH4XrUbhmakD2KFyPwk1sQGZmZmZmJmxAcT0K16PAbEAUrkfhenxuQMP1KFyPwm9AzczMzMxUb0CamZmZmWFsQB+F61G4lmtAexSuR+E6bEBSuB6F6wlrQLgehetRgGpAhetRuB7Va0CPwvUoXA9sQOxRuB6Fo2tA16NwPQrXakCPwvUoXAdrQOxRuB6F02tAw\\u002fUoXI+ia0BxPQrXoyBrQMP1KFyP6mpACtejcD1Ca0DsUbgehTNrQLgehetRqGtAKVyPwvVwbUD2KFyPwnVsQHE9CtejoGxAUrgehesJbUB7FK5H4QptQHsUrkfhcm1AmpmZmZnpbUD2KFyPwmVuQDMzMzMzO21APQrXo3ANbUDNzMzMzIxtQClcj8L1cG1AuB6F61FIbUCuR+F6FI5tQI\\u002fC9ShcL29A9ihcj8K9bkApXI\\u002fC9SRwQMP1KFyPwnBArkfhehTCcEC4HoXrUYxwQFyPwvUo4HBArkfhehTicEApXI\\u002fC9QhxQArXo3A9HnFApHA9CtcbckBcj8L1KChyQMP1KFyPRnJAPQrXo3DVcUBI4XoUro9xQAAAAAAAkHFA16NwPQrbcUBSuB6F68VxQKRwPQrXO29AFK5H4XoUb0DD9ShcjzJwQM3MzMzM9G9APQrXo3A5cEAAAAAAAFxwQIXrUbgehW5AuB6F61GQbUCF61G4Hp1uQB+F61G4pm5A16NwPQrfbkAzMzMzMxtuQB+F61G45m1ASOF6FK5XbkCF61G4HiVuQD0K16NwrW5AXI\\u002fC9Sh8b0AzMzMzM2NvQK5H4XoUfm9ACtejcD3Sb0AfhetRuIZvQNejcD0Kh25AzczMzMzsbUBxPQrXoxhtQPYoXI\\u002fCRW1AAAAAAAAwbUAAAAAAAMBrQArXo3A9CmtAzczMzMxUa0A9CtejcP1rQK5H4XoUvmtAXI\\u002fC9Sica0CkcD0K18trQI\\u002fC9Shcv2tAmpmZmZkJbECPwvUoXC9tQGZmZmZmJm1A9ihcj8K9bEB7FK5H4UpsQKRwPQrX22pAcT0K16NAa0AK16NwPeJrQPYoXI\\u002fC7WtASOF6FK4fbEDD9ShcjwJtQHsUrkfhCm1Aw\\u002fUoXI9CbUBSuB6F67ltQJqZmZmZAW1Aj8L1KFynbEAK16NwPZJsQHE9CtejiG1AFK5H4Xr0bUAzMzMzM9ttQFyPwvUo7G1AMzMzMzMDbkDhehSuR2FtQFK4HoXrQW1A4XoUrkeZbUDhehSuR2ltQLgehetRgG1AH4XrUbgObUAK16NwPfpsQHsUrkfh+mxAexSuR+E6bUBSuB6F62FtQK5H4XoU1m1AUrgehevZbUAUrkfhepRtQK5H4XoUdm1ArkfhehSWbUDNzMzMzJRtQI\\u002fC9Shcd21AmpmZmZkBbUDhehSuR7FsQJqZmZmZqWtAPQrXo3DNa0D2KFyPwv1rQJqZmZmZAWxA9ihcj8Lla0Bcj8L1KAxsQM3MzMzM1GtAexSuR+Haa0D2KFyPwn1sQLgehetRgGxAcT0K16OYbEBSuB6F66lsQB+F61G4pmxAAAAAAAAAbUA9CtejcC1tQKRwPQrXg21Aj8L1KFzPbkBcj8L1KIRuQOF6FK5HeW5AXI\\u002fC9SgUbkBcj8L1KDxuQClcj8L1eG5AXI\\u002fC9ShkbkC4HoXrURBuQKRwPQrXC25AmpmZmZkxbkCkcD0K12NuQPYoXI\\u002fC7W5Aw\\u002fUoXI8Sb0BmZmZmZv5vQHE9Ctej+G9ApHA9CtfDb0AAAAAAALBvQGZmZmZmxm9AMzMzMzMrcECamZmZmblwQOF6FK5HjXBACtejcD2GcEA9CtejcLFwQM3MzMzMzHBAFK5H4Xq4cUAAAAAAAEhyQFyPwvUokHFACtejcD3qcUBSuB6F69VxQKRwPQrXM3FAcT0K16MAcUCF61G4HiFxQFyPwvUoCHFAj8L1KFwPcUAfhetRuDZxQK5H4XoUJnFA7FG4HoU7cUAAAAAAADRxQAAAAAAA4HFAj8L1KFz7cUAzMzMzM\\u002fdxQB+F61G4VnJAFK5H4XoMckCF61G4HulxQD0K16NwpXFA9ihcj8JhcUAUrkfhelhxQEjhehSug3FASOF6FK6TcUCkcD0K15dxQGZmZmZmZnFAUrgehetFcUCPwvUoXEtwQOxRuB6FR3BAmpmZmZlpcEA9CtejcIFwQOxRuB6Fl3BAPQrXo3BtcEBI4XoUrldwQM3MzMzMVHBAcT0K16MQcEBSuB6F6xFwQMP1KFyPYmpAcT0K16PYa0DNzMzMzFxsQNejcD0K92xAZmZmZmbWa0DD9ShcjzJsQK5H4XoUTmpACtejcD3yaEBmZmZmZoZrQPYoXI\\u002fC9WtA9ihcj8Kda0DD9Shcj2psQAAAAAAASGxAhetRuB49bEDsUbgehVtsQNejcD0KT2xAPQrXo3BVbECamZmZmWFsQK5H4XoUrmxA9ihcj8JVbUDXo3A9CtdtQPYoXI\\u002fC9W1ACtejcD26bUDhehSuR3ltQMP1KFyPym1AAAAAAABYbUDD9Shcj6psQB+F61G4fmxACtejcD26bEDNzMzMzGxsQPYoXI\\u002fCnWxArkfhehQGbUB7FK5H4eJsQIXrUbge3WxAcT0K16NQbECkcD0K1yNsQHsUrkfhsmxA4XoUrkfJbED2KFyPwjVtQOxRuB6FK21Aj8L1KFwPbUDXo3A9Cg9tQPYoXI\\u002fCfW1AXI\\u002fC9Sh0bUCkcD0K13NtQDMzMzMzk21ArkfhehSebUCuR+F6FL5tQClcj8L1oG1AFK5H4XoEbkB7FK5H4VJuQPYoXI\\u002fCRW5ApHA9CtdDbkAK16NwPWJuQM3MzMzMhG5A9ihcj8KlbkC4HoXrUXhuQM3MzMzMHG9AmpmZmZmBb0D2KFyPwr1vQFK4HoXrZXBAFK5H4XpMcEAzMzMzM09wQEjhehSuc3BAPQrXo3B9cECuR+F6FKJwQHE9CtejGHFAAAAAAABIcUDXo3A9CpdxQFyPwvUoiHFAXI\\u002fC9SjQcUAzMzMzM1tyQIXrUbge3XJA16NwPQqfc0AAAAAAAFRzQK5H4XoUfnNAj8L1KFwzdEBmZmZmZlp2QM3MzMzMyHdA4XoUrkdpd0C4HoXrUSB2QHsUrkfhRndAMzMzMzMLd0AK16NwPa52QPYoXI\\u002fCkXRAAAAAAADQckD2KFyPwpVzQIXrUbgeYXRA7FG4HoWfdECkcD0K19dzQGZmZmZmvnNA9ihcj8KZdEAK16NwPap0QLgehetRVHRA7FG4HoWDc0CamZmZmflzQFyPwvUoFHRAcT0K16MUdEBSuB6F6+FzQLgehetRzHNASOF6FK6DdEBSuB6F6711QB+F61G4AnZAH4XrUbg6dkCuR+F6FCZ3QClcj8L1SHZAj8L1KFzXdUDD9Shcj1Z2QFyPwvUoPHZASOF6FK6zdkA9CtejcDF4QMP1KFyPFnhAMzMzMzNfeEBxPQrXo2R5QM3MzMzMuHlAFK5H4Xr0eUCkcD0K16t5QLgehetRpHpAj8L1KFznekCuR+F6FL57QJqZmZmZvXtA9ihcj8INfEDXo3A9Cm98QFyPwvUojHxAPQrXo3Ale0ApXI\\u002fC9bR6QLgehetROHtAUrgehetJe0DhehSuR7F7QIXrUbgeQXxAXI\\u002fC9ShceUCuR+F6FI55QEjhehSuJ3pArkfhehRKekDhehSuR2F6QKRwPQrXK3pAXI\\u002fC9Si4ekBSuB6F6\\u002f16QI\\u002fC9Shci3pA4XoUrkfRekB7FK5H4dp6QD0K16NwpXpA4XoUrkfRekDXo3A9Cv97QArXo3A97ntAmpmZmZmFe0D2KFyPwr17QNejcD0KO3tA16NwPQqHekCamZmZmb16QOF6FK5HxXZAw\\u002fUoXI8udkA9CtejcMF3QB+F61G4indA7FG4HoWvd0CamZmZmYl3QM3MzMzMZHlAFK5H4Xp0d0BI4XoUrt93QFyPwvUoOHhAzczMzMxIeECF61G4Hml4QBSuR+F6fHhApHA9Cte7d0AzMzMzM9d2QKRwPQrXh3dA4XoUrkf9dkCPwvUoXP92QB+F61G4TndAzczMzMwAd0CkcD0K1x93QIXrUbgeGXhACtejcD1Gd0BmZmZmZm53QOF6FK5HVXdAZmZmZmZOd0AUrkfhenx3QGZmZmZmhndAmpmZmZm5d0AK16NwPQp4QHsUrkfhjnhAAAAAAADceEB7FK5H4RZ5QBSuR+F6bHlACtejcD36eUCamZmZmRl6QJqZmZmZWXpA4XoUrkfRekAfhetRuA57QIXrUbgeHXpAw\\u002fUoXI\\u002feeUAfhetRuEZ6QFK4HoXrWXpAmpmZmZnBekCF61G4Hn16QNejcD0K+3pAhetRuB4Fe0CkcD0K1396QMP1KFyPNnpA16NwPQqveUBxPQrXo6B4QBSuR+F6vHhAKVyPwvVkeUA9CtejcLF5QPYoXI\\u002fCuXlAAAAAAADUeUBcj8L1KBB6QD0K16NwoXlACtejcD26eUAzMzMzM+N5QKRwPQrX73lAw\\u002fUoXI\\u002f+eUAK16NwPR56QArXo3A9YnlASOF6FK5zeUBmZmZmZqZ5QK5H4XoUpnlAFK5H4XrIeUD2KFyPwhV6QKRwPQrX93lAKVyPwvX4eUBcj8L1KAR6QI\\u002fC9ShcG3pAcT0K16N0ekB7FK5H4cp5QAAAAAAAyHlAXI\\u002fC9Sj0eUDhehSuR\\u002f15QB+F61G4JnpAMzMzMzM7ekCamZmZmTl6QPYoXI\\u002fCSXpASOF6FK5rekC4HoXrUUh6QK5H4XoUOnpAXI\\u002fC9SgIekBcj8L1KDR6QBSuR+F6SHpAPQrXo3BtekAfhetRuG56QFyPwvUocHpAexSuR+GGekBI4XoUrs96QOF6FK5HoXpAPQrXo3CxekCamZmZmcF6QMP1KFyPJntAMzMzMzOPe0BmZmZmZsJ7QOF6FK5HxXtAexSuR+EOfEA9CtejcFl8QFK4HoXr2XxArkfhehTCe0BmZmZmZkp7QLgehetR4HtAMzMzMzP7e0B7FK5H4f57QBSuR+F6nHtAUrgeheupe0CuR+F6FNp7QK5H4XoU3ntAhetRuB7xe0CF61G4HpV8QEjhehSuf3xAFK5H4XqIfEAzMzMzMw98QPYoXI\\u002fCLXxAAAAAAAAUfEAzMzMzM1d8QHE9CtejbHxAj8L1KFx3fEDXo3A9Ck98QPYoXI\\u002fCWXxAzczMzMxUfECPwvUoXGt7QArXo3A9VntAj8L1KFybe0BxPQrXo3B7QIXrUbgebXtAexSuR+G+e0ApXI\\u002fC9eB7QGZmZmZm\\u002fntAuB6F61FYfEAzMzMzM4t9QD0K16NwAYBASOF6FK5XgEDhehSuR0WAQIXrUbgebYBAcT0K16OogECPwvUoXMeAQFK4HoXroYFAPQrXo3DJgUDNzMzMzPSBQK5H4XoUvIFA16NwPQrpgUCamZmZmdeBQHE9Ctej6oFAj8L1KFwVgkC4HoXrUfiCQFK4HoXrw4RAZmZmZma2hEAUrkfhegSFQFyPwvUoxIVAFK5H4XpkhkA9CtejcO+GQNejcD0KTYdApHA9CtflhkDD9Shcj\\u002fiDQKRwPQrXW4JAhetRuB5xgUBcj8L1KIqDQBSuR+F6NIRAPQrXo3BHg0Bcj8L1KGSDQFyPwvUo7oNACtejcD2ig0B7FK5H4eSDQB+F61G47IRAMzMzMzMjhUCuR+F6FEiEQK5H4XoUVIRAw\\u002fUoXI\\u002fIhECPwvUoXPOEQHE9CtejHoNA9ihcj8Ljg0AzMzMzM8uDQK5H4XoUCoRApHA9CtcnhEAK16NwPTaEQPYoXI\\u002fCc4RAj8L1KFxnhEC4HoXrUZiEQHE9CtejmoRAUrgeheuvhEDXo3A9CuWEQNejcD0K3YRAexSuR+G6hEDhehSuR6OEQPYoXI\\u002fCNYRAXI\\u002fC9ShEhEC4HoXrUWaEQIXrUbgea4RA16NwPQovhECamZmZmUOEQFK4HoXrc4RAuB6F61F2hEBI4XoUrnGEQClcj8L1goNA16NwPQrvgkBxPQrXo5qAQGZmZmZm7IBACtejcD2ugUCkcD0K18+BQPYoXI\\u002fCy4FAw\\u002fUoXI9WgkBmZmZmZmCCQLgehetRRoJAKVyPwvVSgkApXI\\u002fC9WiCQBSuR+F6PoJApHA9CtdHgkAK16NwPaaBQFK4HoXrmYFA9ihcj8K1gUA9CtejcNuBQD0K16Nw64FAPQrXo3DxgUBI4XoUrvuBQPYoXI\\u002fCIYJAH4XrUbgkgkDXo3A9Ci2CQHsUrkfhHoJAj8L1KFz5gUB7FK5H4QaCQNejcD0KxYFAUrgehevNgUD2KFyPwuuBQHsUrkfh8IFAhetRuB7tgUAUrkfhet6BQBSuR+F61oFAFK5H4XrwgUDNzMzMzKaCQFK4HoXr0YJAH4XrUbjogkCuR+F6FASDQB+F61G4LoNArkfhehRig0CF61G4HnODQK5H4XoUxIJA4XoUrkfrgkCPwvUoXPeCQOF6FK5HA4NAMzMzMzP5gkBSuB6F6\\u002fWCQOxRuB6F6YJAexSuR+HugkBcj8L1KAKDQOxRuB6F\\u002f4JA16NwPQqfgkBI4XoUrqGCQLgehetRnoJAuB6F61HQgkBI4XoUrr2CQM3MzMzMwoJAexSuR+HggkB7FK5H4eSCQM3MzMzM5oJAhetRuB7hgkA9CtejcA+DQD0K16NwDYNASOF6FK4Tg0CkcD0K1wuDQClcj8L1DINA9ihcj8Ibg0DD9Shcjx6DQB+F61G4SoNAexSuR+FEg0CamZmZmUGDQAAAAAAAVINA9ihcj8Lfg0AK16NwPdiDQK5H4XoU6INAhetRuB7rg0AzMzMzM\\u002feDQOF6FK5H9YNAAAAAAADgg0CuR+F6FKCDQK5H4XoUooNA7FG4HoW1g0DNzMzMzMaDQIXrUbgeb4RAzczMzMxkhECamZmZmW2EQD0K16NwjYRAuB6F61EwhUDhehSuR2GFQGZmZmZmkIVApHA9CtfDhUA9CtejcJ2FQB+F61G46oVAzczMzMyShkDhehSuRzGFQBSuR+F6bIVAUrgehevNhUAUrkfhetyFQDMzMzMz34VAhetRuB7zhUB7FK5H4SSGQEjhehSuOYZA4XoUrkdThkAK16NwPQCGQMP1KFyPeoVAFK5H4XrehUCuR+F6FAqGQLgehetRKIZArkfhehQch0CF61G4HgeHQPYoXI\\u002fCQ4dA7FG4HoVvhkCuR+F6FNSGQArXo3A9BIdAj8L1KFwXh0BSuB6F6+uGQB+F61G49IZA16NwPQrNhkAfhetRuNiGQKRwPQrX44ZAFK5H4Xr0hkCuR+F6FAKHQGZmZmZmUIdAuB6F61Gsh0B7FK5H4eaHQOF6FK5HAYhASOF6FK59h0D2KFyPwrWHQAAAAAAAvodAmpmZmZnvh0AzMzMzMw2IQOF6FK5HJ4hA4XoUrkfrh0C4HoXrURCIQEjhehSuT4hAH4XrUbhGiEBmZmZmZk6IQEjhehSuV4hAexSuR+GGiEAK16NwPaCIQMP1KFyPsohAAAAAAAC8iEAzMzMzM\\u002fuIQDMzMzMzEYpAPQrXo3AFi0AfhetRuLKLQI\\u002fC9Shc84pAMzMzMzMHjEAAAAAAAEKMQHE9CtejNo1AAAAAAADUjUBxPQrXozaNQFK4HoXrmY1AmpmZmZn1jUCamZmZmSWPQM3MzMzM7I9AmpmZmZlRkECPwvUoXHOMQOxRuB6Fn4tAFK5H4Xq8iUAAAAAAALqLQBSuR+F6fotAFK5H4XoojECuR+F6FNaHQK5H4XoUnodAAAAAAABgiEBI4XoUrmOJQClcj8L1ZolAXI\\u002fC9SiiiUBmZmZmZvaJQGZmZmZm0opAH4XrUbiii0CuR+F6FLiLQArXo3A9\\u002fItAFK5H4XoMjEBSuB6F66WMQLgehetR4otA7FG4HoXdi0D2KFyPwjGMQM3MzMzMnoxAFK5H4Xq+jEAzMzMzM7mMQPYoXI\\u002fCu4xASOF6FK7HjEBSuB6F61WOQPYoXI\\u002fCuY5AuB6F61GGj0DhehSuR7mPQClcj8L18o9AcT0K16MQkEDD9Shcj0CQQClcj8L1NZBAH4XrUbjKjUDsUbgehZWNQHE9Ctejto5Aj8L1KFwnj0AAAAAAAICOQPYoXI\\u002fC045AcT0K16NMj0AzMzMzM32PQMP1KFyPBpBApHA9CtdbkECkcD0K102QQPYoXI\\u002fCRpBAH4XrUbjTkEAzMzMzMzKRQKRwPQrXc5FApHA9CtevkUCPwvUoXJKRQM3MzMzMqJFA7FG4HoUtkkDhehSuR0+SQPYoXI\\u002fCbpJAFK5H4Xr+kkCkcD0K14qTQNejcD0KOpNACtejcD1Yk0BmZmZmZsKTQDMzMzMz05JAuB6F61HwkUBSuB6F69SRQAAAAAAA1ZBA4XoUrkdxkUA9CtejcF2SQIXrUbgeBJNAexSuR+ESk0AAAAAAAF+TQPYoXI\\u002fCAZJA4XoUrkcukUAzMzMzM+2NQKRwPQrXhY5AH4XrUbgykEA9CtejcH2QQEjhehSusY9AH4XrUbgTkEB7FK5H4TKNQEjhehSuPYxA7FG4HoXRjUCkcD0K11+OQFK4HoXrDpBA16NwPQq\\u002fj0C4HoXrUeCPQMP1KFyPCpBAj8L1KFyUkEDNzMzMzM2QQM3MzMzMO5FArkfhehSCkUDsUbgehWaRQArXo3A9l5FAw\\u002fUoXI8tkkC4HoXrUSqSQD0K16NwT5JAXI\\u002fC9ShskkCkcD0K142SQNejcD0Ks5JA9ihcj8IRkkBcj8L1KB+SQKRwPQrXM5JAPQrXo3BSkkCamZmZmVKSQK5H4XoUp5JAuB6F61HUkkBxPQrXo+GSQArXo3A9\\u002fpJAexSuR+HhkkD2KFyPws+SQOxRuB6F5pJAexSuR+GHk0AfhetRuMeTQDMzMzMzBZRAFK5H4XoxlECkcD0K14yUQEjhehSui5RAMzMzMzMRlUD2KFyPwh6WQClcj8L1nZZAexSuR+FKl0AK16NwPemXQAAAAAAAGphA16NwPQpfmEBI4XoUrvOYQDMzMzMz0ZpAZmZmZmbcmkBmZmZmZm2bQNejcD0KeJpAuB6F61HMmUAUrkfhesKbQFyPwvUosppAXI\\u002fC9ShamkBxPQrXo\\u002feZQBSuR+F6PJxAAAAAAACJnUBI4XoUrtueQAAAAAAA1p9AFK5H4XqHn0AAAAAAAAWhQArXo3C9IqJAmpmZmZnaoUAUrkfh+i+gQLgehetR\\u002f5xAXI\\u002fC9SgMoECkcD0KV3agQHE9CtcjmaBAcT0K1yPDoEBcj8L1qOChQHE9CtejiqJAcT0K1yPvokCuR+F6FCmjQD0K16NwnKNASOF6FK4FpUCF61G4HhmlQGZmZmbm3aRACtejcD3XpUCamZmZGXWlQMP1KFwPMaZAhetRuB6to0D2KFyPwrSkQHsUrkfh2aJAUrgehetJoUDNzMzMTKKiQFK4HoXraaNAXI\\u002fC9aioo0DD9ShcD+qjQHE9CtejO6RAzczMzMzIpEAfhetRuKSkQArXo3C9JKVAexSuR2EupEAK16NwPfCjQK5H4XqUkKJAFK5H4fo5okCkcD0K12ijQClcj8L1nKNAj8L1KNxco0ApXI\\u002fCdeaiQEjhehSutaJAPQrXo\\u002fBgo0AzMzMzs\\u002f6jQJqZmZkZ1aNAexSuR2ErpEAK16NwvYWjQIXrUbieeKNASOF6FC6ro0D2KFyPQiKiQIXrUbie8aFA4XoUrkfGoUBcj8L1qEmiQD0K16NwDqFAcT0K16MZn0CF61G4HsycQBSuR+F6Mp5A16NwPYrpoEApXI\\u002fCdaihQOF6FK7Hu6FAMzMzM7N7pEBSuB6Fa8OkQHsUrkfhu6RAexSuR2EWpUBSuB6F62GjQJqZmZmZJaNASOF6FK7Co0ApXI\\u002fCde+kQJqZmZmZCaVAMzMzM7OppEAfhetROEGlQA==\"},\"open\":{\"dtype\":\"f8\",\"bdata\":\"mpmZmZnpYECuR+F6FM5gQAAAAAAAAGJAAAAAAABgYUC4HoXrURhdQAAAAAAAkFpAZmZmZmaGWECamZmZmTlcQB+F61G4\\u002flxAAAAAAAAQXEBmZmZmZmZbQM3MzMzMTFxAMzMzMzMzXEDNzMzMzGxdQClcj8L16FxAFK5H4Xq0XEAfhetRuH5dQJqZmZmZ2VtArkfhehSOXEA9CtejcI1dQAAAAAAA4F5APQrXo3DNXkAAAAAAAKBeQOF6FK5HgV5AKVyPwvW4XkAzMzMzM\\u002fNeQDMzMzMzk19AMzMzMzOjYEBI4XoUrn9gQAAAAAAAsGBAcT0K16M4YEAAAAAAACBgQAAAAAAAiGBAmpmZmZkZYEBSuB6F6xlgQJqZmZmZKWBAAAAAAACgXkCPwvUoXC9eQJqZmZmZWV5AmpmZmZl5XkCuR+F6FL5dQAAAAAAAwFtAKVyPwvX4WkBcj8L1KBxZQGZmZmZmllpAAAAAAABAW0BSuB6F6zFbQM3MzMzM\\u002fFlAAAAAAAAAWUAzMzMzM\\u002fNYQJqZmZmZ+VhAzczMzMx8WUAzMzMzM8NaQAAAAAAAEFtAw\\u002fUoXI\\u002fSW0AAAAAAAGBbQM3MzMzMDFtAmpmZmZn5WkD2KFyPwoVZQIXrUbge1VlAAAAAAAAAWkCPwvUoXG9ZQArXo3A9qldAAAAAAADAV0BxPQrXo2BYQDMzMzMzA1ZACtejcD2aVkApXI\\u002fC9bhTQI\\u002fC9Shc\\u002f1NAAAAAAAAgUUAAAAAAADBRQAAAAAAAIFNAAAAAAAAAU0CuR+F6FC5TQAAAAAAAAFZAH4XrUbg+VkCPwvUoXH9XQM3MzMzMrFhA16NwPQpnV0ApXI\\u002fC9bhYQD0K16NwLVhAAAAAAACgWEAUrkfheoRWQAAAAAAAAFdAFK5H4Xp0VkAAAAAAAABXQGZmZmZm5lZApHA9CtfjV0AAAAAAAKBXQM3MzMzMPFhA4XoUrkcBWECamZmZmZlXQGZmZmZmplhAj8L1KFxfWUDNzMzMzPxaQD0K16NwjVpA16NwPQo3WkAAAAAAACBaQM3MzMzMPFpASOF6FK5HWkCuR+F6FK5aQAAAAAAAsFpAAAAAAACwWkAUrkfhesRZQDMzMzMzs1lAAAAAAADAWUAAAAAAAEBaQI\\u002fC9Shcv1pApHA9CtdjW0CkcD0K1yNcQAAAAAAAgFtAj8L1KFw\\u002fW0AAAAAAADBcQLgehetRWFxAAAAAAADAXUA9CtejcE1eQDMzMzMz015AAAAAAACAXkBxPQrXo6BdQGZmZmZm5l1A16NwPQqHXkAUrkfhegReQB+F61G4nl9ASOF6FK6nXkBmZmZmZpZeQHsUrkfhomBAFK5H4XrkYEBcj8L1KFRhQOxRuB6F82BAKVyPwvUQYUBxPQrXo7BfQI\\u002fC9Shcn19AKVyPwvW4XUC4HoXrUQhfQNejcD0Kd15A4XoUrkfRX0ApXI\\u002fC9XhfQJqZmZmZ8WBAw\\u002fUoXI+aYEC4HoXrUeBgQM3MzMzMLGBA7FG4HoVbYEB7FK5H4XJgQB+F61G4dmBApHA9CtdrYEBmZmZmZjZgQM3MzMzMvF9ASOF6FK73X0CPwvUoXB9gQDMzMzMzg19AuB6F61HYX0AfhetRuAZgQK5H4XoUHmBAcT0K16O4YEDNzMzMzNxgQM3MzMzMJGFA9ihcj8KVYECamZmZmYFgQM3MzMzMnFxACtejcD3aXkBcj8L1KBRgQOxRuB6FC2BA9ihcj8ItYECPwvUoXK9fQGZmZmZmdl9APQrXo3BVYEAAAAAAAFhgQM3MzMzMXGBArkfhehTmYEBxPQrXo2hhQHE9CtejmGFAzczMzMw0YkCF61G4Hs1hQKRwPQrXS2JAhetRuB59Y0CF61G4HnVlQJqZmZmZ2WVAzczMzMzUZkDsUbgehStoQJqZmZmZyWpArkfhehS2aEBmZmZmZm5nQDMzMzMzE2ZAH4XrUbiGaECamZmZmdFoQBSuR+F6jGlAw\\u002fUoXI\\u002f6aEDNzMzMzHxpQFK4HoXruWlASOF6FK6\\u002faUCF61G4HtVqQB+F61G4pmxAKVyPwvWYbkB7FK5H4VpwQJqZmZmZnXJA4XoUrkcpdUCF61G4Hs11QMP1KFyPVnRAKVyPwvVwdUDsUbgehY92QMP1KFyPZnlAw\\u002fUoXI82ekAUrkfhehR6QI\\u002fC9Shcj3tA4XoUrkcJf0CuR+F6FEaGQKRwPQrXD4JAw\\u002fUoXI+SgkDD9Shcj6CGQJqZmZmZHYhA16NwPQrdiEBcj8L1KCiIQKRwPQrXLYlAzczMzMzejEDXo3A9CluPQNejcD0KSJBAFK5H4XqlkUBI4XoUrqORQI\\u002fC9Shcu41AmpmZmZlZkEC4HoXrUdaQQFK4HoXrApJA7FG4HoVJkEDD9ShcjxqKQBSuR+F6yoVAZmZmZmbOiEDD9Shcj+KLQMP1KFyP6I5ACtejcD2Wi0CkcD0K11eLQM3MzMzMHoxAuB6F61Fai0BxPQrXo4KLQClcj8L1EoZAmpmZmZkxhUAUrkfhejiAQPYoXI\\u002fCsYVAMzMzMzNfg0AK16NwPc6CQBSuR+F6KINAexSuR+EChUAUrkfhetKEQOxRuB6FX4VACtejcD3ah0CkcD0K1w+HQGZmZmZmwIZAzczMzMwqh0DD9Shcj8KHQPYoXI\\u002fCl4dA7FG4HoUriEDNzMzMzBaJQFyPwvUouolAZmZmZmbUikBmZmZmZkCNQFK4HoXrk41AUrgehevfiED2KFyPwkuKQOxRuB6FdYpAw\\u002fUoXI8ai0DNzMzMzLyMQOxRuB6F4YpAj8L1KFxZikApXI\\u002fC9QiKQLgehetR4opAUrgehesTikDD9Shcj4CJQOF6FK5HPYpAhetRuB47i0AzMzMzMy2LQEjhehSuGYtASOF6FK5rikA9CtejcLOJQFK4HoXr4YhAPQrXo3CtikDNzMzMzKSLQFyPwvUoMIhASOF6FK5PiUBcj8L1KNCJQD0K16Nwk4lAexSuR+HkiUAzMzMzMweKQHE9CtejwIlAXI\\u002fC9Si+iUBI4XoUru+JQB+F61G4fIlAmpmZmZl5iEDD9Shcj9yFQEjhehSu+4RAw\\u002fUoXI9KhUAAAAAAAFyFQNejcD0KA4VAcT0K16NYhECPwvUoXMmCQDMzMzMzp4RAZmZmZmZahECkcD0K1zGDQOF6FK5HmYNA9ihcj8KPg0AfhetRuHiDQNejcD0KZ4FAUrgehevxgUD2KFyPwvOCQLgehetR8IJAUrgehevhgEC4HoXrUciAQDMzMzMzLYJAmpmZmZkdgkCPwvUoXC+BQKRwPQrXuYFAFK5H4XqUgUBSuB6F6+GEQFK4HoXr0YRAXI\\u002fC9SjEhEAUrkfhesKEQOF6FK5HrYNAFK5H4XpCg0BxPQrXo+KDQJqZmZmZn4NA4XoUrke\\u002fg0ApXI\\u002fC9cyDQIXrUbge8YNAKVyPwvWqg0AAAAAAAOSDQI\\u002fC9Shct4NAH4XrUbhug0AzMzMzMy+DQAAAAAAADoNAuB6F61FigkA9CtejcNmBQK5H4XoUroFArkfhehSUgUAK16NwPUiCQKRwPQrXO4JArkfhehQigkAK16NwPdJ9QI\\u002fC9ShcW39AUrgehevFfkDNzMzMzOR8QAAAAAAAkHxACtejcD3yfUDXo3A9Ckd7QMP1KFyP2ntAexSuR+Hqe0BmZmZmZvZ8QOxRuB6F13xA9ihcj8L5e0B7FK5H4VJ8QFyPwvUopHtAj8L1KFy7dkAK16NwPU56QI\\u002fC9ShcV3pA4XoUrkfteUBSuB6F66V8QD0K16NwUYBAw\\u002fUoXI+IgEDNzMzMzPx+QOF6FK5H+X1AAAAAAABcf0CkcD0K1xt\\u002fQDMzMzMz935A9ihcj8KFfkCF61G4Hq1+QD0K16NwQX9AMzMzMzPbfECkcD0K15N8QOxRuB6F63pASOF6FK5\\u002fe0AK16NwPe57QK5H4XoU+ntA9ihcj8KVfEBmZmZmZhZ8QLgehetRaHtAFK5H4Xose0D2KFyPwhV7QD0K16Nw1XpAexSuR+Fqe0B7FK5H4YJ7QI\\u002fC9ShcJ3xAH4XrUbhefEDNzMzMzGR7QBSuR+F6mHtAPQrXo3CJe0AK16NwPcJ7QArXo3A99ntAUrgehesBfEAzMzMzMwt8QOF6FK5H4XtAKVyPwvXke0DNzMzMzFx+QM3MzMzMwH5A9ihcj8JtgEBmZmZmZkiAQKRwPQrXaYBAhetRuB7bgUAfhetRuDSCQOF6FK5H34FAcT0K16MCgkA9CtejcMGBQOxRuB6FPYNA7FG4HoV9g0CF61G4Hq2DQGZmZmZmpIRAXI\\u002fC9SjWhEDD9ShcjwiEQArXo3A9moRAXI\\u002fC9ShshEBSuB6F63eEQIXrUbgefYRAuB6F61FQhEDsUbgehWmEQD0K16Nwy4NAmpmZmZlNgkAAAAAAAMaCQD0K16Nw\\u002f4FAMzMzMzOFgkAfhetRuHyCQFyPwvUoDoNAw\\u002fUoXI8Ag0AzMzMzM6uCQD0K16NwjYJAMzMzMzOfgkDhehSuR9GCQPYoXI\\u002fCj4JAFK5H4XougkCF61G4HrGBQGZmZmZmKoJAcT0K16O4gkBxPQrXo6KCQClcj8L11IJAhetRuB4LhEC4HoXrUQiEQFyPwvUoVoRAMzMzMzMlhECamZmZma+DQFyPwvUovoNASOF6FK7bg0DD9Shcj3SDQPYoXI\\u002fCiYNAcT0K16OGg0DhehSuR0WDQNejcD0Kv4NA9ihcj8LRg0AUrkfhepSDQAAAAAAAYINArkfhehRwg0C4HoXrUUSDQClcj8L1coNAj8L1KFypg0AUrkfheqSDQJqZmZmZf4NAXI\\u002fC9Shyg0ApXI\\u002fC9WiDQAAAAAAAXINArkfhehTMgkC4HoXrUcyCQI\\u002fC9ShcnYJAhetRuB6RgkBmZmZmZkyCQFK4HoXrRYJAKVyPwvW6gUCamZmZmVGCQDMzMzMzl4JAhetRuB5ngkCkcD0K11GCQK5H4XoUaIJAmpmZmZlPgkAzMzMzM0WCQNejcD0KZ4JA9ihcj8KDgkCPwvUoXGmCQArXo3A9eoJArkfhehQEgkDXo3A9CtOBQD0K16NwEYFACtejcD3yf0DhehSuRx1\\u002fQIXrUbgeOYBAXI\\u002fC9Si4fkBI4XoUrtd8QIXrUbgeUX5AMzMzMzPnf0BxPQrXoyyAQIXrUbgeC4BAcT0K16Mkf0DsUbgehcN\\u002fQHE9CtejaH9A7FG4HoUBgECuR+F6FO5\\u002fQHsUrkfhxn9APQrXo3DJf0BmZmZmZm5\\u002fQHE9Ctej3H1ASOF6FK6nfUBSuB6F6819QHsUrkfh2n1AH4XrUbiafkA9CtejcDV+QK5H4XoUUn5AKVyPwvUcfkCuR+F6FK59QEjhehSut31AUrgehev5fUDhehSuR\\u002fl9QHE9Ctej3H1AUrgehevxfUBcj8L1KNx9QPYoXI\\u002fCrX1A9ihcj8IdfUD2KFyPwo18QJqZmZmZgXpAH4XrUbiqeEDhehSuR4F5QJqZmZmZ8XhAPQrXo3AheUAAAAAAADx7QMP1KFyPcnpAexSuR+G2eUApXI\\u002fC9Th5QOxRuB6F93hAexSuR+GOd0A9CtejcIF3QHsUrkfhNnhApHA9Ctf\\u002fd0B7FK5H4XJ3QArXo3A9fnZAH4XrUbiOdEAK16NwPQZ0QOF6FK5HqXRAUrgehesBdUAAAAAAAAx2QNejcD0Ky3ZA9ihcj8KVdkD2KFyPwql2QB+F61G4nndA16NwPQp7eEAzMzMzMw95QLgehetRqHhAXI\\u002fC9Sjsd0BI4XoUrv93QAAAAAAAdHhASOF6FK5TeEAfhetRuOZ3QFK4HoXrIXhAj8L1KFzvd0A9CtejcGl2QPYoXI\\u002fCaXZApHA9Cte3dUAUrkfheix2QI\\u002fC9ShcE3ZAPQrXo3BRdkCPwvUoXPt0QFyPwvUokHVAZmZmZmYqdUCF61G4HmF0QIXrUbgeWXRAw\\u002fUoXI9ydEB7FK5H4ap0QI\\u002fC9ShcN3VAhetRuB7ddUBmZmZmZmJ1QK5H4XoUlnVAXI\\u002fC9SikdkD2KFyPwt12QKRwPQrX\\u002f3ZAuB6F61G0ekAfhetRuCZ6QGZmZmZm+nhASOF6FK5rd0CamZmZmUV4QHE9CtejPHhAZmZmZmZed0ApXI\\u002fC9cR3QK5H4XoUXnZAmpmZmZn5dUB7FK5H4RJ2QDMzMzMz73ZACtejcD2Od0C4HoXrUYB3QAAAAAAAKHdAUrgehesVd0BmZmZmZoJ3QFyPwvUoeHdAAAAAAACkd0AAAAAAALR3QOxRuB6F23dA7FG4HoV7d0DXo3A9Chd3QFyPwvUojHdAPQrXo3Btd0CPwvUoXG93QArXo3A9nnZAMzMzMzMDdkA9CtejcIV1QOF6FK5H7XVArkfhehQGdkBI4XoUrqt1QPYoXI\\u002fC9XVAH4XrUbiadUD2KFyPwm10QHE9Ctej\\u002fHNAexSuR+Fyc0BSuB6F69lzQHE9CtejmHRAhetRuB4RdEC4HoXrUcB0QK5H4XoU5nRAcT0K16MkdEBmZmZmZvJzQOF6FK5HeXRAw\\u002fUoXI\\u002fCc0AzMzMzM9tzQOxRuB6Fi3NAw\\u002fUoXI9uc0DXo3A9Cgd0QOF6FK5HoXNAmpmZmZmtc0BmZmZmZpJxQOF6FK5HkXBA9ihcj8IpcUDhehSuR+FxQK5H4XoUYnJArkfhehSmcUDNzMzMzPRxQPYoXI\\u002fCKXFAZmZmZmaicEAK16NwPbZwQBSuR+F6\\u002fGtAzczMzMwcZkAK16NwPSJqQMP1KFyP+mlAmpmZmZkBaUDXo3A9Cm9qQIXrUbgenWpAXI\\u002fC9ShsakAK16NwPWpsQHE9CtejMG1AZmZmZmYWbUAzMzMzM+tuQMP1KFyPwm9AH4XrUbgScUCamZmZmXVwQDMzMzMzK21AcT0K16MYbUCuR+F6FE5sQKRwPQrXG2tASOF6FK5PbEBmZmZmZq5tQLgehetRcGxAhetRuB51bEA9CtejcB1rQFyPwvUo1GtArkfhehR2bEAUrkfheuxrQClcj8L1iGtAj8L1KFx3a0AfhetRuGZrQNejcD0Kv2tAKVyPwvVwbUBcj8L1KBhwQArXo3A9Wm1APQrXo3AtbUApXI\\u002fC9XhuQIXrUbgejW1AAAAAAAAIbkAAAAAAAHhuQOF6FK5HkW5AAAAAAACAbUAAAAAAAOBtQBSuR+F63G1AexSuR+GqbUCuR+F6FI5tQHE9CtejsG9AKVyPwvXIb0D2KFyPwkVwQM3MzMzMMHFApHA9CtefcUCkcD0K1wtxQJqZmZmZOXFAcT0K16MEcUB7FK5H4UZxQClcj8L1LHFA9ihcj8IdckC4HoXrUThyQK5H4XoUgnJAUrgehethckDXo3A9CsdxQHsUrkfhlnFA16NwPQrbcUCamZmZmSlyQIXrUbge0XFAXI\\u002fC9Sj8b0CPwvUoXE9wQArXo3A9WnBAH4XrUbg+cEAK16NwPb5wQOF6FK5HqXBA16NwPQrvbkApXI\\u002fC9chuQArXo3A9Em9A16NwPQrfbkBI4XoUrpdvQFyPwvUoXG5AZmZmZmbubkDXo3A9CoduQHsUrkfh4m5ACtejcD2ib0DhehSuR8lvQLgehetRuG9A7FG4HoVLcEBxPQrXo+hvQFK4HoXroW9AAAAAAACYbkCuR+F6FHZuQHE9CtejgG1AKVyPwvWQbUBmZmZmZn5tQLgehetRGGxACtejcD1ia0A9CtejcP1rQArXo3A9kmxAMzMzMzPba0AfhetRuO5rQOxRuB6F02tApHA9CtcTbEAzMzMzM3NtQJqZmZmZQW1A16NwPQp\\u002fbUBI4XoUrudsQIXrUbgeTWxA9ihcj8Jta0DXo3A9Cp9sQHsUrkfhMmxArkfhehQ2bECuR+F6FH5tQHsUrkfhCm1AXI\\u002fC9ShcbUDsUbgehQtuQDMzMzMz221AAAAAAACIbUCF61G4HrVsQGZmZmZmpm1AcT0K16N4bkCPwvUoXDduQJqZmZmZCW5AzczMzMxEbkDNzMzMzCxuQB+F61G4hm1AH4XrUbiebUAUrkfherRtQLgehetRgG1AFK5H4XqcbUDhehSuRyFtQBSuR+F6\\u002fGxAcT0K16NAbUAK16NwPWptQOF6FK5HCW5Aj8L1KFzfbUD2KFyPwh1uQDMzMzMzo21AUrgeheuhbUC4HoXrUahtQFyPwvUorG1AexSuR+GibUBcj8L1KCRtQI\\u002fC9Shcx2xAFK5H4Xrca0BI4XoUrjdsQHE9CtejOGxAzczMzMwEbEAAAAAAACBsQDMzMzMzM2xAXI\\u002fC9Sjca0DhehSuR5FsQAAAAAAAoGxAMzMzMzObbEAfhetRuLZsQD0K16NwvWxArkfhehQObUA9CtejcC1tQLgehetRmG1ACtejcD1ab0D2KFyPwi1vQOF6FK5HIW9AKVyPwvWQbkAzMzMzM6NuQNejcD0Kf25A9ihcj8LdbkApXI\\u002fC9YhuQKRwPQrXC25AMzMzMzNTbkCamZmZmXFuQB+F61G4Xm9A16NwPQoXb0BxPQrXoxBwQJqZmZmZdXBAzczMzMwocEAfhetRuO5vQKRwPQrXB3BAKVyPwvVMcED2KFyPwvFwQI\\u002fC9Shc33BASOF6FK6fcEDhehSuR+1wQMP1KFyP0nBArkfhehTOcUAK16NwPVJyQOF6FK5HbXNAFK5H4XpAckDNzMzMzAByQHE9Ctej4HFAPQrXo3BhcUDhehSuR3VxQLgehetRLHFAAAAAAAAYcUCuR+F6FG5xQMP1KFyPOnFAPQrXo3BVcUAAAAAAAEBxQMP1KFyPAnJACtejcD0KckAK16NwPUpyQK5H4XoUWnJASOF6FK5nckCamZmZmRFyQDMzMzMz+3FA16NwPQrLcUAzMzMzM4dxQClcj8L1rHFASOF6FK6TcUCamZmZmc1xQMP1KFyPnnFApHA9CtdrcUCkcD0K13txQFK4HoXrUXBASOF6FK6XcEA9CtejcIVwQJqZmZmZ6XBAexSuR+GicECuR+F6FIJwQBSuR+F6mHBAUrgehetdcECkcD0K1ydwQHsUrkfhHnBAPQrXo3A1bEDNzMzMzFxsQDMzMzMza21AhetRuB4VbUBcj8L1KMxsQOxRuB6Fg2xACtejcD1CakDD9Shcj8JrQJqZmZmZQWxAZmZmZmYWbECamZmZmfFsQM3MzMzMvGxA7FG4HoWjbEC4HoXrUchsQClcj8L1gGxACtejcD2qbEDXo3A9CmdsQGZmZmZmxmxApHA9CtdbbUD2KFyPwv1tQDMzMzMz+21AhetRuB5tbkB7FK5H4cptQMP1KFyPym1AMzMzMzP7bUBI4XoUrmdtQOxRuB6F02xASOF6FK7PbEAAAAAAAMhsQMP1KFyPomxAcT0K16MwbUDsUbgehRttQM3MzMzM7GxA16NwPQrnbEDXo3A9Cl9sQK5H4XoU3mxA7FG4HoXLbEDsUbgehUttQMP1KFyPYm1AFK5H4XpEbUB7FK5H4RptQHE9Ctej4G1AFK5H4XqUbUAAAAAAAIBtQLgehetRqG1AZmZmZmambUApXI\\u002fC9dBtQM3MzMzMxG1A7FG4HoULbkA9CtejcMVuQArXo3A9Ym5AAAAAAABQbkBI4XoUrnduQEjhehSul25AXI\\u002fC9SjcbkBmZmZmZqZuQEjhehSuL29A7FG4HoWDb0CamZmZmclvQAAAAAAAbHBAw\\u002fUoXI\\u002fucED2KFyPwl1wQIXrUbgeeXBAKVyPwvXUcEAAAAAAAKhwQGZmZmZmGnFAAAAAAABIcUDXo3A9CpdxQK5H4XoUunFAexSuR+HScUAzMzMzM1tyQIXrUbgeBXNA16NwPQqfc0Bcj8L1KIh0QAAAAAAAsHNA16NwPQpfdEBSuB6F6512QMP1KFyPOnlA4XoUrkeBeUDNzMzMzEB4QLgehetRZHdAFK5H4XoEeECF61G4HmV3QEjhehSuv3dAhetRuB49dUDhehSuR6FzQAAAAAAAKHVAUrgehesJdUDNzMzMzNB0QKRwPQrX+3NA9ihcj8KldEA9CtejcOl0QHsUrkfh6nRAw\\u002fUoXI9mdEA9CtejcCF0QEjhehSub3RAmpmZmZlFdEBcj8L1KDB0QM3MzMzMAHRAzczMzMyEdED2KFyPwv11QArXo3A9UnZA7FG4HoVXdkDXo3A9Cjd3QMP1KFyPlndAmpmZmZmddkDhehSuR3V2QFyPwvUolHZA7FG4HoW7dkApXI\\u002fC9Vh4QEjhehSuX3hAAAAAAAC8eEDXo3A9Cud5QKRwPQrXH3pAFK5H4Xr0eUDhehSuR0V8QMP1KFyP+npAuB6F61EUe0CuR+F6FL57QI\\u002fC9ShcE31AFK5H4XpsfECamZmZmX18QM3MzMzM+HxASOF6FK7jfEA9CtejcK17QNejcD0KV3tA7FG4HoVLe0A9CtejcLF7QPYoXI\\u002fCbXxAXI\\u002fC9Sh8fEBcj8L1KAh6QD0K16NwdXpAmpmZmZlhekDNzMzMzBR7QK5H4XoUnnpA7FG4HoXrekBSuB6F6yl7QOF6FK5HGXtAKVyPwvXgekCF61G4HhF7QPYoXI\\u002fC\\u002fXpAXI\\u002fC9SjgekBxPQrXo5h8QK5H4XoUVnxApHA9CtcDfEAzMzMzMwt8QHsUrkfhAnxAH4XrUbgqe0BxPQrXowR7QAAAAAAA5HpAhetRuB7RdkBmZmZmZjJ4QEjhehSu23dAFK5H4XoweECkcD0K17t3QK5H4XoUOnpAAAAAAACceUB7FK5H4eZ3QJqZmZmZQXhAhetRuB4leUAAAAAAAIB4QNejcD0Kh3hAZmZmZmayeED2KFyPwsF3QFK4HoXrrXdAcT0K16Okd0CamZmZmRV3QB+F61G4TndAZmZmZmZqd0AfhetRuCJ3QGZmZmZmTnhAPQrXo3ApeEBcj8L1KIh3QFyPwvUojHdAH4XrUbhWd0BmZmZmZoJ3QPYoXI\\u002fC4XdA16NwPQq7d0AK16NwPQp4QHsUrkfhjnhAhetRuB55eUB7FK5H4RZ5QMP1KFyPenlAhetRuB4JekBI4XoUrmt6QJqZmZmZWXpAuB6F61Fce0CkcD0K1297QAAAAAAAZHtAj8L1KFxPekBxPQrXo5B6QK5H4XoUinpAPQrXo3ANe0CF61G4Hgl7QNejcD0KF3tAH4XrUbhee0CuR+F6FDJ7QMP1KFyPfnpAPQrXo3BdekAUrkfheqx5QLgehetRCHlAXI\\u002fC9Sh8eUCPwvUoXOd5QArXo3A93nlApHA9CtfreUCkcD0K1xN6QPYoXI\\u002fCWXpAZmZmZma6eUAzMzMzM+N5QArXo3A9BnpACtejcD0OekAK16NwPR56QM3MzMzMSHpAXI\\u002fC9SiUeUBmZmZmZqZ5QB+F61G41nlArkfhehTSeUDD9ShcjyJ6QB+F61G4JnpAXI\\u002fC9SgIekBSuB6F6xV6QArXo3A9InpAzczMzMyoekDNzMzMzIR6QOF6FK5HDXpAXI\\u002fC9Sj0eUBcj8L1KAx6QB+F61G4JnpAH4XrUbhSekDNzMzMzFR6QLgehetRUHpAFK5H4XqEekBSuB6F63l6QMP1KFyPbnpAKVyPwvVMekA9CtejcDl6QFK4HoXrXXpAPQrXo3BtekCuR+F6FJp6QNejcD0Kf3pAexSuR+GGekCF61G4Htl6QArXo3A96npA9ihcj8K5ekAzMzMzM8t6QIXrUbgeNXtAH4XrUbiWe0DXo3A9Cht8QPYoXI\\u002fC3XtAKVyPwvUofEBSuB6F67F8QGZmZmZm2nxAXI\\u002fC9SgkfUBxPQrXo9B7QMP1KFyPFnxAexSuR+FyfEBI4XoUrgd8QHsUrkfhPnxASOF6FK7Le0B7FK5H4SJ8QI\\u002fC9Shc63tA16NwPQr\\u002fe0AK16NwPbp8QHsUrkfhpnxAj8L1KFyjfEC4HoXrUch8QPYoXI\\u002fCLXxAMzMzMzNHfECamZmZmW18QIXrUbgefXxAXI\\u002fC9Sh8fEA9CtejcJl8QFyPwvUoYHxA16NwPQpbfEC4HoXrUWh8QHE9CtejXHtA7FG4HoWve0DsUbgehbN7QJqZmZmZdXtAcT0K16PEe0ApXI\\u002fC9eB7QB+F61G4GnxAuB6F61FYfEAUrkfhepB9QKRwPQrXe4BA9ihcj8KDgEDsUbgehbGAQHsUrkfhmIBArkfhehTEgEA9CtejcM2AQEjhehSuzYFAFK5H4XrqgUDNzMzMzPSBQJqZmZmZS4JAj8L1KFwJgkCamZmZmTGCQB+F61G4\\u002foFAj8L1KFwVgkA9CtejcA2DQDMzMzMz\\u002fYRAAAAAAAAEhkA9CtejcG2FQFyPwvUoxIVAUrgehesDiECuR+F6FGaHQOxRuB6FpYdAPQrXo3Dfh0DXo3A9Cv+GQOF6FK5Hz4RA7FG4HoWrgkBxPQrXo4yDQArXo3A9yoRAPQrXo3DPhEDNzMzMzKqDQM3MzMzMkIRAKVyPwvUghEAfhetRuASEQK5H4XoUBIVApHA9CtclhUD2KFyPwgeGQGZmZmZmloRASOF6FK5ZhUCPwvUoXPOEQB+F61G4MIVA7FG4HoUFhEDXo3A9CtOEQM3MzMzMVIRApHA9CtdDhEAK16NwPUKEQGZmZmZmxoRAj8L1KFxnhECPwvUoXJmEQArXo3A9voRAUrgeheuvhEAUrkfhej6FQFK4HoXrBYVAFK5H4XoGhUCkcD0K18mEQI\\u002fC9Shcx4RApHA9CtdVhEDhehSuR3uEQK5H4XoUqoRApHA9CtdxhEDXo3A9Cl2EQFK4HoXrc4RAexSuR+F4hECuR+F6FIiEQM3MzMzMeIRAzczMzMyEg0AzMzMzM\\u002fOCQOF6FK5HJYFAcT0K16OygUAK16NwPRKCQArXo3A9+IFAXI\\u002fC9ShegkBSuB6F64WCQLgehetReIJAMzMzMzNdgkApXI\\u002fC9YCCQGZmZmZmZoJAexSuR+FagkAfhetRuEyCQFK4HoXr04FAUrgeheu5gUCuR+F6FA6CQEjhehSu7YFAH4XrUbjygUBxPQrXowCCQOxRuB6FL4JAFK5H4XoqgkBcj8L1KFaCQOF6FK5HO4JAPQrXo3AhgkAAAAAAAA6CQJqZmZmZG4JAcT0K16POgUDD9Shcj\\u002fCBQHsUrkfh8IFAH4XrUbgMgkBmZmZmZvyBQOF6FK5H44FAZmZmZmb8gUAfhetRuLSCQFK4HoXrB4NArkfhehT0gkDD9ShcjxSDQNejcD0KNYNAzczMzMySg0A9CtejcHeDQI\\u002fC9Shce4NAAAAAAAD4gkBcj8L1KACDQB+F61G4BoNAH4XrUbgUg0AAAAAAAPqCQPYoXI\\u002fC+YJACtejcD3ygkApXI\\u002fC9Q6DQAAAAAAACoNAH4XrUbjcgkAK16NwPaqCQJqZmZmZoYJASOF6FK7XgkAAAAAAANaCQBSuR+F6xoJAXI\\u002fC9SgAg0BSuB6F6\\u002fGCQFyPwvUo6IJA9ihcj8LtgkA9CtejcA+DQJqZmZmZL4NA9ihcj8IXg0BmZmZmZiCDQPYoXI\\u002fCEYNA9ihcj8Ijg0B7FK5H4SSDQB+F61G4SoNAj8L1KFxZg0DD9Shcj0aDQFK4HoXrWYNAKVyPwvUGhEAK16NwPeCDQK5H4XoU6INAFK5H4XoChEBxPQrXo\\u002fiDQMP1KFyPDoRA4XoUrkf7g0DXo3A9CvGDQOF6FK5HtYNAcT0K16O2g0CF61G4HsmDQClcj8L1jIRA4XoUrkeJhEAAAAAAAHCEQD0K16NwjYRASOF6FK4xhUAAAAAAAICFQLgehetRkoVAKVyPwvVQhkCF61G4HvWFQB+F61G46oVAw\\u002fUoXI\\u002fQhkDNzMzMzDKHQClcj8L1iIVAXI\\u002fC9Sj8hUAUrkfhev6FQFK4HoXrNYZAH4XrUbj4hUBxPQrXoy6GQB+F61G4loZAZmZmZmZchkAAAAAAAGaGQJqZmZmZCYZAAAAAAADwhUC4HoXrUQ6GQI\\u002fC9ShcOYZA16NwPQpHh0BI4XoUriWHQHE9CtejfodA16NwPQp\\u002fh0CuR+F6FNqGQIXrUbgeHYdAUrgehet9h0ApXI\\u002fC9USHQOxRuB6FI4dArkfhehQsh0DsUbgehfuGQKRwPQrX44ZAcT0K16MCh0AK16NwPQKHQGZmZmZmUIdAuB6F61Gsh0AAAAAAAFKIQIXrUbgeHYhAhetRuB4riED2KFyPwrWHQEjhehSu4YdAcT0K16MAiEDsUbgehQ+IQFyPwvUoKIhAAAAAAAA2iEC4HoXrURCIQDMzMzMzZYhAAAAAAABgiEDD9Shcj2CIQEjhehSuV4hAj8L1KFyJiECuR+F6FLiIQOxRuB6FtYhAAAAAAADCiECF61G4HgWJQD0K16NwEYpAhetRuB4Hi0A9CtejcNGMQDMzMzMzHYxAMzMzMzMHjEDNzMzMzGKMQHE9CtejNo1A16NwPQp5jkAK16NwPWSOQNejcD0KBY5A4XoUrkcdjkApXI\\u002fC9TSPQM3MzMzM7I9AmpmZmZlRkEBSuB6F6xKSQFK4HoXrsY9AUrgehes7jECPwvUoXGGMQFK4HoXriYxA7FG4HoUzjEApXI\\u002fC9WCMQD0K16NwOYhAUrgehesdiUCF61G4HsmJQIXrUbgekYlACtejcD2uiUCamZmZmfeJQClcj8L1aoxAH4XrUbjCi0CPwvUoXBGMQGZmZmZm\\u002fItASOF6FK7RjEAAAAAAAOyMQD0K16NwdYxAj8L1KFzfi0CF61G4HjOMQHsUrkfhsoxAFK5H4Xq+jEDD9Shcj9CMQDMzMzMzwYxASOF6FK7HjEDsUbgehVeOQAAAAAAA8I5ASOF6FK6bj0C4HoXrUR2QQK5H4XoUTpBAmpmZmZkRkEDD9Shcj0CQQOF6FK5HmZBAzczMzMyikEDXo3A9Ch2PQDMzMzMz545AXI\\u002fC9Shcj0DXo3A9CjePQFK4HoXr\\u002fY5ASOF6FK5xj0AzMzMzM32PQBSuR+F6CJBApHA9CtdkkEDXo3A9CnuQQPYoXI\\u002fCYpBAhetRuB7dkEAzMzMzM2uRQK5H4XoUdZFApHA9CtdSkkBxPQrXo0mSQK5H4XoU4ZFAhetRuB4vkkB7FK5H4XKSQFyPwvUocJJAH4XrUbgik0CkcD0K14qTQB+F61G49ZNAXI\\u002fC9SiZk0B7FK5H4c2TQKRwPQrX5JNAUrgehesck0BmZmZmZvmRQD0K16NwlZJA4XoUrkdxkUAUrkfhemKSQIXrUbgeF5NAcT0K16NAk0BxPQrXo2CTQLgehetRjZNAcT0K16NwkkD2KFyPwi6RQKRwPQrXhY5AKVyPwvU0kEA9CtejcH2QQJqZmZmZgpFAMzMzMzNokEDNzMzMzDmQQLgehetRRI1ArkfhehRwjkBmZmZmZmCOQLgehetRUpBAuB6F61FYkECkcD0K10iQQMP1KFyPCpBApHA9Cte+kEA9CtejcOKQQM3MzMzMO5FArkfhehTmkUDD9Shcj7iRQArXo3A9l5FA9ihcj8JrkkCamZmZmVKSQOF6FK5HYpJAMzMzMzONkkCkcD0K142SQArXo3A905JArkfhehTEkkC4HoXrUUmSQDMzMzMzPZJAPQrXo3BSkkAAAAAAAH2SQK5H4XoUp5JA7FG4HoXwkkC4HoXrUeySQEjhehSuNZNApHA9Ctcak0BI4XoUrj+TQOxRuB6F5pJAzczMzMyJk0ApXI\\u002fC9ceTQOxRuB6FB5RAKVyPwvWWlECPwvUoXJeUQBSuR+F6p5RAMzMzMzMRlUCF61G4HjSWQIXrUbget5ZAexSuR+FKl0AUrkfhehOYQArXo3A9U5hAexSuR+GtmEBI4XoUrvOYQMP1KFyP75pArkfhehRym0AUrkfhetGbQNejcD0K15xAFK5H4XrsmkA9CtejcCOcQPYoXI\\u002fCQZxAzczMzMw2m0BSuB6F6\\u002fqaQM3MzMzMapxAFK5H4XqlnUApXI\\u002fC9QCfQMP1KFwPJqBA9ihcj8Lsn0CF61G4Hh+hQArXo3C9IqJAFK5H4Xoco0DhehSuxyGiQNejcD2KKKFAXI\\u002fC9SgMoECPwvUo3N6gQB+F61G4nqFAexSuR2EWoUBcj8L1qOChQMP1KFwPyKJAPQrXo3B7o0CuR+F6lOejQM3MzMzMoKNASOF6FK4FpUD2KFyPwmqmQBSuR+H6QKVAexSuR+HupUDhehSuRximQLgehevR\\u002fKZAPQrXo3ASp0C4HoXr0fGkQPYoXI\\u002fCOaVAXI\\u002fC9SiHo0BxPQrXI0ujQOxRuB4FpKNAMzMzM7O+pEDD9ShcD+qjQOxRuB6FPqRAj8L1KNwqpUDD9ShcDwalQEjhehSuJqVA16NwPQplpUAAAAAAgF6kQHE9CtcjPaRAZmZmZuZco0DD9ShcD\\u002fKjQIXrUbgeD6RAFK5H4XrWo0AzMzMzM3mjQM3MzMzMCKNAhetRuB6Fo0AAAAAAAAKkQArXo3C9VaRAMzMzMzNgpEBI4XoULmGkQNejcD2KsKNAH4XrUTgZpEAAAAAAgLqjQOF6FK7Ho6JA16NwPYo5okBmZmZmZsWiQEjhehQucaJACtejcD1soUBSuB6F6x+fQBSuR+F6Mp5A16NwPQpzoUBcj8L1KCaiQOF6FK7Hu6FAuB6F69EspkD2KFyPQtmkQDMzMzMz8KVAZmZmZmZZpUAAAAAAAIulQNejcD2KI6RAUrgehWvVo0ApXI\\u002fCde+kQNejcD0K7qVA4XoUrsdIpUAUrkfhepalQA==\"},\"x\":[\"2013-04-28T00:00:00.000000000\",\"2013-04-29T00:00:00.000000000\",\"2013-04-30T00:00:00.000000000\",\"2013-05-01T00:00:00.000000000\",\"2013-05-02T00:00:00.000000000\",\"2013-05-03T00:00:00.000000000\",\"2013-05-04T00:00:00.000000000\",\"2013-05-05T00:00:00.000000000\",\"2013-05-06T00:00:00.000000000\",\"2013-05-07T00:00:00.000000000\",\"2013-05-08T00:00:00.000000000\",\"2013-05-09T00:00:00.000000000\",\"2013-05-10T00:00:00.000000000\",\"2013-05-11T00:00:00.000000000\",\"2013-05-12T00:00:00.000000000\",\"2013-05-13T00:00:00.000000000\",\"2013-05-14T00:00:00.000000000\",\"2013-05-15T00:00:00.000000000\",\"2013-05-16T00:00:00.000000000\",\"2013-05-17T00:00:00.000000000\",\"2013-05-18T00:00:00.000000000\",\"2013-05-19T00:00:00.000000000\",\"2013-05-20T00:00:00.000000000\",\"2013-05-21T00:00:00.000000000\",\"2013-05-22T00:00:00.000000000\",\"2013-05-23T00:00:00.000000000\",\"2013-05-24T00:00:00.000000000\",\"2013-05-25T00:00:00.000000000\",\"2013-05-26T00:00:00.000000000\",\"2013-05-27T00:00:00.000000000\",\"2013-05-28T00:00:00.000000000\",\"2013-05-29T00:00:00.000000000\",\"2013-05-30T00:00:00.000000000\",\"2013-05-31T00:00:00.000000000\",\"2013-06-01T00:00:00.000000000\",\"2013-06-02T00:00:00.000000000\",\"2013-06-03T00:00:00.000000000\",\"2013-06-04T00:00:00.000000000\",\"2013-06-05T00:00:00.000000000\",\"2013-06-06T00:00:00.000000000\",\"2013-06-07T00:00:00.000000000\",\"2013-06-08T00:00:00.000000000\",\"2013-06-09T00:00:00.000000000\",\"2013-06-10T00:00:00.000000000\",\"2013-06-11T00:00:00.000000000\",\"2013-06-12T00:00:00.000000000\",\"2013-06-13T00:00:00.000000000\",\"2013-06-14T00:00:00.000000000\",\"2013-06-15T00:00:00.000000000\",\"2013-06-16T00:00:00.000000000\",\"2013-06-17T00:00:00.000000000\",\"2013-06-18T00:00:00.000000000\",\"2013-06-19T00:00:00.000000000\",\"2013-06-20T00:00:00.000000000\",\"2013-06-21T00:00:00.000000000\",\"2013-06-22T00:00:00.000000000\",\"2013-06-23T00:00:00.000000000\",\"2013-06-24T00:00:00.000000000\",\"2013-06-25T00:00:00.000000000\",\"2013-06-26T00:00:00.000000000\",\"2013-06-27T00:00:00.000000000\",\"2013-06-28T00:00:00.000000000\",\"2013-06-29T00:00:00.000000000\",\"2013-06-30T00:00:00.000000000\",\"2013-07-01T00:00:00.000000000\",\"2013-07-02T00:00:00.000000000\",\"2013-07-03T00:00:00.000000000\",\"2013-07-04T00:00:00.000000000\",\"2013-07-05T00:00:00.000000000\",\"2013-07-06T00:00:00.000000000\",\"2013-07-07T00:00:00.000000000\",\"2013-07-08T00:00:00.000000000\",\"2013-07-09T00:00:00.000000000\",\"2013-07-10T00:00:00.000000000\",\"2013-07-11T00:00:00.000000000\",\"2013-07-12T00:00:00.000000000\",\"2013-07-13T00:00:00.000000000\",\"2013-07-14T00:00:00.000000000\",\"2013-07-15T00:00:00.000000000\",\"2013-07-16T00:00:00.000000000\",\"2013-07-17T00:00:00.000000000\",\"2013-07-18T00:00:00.000000000\",\"2013-07-19T00:00:00.000000000\",\"2013-07-20T00:00:00.000000000\",\"2013-07-21T00:00:00.000000000\",\"2013-07-22T00:00:00.000000000\",\"2013-07-23T00:00:00.000000000\",\"2013-07-24T00:00:00.000000000\",\"2013-07-25T00:00:00.000000000\",\"2013-07-26T00:00:00.000000000\",\"2013-07-27T00:00:00.000000000\",\"2013-07-28T00:00:00.000000000\",\"2013-07-29T00:00:00.000000000\",\"2013-07-30T00:00:00.000000000\",\"2013-07-31T00:00:00.000000000\",\"2013-08-01T00:00:00.000000000\",\"2013-08-02T00:00:00.000000000\",\"2013-08-03T00:00:00.000000000\",\"2013-08-04T00:00:00.000000000\",\"2013-08-05T00:00:00.000000000\",\"2013-08-06T00:00:00.000000000\",\"2013-08-07T00:00:00.000000000\",\"2013-08-08T00:00:00.000000000\",\"2013-08-09T00:00:00.000000000\",\"2013-08-10T00:00:00.000000000\",\"2013-08-11T00:00:00.000000000\",\"2013-08-12T00:00:00.000000000\",\"2013-08-13T00:00:00.000000000\",\"2013-08-14T00:00:00.000000000\",\"2013-08-15T00:00:00.000000000\",\"2013-08-16T00:00:00.000000000\",\"2013-08-17T00:00:00.000000000\",\"2013-08-18T00:00:00.000000000\",\"2013-08-19T00:00:00.000000000\",\"2013-08-20T00:00:00.000000000\",\"2013-08-21T00:00:00.000000000\",\"2013-08-22T00:00:00.000000000\",\"2013-08-23T00:00:00.000000000\",\"2013-08-24T00:00:00.000000000\",\"2013-08-25T00:00:00.000000000\",\"2013-08-26T00:00:00.000000000\",\"2013-08-27T00:00:00.000000000\",\"2013-08-28T00:00:00.000000000\",\"2013-08-29T00:00:00.000000000\",\"2013-08-30T00:00:00.000000000\",\"2013-08-31T00:00:00.000000000\",\"2013-09-01T00:00:00.000000000\",\"2013-09-02T00:00:00.000000000\",\"2013-09-03T00:00:00.000000000\",\"2013-09-04T00:00:00.000000000\",\"2013-09-05T00:00:00.000000000\",\"2013-09-06T00:00:00.000000000\",\"2013-09-07T00:00:00.000000000\",\"2013-09-08T00:00:00.000000000\",\"2013-09-09T00:00:00.000000000\",\"2013-09-10T00:00:00.000000000\",\"2013-09-11T00:00:00.000000000\",\"2013-09-12T00:00:00.000000000\",\"2013-09-13T00:00:00.000000000\",\"2013-09-14T00:00:00.000000000\",\"2013-09-15T00:00:00.000000000\",\"2013-09-16T00:00:00.000000000\",\"2013-09-17T00:00:00.000000000\",\"2013-09-18T00:00:00.000000000\",\"2013-09-19T00:00:00.000000000\",\"2013-09-20T00:00:00.000000000\",\"2013-09-21T00:00:00.000000000\",\"2013-09-22T00:00:00.000000000\",\"2013-09-23T00:00:00.000000000\",\"2013-09-24T00:00:00.000000000\",\"2013-09-25T00:00:00.000000000\",\"2013-09-26T00:00:00.000000000\",\"2013-09-27T00:00:00.000000000\",\"2013-09-28T00:00:00.000000000\",\"2013-09-29T00:00:00.000000000\",\"2013-09-30T00:00:00.000000000\",\"2013-10-01T00:00:00.000000000\",\"2013-10-02T00:00:00.000000000\",\"2013-10-03T00:00:00.000000000\",\"2013-10-04T00:00:00.000000000\",\"2013-10-05T00:00:00.000000000\",\"2013-10-06T00:00:00.000000000\",\"2013-10-07T00:00:00.000000000\",\"2013-10-08T00:00:00.000000000\",\"2013-10-09T00:00:00.000000000\",\"2013-10-10T00:00:00.000000000\",\"2013-10-11T00:00:00.000000000\",\"2013-10-12T00:00:00.000000000\",\"2013-10-13T00:00:00.000000000\",\"2013-10-14T00:00:00.000000000\",\"2013-10-15T00:00:00.000000000\",\"2013-10-16T00:00:00.000000000\",\"2013-10-17T00:00:00.000000000\",\"2013-10-18T00:00:00.000000000\",\"2013-10-19T00:00:00.000000000\",\"2013-10-20T00:00:00.000000000\",\"2013-10-21T00:00:00.000000000\",\"2013-10-22T00:00:00.000000000\",\"2013-10-23T00:00:00.000000000\",\"2013-10-24T00:00:00.000000000\",\"2013-10-25T00:00:00.000000000\",\"2013-10-26T00:00:00.000000000\",\"2013-10-27T00:00:00.000000000\",\"2013-10-28T00:00:00.000000000\",\"2013-10-29T00:00:00.000000000\",\"2013-10-30T00:00:00.000000000\",\"2013-10-31T00:00:00.000000000\",\"2013-11-01T00:00:00.000000000\",\"2013-11-02T00:00:00.000000000\",\"2013-11-03T00:00:00.000000000\",\"2013-11-04T00:00:00.000000000\",\"2013-11-05T00:00:00.000000000\",\"2013-11-06T00:00:00.000000000\",\"2013-11-07T00:00:00.000000000\",\"2013-11-08T00:00:00.000000000\",\"2013-11-09T00:00:00.000000000\",\"2013-11-10T00:00:00.000000000\",\"2013-11-11T00:00:00.000000000\",\"2013-11-12T00:00:00.000000000\",\"2013-11-13T00:00:00.000000000\",\"2013-11-14T00:00:00.000000000\",\"2013-11-15T00:00:00.000000000\",\"2013-11-16T00:00:00.000000000\",\"2013-11-17T00:00:00.000000000\",\"2013-11-18T00:00:00.000000000\",\"2013-11-19T00:00:00.000000000\",\"2013-11-20T00:00:00.000000000\",\"2013-11-21T00:00:00.000000000\",\"2013-11-22T00:00:00.000000000\",\"2013-11-23T00:00:00.000000000\",\"2013-11-24T00:00:00.000000000\",\"2013-11-25T00:00:00.000000000\",\"2013-11-26T00:00:00.000000000\",\"2013-11-27T00:00:00.000000000\",\"2013-11-28T00:00:00.000000000\",\"2013-11-29T00:00:00.000000000\",\"2013-11-30T00:00:00.000000000\",\"2013-12-01T00:00:00.000000000\",\"2013-12-02T00:00:00.000000000\",\"2013-12-03T00:00:00.000000000\",\"2013-12-04T00:00:00.000000000\",\"2013-12-05T00:00:00.000000000\",\"2013-12-06T00:00:00.000000000\",\"2013-12-07T00:00:00.000000000\",\"2013-12-08T00:00:00.000000000\",\"2013-12-09T00:00:00.000000000\",\"2013-12-10T00:00:00.000000000\",\"2013-12-11T00:00:00.000000000\",\"2013-12-12T00:00:00.000000000\",\"2013-12-13T00:00:00.000000000\",\"2013-12-14T00:00:00.000000000\",\"2013-12-15T00:00:00.000000000\",\"2013-12-16T00:00:00.000000000\",\"2013-12-17T00:00:00.000000000\",\"2013-12-18T00:00:00.000000000\",\"2013-12-19T00:00:00.000000000\",\"2013-12-20T00:00:00.000000000\",\"2013-12-21T00:00:00.000000000\",\"2013-12-22T00:00:00.000000000\",\"2013-12-23T00:00:00.000000000\",\"2013-12-24T00:00:00.000000000\",\"2013-12-25T00:00:00.000000000\",\"2013-12-26T00:00:00.000000000\",\"2013-12-27T00:00:00.000000000\",\"2013-12-28T00:00:00.000000000\",\"2013-12-29T00:00:00.000000000\",\"2013-12-30T00:00:00.000000000\",\"2013-12-31T00:00:00.000000000\",\"2014-01-01T00:00:00.000000000\",\"2014-01-02T00:00:00.000000000\",\"2014-01-03T00:00:00.000000000\",\"2014-01-04T00:00:00.000000000\",\"2014-01-05T00:00:00.000000000\",\"2014-01-06T00:00:00.000000000\",\"2014-01-07T00:00:00.000000000\",\"2014-01-08T00:00:00.000000000\",\"2014-01-09T00:00:00.000000000\",\"2014-01-10T00:00:00.000000000\",\"2014-01-11T00:00:00.000000000\",\"2014-01-12T00:00:00.000000000\",\"2014-01-13T00:00:00.000000000\",\"2014-01-14T00:00:00.000000000\",\"2014-01-15T00:00:00.000000000\",\"2014-01-16T00:00:00.000000000\",\"2014-01-17T00:00:00.000000000\",\"2014-01-18T00:00:00.000000000\",\"2014-01-19T00:00:00.000000000\",\"2014-01-20T00:00:00.000000000\",\"2014-01-21T00:00:00.000000000\",\"2014-01-22T00:00:00.000000000\",\"2014-01-23T00:00:00.000000000\",\"2014-01-24T00:00:00.000000000\",\"2014-01-25T00:00:00.000000000\",\"2014-01-26T00:00:00.000000000\",\"2014-01-27T00:00:00.000000000\",\"2014-01-28T00:00:00.000000000\",\"2014-01-29T00:00:00.000000000\",\"2014-01-30T00:00:00.000000000\",\"2014-01-31T00:00:00.000000000\",\"2014-02-01T00:00:00.000000000\",\"2014-02-02T00:00:00.000000000\",\"2014-02-03T00:00:00.000000000\",\"2014-02-04T00:00:00.000000000\",\"2014-02-05T00:00:00.000000000\",\"2014-02-06T00:00:00.000000000\",\"2014-02-07T00:00:00.000000000\",\"2014-02-08T00:00:00.000000000\",\"2014-02-09T00:00:00.000000000\",\"2014-02-10T00:00:00.000000000\",\"2014-02-11T00:00:00.000000000\",\"2014-02-12T00:00:00.000000000\",\"2014-02-13T00:00:00.000000000\",\"2014-02-14T00:00:00.000000000\",\"2014-02-15T00:00:00.000000000\",\"2014-02-16T00:00:00.000000000\",\"2014-02-17T00:00:00.000000000\",\"2014-02-18T00:00:00.000000000\",\"2014-02-19T00:00:00.000000000\",\"2014-02-20T00:00:00.000000000\",\"2014-02-21T00:00:00.000000000\",\"2014-02-22T00:00:00.000000000\",\"2014-02-23T00:00:00.000000000\",\"2014-02-24T00:00:00.000000000\",\"2014-02-25T00:00:00.000000000\",\"2014-02-26T00:00:00.000000000\",\"2014-02-27T00:00:00.000000000\",\"2014-02-28T00:00:00.000000000\",\"2014-03-01T00:00:00.000000000\",\"2014-03-02T00:00:00.000000000\",\"2014-03-03T00:00:00.000000000\",\"2014-03-04T00:00:00.000000000\",\"2014-03-05T00:00:00.000000000\",\"2014-03-06T00:00:00.000000000\",\"2014-03-07T00:00:00.000000000\",\"2014-03-08T00:00:00.000000000\",\"2014-03-09T00:00:00.000000000\",\"2014-03-10T00:00:00.000000000\",\"2014-03-11T00:00:00.000000000\",\"2014-03-12T00:00:00.000000000\",\"2014-03-13T00:00:00.000000000\",\"2014-03-14T00:00:00.000000000\",\"2014-03-15T00:00:00.000000000\",\"2014-03-16T00:00:00.000000000\",\"2014-03-17T00:00:00.000000000\",\"2014-03-18T00:00:00.000000000\",\"2014-03-19T00:00:00.000000000\",\"2014-03-20T00:00:00.000000000\",\"2014-03-21T00:00:00.000000000\",\"2014-03-22T00:00:00.000000000\",\"2014-03-23T00:00:00.000000000\",\"2014-03-24T00:00:00.000000000\",\"2014-03-25T00:00:00.000000000\",\"2014-03-26T00:00:00.000000000\",\"2014-03-27T00:00:00.000000000\",\"2014-03-28T00:00:00.000000000\",\"2014-03-29T00:00:00.000000000\",\"2014-03-30T00:00:00.000000000\",\"2014-03-31T00:00:00.000000000\",\"2014-04-01T00:00:00.000000000\",\"2014-04-02T00:00:00.000000000\",\"2014-04-03T00:00:00.000000000\",\"2014-04-04T00:00:00.000000000\",\"2014-04-05T00:00:00.000000000\",\"2014-04-06T00:00:00.000000000\",\"2014-04-07T00:00:00.000000000\",\"2014-04-08T00:00:00.000000000\",\"2014-04-09T00:00:00.000000000\",\"2014-04-10T00:00:00.000000000\",\"2014-04-11T00:00:00.000000000\",\"2014-04-12T00:00:00.000000000\",\"2014-04-13T00:00:00.000000000\",\"2014-04-14T00:00:00.000000000\",\"2014-04-15T00:00:00.000000000\",\"2014-04-16T00:00:00.000000000\",\"2014-04-17T00:00:00.000000000\",\"2014-04-18T00:00:00.000000000\",\"2014-04-19T00:00:00.000000000\",\"2014-04-20T00:00:00.000000000\",\"2014-04-21T00:00:00.000000000\",\"2014-04-22T00:00:00.000000000\",\"2014-04-23T00:00:00.000000000\",\"2014-04-24T00:00:00.000000000\",\"2014-04-25T00:00:00.000000000\",\"2014-04-26T00:00:00.000000000\",\"2014-04-27T00:00:00.000000000\",\"2014-04-28T00:00:00.000000000\",\"2014-04-29T00:00:00.000000000\",\"2014-04-30T00:00:00.000000000\",\"2014-05-01T00:00:00.000000000\",\"2014-05-02T00:00:00.000000000\",\"2014-05-03T00:00:00.000000000\",\"2014-05-04T00:00:00.000000000\",\"2014-05-05T00:00:00.000000000\",\"2014-05-06T00:00:00.000000000\",\"2014-05-07T00:00:00.000000000\",\"2014-05-08T00:00:00.000000000\",\"2014-05-09T00:00:00.000000000\",\"2014-05-10T00:00:00.000000000\",\"2014-05-11T00:00:00.000000000\",\"2014-05-12T00:00:00.000000000\",\"2014-05-13T00:00:00.000000000\",\"2014-05-14T00:00:00.000000000\",\"2014-05-15T00:00:00.000000000\",\"2014-05-16T00:00:00.000000000\",\"2014-05-17T00:00:00.000000000\",\"2014-05-18T00:00:00.000000000\",\"2014-05-19T00:00:00.000000000\",\"2014-05-20T00:00:00.000000000\",\"2014-05-21T00:00:00.000000000\",\"2014-05-22T00:00:00.000000000\",\"2014-05-23T00:00:00.000000000\",\"2014-05-24T00:00:00.000000000\",\"2014-05-25T00:00:00.000000000\",\"2014-05-26T00:00:00.000000000\",\"2014-05-27T00:00:00.000000000\",\"2014-05-28T00:00:00.000000000\",\"2014-05-29T00:00:00.000000000\",\"2014-05-30T00:00:00.000000000\",\"2014-05-31T00:00:00.000000000\",\"2014-06-01T00:00:00.000000000\",\"2014-06-02T00:00:00.000000000\",\"2014-06-03T00:00:00.000000000\",\"2014-06-04T00:00:00.000000000\",\"2014-06-05T00:00:00.000000000\",\"2014-06-06T00:00:00.000000000\",\"2014-06-07T00:00:00.000000000\",\"2014-06-08T00:00:00.000000000\",\"2014-06-09T00:00:00.000000000\",\"2014-06-10T00:00:00.000000000\",\"2014-06-11T00:00:00.000000000\",\"2014-06-12T00:00:00.000000000\",\"2014-06-13T00:00:00.000000000\",\"2014-06-14T00:00:00.000000000\",\"2014-06-15T00:00:00.000000000\",\"2014-06-16T00:00:00.000000000\",\"2014-06-17T00:00:00.000000000\",\"2014-06-18T00:00:00.000000000\",\"2014-06-19T00:00:00.000000000\",\"2014-06-20T00:00:00.000000000\",\"2014-06-21T00:00:00.000000000\",\"2014-06-22T00:00:00.000000000\",\"2014-06-23T00:00:00.000000000\",\"2014-06-24T00:00:00.000000000\",\"2014-06-25T00:00:00.000000000\",\"2014-06-26T00:00:00.000000000\",\"2014-06-27T00:00:00.000000000\",\"2014-06-28T00:00:00.000000000\",\"2014-06-29T00:00:00.000000000\",\"2014-06-30T00:00:00.000000000\",\"2014-07-01T00:00:00.000000000\",\"2014-07-02T00:00:00.000000000\",\"2014-07-03T00:00:00.000000000\",\"2014-07-04T00:00:00.000000000\",\"2014-07-05T00:00:00.000000000\",\"2014-07-06T00:00:00.000000000\",\"2014-07-07T00:00:00.000000000\",\"2014-07-08T00:00:00.000000000\",\"2014-07-09T00:00:00.000000000\",\"2014-07-10T00:00:00.000000000\",\"2014-07-11T00:00:00.000000000\",\"2014-07-12T00:00:00.000000000\",\"2014-07-13T00:00:00.000000000\",\"2014-07-14T00:00:00.000000000\",\"2014-07-15T00:00:00.000000000\",\"2014-07-16T00:00:00.000000000\",\"2014-07-17T00:00:00.000000000\",\"2014-07-18T00:00:00.000000000\",\"2014-07-19T00:00:00.000000000\",\"2014-07-20T00:00:00.000000000\",\"2014-07-21T00:00:00.000000000\",\"2014-07-22T00:00:00.000000000\",\"2014-07-23T00:00:00.000000000\",\"2014-07-24T00:00:00.000000000\",\"2014-07-25T00:00:00.000000000\",\"2014-07-26T00:00:00.000000000\",\"2014-07-27T00:00:00.000000000\",\"2014-07-28T00:00:00.000000000\",\"2014-07-29T00:00:00.000000000\",\"2014-07-30T00:00:00.000000000\",\"2014-07-31T00:00:00.000000000\",\"2014-08-01T00:00:00.000000000\",\"2014-08-02T00:00:00.000000000\",\"2014-08-03T00:00:00.000000000\",\"2014-08-04T00:00:00.000000000\",\"2014-08-05T00:00:00.000000000\",\"2014-08-06T00:00:00.000000000\",\"2014-08-07T00:00:00.000000000\",\"2014-08-08T00:00:00.000000000\",\"2014-08-09T00:00:00.000000000\",\"2014-08-10T00:00:00.000000000\",\"2014-08-11T00:00:00.000000000\",\"2014-08-12T00:00:00.000000000\",\"2014-08-13T00:00:00.000000000\",\"2014-08-14T00:00:00.000000000\",\"2014-08-15T00:00:00.000000000\",\"2014-08-16T00:00:00.000000000\",\"2014-08-17T00:00:00.000000000\",\"2014-08-18T00:00:00.000000000\",\"2014-08-19T00:00:00.000000000\",\"2014-08-20T00:00:00.000000000\",\"2014-08-21T00:00:00.000000000\",\"2014-08-22T00:00:00.000000000\",\"2014-08-23T00:00:00.000000000\",\"2014-08-24T00:00:00.000000000\",\"2014-08-25T00:00:00.000000000\",\"2014-08-26T00:00:00.000000000\",\"2014-08-27T00:00:00.000000000\",\"2014-08-28T00:00:00.000000000\",\"2014-08-29T00:00:00.000000000\",\"2014-08-30T00:00:00.000000000\",\"2014-08-31T00:00:00.000000000\",\"2014-09-01T00:00:00.000000000\",\"2014-09-02T00:00:00.000000000\",\"2014-09-03T00:00:00.000000000\",\"2014-09-04T00:00:00.000000000\",\"2014-09-05T00:00:00.000000000\",\"2014-09-06T00:00:00.000000000\",\"2014-09-07T00:00:00.000000000\",\"2014-09-08T00:00:00.000000000\",\"2014-09-09T00:00:00.000000000\",\"2014-09-10T00:00:00.000000000\",\"2014-09-11T00:00:00.000000000\",\"2014-09-12T00:00:00.000000000\",\"2014-09-13T00:00:00.000000000\",\"2014-09-14T00:00:00.000000000\",\"2014-09-15T00:00:00.000000000\",\"2014-09-16T00:00:00.000000000\",\"2014-09-17T00:00:00.000000000\",\"2014-09-18T00:00:00.000000000\",\"2014-09-19T00:00:00.000000000\",\"2014-09-20T00:00:00.000000000\",\"2014-09-21T00:00:00.000000000\",\"2014-09-22T00:00:00.000000000\",\"2014-09-23T00:00:00.000000000\",\"2014-09-24T00:00:00.000000000\",\"2014-09-25T00:00:00.000000000\",\"2014-09-26T00:00:00.000000000\",\"2014-09-27T00:00:00.000000000\",\"2014-09-28T00:00:00.000000000\",\"2014-09-29T00:00:00.000000000\",\"2014-09-30T00:00:00.000000000\",\"2014-10-01T00:00:00.000000000\",\"2014-10-02T00:00:00.000000000\",\"2014-10-03T00:00:00.000000000\",\"2014-10-04T00:00:00.000000000\",\"2014-10-05T00:00:00.000000000\",\"2014-10-06T00:00:00.000000000\",\"2014-10-07T00:00:00.000000000\",\"2014-10-08T00:00:00.000000000\",\"2014-10-09T00:00:00.000000000\",\"2014-10-10T00:00:00.000000000\",\"2014-10-11T00:00:00.000000000\",\"2014-10-12T00:00:00.000000000\",\"2014-10-13T00:00:00.000000000\",\"2014-10-14T00:00:00.000000000\",\"2014-10-15T00:00:00.000000000\",\"2014-10-16T00:00:00.000000000\",\"2014-10-17T00:00:00.000000000\",\"2014-10-18T00:00:00.000000000\",\"2014-10-19T00:00:00.000000000\",\"2014-10-20T00:00:00.000000000\",\"2014-10-21T00:00:00.000000000\",\"2014-10-22T00:00:00.000000000\",\"2014-10-23T00:00:00.000000000\",\"2014-10-24T00:00:00.000000000\",\"2014-10-25T00:00:00.000000000\",\"2014-10-26T00:00:00.000000000\",\"2014-10-27T00:00:00.000000000\",\"2014-10-28T00:00:00.000000000\",\"2014-10-29T00:00:00.000000000\",\"2014-10-30T00:00:00.000000000\",\"2014-10-31T00:00:00.000000000\",\"2014-11-01T00:00:00.000000000\",\"2014-11-02T00:00:00.000000000\",\"2014-11-03T00:00:00.000000000\",\"2014-11-04T00:00:00.000000000\",\"2014-11-05T00:00:00.000000000\",\"2014-11-06T00:00:00.000000000\",\"2014-11-07T00:00:00.000000000\",\"2014-11-08T00:00:00.000000000\",\"2014-11-09T00:00:00.000000000\",\"2014-11-10T00:00:00.000000000\",\"2014-11-11T00:00:00.000000000\",\"2014-11-12T00:00:00.000000000\",\"2014-11-13T00:00:00.000000000\",\"2014-11-14T00:00:00.000000000\",\"2014-11-15T00:00:00.000000000\",\"2014-11-16T00:00:00.000000000\",\"2014-11-17T00:00:00.000000000\",\"2014-11-18T00:00:00.000000000\",\"2014-11-19T00:00:00.000000000\",\"2014-11-20T00:00:00.000000000\",\"2014-11-21T00:00:00.000000000\",\"2014-11-22T00:00:00.000000000\",\"2014-11-23T00:00:00.000000000\",\"2014-11-24T00:00:00.000000000\",\"2014-11-25T00:00:00.000000000\",\"2014-11-26T00:00:00.000000000\",\"2014-11-27T00:00:00.000000000\",\"2014-11-28T00:00:00.000000000\",\"2014-11-29T00:00:00.000000000\",\"2014-11-30T00:00:00.000000000\",\"2014-12-01T00:00:00.000000000\",\"2014-12-02T00:00:00.000000000\",\"2014-12-03T00:00:00.000000000\",\"2014-12-04T00:00:00.000000000\",\"2014-12-05T00:00:00.000000000\",\"2014-12-06T00:00:00.000000000\",\"2014-12-07T00:00:00.000000000\",\"2014-12-08T00:00:00.000000000\",\"2014-12-09T00:00:00.000000000\",\"2014-12-10T00:00:00.000000000\",\"2014-12-11T00:00:00.000000000\",\"2014-12-12T00:00:00.000000000\",\"2014-12-13T00:00:00.000000000\",\"2014-12-14T00:00:00.000000000\",\"2014-12-15T00:00:00.000000000\",\"2014-12-16T00:00:00.000000000\",\"2014-12-17T00:00:00.000000000\",\"2014-12-18T00:00:00.000000000\",\"2014-12-19T00:00:00.000000000\",\"2014-12-20T00:00:00.000000000\",\"2014-12-21T00:00:00.000000000\",\"2014-12-22T00:00:00.000000000\",\"2014-12-23T00:00:00.000000000\",\"2014-12-24T00:00:00.000000000\",\"2014-12-25T00:00:00.000000000\",\"2014-12-26T00:00:00.000000000\",\"2014-12-27T00:00:00.000000000\",\"2014-12-28T00:00:00.000000000\",\"2014-12-29T00:00:00.000000000\",\"2014-12-30T00:00:00.000000000\",\"2014-12-31T00:00:00.000000000\",\"2015-01-01T00:00:00.000000000\",\"2015-01-02T00:00:00.000000000\",\"2015-01-03T00:00:00.000000000\",\"2015-01-04T00:00:00.000000000\",\"2015-01-05T00:00:00.000000000\",\"2015-01-06T00:00:00.000000000\",\"2015-01-07T00:00:00.000000000\",\"2015-01-08T00:00:00.000000000\",\"2015-01-09T00:00:00.000000000\",\"2015-01-10T00:00:00.000000000\",\"2015-01-11T00:00:00.000000000\",\"2015-01-12T00:00:00.000000000\",\"2015-01-13T00:00:00.000000000\",\"2015-01-14T00:00:00.000000000\",\"2015-01-15T00:00:00.000000000\",\"2015-01-16T00:00:00.000000000\",\"2015-01-17T00:00:00.000000000\",\"2015-01-18T00:00:00.000000000\",\"2015-01-19T00:00:00.000000000\",\"2015-01-20T00:00:00.000000000\",\"2015-01-21T00:00:00.000000000\",\"2015-01-22T00:00:00.000000000\",\"2015-01-23T00:00:00.000000000\",\"2015-01-24T00:00:00.000000000\",\"2015-01-25T00:00:00.000000000\",\"2015-01-26T00:00:00.000000000\",\"2015-01-27T00:00:00.000000000\",\"2015-01-28T00:00:00.000000000\",\"2015-01-29T00:00:00.000000000\",\"2015-01-30T00:00:00.000000000\",\"2015-01-31T00:00:00.000000000\",\"2015-02-01T00:00:00.000000000\",\"2015-02-02T00:00:00.000000000\",\"2015-02-03T00:00:00.000000000\",\"2015-02-04T00:00:00.000000000\",\"2015-02-05T00:00:00.000000000\",\"2015-02-06T00:00:00.000000000\",\"2015-02-07T00:00:00.000000000\",\"2015-02-08T00:00:00.000000000\",\"2015-02-09T00:00:00.000000000\",\"2015-02-10T00:00:00.000000000\",\"2015-02-11T00:00:00.000000000\",\"2015-02-12T00:00:00.000000000\",\"2015-02-13T00:00:00.000000000\",\"2015-02-14T00:00:00.000000000\",\"2015-02-15T00:00:00.000000000\",\"2015-02-16T00:00:00.000000000\",\"2015-02-17T00:00:00.000000000\",\"2015-02-18T00:00:00.000000000\",\"2015-02-19T00:00:00.000000000\",\"2015-02-20T00:00:00.000000000\",\"2015-02-21T00:00:00.000000000\",\"2015-02-22T00:00:00.000000000\",\"2015-02-23T00:00:00.000000000\",\"2015-02-24T00:00:00.000000000\",\"2015-02-25T00:00:00.000000000\",\"2015-02-26T00:00:00.000000000\",\"2015-02-27T00:00:00.000000000\",\"2015-02-28T00:00:00.000000000\",\"2015-03-01T00:00:00.000000000\",\"2015-03-02T00:00:00.000000000\",\"2015-03-03T00:00:00.000000000\",\"2015-03-04T00:00:00.000000000\",\"2015-03-05T00:00:00.000000000\",\"2015-03-06T00:00:00.000000000\",\"2015-03-07T00:00:00.000000000\",\"2015-03-08T00:00:00.000000000\",\"2015-03-09T00:00:00.000000000\",\"2015-03-10T00:00:00.000000000\",\"2015-03-11T00:00:00.000000000\",\"2015-03-12T00:00:00.000000000\",\"2015-03-13T00:00:00.000000000\",\"2015-03-14T00:00:00.000000000\",\"2015-03-15T00:00:00.000000000\",\"2015-03-16T00:00:00.000000000\",\"2015-03-17T00:00:00.000000000\",\"2015-03-18T00:00:00.000000000\",\"2015-03-19T00:00:00.000000000\",\"2015-03-20T00:00:00.000000000\",\"2015-03-21T00:00:00.000000000\",\"2015-03-22T00:00:00.000000000\",\"2015-03-23T00:00:00.000000000\",\"2015-03-24T00:00:00.000000000\",\"2015-03-25T00:00:00.000000000\",\"2015-03-26T00:00:00.000000000\",\"2015-03-27T00:00:00.000000000\",\"2015-03-28T00:00:00.000000000\",\"2015-03-29T00:00:00.000000000\",\"2015-03-30T00:00:00.000000000\",\"2015-03-31T00:00:00.000000000\",\"2015-04-01T00:00:00.000000000\",\"2015-04-02T00:00:00.000000000\",\"2015-04-03T00:00:00.000000000\",\"2015-04-04T00:00:00.000000000\",\"2015-04-05T00:00:00.000000000\",\"2015-04-06T00:00:00.000000000\",\"2015-04-07T00:00:00.000000000\",\"2015-04-08T00:00:00.000000000\",\"2015-04-09T00:00:00.000000000\",\"2015-04-10T00:00:00.000000000\",\"2015-04-11T00:00:00.000000000\",\"2015-04-12T00:00:00.000000000\",\"2015-04-13T00:00:00.000000000\",\"2015-04-14T00:00:00.000000000\",\"2015-04-15T00:00:00.000000000\",\"2015-04-16T00:00:00.000000000\",\"2015-04-17T00:00:00.000000000\",\"2015-04-18T00:00:00.000000000\",\"2015-04-19T00:00:00.000000000\",\"2015-04-20T00:00:00.000000000\",\"2015-04-21T00:00:00.000000000\",\"2015-04-22T00:00:00.000000000\",\"2015-04-23T00:00:00.000000000\",\"2015-04-24T00:00:00.000000000\",\"2015-04-25T00:00:00.000000000\",\"2015-04-26T00:00:00.000000000\",\"2015-04-27T00:00:00.000000000\",\"2015-04-28T00:00:00.000000000\",\"2015-04-29T00:00:00.000000000\",\"2015-04-30T00:00:00.000000000\",\"2015-05-01T00:00:00.000000000\",\"2015-05-02T00:00:00.000000000\",\"2015-05-03T00:00:00.000000000\",\"2015-05-04T00:00:00.000000000\",\"2015-05-05T00:00:00.000000000\",\"2015-05-06T00:00:00.000000000\",\"2015-05-07T00:00:00.000000000\",\"2015-05-08T00:00:00.000000000\",\"2015-05-09T00:00:00.000000000\",\"2015-05-10T00:00:00.000000000\",\"2015-05-11T00:00:00.000000000\",\"2015-05-12T00:00:00.000000000\",\"2015-05-13T00:00:00.000000000\",\"2015-05-14T00:00:00.000000000\",\"2015-05-15T00:00:00.000000000\",\"2015-05-16T00:00:00.000000000\",\"2015-05-17T00:00:00.000000000\",\"2015-05-18T00:00:00.000000000\",\"2015-05-19T00:00:00.000000000\",\"2015-05-20T00:00:00.000000000\",\"2015-05-21T00:00:00.000000000\",\"2015-05-22T00:00:00.000000000\",\"2015-05-23T00:00:00.000000000\",\"2015-05-24T00:00:00.000000000\",\"2015-05-25T00:00:00.000000000\",\"2015-05-26T00:00:00.000000000\",\"2015-05-27T00:00:00.000000000\",\"2015-05-28T00:00:00.000000000\",\"2015-05-29T00:00:00.000000000\",\"2015-05-30T00:00:00.000000000\",\"2015-05-31T00:00:00.000000000\",\"2015-06-01T00:00:00.000000000\",\"2015-06-02T00:00:00.000000000\",\"2015-06-03T00:00:00.000000000\",\"2015-06-04T00:00:00.000000000\",\"2015-06-05T00:00:00.000000000\",\"2015-06-06T00:00:00.000000000\",\"2015-06-07T00:00:00.000000000\",\"2015-06-08T00:00:00.000000000\",\"2015-06-09T00:00:00.000000000\",\"2015-06-10T00:00:00.000000000\",\"2015-06-11T00:00:00.000000000\",\"2015-06-12T00:00:00.000000000\",\"2015-06-13T00:00:00.000000000\",\"2015-06-14T00:00:00.000000000\",\"2015-06-15T00:00:00.000000000\",\"2015-06-16T00:00:00.000000000\",\"2015-06-17T00:00:00.000000000\",\"2015-06-18T00:00:00.000000000\",\"2015-06-19T00:00:00.000000000\",\"2015-06-20T00:00:00.000000000\",\"2015-06-21T00:00:00.000000000\",\"2015-06-22T00:00:00.000000000\",\"2015-06-23T00:00:00.000000000\",\"2015-06-24T00:00:00.000000000\",\"2015-06-25T00:00:00.000000000\",\"2015-06-26T00:00:00.000000000\",\"2015-06-27T00:00:00.000000000\",\"2015-06-28T00:00:00.000000000\",\"2015-06-29T00:00:00.000000000\",\"2015-06-30T00:00:00.000000000\",\"2015-07-01T00:00:00.000000000\",\"2015-07-02T00:00:00.000000000\",\"2015-07-03T00:00:00.000000000\",\"2015-07-04T00:00:00.000000000\",\"2015-07-05T00:00:00.000000000\",\"2015-07-06T00:00:00.000000000\",\"2015-07-07T00:00:00.000000000\",\"2015-07-08T00:00:00.000000000\",\"2015-07-09T00:00:00.000000000\",\"2015-07-10T00:00:00.000000000\",\"2015-07-11T00:00:00.000000000\",\"2015-07-12T00:00:00.000000000\",\"2015-07-13T00:00:00.000000000\",\"2015-07-14T00:00:00.000000000\",\"2015-07-15T00:00:00.000000000\",\"2015-07-16T00:00:00.000000000\",\"2015-07-17T00:00:00.000000000\",\"2015-07-18T00:00:00.000000000\",\"2015-07-19T00:00:00.000000000\",\"2015-07-20T00:00:00.000000000\",\"2015-07-21T00:00:00.000000000\",\"2015-07-22T00:00:00.000000000\",\"2015-07-23T00:00:00.000000000\",\"2015-07-24T00:00:00.000000000\",\"2015-07-25T00:00:00.000000000\",\"2015-07-26T00:00:00.000000000\",\"2015-07-27T00:00:00.000000000\",\"2015-07-28T00:00:00.000000000\",\"2015-07-29T00:00:00.000000000\",\"2015-07-30T00:00:00.000000000\",\"2015-07-31T00:00:00.000000000\",\"2015-08-01T00:00:00.000000000\",\"2015-08-02T00:00:00.000000000\",\"2015-08-03T00:00:00.000000000\",\"2015-08-04T00:00:00.000000000\",\"2015-08-05T00:00:00.000000000\",\"2015-08-06T00:00:00.000000000\",\"2015-08-07T00:00:00.000000000\",\"2015-08-08T00:00:00.000000000\",\"2015-08-09T00:00:00.000000000\",\"2015-08-10T00:00:00.000000000\",\"2015-08-11T00:00:00.000000000\",\"2015-08-12T00:00:00.000000000\",\"2015-08-13T00:00:00.000000000\",\"2015-08-14T00:00:00.000000000\",\"2015-08-15T00:00:00.000000000\",\"2015-08-16T00:00:00.000000000\",\"2015-08-17T00:00:00.000000000\",\"2015-08-18T00:00:00.000000000\",\"2015-08-19T00:00:00.000000000\",\"2015-08-20T00:00:00.000000000\",\"2015-08-21T00:00:00.000000000\",\"2015-08-22T00:00:00.000000000\",\"2015-08-23T00:00:00.000000000\",\"2015-08-24T00:00:00.000000000\",\"2015-08-25T00:00:00.000000000\",\"2015-08-26T00:00:00.000000000\",\"2015-08-27T00:00:00.000000000\",\"2015-08-28T00:00:00.000000000\",\"2015-08-29T00:00:00.000000000\",\"2015-08-30T00:00:00.000000000\",\"2015-08-31T00:00:00.000000000\",\"2015-09-01T00:00:00.000000000\",\"2015-09-02T00:00:00.000000000\",\"2015-09-03T00:00:00.000000000\",\"2015-09-04T00:00:00.000000000\",\"2015-09-05T00:00:00.000000000\",\"2015-09-06T00:00:00.000000000\",\"2015-09-07T00:00:00.000000000\",\"2015-09-08T00:00:00.000000000\",\"2015-09-09T00:00:00.000000000\",\"2015-09-10T00:00:00.000000000\",\"2015-09-11T00:00:00.000000000\",\"2015-09-12T00:00:00.000000000\",\"2015-09-13T00:00:00.000000000\",\"2015-09-14T00:00:00.000000000\",\"2015-09-15T00:00:00.000000000\",\"2015-09-16T00:00:00.000000000\",\"2015-09-17T00:00:00.000000000\",\"2015-09-18T00:00:00.000000000\",\"2015-09-19T00:00:00.000000000\",\"2015-09-20T00:00:00.000000000\",\"2015-09-21T00:00:00.000000000\",\"2015-09-22T00:00:00.000000000\",\"2015-09-23T00:00:00.000000000\",\"2015-09-24T00:00:00.000000000\",\"2015-09-25T00:00:00.000000000\",\"2015-09-26T00:00:00.000000000\",\"2015-09-27T00:00:00.000000000\",\"2015-09-28T00:00:00.000000000\",\"2015-09-29T00:00:00.000000000\",\"2015-09-30T00:00:00.000000000\",\"2015-10-01T00:00:00.000000000\",\"2015-10-02T00:00:00.000000000\",\"2015-10-03T00:00:00.000000000\",\"2015-10-04T00:00:00.000000000\",\"2015-10-05T00:00:00.000000000\",\"2015-10-06T00:00:00.000000000\",\"2015-10-07T00:00:00.000000000\",\"2015-10-08T00:00:00.000000000\",\"2015-10-09T00:00:00.000000000\",\"2015-10-10T00:00:00.000000000\",\"2015-10-11T00:00:00.000000000\",\"2015-10-12T00:00:00.000000000\",\"2015-10-13T00:00:00.000000000\",\"2015-10-14T00:00:00.000000000\",\"2015-10-15T00:00:00.000000000\",\"2015-10-16T00:00:00.000000000\",\"2015-10-17T00:00:00.000000000\",\"2015-10-18T00:00:00.000000000\",\"2015-10-19T00:00:00.000000000\",\"2015-10-20T00:00:00.000000000\",\"2015-10-21T00:00:00.000000000\",\"2015-10-22T00:00:00.000000000\",\"2015-10-23T00:00:00.000000000\",\"2015-10-24T00:00:00.000000000\",\"2015-10-25T00:00:00.000000000\",\"2015-10-26T00:00:00.000000000\",\"2015-10-27T00:00:00.000000000\",\"2015-10-28T00:00:00.000000000\",\"2015-10-29T00:00:00.000000000\",\"2015-10-30T00:00:00.000000000\",\"2015-10-31T00:00:00.000000000\",\"2015-11-01T00:00:00.000000000\",\"2015-11-02T00:00:00.000000000\",\"2015-11-03T00:00:00.000000000\",\"2015-11-04T00:00:00.000000000\",\"2015-11-05T00:00:00.000000000\",\"2015-11-06T00:00:00.000000000\",\"2015-11-07T00:00:00.000000000\",\"2015-11-08T00:00:00.000000000\",\"2015-11-09T00:00:00.000000000\",\"2015-11-10T00:00:00.000000000\",\"2015-11-11T00:00:00.000000000\",\"2015-11-12T00:00:00.000000000\",\"2015-11-13T00:00:00.000000000\",\"2015-11-14T00:00:00.000000000\",\"2015-11-15T00:00:00.000000000\",\"2015-11-16T00:00:00.000000000\",\"2015-11-17T00:00:00.000000000\",\"2015-11-18T00:00:00.000000000\",\"2015-11-19T00:00:00.000000000\",\"2015-11-20T00:00:00.000000000\",\"2015-11-21T00:00:00.000000000\",\"2015-11-22T00:00:00.000000000\",\"2015-11-23T00:00:00.000000000\",\"2015-11-24T00:00:00.000000000\",\"2015-11-25T00:00:00.000000000\",\"2015-11-26T00:00:00.000000000\",\"2015-11-27T00:00:00.000000000\",\"2015-11-28T00:00:00.000000000\",\"2015-11-29T00:00:00.000000000\",\"2015-11-30T00:00:00.000000000\",\"2015-12-01T00:00:00.000000000\",\"2015-12-02T00:00:00.000000000\",\"2015-12-03T00:00:00.000000000\",\"2015-12-04T00:00:00.000000000\",\"2015-12-05T00:00:00.000000000\",\"2015-12-06T00:00:00.000000000\",\"2015-12-07T00:00:00.000000000\",\"2015-12-08T00:00:00.000000000\",\"2015-12-09T00:00:00.000000000\",\"2015-12-10T00:00:00.000000000\",\"2015-12-11T00:00:00.000000000\",\"2015-12-12T00:00:00.000000000\",\"2015-12-13T00:00:00.000000000\",\"2015-12-14T00:00:00.000000000\",\"2015-12-15T00:00:00.000000000\",\"2015-12-16T00:00:00.000000000\",\"2015-12-17T00:00:00.000000000\",\"2015-12-18T00:00:00.000000000\",\"2015-12-19T00:00:00.000000000\",\"2015-12-20T00:00:00.000000000\",\"2015-12-21T00:00:00.000000000\",\"2015-12-22T00:00:00.000000000\",\"2015-12-23T00:00:00.000000000\",\"2015-12-24T00:00:00.000000000\",\"2015-12-25T00:00:00.000000000\",\"2015-12-26T00:00:00.000000000\",\"2015-12-27T00:00:00.000000000\",\"2015-12-28T00:00:00.000000000\",\"2015-12-29T00:00:00.000000000\",\"2015-12-30T00:00:00.000000000\",\"2015-12-31T00:00:00.000000000\",\"2016-01-01T00:00:00.000000000\",\"2016-01-02T00:00:00.000000000\",\"2016-01-03T00:00:00.000000000\",\"2016-01-04T00:00:00.000000000\",\"2016-01-05T00:00:00.000000000\",\"2016-01-06T00:00:00.000000000\",\"2016-01-07T00:00:00.000000000\",\"2016-01-08T00:00:00.000000000\",\"2016-01-09T00:00:00.000000000\",\"2016-01-10T00:00:00.000000000\",\"2016-01-11T00:00:00.000000000\",\"2016-01-12T00:00:00.000000000\",\"2016-01-13T00:00:00.000000000\",\"2016-01-14T00:00:00.000000000\",\"2016-01-15T00:00:00.000000000\",\"2016-01-16T00:00:00.000000000\",\"2016-01-17T00:00:00.000000000\",\"2016-01-18T00:00:00.000000000\",\"2016-01-19T00:00:00.000000000\",\"2016-01-20T00:00:00.000000000\",\"2016-01-21T00:00:00.000000000\",\"2016-01-22T00:00:00.000000000\",\"2016-01-23T00:00:00.000000000\",\"2016-01-24T00:00:00.000000000\",\"2016-01-25T00:00:00.000000000\",\"2016-01-26T00:00:00.000000000\",\"2016-01-27T00:00:00.000000000\",\"2016-01-28T00:00:00.000000000\",\"2016-01-29T00:00:00.000000000\",\"2016-01-30T00:00:00.000000000\",\"2016-01-31T00:00:00.000000000\",\"2016-02-01T00:00:00.000000000\",\"2016-02-02T00:00:00.000000000\",\"2016-02-03T00:00:00.000000000\",\"2016-02-04T00:00:00.000000000\",\"2016-02-05T00:00:00.000000000\",\"2016-02-06T00:00:00.000000000\",\"2016-02-07T00:00:00.000000000\",\"2016-02-08T00:00:00.000000000\",\"2016-02-09T00:00:00.000000000\",\"2016-02-10T00:00:00.000000000\",\"2016-02-11T00:00:00.000000000\",\"2016-02-12T00:00:00.000000000\",\"2016-02-13T00:00:00.000000000\",\"2016-02-14T00:00:00.000000000\",\"2016-02-15T00:00:00.000000000\",\"2016-02-16T00:00:00.000000000\",\"2016-02-17T00:00:00.000000000\",\"2016-02-18T00:00:00.000000000\",\"2016-02-19T00:00:00.000000000\",\"2016-02-20T00:00:00.000000000\",\"2016-02-21T00:00:00.000000000\",\"2016-02-22T00:00:00.000000000\",\"2016-02-23T00:00:00.000000000\",\"2016-02-24T00:00:00.000000000\",\"2016-02-25T00:00:00.000000000\",\"2016-02-26T00:00:00.000000000\",\"2016-02-27T00:00:00.000000000\",\"2016-02-28T00:00:00.000000000\",\"2016-02-29T00:00:00.000000000\",\"2016-03-01T00:00:00.000000000\",\"2016-03-02T00:00:00.000000000\",\"2016-03-03T00:00:00.000000000\",\"2016-03-04T00:00:00.000000000\",\"2016-03-05T00:00:00.000000000\",\"2016-03-06T00:00:00.000000000\",\"2016-03-07T00:00:00.000000000\",\"2016-03-08T00:00:00.000000000\",\"2016-03-09T00:00:00.000000000\",\"2016-03-10T00:00:00.000000000\",\"2016-03-11T00:00:00.000000000\",\"2016-03-12T00:00:00.000000000\",\"2016-03-13T00:00:00.000000000\",\"2016-03-14T00:00:00.000000000\",\"2016-03-15T00:00:00.000000000\",\"2016-03-16T00:00:00.000000000\",\"2016-03-17T00:00:00.000000000\",\"2016-03-18T00:00:00.000000000\",\"2016-03-19T00:00:00.000000000\",\"2016-03-20T00:00:00.000000000\",\"2016-03-21T00:00:00.000000000\",\"2016-03-22T00:00:00.000000000\",\"2016-03-23T00:00:00.000000000\",\"2016-03-24T00:00:00.000000000\",\"2016-03-25T00:00:00.000000000\",\"2016-03-26T00:00:00.000000000\",\"2016-03-27T00:00:00.000000000\",\"2016-03-28T00:00:00.000000000\",\"2016-03-29T00:00:00.000000000\",\"2016-03-30T00:00:00.000000000\",\"2016-03-31T00:00:00.000000000\",\"2016-04-01T00:00:00.000000000\",\"2016-04-02T00:00:00.000000000\",\"2016-04-03T00:00:00.000000000\",\"2016-04-04T00:00:00.000000000\",\"2016-04-05T00:00:00.000000000\",\"2016-04-06T00:00:00.000000000\",\"2016-04-07T00:00:00.000000000\",\"2016-04-08T00:00:00.000000000\",\"2016-04-09T00:00:00.000000000\",\"2016-04-10T00:00:00.000000000\",\"2016-04-11T00:00:00.000000000\",\"2016-04-12T00:00:00.000000000\",\"2016-04-13T00:00:00.000000000\",\"2016-04-14T00:00:00.000000000\",\"2016-04-15T00:00:00.000000000\",\"2016-04-16T00:00:00.000000000\",\"2016-04-17T00:00:00.000000000\",\"2016-04-18T00:00:00.000000000\",\"2016-04-19T00:00:00.000000000\",\"2016-04-20T00:00:00.000000000\",\"2016-04-21T00:00:00.000000000\",\"2016-04-22T00:00:00.000000000\",\"2016-04-23T00:00:00.000000000\",\"2016-04-24T00:00:00.000000000\",\"2016-04-25T00:00:00.000000000\",\"2016-04-26T00:00:00.000000000\",\"2016-04-27T00:00:00.000000000\",\"2016-04-28T00:00:00.000000000\",\"2016-04-29T00:00:00.000000000\",\"2016-04-30T00:00:00.000000000\",\"2016-05-01T00:00:00.000000000\",\"2016-05-02T00:00:00.000000000\",\"2016-05-03T00:00:00.000000000\",\"2016-05-04T00:00:00.000000000\",\"2016-05-05T00:00:00.000000000\",\"2016-05-06T00:00:00.000000000\",\"2016-05-07T00:00:00.000000000\",\"2016-05-08T00:00:00.000000000\",\"2016-05-09T00:00:00.000000000\",\"2016-05-10T00:00:00.000000000\",\"2016-05-11T00:00:00.000000000\",\"2016-05-12T00:00:00.000000000\",\"2016-05-13T00:00:00.000000000\",\"2016-05-14T00:00:00.000000000\",\"2016-05-15T00:00:00.000000000\",\"2016-05-16T00:00:00.000000000\",\"2016-05-17T00:00:00.000000000\",\"2016-05-18T00:00:00.000000000\",\"2016-05-19T00:00:00.000000000\",\"2016-05-20T00:00:00.000000000\",\"2016-05-21T00:00:00.000000000\",\"2016-05-22T00:00:00.000000000\",\"2016-05-23T00:00:00.000000000\",\"2016-05-24T00:00:00.000000000\",\"2016-05-25T00:00:00.000000000\",\"2016-05-26T00:00:00.000000000\",\"2016-05-27T00:00:00.000000000\",\"2016-05-28T00:00:00.000000000\",\"2016-05-29T00:00:00.000000000\",\"2016-05-30T00:00:00.000000000\",\"2016-05-31T00:00:00.000000000\",\"2016-06-01T00:00:00.000000000\",\"2016-06-02T00:00:00.000000000\",\"2016-06-03T00:00:00.000000000\",\"2016-06-04T00:00:00.000000000\",\"2016-06-05T00:00:00.000000000\",\"2016-06-06T00:00:00.000000000\",\"2016-06-07T00:00:00.000000000\",\"2016-06-08T00:00:00.000000000\",\"2016-06-09T00:00:00.000000000\",\"2016-06-10T00:00:00.000000000\",\"2016-06-11T00:00:00.000000000\",\"2016-06-12T00:00:00.000000000\",\"2016-06-13T00:00:00.000000000\",\"2016-06-14T00:00:00.000000000\",\"2016-06-15T00:00:00.000000000\",\"2016-06-16T00:00:00.000000000\",\"2016-06-17T00:00:00.000000000\",\"2016-06-18T00:00:00.000000000\",\"2016-06-19T00:00:00.000000000\",\"2016-06-20T00:00:00.000000000\",\"2016-06-21T00:00:00.000000000\",\"2016-06-22T00:00:00.000000000\",\"2016-06-23T00:00:00.000000000\",\"2016-06-24T00:00:00.000000000\",\"2016-06-25T00:00:00.000000000\",\"2016-06-26T00:00:00.000000000\",\"2016-06-27T00:00:00.000000000\",\"2016-06-28T00:00:00.000000000\",\"2016-06-29T00:00:00.000000000\",\"2016-06-30T00:00:00.000000000\",\"2016-07-01T00:00:00.000000000\",\"2016-07-02T00:00:00.000000000\",\"2016-07-03T00:00:00.000000000\",\"2016-07-04T00:00:00.000000000\",\"2016-07-05T00:00:00.000000000\",\"2016-07-06T00:00:00.000000000\",\"2016-07-07T00:00:00.000000000\",\"2016-07-08T00:00:00.000000000\",\"2016-07-09T00:00:00.000000000\",\"2016-07-10T00:00:00.000000000\",\"2016-07-11T00:00:00.000000000\",\"2016-07-12T00:00:00.000000000\",\"2016-07-13T00:00:00.000000000\",\"2016-07-14T00:00:00.000000000\",\"2016-07-15T00:00:00.000000000\",\"2016-07-16T00:00:00.000000000\",\"2016-07-17T00:00:00.000000000\",\"2016-07-18T00:00:00.000000000\",\"2016-07-19T00:00:00.000000000\",\"2016-07-20T00:00:00.000000000\",\"2016-07-21T00:00:00.000000000\",\"2016-07-22T00:00:00.000000000\",\"2016-07-23T00:00:00.000000000\",\"2016-07-24T00:00:00.000000000\",\"2016-07-25T00:00:00.000000000\",\"2016-07-26T00:00:00.000000000\",\"2016-07-27T00:00:00.000000000\",\"2016-07-28T00:00:00.000000000\",\"2016-07-29T00:00:00.000000000\",\"2016-07-30T00:00:00.000000000\",\"2016-07-31T00:00:00.000000000\",\"2016-08-01T00:00:00.000000000\",\"2016-08-02T00:00:00.000000000\",\"2016-08-03T00:00:00.000000000\",\"2016-08-04T00:00:00.000000000\",\"2016-08-05T00:00:00.000000000\",\"2016-08-06T00:00:00.000000000\",\"2016-08-07T00:00:00.000000000\",\"2016-08-08T00:00:00.000000000\",\"2016-08-09T00:00:00.000000000\",\"2016-08-10T00:00:00.000000000\",\"2016-08-11T00:00:00.000000000\",\"2016-08-12T00:00:00.000000000\",\"2016-08-13T00:00:00.000000000\",\"2016-08-14T00:00:00.000000000\",\"2016-08-15T00:00:00.000000000\",\"2016-08-16T00:00:00.000000000\",\"2016-08-17T00:00:00.000000000\",\"2016-08-18T00:00:00.000000000\",\"2016-08-19T00:00:00.000000000\",\"2016-08-20T00:00:00.000000000\",\"2016-08-21T00:00:00.000000000\",\"2016-08-22T00:00:00.000000000\",\"2016-08-23T00:00:00.000000000\",\"2016-08-24T00:00:00.000000000\",\"2016-08-25T00:00:00.000000000\",\"2016-08-26T00:00:00.000000000\",\"2016-08-27T00:00:00.000000000\",\"2016-08-28T00:00:00.000000000\",\"2016-08-29T00:00:00.000000000\",\"2016-08-30T00:00:00.000000000\",\"2016-08-31T00:00:00.000000000\",\"2016-09-01T00:00:00.000000000\",\"2016-09-02T00:00:00.000000000\",\"2016-09-03T00:00:00.000000000\",\"2016-09-04T00:00:00.000000000\",\"2016-09-05T00:00:00.000000000\",\"2016-09-06T00:00:00.000000000\",\"2016-09-07T00:00:00.000000000\",\"2016-09-08T00:00:00.000000000\",\"2016-09-09T00:00:00.000000000\",\"2016-09-10T00:00:00.000000000\",\"2016-09-11T00:00:00.000000000\",\"2016-09-12T00:00:00.000000000\",\"2016-09-13T00:00:00.000000000\",\"2016-09-14T00:00:00.000000000\",\"2016-09-15T00:00:00.000000000\",\"2016-09-16T00:00:00.000000000\",\"2016-09-17T00:00:00.000000000\",\"2016-09-18T00:00:00.000000000\",\"2016-09-19T00:00:00.000000000\",\"2016-09-20T00:00:00.000000000\",\"2016-09-21T00:00:00.000000000\",\"2016-09-22T00:00:00.000000000\",\"2016-09-23T00:00:00.000000000\",\"2016-09-24T00:00:00.000000000\",\"2016-09-25T00:00:00.000000000\",\"2016-09-26T00:00:00.000000000\",\"2016-09-27T00:00:00.000000000\",\"2016-09-28T00:00:00.000000000\",\"2016-09-29T00:00:00.000000000\",\"2016-09-30T00:00:00.000000000\",\"2016-10-01T00:00:00.000000000\",\"2016-10-02T00:00:00.000000000\",\"2016-10-03T00:00:00.000000000\",\"2016-10-04T00:00:00.000000000\",\"2016-10-05T00:00:00.000000000\",\"2016-10-06T00:00:00.000000000\",\"2016-10-07T00:00:00.000000000\",\"2016-10-08T00:00:00.000000000\",\"2016-10-09T00:00:00.000000000\",\"2016-10-10T00:00:00.000000000\",\"2016-10-11T00:00:00.000000000\",\"2016-10-12T00:00:00.000000000\",\"2016-10-13T00:00:00.000000000\",\"2016-10-14T00:00:00.000000000\",\"2016-10-15T00:00:00.000000000\",\"2016-10-16T00:00:00.000000000\",\"2016-10-17T00:00:00.000000000\",\"2016-10-18T00:00:00.000000000\",\"2016-10-19T00:00:00.000000000\",\"2016-10-20T00:00:00.000000000\",\"2016-10-21T00:00:00.000000000\",\"2016-10-22T00:00:00.000000000\",\"2016-10-23T00:00:00.000000000\",\"2016-10-24T00:00:00.000000000\",\"2016-10-25T00:00:00.000000000\",\"2016-10-26T00:00:00.000000000\",\"2016-10-27T00:00:00.000000000\",\"2016-10-28T00:00:00.000000000\",\"2016-10-29T00:00:00.000000000\",\"2016-10-30T00:00:00.000000000\",\"2016-10-31T00:00:00.000000000\",\"2016-11-01T00:00:00.000000000\",\"2016-11-02T00:00:00.000000000\",\"2016-11-03T00:00:00.000000000\",\"2016-11-04T00:00:00.000000000\",\"2016-11-05T00:00:00.000000000\",\"2016-11-06T00:00:00.000000000\",\"2016-11-07T00:00:00.000000000\",\"2016-11-08T00:00:00.000000000\",\"2016-11-09T00:00:00.000000000\",\"2016-11-10T00:00:00.000000000\",\"2016-11-11T00:00:00.000000000\",\"2016-11-12T00:00:00.000000000\",\"2016-11-13T00:00:00.000000000\",\"2016-11-14T00:00:00.000000000\",\"2016-11-15T00:00:00.000000000\",\"2016-11-16T00:00:00.000000000\",\"2016-11-17T00:00:00.000000000\",\"2016-11-18T00:00:00.000000000\",\"2016-11-19T00:00:00.000000000\",\"2016-11-20T00:00:00.000000000\",\"2016-11-21T00:00:00.000000000\",\"2016-11-22T00:00:00.000000000\",\"2016-11-23T00:00:00.000000000\",\"2016-11-24T00:00:00.000000000\",\"2016-11-25T00:00:00.000000000\",\"2016-11-26T00:00:00.000000000\",\"2016-11-27T00:00:00.000000000\",\"2016-11-28T00:00:00.000000000\",\"2016-11-29T00:00:00.000000000\",\"2016-11-30T00:00:00.000000000\",\"2016-12-01T00:00:00.000000000\",\"2016-12-02T00:00:00.000000000\",\"2016-12-03T00:00:00.000000000\",\"2016-12-04T00:00:00.000000000\",\"2016-12-05T00:00:00.000000000\",\"2016-12-06T00:00:00.000000000\",\"2016-12-07T00:00:00.000000000\",\"2016-12-08T00:00:00.000000000\",\"2016-12-09T00:00:00.000000000\",\"2016-12-10T00:00:00.000000000\",\"2016-12-11T00:00:00.000000000\",\"2016-12-12T00:00:00.000000000\",\"2016-12-13T00:00:00.000000000\",\"2016-12-14T00:00:00.000000000\",\"2016-12-15T00:00:00.000000000\",\"2016-12-16T00:00:00.000000000\",\"2016-12-17T00:00:00.000000000\",\"2016-12-18T00:00:00.000000000\",\"2016-12-19T00:00:00.000000000\",\"2016-12-20T00:00:00.000000000\",\"2016-12-21T00:00:00.000000000\",\"2016-12-22T00:00:00.000000000\",\"2016-12-23T00:00:00.000000000\",\"2016-12-24T00:00:00.000000000\",\"2016-12-25T00:00:00.000000000\",\"2016-12-26T00:00:00.000000000\",\"2016-12-27T00:00:00.000000000\",\"2016-12-28T00:00:00.000000000\",\"2016-12-29T00:00:00.000000000\",\"2016-12-30T00:00:00.000000000\",\"2016-12-31T00:00:00.000000000\",\"2017-01-01T00:00:00.000000000\",\"2017-01-02T00:00:00.000000000\",\"2017-01-03T00:00:00.000000000\",\"2017-01-04T00:00:00.000000000\",\"2017-01-05T00:00:00.000000000\",\"2017-01-06T00:00:00.000000000\",\"2017-01-07T00:00:00.000000000\",\"2017-01-08T00:00:00.000000000\",\"2017-01-09T00:00:00.000000000\",\"2017-01-10T00:00:00.000000000\",\"2017-01-11T00:00:00.000000000\",\"2017-01-12T00:00:00.000000000\",\"2017-01-13T00:00:00.000000000\",\"2017-01-14T00:00:00.000000000\",\"2017-01-15T00:00:00.000000000\",\"2017-01-16T00:00:00.000000000\",\"2017-01-17T00:00:00.000000000\",\"2017-01-18T00:00:00.000000000\",\"2017-01-19T00:00:00.000000000\",\"2017-01-20T00:00:00.000000000\",\"2017-01-21T00:00:00.000000000\",\"2017-01-22T00:00:00.000000000\",\"2017-01-23T00:00:00.000000000\",\"2017-01-24T00:00:00.000000000\",\"2017-01-25T00:00:00.000000000\",\"2017-01-26T00:00:00.000000000\",\"2017-01-27T00:00:00.000000000\",\"2017-01-28T00:00:00.000000000\",\"2017-01-29T00:00:00.000000000\",\"2017-01-30T00:00:00.000000000\",\"2017-01-31T00:00:00.000000000\",\"2017-02-01T00:00:00.000000000\",\"2017-02-02T00:00:00.000000000\",\"2017-02-03T00:00:00.000000000\",\"2017-02-04T00:00:00.000000000\",\"2017-02-05T00:00:00.000000000\",\"2017-02-06T00:00:00.000000000\",\"2017-02-07T00:00:00.000000000\",\"2017-02-08T00:00:00.000000000\",\"2017-02-09T00:00:00.000000000\",\"2017-02-10T00:00:00.000000000\",\"2017-02-11T00:00:00.000000000\",\"2017-02-12T00:00:00.000000000\",\"2017-02-13T00:00:00.000000000\",\"2017-02-14T00:00:00.000000000\",\"2017-02-15T00:00:00.000000000\",\"2017-02-16T00:00:00.000000000\",\"2017-02-17T00:00:00.000000000\",\"2017-02-18T00:00:00.000000000\",\"2017-02-19T00:00:00.000000000\",\"2017-02-20T00:00:00.000000000\",\"2017-02-21T00:00:00.000000000\",\"2017-02-22T00:00:00.000000000\",\"2017-02-23T00:00:00.000000000\",\"2017-02-24T00:00:00.000000000\",\"2017-02-25T00:00:00.000000000\",\"2017-02-26T00:00:00.000000000\",\"2017-02-27T00:00:00.000000000\",\"2017-02-28T00:00:00.000000000\",\"2017-03-01T00:00:00.000000000\",\"2017-03-02T00:00:00.000000000\",\"2017-03-03T00:00:00.000000000\",\"2017-03-04T00:00:00.000000000\",\"2017-03-05T00:00:00.000000000\",\"2017-03-06T00:00:00.000000000\",\"2017-03-07T00:00:00.000000000\",\"2017-03-08T00:00:00.000000000\",\"2017-03-09T00:00:00.000000000\",\"2017-03-10T00:00:00.000000000\",\"2017-03-11T00:00:00.000000000\",\"2017-03-12T00:00:00.000000000\",\"2017-03-13T00:00:00.000000000\",\"2017-03-14T00:00:00.000000000\",\"2017-03-15T00:00:00.000000000\",\"2017-03-16T00:00:00.000000000\",\"2017-03-17T00:00:00.000000000\",\"2017-03-18T00:00:00.000000000\",\"2017-03-19T00:00:00.000000000\",\"2017-03-20T00:00:00.000000000\",\"2017-03-21T00:00:00.000000000\",\"2017-03-22T00:00:00.000000000\",\"2017-03-23T00:00:00.000000000\",\"2017-03-24T00:00:00.000000000\",\"2017-03-25T00:00:00.000000000\",\"2017-03-26T00:00:00.000000000\",\"2017-03-27T00:00:00.000000000\",\"2017-03-28T00:00:00.000000000\",\"2017-03-29T00:00:00.000000000\",\"2017-03-30T00:00:00.000000000\",\"2017-03-31T00:00:00.000000000\",\"2017-04-01T00:00:00.000000000\",\"2017-04-02T00:00:00.000000000\",\"2017-04-03T00:00:00.000000000\",\"2017-04-04T00:00:00.000000000\",\"2017-04-05T00:00:00.000000000\",\"2017-04-06T00:00:00.000000000\",\"2017-04-07T00:00:00.000000000\",\"2017-04-08T00:00:00.000000000\",\"2017-04-09T00:00:00.000000000\",\"2017-04-10T00:00:00.000000000\",\"2017-04-11T00:00:00.000000000\",\"2017-04-12T00:00:00.000000000\",\"2017-04-13T00:00:00.000000000\",\"2017-04-14T00:00:00.000000000\",\"2017-04-15T00:00:00.000000000\",\"2017-04-16T00:00:00.000000000\",\"2017-04-17T00:00:00.000000000\",\"2017-04-18T00:00:00.000000000\",\"2017-04-19T00:00:00.000000000\",\"2017-04-20T00:00:00.000000000\",\"2017-04-21T00:00:00.000000000\",\"2017-04-22T00:00:00.000000000\",\"2017-04-23T00:00:00.000000000\",\"2017-04-24T00:00:00.000000000\",\"2017-04-25T00:00:00.000000000\",\"2017-04-26T00:00:00.000000000\",\"2017-04-27T00:00:00.000000000\",\"2017-04-28T00:00:00.000000000\",\"2017-04-29T00:00:00.000000000\",\"2017-04-30T00:00:00.000000000\",\"2017-05-01T00:00:00.000000000\",\"2017-05-02T00:00:00.000000000\",\"2017-05-03T00:00:00.000000000\",\"2017-05-04T00:00:00.000000000\",\"2017-05-05T00:00:00.000000000\",\"2017-05-06T00:00:00.000000000\",\"2017-05-07T00:00:00.000000000\",\"2017-05-08T00:00:00.000000000\",\"2017-05-09T00:00:00.000000000\",\"2017-05-10T00:00:00.000000000\",\"2017-05-11T00:00:00.000000000\",\"2017-05-12T00:00:00.000000000\",\"2017-05-13T00:00:00.000000000\",\"2017-05-14T00:00:00.000000000\",\"2017-05-15T00:00:00.000000000\",\"2017-05-16T00:00:00.000000000\",\"2017-05-17T00:00:00.000000000\",\"2017-05-18T00:00:00.000000000\",\"2017-05-19T00:00:00.000000000\",\"2017-05-20T00:00:00.000000000\",\"2017-05-21T00:00:00.000000000\",\"2017-05-22T00:00:00.000000000\",\"2017-05-23T00:00:00.000000000\",\"2017-05-24T00:00:00.000000000\",\"2017-05-25T00:00:00.000000000\",\"2017-05-26T00:00:00.000000000\",\"2017-05-27T00:00:00.000000000\",\"2017-05-28T00:00:00.000000000\",\"2017-05-29T00:00:00.000000000\",\"2017-05-30T00:00:00.000000000\",\"2017-05-31T00:00:00.000000000\",\"2017-06-01T00:00:00.000000000\",\"2017-06-02T00:00:00.000000000\",\"2017-06-03T00:00:00.000000000\",\"2017-06-04T00:00:00.000000000\",\"2017-06-05T00:00:00.000000000\",\"2017-06-06T00:00:00.000000000\",\"2017-06-07T00:00:00.000000000\",\"2017-06-08T00:00:00.000000000\",\"2017-06-09T00:00:00.000000000\",\"2017-06-10T00:00:00.000000000\",\"2017-06-11T00:00:00.000000000\",\"2017-06-12T00:00:00.000000000\",\"2017-06-13T00:00:00.000000000\",\"2017-06-14T00:00:00.000000000\",\"2017-06-15T00:00:00.000000000\",\"2017-06-16T00:00:00.000000000\",\"2017-06-17T00:00:00.000000000\",\"2017-06-18T00:00:00.000000000\",\"2017-06-19T00:00:00.000000000\",\"2017-06-20T00:00:00.000000000\",\"2017-06-21T00:00:00.000000000\",\"2017-06-22T00:00:00.000000000\",\"2017-06-23T00:00:00.000000000\",\"2017-06-24T00:00:00.000000000\",\"2017-06-25T00:00:00.000000000\",\"2017-06-26T00:00:00.000000000\",\"2017-06-27T00:00:00.000000000\",\"2017-06-28T00:00:00.000000000\",\"2017-06-29T00:00:00.000000000\",\"2017-06-30T00:00:00.000000000\",\"2017-07-01T00:00:00.000000000\",\"2017-07-02T00:00:00.000000000\",\"2017-07-03T00:00:00.000000000\",\"2017-07-04T00:00:00.000000000\",\"2017-07-05T00:00:00.000000000\",\"2017-07-06T00:00:00.000000000\",\"2017-07-07T00:00:00.000000000\",\"2017-07-08T00:00:00.000000000\",\"2017-07-09T00:00:00.000000000\",\"2017-07-10T00:00:00.000000000\",\"2017-07-11T00:00:00.000000000\",\"2017-07-12T00:00:00.000000000\",\"2017-07-13T00:00:00.000000000\",\"2017-07-14T00:00:00.000000000\",\"2017-07-15T00:00:00.000000000\",\"2017-07-16T00:00:00.000000000\",\"2017-07-17T00:00:00.000000000\",\"2017-07-18T00:00:00.000000000\",\"2017-07-19T00:00:00.000000000\",\"2017-07-20T00:00:00.000000000\",\"2017-07-21T00:00:00.000000000\",\"2017-07-22T00:00:00.000000000\",\"2017-07-23T00:00:00.000000000\",\"2017-07-24T00:00:00.000000000\",\"2017-07-25T00:00:00.000000000\",\"2017-07-26T00:00:00.000000000\",\"2017-07-27T00:00:00.000000000\",\"2017-07-28T00:00:00.000000000\",\"2017-07-29T00:00:00.000000000\",\"2017-07-30T00:00:00.000000000\",\"2017-07-31T00:00:00.000000000\"],\"type\":\"candlestick\"}],                        {\"template\":{\"data\":{\"histogram2dcontour\":[{\"type\":\"histogram2dcontour\",\"colorbar\":{\"outlinewidth\":0,\"ticks\":\"\"},\"colorscale\":[[0.0,\"#0d0887\"],[0.1111111111111111,\"#46039f\"],[0.2222222222222222,\"#7201a8\"],[0.3333333333333333,\"#9c179e\"],[0.4444444444444444,\"#bd3786\"],[0.5555555555555556,\"#d8576b\"],[0.6666666666666666,\"#ed7953\"],[0.7777777777777778,\"#fb9f3a\"],[0.8888888888888888,\"#fdca26\"],[1.0,\"#f0f921\"]]}],\"choropleth\":[{\"type\":\"choropleth\",\"colorbar\":{\"outlinewidth\":0,\"ticks\":\"\"}}],\"histogram2d\":[{\"type\":\"histogram2d\",\"colorbar\":{\"outlinewidth\":0,\"ticks\":\"\"},\"colorscale\":[[0.0,\"#0d0887\"],[0.1111111111111111,\"#46039f\"],[0.2222222222222222,\"#7201a8\"],[0.3333333333333333,\"#9c179e\"],[0.4444444444444444,\"#bd3786\"],[0.5555555555555556,\"#d8576b\"],[0.6666666666666666,\"#ed7953\"],[0.7777777777777778,\"#fb9f3a\"],[0.8888888888888888,\"#fdca26\"],[1.0,\"#f0f921\"]]}],\"heatmap\":[{\"type\":\"heatmap\",\"colorbar\":{\"outlinewidth\":0,\"ticks\":\"\"},\"colorscale\":[[0.0,\"#0d0887\"],[0.1111111111111111,\"#46039f\"],[0.2222222222222222,\"#7201a8\"],[0.3333333333333333,\"#9c179e\"],[0.4444444444444444,\"#bd3786\"],[0.5555555555555556,\"#d8576b\"],[0.6666666666666666,\"#ed7953\"],[0.7777777777777778,\"#fb9f3a\"],[0.8888888888888888,\"#fdca26\"],[1.0,\"#f0f921\"]]}],\"contourcarpet\":[{\"type\":\"contourcarpet\",\"colorbar\":{\"outlinewidth\":0,\"ticks\":\"\"}}],\"contour\":[{\"type\":\"contour\",\"colorbar\":{\"outlinewidth\":0,\"ticks\":\"\"},\"colorscale\":[[0.0,\"#0d0887\"],[0.1111111111111111,\"#46039f\"],[0.2222222222222222,\"#7201a8\"],[0.3333333333333333,\"#9c179e\"],[0.4444444444444444,\"#bd3786\"],[0.5555555555555556,\"#d8576b\"],[0.6666666666666666,\"#ed7953\"],[0.7777777777777778,\"#fb9f3a\"],[0.8888888888888888,\"#fdca26\"],[1.0,\"#f0f921\"]]}],\"surface\":[{\"type\":\"surface\",\"colorbar\":{\"outlinewidth\":0,\"ticks\":\"\"},\"colorscale\":[[0.0,\"#0d0887\"],[0.1111111111111111,\"#46039f\"],[0.2222222222222222,\"#7201a8\"],[0.3333333333333333,\"#9c179e\"],[0.4444444444444444,\"#bd3786\"],[0.5555555555555556,\"#d8576b\"],[0.6666666666666666,\"#ed7953\"],[0.7777777777777778,\"#fb9f3a\"],[0.8888888888888888,\"#fdca26\"],[1.0,\"#f0f921\"]]}],\"mesh3d\":[{\"type\":\"mesh3d\",\"colorbar\":{\"outlinewidth\":0,\"ticks\":\"\"}}],\"scatter\":[{\"fillpattern\":{\"fillmode\":\"overlay\",\"size\":10,\"solidity\":0.2},\"type\":\"scatter\"}],\"parcoords\":[{\"type\":\"parcoords\",\"line\":{\"colorbar\":{\"outlinewidth\":0,\"ticks\":\"\"}}}],\"scatterpolargl\":[{\"type\":\"scatterpolargl\",\"marker\":{\"colorbar\":{\"outlinewidth\":0,\"ticks\":\"\"}}}],\"bar\":[{\"error_x\":{\"color\":\"#2a3f5f\"},\"error_y\":{\"color\":\"#2a3f5f\"},\"marker\":{\"line\":{\"color\":\"#E5ECF6\",\"width\":0.5},\"pattern\":{\"fillmode\":\"overlay\",\"size\":10,\"solidity\":0.2}},\"type\":\"bar\"}],\"scattergeo\":[{\"type\":\"scattergeo\",\"marker\":{\"colorbar\":{\"outlinewidth\":0,\"ticks\":\"\"}}}],\"scatterpolar\":[{\"type\":\"scatterpolar\",\"marker\":{\"colorbar\":{\"outlinewidth\":0,\"ticks\":\"\"}}}],\"histogram\":[{\"marker\":{\"pattern\":{\"fillmode\":\"overlay\",\"size\":10,\"solidity\":0.2}},\"type\":\"histogram\"}],\"scattergl\":[{\"type\":\"scattergl\",\"marker\":{\"colorbar\":{\"outlinewidth\":0,\"ticks\":\"\"}}}],\"scatter3d\":[{\"type\":\"scatter3d\",\"line\":{\"colorbar\":{\"outlinewidth\":0,\"ticks\":\"\"}},\"marker\":{\"colorbar\":{\"outlinewidth\":0,\"ticks\":\"\"}}}],\"scattermap\":[{\"type\":\"scattermap\",\"marker\":{\"colorbar\":{\"outlinewidth\":0,\"ticks\":\"\"}}}],\"scattermapbox\":[{\"type\":\"scattermapbox\",\"marker\":{\"colorbar\":{\"outlinewidth\":0,\"ticks\":\"\"}}}],\"scatterternary\":[{\"type\":\"scatterternary\",\"marker\":{\"colorbar\":{\"outlinewidth\":0,\"ticks\":\"\"}}}],\"scattercarpet\":[{\"type\":\"scattercarpet\",\"marker\":{\"colorbar\":{\"outlinewidth\":0,\"ticks\":\"\"}}}],\"carpet\":[{\"aaxis\":{\"endlinecolor\":\"#2a3f5f\",\"gridcolor\":\"white\",\"linecolor\":\"white\",\"minorgridcolor\":\"white\",\"startlinecolor\":\"#2a3f5f\"},\"baxis\":{\"endlinecolor\":\"#2a3f5f\",\"gridcolor\":\"white\",\"linecolor\":\"white\",\"minorgridcolor\":\"white\",\"startlinecolor\":\"#2a3f5f\"},\"type\":\"carpet\"}],\"table\":[{\"cells\":{\"fill\":{\"color\":\"#EBF0F8\"},\"line\":{\"color\":\"white\"}},\"header\":{\"fill\":{\"color\":\"#C8D4E3\"},\"line\":{\"color\":\"white\"}},\"type\":\"table\"}],\"barpolar\":[{\"marker\":{\"line\":{\"color\":\"#E5ECF6\",\"width\":0.5},\"pattern\":{\"fillmode\":\"overlay\",\"size\":10,\"solidity\":0.2}},\"type\":\"barpolar\"}],\"pie\":[{\"automargin\":true,\"type\":\"pie\"}]},\"layout\":{\"autotypenumbers\":\"strict\",\"colorway\":[\"#636efa\",\"#EF553B\",\"#00cc96\",\"#ab63fa\",\"#FFA15A\",\"#19d3f3\",\"#FF6692\",\"#B6E880\",\"#FF97FF\",\"#FECB52\"],\"font\":{\"color\":\"#2a3f5f\"},\"hovermode\":\"closest\",\"hoverlabel\":{\"align\":\"left\"},\"paper_bgcolor\":\"white\",\"plot_bgcolor\":\"#E5ECF6\",\"polar\":{\"bgcolor\":\"#E5ECF6\",\"angularaxis\":{\"gridcolor\":\"white\",\"linecolor\":\"white\",\"ticks\":\"\"},\"radialaxis\":{\"gridcolor\":\"white\",\"linecolor\":\"white\",\"ticks\":\"\"}},\"ternary\":{\"bgcolor\":\"#E5ECF6\",\"aaxis\":{\"gridcolor\":\"white\",\"linecolor\":\"white\",\"ticks\":\"\"},\"baxis\":{\"gridcolor\":\"white\",\"linecolor\":\"white\",\"ticks\":\"\"},\"caxis\":{\"gridcolor\":\"white\",\"linecolor\":\"white\",\"ticks\":\"\"}},\"coloraxis\":{\"colorbar\":{\"outlinewidth\":0,\"ticks\":\"\"}},\"colorscale\":{\"sequential\":[[0.0,\"#0d0887\"],[0.1111111111111111,\"#46039f\"],[0.2222222222222222,\"#7201a8\"],[0.3333333333333333,\"#9c179e\"],[0.4444444444444444,\"#bd3786\"],[0.5555555555555556,\"#d8576b\"],[0.6666666666666666,\"#ed7953\"],[0.7777777777777778,\"#fb9f3a\"],[0.8888888888888888,\"#fdca26\"],[1.0,\"#f0f921\"]],\"sequentialminus\":[[0.0,\"#0d0887\"],[0.1111111111111111,\"#46039f\"],[0.2222222222222222,\"#7201a8\"],[0.3333333333333333,\"#9c179e\"],[0.4444444444444444,\"#bd3786\"],[0.5555555555555556,\"#d8576b\"],[0.6666666666666666,\"#ed7953\"],[0.7777777777777778,\"#fb9f3a\"],[0.8888888888888888,\"#fdca26\"],[1.0,\"#f0f921\"]],\"diverging\":[[0,\"#8e0152\"],[0.1,\"#c51b7d\"],[0.2,\"#de77ae\"],[0.3,\"#f1b6da\"],[0.4,\"#fde0ef\"],[0.5,\"#f7f7f7\"],[0.6,\"#e6f5d0\"],[0.7,\"#b8e186\"],[0.8,\"#7fbc41\"],[0.9,\"#4d9221\"],[1,\"#276419\"]]},\"xaxis\":{\"gridcolor\":\"white\",\"linecolor\":\"white\",\"ticks\":\"\",\"title\":{\"standoff\":15},\"zerolinecolor\":\"white\",\"automargin\":true,\"zerolinewidth\":2},\"yaxis\":{\"gridcolor\":\"white\",\"linecolor\":\"white\",\"ticks\":\"\",\"title\":{\"standoff\":15},\"zerolinecolor\":\"white\",\"automargin\":true,\"zerolinewidth\":2},\"scene\":{\"xaxis\":{\"backgroundcolor\":\"#E5ECF6\",\"gridcolor\":\"white\",\"linecolor\":\"white\",\"showbackground\":true,\"ticks\":\"\",\"zerolinecolor\":\"white\",\"gridwidth\":2},\"yaxis\":{\"backgroundcolor\":\"#E5ECF6\",\"gridcolor\":\"white\",\"linecolor\":\"white\",\"showbackground\":true,\"ticks\":\"\",\"zerolinecolor\":\"white\",\"gridwidth\":2},\"zaxis\":{\"backgroundcolor\":\"#E5ECF6\",\"gridcolor\":\"white\",\"linecolor\":\"white\",\"showbackground\":true,\"ticks\":\"\",\"zerolinecolor\":\"white\",\"gridwidth\":2}},\"shapedefaults\":{\"line\":{\"color\":\"#2a3f5f\"}},\"annotationdefaults\":{\"arrowcolor\":\"#2a3f5f\",\"arrowhead\":0,\"arrowwidth\":1},\"geo\":{\"bgcolor\":\"white\",\"landcolor\":\"#E5ECF6\",\"subunitcolor\":\"white\",\"showland\":true,\"showlakes\":true,\"lakecolor\":\"white\"},\"title\":{\"x\":0.05},\"mapbox\":{\"style\":\"light\"}}}},                        {\"responsive\": true}                    ).then(function(){\n",
       "                            \n",
       "var gd = document.getElementById('a5759d3a-aedc-4983-a6fe-bf12d86e58e0');\n",
       "var x = new MutationObserver(function (mutations, observer) {{\n",
       "        var display = window.getComputedStyle(gd).display;\n",
       "        if (!display || display === 'none') {{\n",
       "            console.log([gd, 'removed!']);\n",
       "            Plotly.purge(gd);\n",
       "            observer.disconnect();\n",
       "        }}\n",
       "}});\n",
       "\n",
       "// Listen for the removal of the full notebook cells\n",
       "var notebookContainer = gd.closest('#notebook-container');\n",
       "if (notebookContainer) {{\n",
       "    x.observe(notebookContainer, {childList: true});\n",
       "}}\n",
       "\n",
       "// Listen for the clearing of the current output cell\n",
       "var outputEl = gd.closest('.output');\n",
       "if (outputEl) {{\n",
       "    x.observe(outputEl, {childList: true});\n",
       "}}\n",
       "\n",
       "                        })                };            </script>        </div>"
      ]
     },
     "metadata": {},
     "output_type": "display_data"
    }
   ],
   "source": [
    "fig = go.Figure()\n",
    "\n",
    "fig.add_trace(go.Candlestick(\n",
    "    x=btc_df['Date'], \n",
    "    open=btc_df['Open'],\n",
    "    high=btc_df['High'],\n",
    "    low=btc_df['Low'],\n",
    "    close=btc_df['Close']\n",
    "))\n"
   ]
  },
  {
   "cell_type": "code",
   "execution_count": 63,
   "id": "cedb34ce-1931-4d01-863d-aa27416272d1",
   "metadata": {},
   "outputs": [],
   "source": [
    "# INSIGHTS\n",
    "# A clear upward trend starting from late April to late May, where Bitcoin's price increased steadily.\n",
    "# Around late May, there’s a sharp increase followed by a drop, suggesting a period of high volatility\n",
    "# The price peaked at around $2,600 before experiencing a pullback: this suggests a strong resistance point, \n",
    "#   leading to profit-taking and a temporary decline\n",
    "# On May 27 we have a large red candle, indicating a strong sell-off\n",
    "# In mid June, the chart shows a sideways movement suggesting:\n",
    "#   - that the market was consolidating\n",
    "#   - traders where waiting for further signals before deciding on the next trend direction"
   ]
  },
  {
   "cell_type": "code",
   "execution_count": 64,
   "id": "462aa5be-838d-421b-b1c7-1aff998e6a9f",
   "metadata": {},
   "outputs": [],
   "source": [
    "# QUESTION: Analyze the high price in a deep fashion"
   ]
  },
  {
   "cell_type": "code",
   "execution_count": 65,
   "id": "af703f5e-f201-49ad-93cf-338743b9ef4e",
   "metadata": {},
   "outputs": [],
   "source": [
    "# using a log plot:\n",
    "#   - recommended if you have outliers (extremely high or low values)\n",
    "#   - recommeded to catch smoother increases and decreases"
   ]
  },
  {
   "cell_type": "code",
   "execution_count": 67,
   "id": "e35df4fd-7745-4ebf-bf73-0df5d5ab633b",
   "metadata": {},
   "outputs": [
    {
     "data": {
      "text/plain": [
       "<Axes: >"
      ]
     },
     "execution_count": 67,
     "metadata": {},
     "output_type": "execute_result"
    },
    {
     "data": {
      "image/png": "[encoded data removed]",
      "text/plain": [
       "<Figure size 640x480 with 1 Axes>"
      ]
     },
     "metadata": {},
     "output_type": "display_data"
    }
   ],
   "source": [
    "btc_df['High'].plot()"
   ]
  },
  {
   "cell_type": "code",
   "execution_count": 68,
   "id": "d884d02c-bc2d-418a-8087-9d716b3d7c86",
   "metadata": {},
   "outputs": [],
   "source": [
    "# to have dates in the X axis"
   ]
  },
  {
   "cell_type": "code",
   "execution_count": 69,
   "id": "5710621f-7e1a-4434-9d09-88256c3e3962",
   "metadata": {},
   "outputs": [
    {
     "data": {
      "text/plain": [
       "<Axes: xlabel='Date'>"
      ]
     },
     "execution_count": 69,
     "metadata": {},
     "output_type": "execute_result"
    },
    {
     "data": {
      "image/png": "[encoded data removed]",
      "text/plain": [
       "<Figure size 640x480 with 1 Axes>"
      ]
     },
     "metadata": {},
     "output_type": "display_data"
    }
   ],
   "source": [
    "btc_df.plot(x='Date', y='High')"
   ]
  },
  {
   "cell_type": "code",
   "execution_count": 70,
   "id": "1f55491f-7281-4dc4-925f-d9c5ccd62e8d",
   "metadata": {},
   "outputs": [],
   "source": [
    "# deploy the previous graph + the log one"
   ]
  },
  {
   "cell_type": "code",
   "execution_count": 83,
   "id": "0018e6f8-4802-474b-98e2-0c06cd5e39c9",
   "metadata": {},
   "outputs": [
    {
     "data": {
      "image/png": "[encoded data removed]",
      "text/plain": [
       "<Figure size 1200x500 with 2 Axes>"
      ]
     },
     "metadata": {},
     "output_type": "display_data"
    }
   ],
   "source": [
    "plt.figure(figsize=(12, 5))\n",
    "\n",
    "plt.subplot(1,2,1)\n",
    "btc_df['High'].plot()\n",
    "plt.title('No scaling')\n",
    "\n",
    "plt.subplot(1,2,2)\n",
    "np.log1p(btc_df['High']).plot()\n",
    "plt.title('Log scaling')\n",
    "plt.yscale('log')\n",
    "\n",
    "plt.tight_layout()"
   ]
  },
  {
   "cell_type": "markdown",
   "id": "c3150bc9-3631-42b1-9f65-79df1e2807ac",
   "metadata": {},
   "source": []
  },
  {
   "cell_type": "code",
   "execution_count": 84,
   "id": "03282a08-fd2d-4632-9319-8bb79424c313",
   "metadata": {},
   "outputs": [],
   "source": [
    "#DEPTH ANALYSIS\n",
    "# the log graph shows that:\n",
    "# - a more consistent growth trend rather than sudden, isolated spikes\n",
    "# - easier to compare different growth trend (normalizes % gains rather than absolute price differences)\n",
    "# - early fluctuations become more pronounced, showing that %-based changes were just as significant in earlier\n",
    "#   periods as in later ones"
   ]
  },
  {
   "cell_type": "code",
   "execution_count": 85,
   "id": "334ade66-02e4-42ee-925a-ec25678913fd",
   "metadata": {},
   "outputs": [],
   "source": [
    "#QUESTION: Analyse High price yearly, quarterly and monthly"
   ]
  },
  {
   "cell_type": "code",
   "execution_count": 86,
   "id": "331de513-9a1e-46c4-bea7-4fd52f8bac1c",
   "metadata": {},
   "outputs": [
    {
     "data": {
      "text/html": [
       "<div>\n",
       "<style scoped>\n",
       "    .dataframe tbody tr th:only-of-type {\n",
       "        vertical-align: middle;\n",
       "    }\n",
       "\n",
       "    .dataframe tbody tr th {\n",
       "        vertical-align: top;\n",
       "    }\n",
       "\n",
       "    .dataframe thead th {\n",
       "        text-align: right;\n",
       "    }\n",
       "</style>\n",
       "<table border=\"1\" class=\"dataframe\">\n",
       "  <thead>\n",
       "    <tr style=\"text-align: right;\">\n",
       "      <th></th>\n",
       "      <th>Date</th>\n",
       "      <th>Open</th>\n",
       "      <th>High</th>\n",
       "      <th>Low</th>\n",
       "      <th>Close</th>\n",
       "      <th>Volume</th>\n",
       "      <th>Market Cap</th>\n",
       "    </tr>\n",
       "  </thead>\n",
       "  <tbody>\n",
       "    <tr>\n",
       "      <th>0</th>\n",
       "      <td>2013-04-28</td>\n",
       "      <td>135.30</td>\n",
       "      <td>135.98</td>\n",
       "      <td>132.10</td>\n",
       "      <td>134.21</td>\n",
       "      <td>NaN</td>\n",
       "      <td>1.500520e+09</td>\n",
       "    </tr>\n",
       "    <tr>\n",
       "      <th>1</th>\n",
       "      <td>2013-04-29</td>\n",
       "      <td>134.44</td>\n",
       "      <td>147.49</td>\n",
       "      <td>134.00</td>\n",
       "      <td>144.54</td>\n",
       "      <td>NaN</td>\n",
       "      <td>1.491160e+09</td>\n",
       "    </tr>\n",
       "    <tr>\n",
       "      <th>2</th>\n",
       "      <td>2013-04-30</td>\n",
       "      <td>144.00</td>\n",
       "      <td>146.93</td>\n",
       "      <td>134.05</td>\n",
       "      <td>139.00</td>\n",
       "      <td>NaN</td>\n",
       "      <td>1.597780e+09</td>\n",
       "    </tr>\n",
       "  </tbody>\n",
       "</table>\n",
       "</div>"
      ],
      "text/plain": [
       "        Date    Open    High     Low   Close  Volume    Market Cap\n",
       "0 2013-04-28  135.30  135.98  132.10  134.21     NaN  1.500520e+09\n",
       "1 2013-04-29  134.44  147.49  134.00  144.54     NaN  1.491160e+09\n",
       "2 2013-04-30  144.00  146.93  134.05  139.00     NaN  1.597780e+09"
      ]
     },
     "execution_count": 86,
     "metadata": {},
     "output_type": "execute_result"
    }
   ],
   "source": [
    "btc_df.head(3)"
   ]
  },
  {
   "cell_type": "code",
   "execution_count": 87,
   "id": "ce24e096-a936-453f-b227-f1a2453a16b9",
   "metadata": {},
   "outputs": [],
   "source": [
    "# we have to index the date column in order to perform the analyzes"
   ]
  },
  {
   "cell_type": "code",
   "execution_count": 88,
   "id": "a2fd7f8e-27f2-40e4-b421-db7473df0017",
   "metadata": {},
   "outputs": [],
   "source": [
    "btc_df.set_index('Date', inplace=True)"
   ]
  },
  {
   "cell_type": "code",
   "execution_count": 89,
   "id": "f299155c-ac35-4b38-8de5-785ed90e75e3",
   "metadata": {},
   "outputs": [
    {
     "data": {
      "text/html": [
       "<div>\n",
       "<style scoped>\n",
       "    .dataframe tbody tr th:only-of-type {\n",
       "        vertical-align: middle;\n",
       "    }\n",
       "\n",
       "    .dataframe tbody tr th {\n",
       "        vertical-align: top;\n",
       "    }\n",
       "\n",
       "    .dataframe thead th {\n",
       "        text-align: right;\n",
       "    }\n",
       "</style>\n",
       "<table border=\"1\" class=\"dataframe\">\n",
       "  <thead>\n",
       "    <tr style=\"text-align: right;\">\n",
       "      <th></th>\n",
       "      <th>Open</th>\n",
       "      <th>High</th>\n",
       "      <th>Low</th>\n",
       "      <th>Close</th>\n",
       "      <th>Volume</th>\n",
       "      <th>Market Cap</th>\n",
       "    </tr>\n",
       "    <tr>\n",
       "      <th>Date</th>\n",
       "      <th></th>\n",
       "      <th></th>\n",
       "      <th></th>\n",
       "      <th></th>\n",
       "      <th></th>\n",
       "      <th></th>\n",
       "    </tr>\n",
       "  </thead>\n",
       "  <tbody>\n",
       "    <tr>\n",
       "      <th>2013-04-28</th>\n",
       "      <td>135.30</td>\n",
       "      <td>135.98</td>\n",
       "      <td>132.10</td>\n",
       "      <td>134.21</td>\n",
       "      <td>NaN</td>\n",
       "      <td>1.500520e+09</td>\n",
       "    </tr>\n",
       "    <tr>\n",
       "      <th>2013-04-29</th>\n",
       "      <td>134.44</td>\n",
       "      <td>147.49</td>\n",
       "      <td>134.00</td>\n",
       "      <td>144.54</td>\n",
       "      <td>NaN</td>\n",
       "      <td>1.491160e+09</td>\n",
       "    </tr>\n",
       "    <tr>\n",
       "      <th>2013-04-30</th>\n",
       "      <td>144.00</td>\n",
       "      <td>146.93</td>\n",
       "      <td>134.05</td>\n",
       "      <td>139.00</td>\n",
       "      <td>NaN</td>\n",
       "      <td>1.597780e+09</td>\n",
       "    </tr>\n",
       "  </tbody>\n",
       "</table>\n",
       "</div>"
      ],
      "text/plain": [
       "              Open    High     Low   Close  Volume    Market Cap\n",
       "Date                                                            \n",
       "2013-04-28  135.30  135.98  132.10  134.21     NaN  1.500520e+09\n",
       "2013-04-29  134.44  147.49  134.00  144.54     NaN  1.491160e+09\n",
       "2013-04-30  144.00  146.93  134.05  139.00     NaN  1.597780e+09"
      ]
     },
     "execution_count": 89,
     "metadata": {},
     "output_type": "execute_result"
    }
   ],
   "source": [
    "btc_df.head(3)"
   ]
  },
  {
   "cell_type": "code",
   "execution_count": 90,
   "id": "aae9e681-30c2-4d3a-b435-de92ed4bea61",
   "metadata": {},
   "outputs": [],
   "source": [
    "# to calculate the mean per year"
   ]
  },
  {
   "cell_type": "code",
   "execution_count": 95,
   "id": "412c1e79-9ece-4f86-b6d9-455c63cc05df",
   "metadata": {},
   "outputs": [
    {
     "data": {
      "text/plain": [
       "Date\n",
       "2013-12-31     269.322379\n",
       "2014-12-31     540.312000\n",
       "2015-12-31     278.152110\n",
       "2016-12-31     574.302377\n",
       "2017-12-31    1673.353066\n",
       "Freq: YE-DEC, Name: High, dtype: float64"
      ]
     },
     "execution_count": 95,
     "metadata": {},
     "output_type": "execute_result"
    }
   ],
   "source": [
    "btc_df['High'].resample('YE').mean()"
   ]
  },
  {
   "cell_type": "code",
   "execution_count": 97,
   "id": "f45cb94f-b09a-4e3d-85a2-a6206e377c6d",
   "metadata": {},
   "outputs": [
    {
     "data": {
      "text/plain": [
       "<Axes: xlabel='Date'>"
      ]
     },
     "execution_count": 97,
     "metadata": {},
     "output_type": "execute_result"
    },
    {
     "data": {
      "image/png": "[encoded data removed]",
      "text/plain": [
       "<Figure size 640x480 with 1 Axes>"
      ]
     },
     "metadata": {},
     "output_type": "display_data"
    }
   ],
   "source": [
    "btc_df['High'].resample('YE').mean().plot()"
   ]
  },
  {
   "cell_type": "code",
   "execution_count": 94,
   "id": "d6f1e43c-e231-4a4e-b77b-280b87f457e3",
   "metadata": {},
   "outputs": [],
   "source": [
    "# in average, the year 2017 has the higher average prices"
   ]
  },
  {
   "cell_type": "code",
   "execution_count": 99,
   "id": "371a1143-c335-40df-9113-68fc42f9b1c5",
   "metadata": {},
   "outputs": [
    {
     "data": {
      "text/plain": [
       "<Axes: xlabel='Date'>"
      ]
     },
     "execution_count": 99,
     "metadata": {},
     "output_type": "execute_result"
    },
    {
     "data": {
      "image/png": "[encoded data removed]",
      "text/plain": [
       "<Figure size 640x480 with 1 Axes>"
      ]
     },
     "metadata": {},
     "output_type": "display_data"
    }
   ],
   "source": [
    "btc_df['High'].resample('QE').mean().plot()"
   ]
  },
  {
   "cell_type": "code",
   "execution_count": 100,
   "id": "9003ffe4-d7dc-440a-8767-5a1622d68c1a",
   "metadata": {},
   "outputs": [],
   "source": [
    "# we can know analyse the trend of the High values by Quarter"
   ]
  },
  {
   "cell_type": "code",
   "execution_count": 101,
   "id": "d0ea8a96-6ee0-4f95-b87e-df2e231c805f",
   "metadata": {},
   "outputs": [],
   "source": [
    "#QUESTION: Analyse daily change on the High column"
   ]
  },
  {
   "cell_type": "code",
   "execution_count": 102,
   "id": "ba774e22-9102-47da-a33e-ab3f5e02eacb",
   "metadata": {},
   "outputs": [],
   "source": [
    "# to compute the % change"
   ]
  },
  {
   "cell_type": "code",
   "execution_count": 109,
   "id": "6e788455-079c-41da-b995-fffe7d52f5fb",
   "metadata": {},
   "outputs": [
    {
     "data": {
      "text/plain": [
       "Date\n",
       "2013-04-28          NaN\n",
       "2013-04-29     8.464480\n",
       "2013-04-30    -0.379687\n",
       "2013-05-01    -4.791397\n",
       "2013-05-02   -10.215169\n",
       "                ...    \n",
       "2017-07-27     3.162298\n",
       "2017-07-28     7.579122\n",
       "2017-07-29    -3.060967\n",
       "2017-07-30    -1.788334\n",
       "2017-07-31     4.752169\n",
       "Name: % change, Length: 1556, dtype: float64"
      ]
     },
     "execution_count": 109,
     "metadata": {},
     "output_type": "execute_result"
    }
   ],
   "source": [
    "btc_df['% change'] = btc_df['High'].pct_change()*100\n",
    "btc_df['% change']"
   ]
  },
  {
   "cell_type": "code",
   "execution_count": 104,
   "id": "1373f58f-bfd5-43e2-afac-8f88228153fe",
   "metadata": {},
   "outputs": [],
   "source": [
    "# from 28-04 to 29-04, we have a +8,46% value increase\n",
    "# from 29-04 to 30-04, we haev a -0,38% value decrease..."
   ]
  },
  {
   "cell_type": "code",
   "execution_count": 118,
   "id": "f66ceeba-9221-4936-8783-ff8386715fc5",
   "metadata": {},
   "outputs": [],
   "source": [
    "import cufflinks as cf"
   ]
  },
  {
   "cell_type": "code",
   "execution_count": 119,
   "id": "d1ef2697-1885-497b-90a9-2e9c5a8db554",
   "metadata": {},
   "outputs": [
    {
     "data": {
      "text/html": [
       "        <script type=\"text/javascript\">\n",
       "        window.PlotlyConfig = {MathJaxConfig: 'local'};\n",
       "        if (window.MathJax && window.MathJax.Hub && window.MathJax.Hub.Config) {window.MathJax.Hub.Config({SVG: {font: \"STIX-Web\"}});}\n",
       "        </script>\n",
       "        <script type=\"module\">import \"https://cdn.plot.ly/plotly-3.0.0.min\"</script>\n",
       "        "
      ]
     },
     "metadata": {},
     "output_type": "display_data"
    }
   ],
   "source": [
    "cf.go_offline()"
   ]
  },
  {
   "cell_type": "code",
   "execution_count": 113,
   "id": "8ae7f1e5-b676-44cb-9aea-73c6f2d23b9d",
   "metadata": {},
   "outputs": [
    {
     "data": {
      "text/plain": [
       "pandas.core.series.Series"
      ]
     },
     "execution_count": 113,
     "metadata": {},
     "output_type": "execute_result"
    }
   ],
   "source": [
    "type(btc_df['% change'])"
   ]
  },
  {
   "cell_type": "code",
   "execution_count": 125,
   "id": "3ac47cba-908c-4313-87ab-ab1d3676e871",
   "metadata": {},
   "outputs": [
    {
     "data": {
      "application/vnd.plotly.v1+json": {
       "config": {
        "plotlyServerURL": "https://plot.ly"
       },
       "data": [
        {
         "mode": "lines",
         "name": "% change",
         "type": "scatter",
         "x": [
          "2013-04-28T00:00:00.000000000",
          "2013-04-29T00:00:00.000000000",
          "2013-04-30T00:00:00.000000000",
          "2013-05-01T00:00:00.000000000",
          "2013-05-02T00:00:00.000000000",
          "2013-05-03T00:00:00.000000000",
          "2013-05-04T00:00:00.000000000",
          "2013-05-05T00:00:00.000000000",
          "2013-05-06T00:00:00.000000000",
          "2013-05-07T00:00:00.000000000",
          "2013-05-08T00:00:00.000000000",
          "2013-05-09T00:00:00.000000000",
          "2013-05-10T00:00:00.000000000",
          "2013-05-11T00:00:00.000000000",
          "2013-05-12T00:00:00.000000000",
          "2013-05-13T00:00:00.000000000",
          "2013-05-14T00:00:00.000000000",
          "2013-05-15T00:00:00.000000000",
          "2013-05-16T00:00:00.000000000",
          "2013-05-17T00:00:00.000000000",
          "2013-05-18T00:00:00.000000000",
          "2013-05-19T00:00:00.000000000",
          "2013-05-20T00:00:00.000000000",
          "2013-05-21T00:00:00.000000000",
          "2013-05-22T00:00:00.000000000",
          "2013-05-23T00:00:00.000000000",
          "2013-05-24T00:00:00.000000000",
          "2013-05-25T00:00:00.000000000",
          "2013-05-26T00:00:00.000000000",
          "2013-05-27T00:00:00.000000000",
          "2013-05-28T00:00:00.000000000",
          "2013-05-29T00:00:00.000000000",
          "2013-05-30T00:00:00.000000000",
          "2013-05-31T00:00:00.000000000",
          "2013-06-01T00:00:00.000000000",
          "2013-06-02T00:00:00.000000000",
          "2013-06-03T00:00:00.000000000",
          "2013-06-04T00:00:00.000000000",
          "2013-06-05T00:00:00.000000000",
          "2013-06-06T00:00:00.000000000",
          "2013-06-07T00:00:00.000000000",
          "2013-06-08T00:00:00.000000000",
          "2013-06-09T00:00:00.000000000",
          "2013-06-10T00:00:00.000000000",
          "2013-06-11T00:00:00.000000000",
          "2013-06-12T00:00:00.000000000",
          "2013-06-13T00:00:00.000000000",
          "2013-06-14T00:00:00.000000000",
          "2013-06-15T00:00:00.000000000",
          "2013-06-16T00:00:00.000000000",
          "2013-06-17T00:00:00.000000000",
          "2013-06-18T00:00:00.000000000",
          "2013-06-19T00:00:00.000000000",
          "2013-06-20T00:00:00.000000000",
          "2013-06-21T00:00:00.000000000",
          "2013-06-22T00:00:00.000000000",
          "2013-06-23T00:00:00.000000000",
          "2013-06-24T00:00:00.000000000",
          "2013-06-25T00:00:00.000000000",
          "2013-06-26T00:00:00.000000000",
          "2013-06-27T00:00:00.000000000",
          "2013-06-28T00:00:00.000000000",
          "2013-06-29T00:00:00.000000000",
          "2013-06-30T00:00:00.000000000",
          "2013-07-01T00:00:00.000000000",
          "2013-07-02T00:00:00.000000000",
          "2013-07-03T00:00:00.000000000",
          "2013-07-04T00:00:00.000000000",
          "2013-07-05T00:00:00.000000000",
          "2013-07-06T00:00:00.000000000",
          "2013-07-07T00:00:00.000000000",
          "2013-07-08T00:00:00.000000000",
          "2013-07-09T00:00:00.000000000",
          "2013-07-10T00:00:00.000000000",
          "2013-07-11T00:00:00.000000000",
          "2013-07-12T00:00:00.000000000",
          "2013-07-13T00:00:00.000000000",
          "2013-07-14T00:00:00.000000000",
          "2013-07-15T00:00:00.000000000",
          "2013-07-16T00:00:00.000000000",
          "2013-07-17T00:00:00.000000000",
          "2013-07-18T00:00:00.000000000",
          "2013-07-19T00:00:00.000000000",
          "2013-07-20T00:00:00.000000000",
          "2013-07-21T00:00:00.000000000",
          "2013-07-22T00:00:00.000000000",
          "2013-07-23T00:00:00.000000000",
          "2013-07-24T00:00:00.000000000",
          "2013-07-25T00:00:00.000000000",
          "2013-07-26T00:00:00.000000000",
          "2013-07-27T00:00:00.000000000",
          "2013-07-28T00:00:00.000000000",
          "2013-07-29T00:00:00.000000000",
          "2013-07-30T00:00:00.000000000",
          "2013-07-31T00:00:00.000000000",
          "2013-08-01T00:00:00.000000000",
          "2013-08-02T00:00:00.000000000",
          "2013-08-03T00:00:00.000000000",
          "2013-08-04T00:00:00.000000000",
          "2013-08-05T00:00:00.000000000",
          "2013-08-06T00:00:00.000000000",
          "2013-08-07T00:00:00.000000000",
          "2013-08-08T00:00:00.000000000",
          "2013-08-09T00:00:00.000000000",
          "2013-08-10T00:00:00.000000000",
          "2013-08-11T00:00:00.000000000",
          "2013-08-12T00:00:00.000000000",
          "2013-08-13T00:00:00.000000000",
          "2013-08-14T00:00:00.000000000",
          "2013-08-15T00:00:00.000000000",
          "2013-08-16T00:00:00.000000000",
          "2013-08-17T00:00:00.000000000",
          "2013-08-18T00:00:00.000000000",
          "2013-08-19T00:00:00.000000000",
          "2013-08-20T00:00:00.000000000",
          "2013-08-21T00:00:00.000000000",
          "2013-08-22T00:00:00.000000000",
          "2013-08-23T00:00:00.000000000",
          "2013-08-24T00:00:00.000000000",
          "2013-08-25T00:00:00.000000000",
          "2013-08-26T00:00:00.000000000",
          "2013-08-27T00:00:00.000000000",
          "2013-08-28T00:00:00.000000000",
          "2013-08-29T00:00:00.000000000",
          "2013-08-30T00:00:00.000000000",
          "2013-08-31T00:00:00.000000000",
          "2013-09-01T00:00:00.000000000",
          "2013-09-02T00:00:00.000000000",
          "2013-09-03T00:00:00.000000000",
          "2013-09-04T00:00:00.000000000",
          "2013-09-05T00:00:00.000000000",
          "2013-09-06T00:00:00.000000000",
          "2013-09-07T00:00:00.000000000",
          "2013-09-08T00:00:00.000000000",
          "2013-09-09T00:00:00.000000000",
          "2013-09-10T00:00:00.000000000",
          "2013-09-11T00:00:00.000000000",
          "2013-09-12T00:00:00.000000000",
          "2013-09-13T00:00:00.000000000",
          "2013-09-14T00:00:00.000000000",
          "2013-09-15T00:00:00.000000000",
          "2013-09-16T00:00:00.000000000",
          "2013-09-17T00:00:00.000000000",
          "2013-09-18T00:00:00.000000000",
          "2013-09-19T00:00:00.000000000",
          "2013-09-20T00:00:00.000000000",
          "2013-09-21T00:00:00.000000000",
          "2013-09-22T00:00:00.000000000",
          "2013-09-23T00:00:00.000000000",
          "2013-09-24T00:00:00.000000000",
          "2013-09-25T00:00:00.000000000",
          "2013-09-26T00:00:00.000000000",
          "2013-09-27T00:00:00.000000000",
          "2013-09-28T00:00:00.000000000",
          "2013-09-29T00:00:00.000000000",
          "2013-09-30T00:00:00.000000000",
          "2013-10-01T00:00:00.000000000",
          "2013-10-02T00:00:00.000000000",
          "2013-10-03T00:00:00.000000000",
          "2013-10-04T00:00:00.000000000",
          "2013-10-05T00:00:00.000000000",
          "2013-10-06T00:00:00.000000000",
          "2013-10-07T00:00:00.000000000",
          "2013-10-08T00:00:00.000000000",
          "2013-10-09T00:00:00.000000000",
          "2013-10-10T00:00:00.000000000",
          "2013-10-11T00:00:00.000000000",
          "2013-10-12T00:00:00.000000000",
          "2013-10-13T00:00:00.000000000",
          "2013-10-14T00:00:00.000000000",
          "2013-10-15T00:00:00.000000000",
          "2013-10-16T00:00:00.000000000",
          "2013-10-17T00:00:00.000000000",
          "2013-10-18T00:00:00.000000000",
          "2013-10-19T00:00:00.000000000",
          "2013-10-20T00:00:00.000000000",
          "2013-10-21T00:00:00.000000000",
          "2013-10-22T00:00:00.000000000",
          "2013-10-23T00:00:00.000000000",
          "2013-10-24T00:00:00.000000000",
          "2013-10-25T00:00:00.000000000",
          "2013-10-26T00:00:00.000000000",
          "2013-10-27T00:00:00.000000000",
          "2013-10-28T00:00:00.000000000",
          "2013-10-29T00:00:00.000000000",
          "2013-10-30T00:00:00.000000000",
          "2013-10-31T00:00:00.000000000",
          "2013-11-01T00:00:00.000000000",
          "2013-11-02T00:00:00.000000000",
          "2013-11-03T00:00:00.000000000",
          "2013-11-04T00:00:00.000000000",
          "2013-11-05T00:00:00.000000000",
          "2013-11-06T00:00:00.000000000",
          "2013-11-07T00:00:00.000000000",
          "2013-11-08T00:00:00.000000000",
          "2013-11-09T00:00:00.000000000",
          "2013-11-10T00:00:00.000000000",
          "2013-11-11T00:00:00.000000000",
          "2013-11-12T00:00:00.000000000",
          "2013-11-13T00:00:00.000000000",
          "2013-11-14T00:00:00.000000000",
          "2013-11-15T00:00:00.000000000",
          "2013-11-16T00:00:00.000000000",
          "2013-11-17T00:00:00.000000000",
          "2013-11-18T00:00:00.000000000",
          "2013-11-19T00:00:00.000000000",
          "2013-11-20T00:00:00.000000000",
          "2013-11-21T00:00:00.000000000",
          "2013-11-22T00:00:00.000000000",
          "2013-11-23T00:00:00.000000000",
          "2013-11-24T00:00:00.000000000",
          "2013-11-25T00:00:00.000000000",
          "2013-11-26T00:00:00.000000000",
          "2013-11-27T00:00:00.000000000",
          "2013-11-28T00:00:00.000000000",
          "2013-11-29T00:00:00.000000000",
          "2013-11-30T00:00:00.000000000",
          "2013-12-01T00:00:00.000000000",
          "2013-12-02T00:00:00.000000000",
          "2013-12-03T00:00:00.000000000",
          "2013-12-04T00:00:00.000000000",
          "2013-12-05T00:00:00.000000000",
          "2013-12-06T00:00:00.000000000",
          "2013-12-07T00:00:00.000000000",
          "2013-12-08T00:00:00.000000000",
          "2013-12-09T00:00:00.000000000",
          "2013-12-10T00:00:00.000000000",
          "2013-12-11T00:00:00.000000000",
          "2013-12-12T00:00:00.000000000",
          "2013-12-13T00:00:00.000000000",
          "2013-12-14T00:00:00.000000000",
          "2013-12-15T00:00:00.000000000",
          "2013-12-16T00:00:00.000000000",
          "2013-12-17T00:00:00.000000000",
          "2013-12-18T00:00:00.000000000",
          "2013-12-19T00:00:00.000000000",
          "2013-12-20T00:00:00.000000000",
          "2013-12-21T00:00:00.000000000",
          "2013-12-22T00:00:00.000000000",
          "2013-12-23T00:00:00.000000000",
          "2013-12-24T00:00:00.000000000",
          "2013-12-25T00:00:00.000000000",
          "2013-12-26T00:00:00.000000000",
          "2013-12-27T00:00:00.000000000",
          "2013-12-28T00:00:00.000000000",
          "2013-12-29T00:00:00.000000000",
          "2013-12-30T00:00:00.000000000",
          "2013-12-31T00:00:00.000000000",
          "2014-01-01T00:00:00.000000000",
          "2014-01-02T00:00:00.000000000",
          "2014-01-03T00:00:00.000000000",
          "2014-01-04T00:00:00.000000000",
          "2014-01-05T00:00:00.000000000",
          "2014-01-06T00:00:00.000000000",
          "2014-01-07T00:00:00.000000000",
          "2014-01-08T00:00:00.000000000",
          "2014-01-09T00:00:00.000000000",
          "2014-01-10T00:00:00.000000000",
          "2014-01-11T00:00:00.000000000",
          "2014-01-12T00:00:00.000000000",
          "2014-01-13T00:00:00.000000000",
          "2014-01-14T00:00:00.000000000",
          "2014-01-15T00:00:00.000000000",
          "2014-01-16T00:00:00.000000000",
          "2014-01-17T00:00:00.000000000",
          "2014-01-18T00:00:00.000000000",
          "2014-01-19T00:00:00.000000000",
          "2014-01-20T00:00:00.000000000",
          "2014-01-21T00:00:00.000000000",
          "2014-01-22T00:00:00.000000000",
          "2014-01-23T00:00:00.000000000",
          "2014-01-24T00:00:00.000000000",
          "2014-01-25T00:00:00.000000000",
          "2014-01-26T00:00:00.000000000",
          "2014-01-27T00:00:00.000000000",
          "2014-01-28T00:00:00.000000000",
          "2014-01-29T00:00:00.000000000",
          "2014-01-30T00:00:00.000000000",
          "2014-01-31T00:00:00.000000000",
          "2014-02-01T00:00:00.000000000",
          "2014-02-02T00:00:00.000000000",
          "2014-02-03T00:00:00.000000000",
          "2014-02-04T00:00:00.000000000",
          "2014-02-05T00:00:00.000000000",
          "2014-02-06T00:00:00.000000000",
          "2014-02-07T00:00:00.000000000",
          "2014-02-08T00:00:00.000000000",
          "2014-02-09T00:00:00.000000000",
          "2014-02-10T00:00:00.000000000",
          "2014-02-11T00:00:00.000000000",
          "2014-02-12T00:00:00.000000000",
          "2014-02-13T00:00:00.000000000",
          "2014-02-14T00:00:00.000000000",
          "2014-02-15T00:00:00.000000000",
          "2014-02-16T00:00:00.000000000",
          "2014-02-17T00:00:00.000000000",
          "2014-02-18T00:00:00.000000000",
          "2014-02-19T00:00:00.000000000",
          "2014-02-20T00:00:00.000000000",
          "2014-02-21T00:00:00.000000000",
          "2014-02-22T00:00:00.000000000",
          "2014-02-23T00:00:00.000000000",
          "2014-02-24T00:00:00.000000000",
          "2014-02-25T00:00:00.000000000",
          "2014-02-26T00:00:00.000000000",
          "2014-02-27T00:00:00.000000000",
          "2014-02-28T00:00:00.000000000",
          "2014-03-01T00:00:00.000000000",
          "2014-03-02T00:00:00.000000000",
          "2014-03-03T00:00:00.000000000",
          "2014-03-04T00:00:00.000000000",
          "2014-03-05T00:00:00.000000000",
          "2014-03-06T00:00:00.000000000",
          "2014-03-07T00:00:00.000000000",
          "2014-03-08T00:00:00.000000000",
          "2014-03-09T00:00:00.000000000",
          "2014-03-10T00:00:00.000000000",
          "2014-03-11T00:00:00.000000000",
          "2014-03-12T00:00:00.000000000",
          "2014-03-13T00:00:00.000000000",
          "2014-03-14T00:00:00.000000000",
          "2014-03-15T00:00:00.000000000",
          "2014-03-16T00:00:00.000000000",
          "2014-03-17T00:00:00.000000000",
          "2014-03-18T00:00:00.000000000",
          "2014-03-19T00:00:00.000000000",
          "2014-03-20T00:00:00.000000000",
          "2014-03-21T00:00:00.000000000",
          "2014-03-22T00:00:00.000000000",
          "2014-03-23T00:00:00.000000000",
          "2014-03-24T00:00:00.000000000",
          "2014-03-25T00:00:00.000000000",
          "2014-03-26T00:00:00.000000000",
          "2014-03-27T00:00:00.000000000",
          "2014-03-28T00:00:00.000000000",
          "2014-03-29T00:00:00.000000000",
          "2014-03-30T00:00:00.000000000",
          "2014-03-31T00:00:00.000000000",
          "2014-04-01T00:00:00.000000000",
          "2014-04-02T00:00:00.000000000",
          "2014-04-03T00:00:00.000000000",
          "2014-04-04T00:00:00.000000000",
          "2014-04-05T00:00:00.000000000",
          "2014-04-06T00:00:00.000000000",
          "2014-04-07T00:00:00.000000000",
          "2014-04-08T00:00:00.000000000",
          "2014-04-09T00:00:00.000000000",
          "2014-04-10T00:00:00.000000000",
          "2014-04-11T00:00:00.000000000",
          "2014-04-12T00:00:00.000000000",
          "2014-04-13T00:00:00.000000000",
          "2014-04-14T00:00:00.000000000",
          "2014-04-15T00:00:00.000000000",
          "2014-04-16T00:00:00.000000000",
          "2014-04-17T00:00:00.000000000",
          "2014-04-18T00:00:00.000000000",
          "2014-04-19T00:00:00.000000000",
          "2014-04-20T00:00:00.000000000",
          "2014-04-21T00:00:00.000000000",
          "2014-04-22T00:00:00.000000000",
          "2014-04-23T00:00:00.000000000",
          "2014-04-24T00:00:00.000000000",
          "2014-04-25T00:00:00.000000000",
          "2014-04-26T00:00:00.000000000",
          "2014-04-27T00:00:00.000000000",
          "2014-04-28T00:00:00.000000000",
          "2014-04-29T00:00:00.000000000",
          "2014-04-30T00:00:00.000000000",
          "2014-05-01T00:00:00.000000000",
          "2014-05-02T00:00:00.000000000",
          "2014-05-03T00:00:00.000000000",
          "2014-05-04T00:00:00.000000000",
          "2014-05-05T00:00:00.000000000",
          "2014-05-06T00:00:00.000000000",
          "2014-05-07T00:00:00.000000000",
          "2014-05-08T00:00:00.000000000",
          "2014-05-09T00:00:00.000000000",
          "2014-05-10T00:00:00.000000000",
          "2014-05-11T00:00:00.000000000",
          "2014-05-12T00:00:00.000000000",
          "2014-05-13T00:00:00.000000000",
          "2014-05-14T00:00:00.000000000",
          "2014-05-15T00:00:00.000000000",
          "2014-05-16T00:00:00.000000000",
          "2014-05-17T00:00:00.000000000",
          "2014-05-18T00:00:00.000000000",
          "2014-05-19T00:00:00.000000000",
          "2014-05-20T00:00:00.000000000",
          "2014-05-21T00:00:00.000000000",
          "2014-05-22T00:00:00.000000000",
          "2014-05-23T00:00:00.000000000",
          "2014-05-24T00:00:00.000000000",
          "2014-05-25T00:00:00.000000000",
          "2014-05-26T00:00:00.000000000",
          "2014-05-27T00:00:00.000000000",
          "2014-05-28T00:00:00.000000000",
          "2014-05-29T00:00:00.000000000",
          "2014-05-30T00:00:00.000000000",
          "2014-05-31T00:00:00.000000000",
          "2014-06-01T00:00:00.000000000",
          "2014-06-02T00:00:00.000000000",
          "2014-06-03T00:00:00.000000000",
          "2014-06-04T00:00:00.000000000",
          "2014-06-05T00:00:00.000000000",
          "2014-06-06T00:00:00.000000000",
          "2014-06-07T00:00:00.000000000",
          "2014-06-08T00:00:00.000000000",
          "2014-06-09T00:00:00.000000000",
          "2014-06-10T00:00:00.000000000",
          "2014-06-11T00:00:00.000000000",
          "2014-06-12T00:00:00.000000000",
          "2014-06-13T00:00:00.000000000",
          "2014-06-14T00:00:00.000000000",
          "2014-06-15T00:00:00.000000000",
          "2014-06-16T00:00:00.000000000",
          "2014-06-17T00:00:00.000000000",
          "2014-06-18T00:00:00.000000000",
          "2014-06-19T00:00:00.000000000",
          "2014-06-20T00:00:00.000000000",
          "2014-06-21T00:00:00.000000000",
          "2014-06-22T00:00:00.000000000",
          "2014-06-23T00:00:00.000000000",
          "2014-06-24T00:00:00.000000000",
          "2014-06-25T00:00:00.000000000",
          "2014-06-26T00:00:00.000000000",
          "2014-06-27T00:00:00.000000000",
          "2014-06-28T00:00:00.000000000",
          "2014-06-29T00:00:00.000000000",
          "2014-06-30T00:00:00.000000000",
          "2014-07-01T00:00:00.000000000",
          "2014-07-02T00:00:00.000000000",
          "2014-07-03T00:00:00.000000000",
          "2014-07-04T00:00:00.000000000",
          "2014-07-05T00:00:00.000000000",
          "2014-07-06T00:00:00.000000000",
          "2014-07-07T00:00:00.000000000",
          "2014-07-08T00:00:00.000000000",
          "2014-07-09T00:00:00.000000000",
          "2014-07-10T00:00:00.000000000",
          "2014-07-11T00:00:00.000000000",
          "2014-07-12T00:00:00.000000000",
          "2014-07-13T00:00:00.000000000",
          "2014-07-14T00:00:00.000000000",
          "2014-07-15T00:00:00.000000000",
          "2014-07-16T00:00:00.000000000",
          "2014-07-17T00:00:00.000000000",
          "2014-07-18T00:00:00.000000000",
          "2014-07-19T00:00:00.000000000",
          "2014-07-20T00:00:00.000000000",
          "2014-07-21T00:00:00.000000000",
          "2014-07-22T00:00:00.000000000",
          "2014-07-23T00:00:00.000000000",
          "2014-07-24T00:00:00.000000000",
          "2014-07-25T00:00:00.000000000",
          "2014-07-26T00:00:00.000000000",
          "2014-07-27T00:00:00.000000000",
          "2014-07-28T00:00:00.000000000",
          "2014-07-29T00:00:00.000000000",
          "2014-07-30T00:00:00.000000000",
          "2014-07-31T00:00:00.000000000",
          "2014-08-01T00:00:00.000000000",
          "2014-08-02T00:00:00.000000000",
          "2014-08-03T00:00:00.000000000",
          "2014-08-04T00:00:00.000000000",
          "2014-08-05T00:00:00.000000000",
          "2014-08-06T00:00:00.000000000",
          "2014-08-07T00:00:00.000000000",
          "2014-08-08T00:00:00.000000000",
          "2014-08-09T00:00:00.000000000",
          "2014-08-10T00:00:00.000000000",
          "2014-08-11T00:00:00.000000000",
          "2014-08-12T00:00:00.000000000",
          "2014-08-13T00:00:00.000000000",
          "2014-08-14T00:00:00.000000000",
          "2014-08-15T00:00:00.000000000",
          "2014-08-16T00:00:00.000000000",
          "2014-08-17T00:00:00.000000000",
          "2014-08-18T00:00:00.000000000",
          "2014-08-19T00:00:00.000000000",
          "2014-08-20T00:00:00.000000000",
          "2014-08-21T00:00:00.000000000",
          "2014-08-22T00:00:00.000000000",
          "2014-08-23T00:00:00.000000000",
          "2014-08-24T00:00:00.000000000",
          "2014-08-25T00:00:00.000000000",
          "2014-08-26T00:00:00.000000000",
          "2014-08-27T00:00:00.000000000",
          "2014-08-28T00:00:00.000000000",
          "2014-08-29T00:00:00.000000000",
          "2014-08-30T00:00:00.000000000",
          "2014-08-31T00:00:00.000000000",
          "2014-09-01T00:00:00.000000000",
          "2014-09-02T00:00:00.000000000",
          "2014-09-03T00:00:00.000000000",
          "2014-09-04T00:00:00.000000000",
          "2014-09-05T00:00:00.000000000",
          "2014-09-06T00:00:00.000000000",
          "2014-09-07T00:00:00.000000000",
          "2014-09-08T00:00:00.000000000",
          "2014-09-09T00:00:00.000000000",
          "2014-09-10T00:00:00.000000000",
          "2014-09-11T00:00:00.000000000",
          "2014-09-12T00:00:00.000000000",
          "2014-09-13T00:00:00.000000000",
          "2014-09-14T00:00:00.000000000",
          "2014-09-15T00:00:00.000000000",
          "2014-09-16T00:00:00.000000000",
          "2014-09-17T00:00:00.000000000",
          "2014-09-18T00:00:00.000000000",
          "2014-09-19T00:00:00.000000000",
          "2014-09-20T00:00:00.000000000",
          "2014-09-21T00:00:00.000000000",
          "2014-09-22T00:00:00.000000000",
          "2014-09-23T00:00:00.000000000",
          "2014-09-24T00:00:00.000000000",
          "2014-09-25T00:00:00.000000000",
          "2014-09-26T00:00:00.000000000",
          "2014-09-27T00:00:00.000000000",
          "2014-09-28T00:00:00.000000000",
          "2014-09-29T00:00:00.000000000",
          "2014-09-30T00:00:00.000000000",
          "2014-10-01T00:00:00.000000000",
          "2014-10-02T00:00:00.000000000",
          "2014-10-03T00:00:00.000000000",
          "2014-10-04T00:00:00.000000000",
          "2014-10-05T00:00:00.000000000",
          "2014-10-06T00:00:00.000000000",
          "2014-10-07T00:00:00.000000000",
          "2014-10-08T00:00:00.000000000",
          "2014-10-09T00:00:00.000000000",
          "2014-10-10T00:00:00.000000000",
          "2014-10-11T00:00:00.000000000",
          "2014-10-12T00:00:00.000000000",
          "2014-10-13T00:00:00.000000000",
          "2014-10-14T00:00:00.000000000",
          "2014-10-15T00:00:00.000000000",
          "2014-10-16T00:00:00.000000000",
          "2014-10-17T00:00:00.000000000",
          "2014-10-18T00:00:00.000000000",
          "2014-10-19T00:00:00.000000000",
          "2014-10-20T00:00:00.000000000",
          "2014-10-21T00:00:00.000000000",
          "2014-10-22T00:00:00.000000000",
          "2014-10-23T00:00:00.000000000",
          "2014-10-24T00:00:00.000000000",
          "2014-10-25T00:00:00.000000000",
          "2014-10-26T00:00:00.000000000",
          "2014-10-27T00:00:00.000000000",
          "2014-10-28T00:00:00.000000000",
          "2014-10-29T00:00:00.000000000",
          "2014-10-30T00:00:00.000000000",
          "2014-10-31T00:00:00.000000000",
          "2014-11-01T00:00:00.000000000",
          "2014-11-02T00:00:00.000000000",
          "2014-11-03T00:00:00.000000000",
          "2014-11-04T00:00:00.000000000",
          "2014-11-05T00:00:00.000000000",
          "2014-11-06T00:00:00.000000000",
          "2014-11-07T00:00:00.000000000",
          "2014-11-08T00:00:00.000000000",
          "2014-11-09T00:00:00.000000000",
          "2014-11-10T00:00:00.000000000",
          "2014-11-11T00:00:00.000000000",
          "2014-11-12T00:00:00.000000000",
          "2014-11-13T00:00:00.000000000",
          "2014-11-14T00:00:00.000000000",
          "2014-11-15T00:00:00.000000000",
          "2014-11-16T00:00:00.000000000",
          "2014-11-17T00:00:00.000000000",
          "2014-11-18T00:00:00.000000000",
          "2014-11-19T00:00:00.000000000",
          "2014-11-20T00:00:00.000000000",
          "2014-11-21T00:00:00.000000000",
          "2014-11-22T00:00:00.000000000",
          "2014-11-23T00:00:00.000000000",
          "2014-11-24T00:00:00.000000000",
          "2014-11-25T00:00:00.000000000",
          "2014-11-26T00:00:00.000000000",
          "2014-11-27T00:00:00.000000000",
          "2014-11-28T00:00:00.000000000",
          "2014-11-29T00:00:00.000000000",
          "2014-11-30T00:00:00.000000000",
          "2014-12-01T00:00:00.000000000",
          "2014-12-02T00:00:00.000000000",
          "2014-12-03T00:00:00.000000000",
          "2014-12-04T00:00:00.000000000",
          "2014-12-05T00:00:00.000000000",
          "2014-12-06T00:00:00.000000000",
          "2014-12-07T00:00:00.000000000",
          "2014-12-08T00:00:00.000000000",
          "2014-12-09T00:00:00.000000000",
          "2014-12-10T00:00:00.000000000",
          "2014-12-11T00:00:00.000000000",
          "2014-12-12T00:00:00.000000000",
          "2014-12-13T00:00:00.000000000",
          "2014-12-14T00:00:00.000000000",
          "2014-12-15T00:00:00.000000000",
          "2014-12-16T00:00:00.000000000",
          "2014-12-17T00:00:00.000000000",
          "2014-12-18T00:00:00.000000000",
          "2014-12-19T00:00:00.000000000",
          "2014-12-20T00:00:00.000000000",
          "2014-12-21T00:00:00.000000000",
          "2014-12-22T00:00:00.000000000",
          "2014-12-23T00:00:00.000000000",
          "2014-12-24T00:00:00.000000000",
          "2014-12-25T00:00:00.000000000",
          "2014-12-26T00:00:00.000000000",
          "2014-12-27T00:00:00.000000000",
          "2014-12-28T00:00:00.000000000",
          "2014-12-29T00:00:00.000000000",
          "2014-12-30T00:00:00.000000000",
          "2014-12-31T00:00:00.000000000",
          "2015-01-01T00:00:00.000000000",
          "2015-01-02T00:00:00.000000000",
          "2015-01-03T00:00:00.000000000",
          "2015-01-04T00:00:00.000000000",
          "2015-01-05T00:00:00.000000000",
          "2015-01-06T00:00:00.000000000",
          "2015-01-07T00:00:00.000000000",
          "2015-01-08T00:00:00.000000000",
          "2015-01-09T00:00:00.000000000",
          "2015-01-10T00:00:00.000000000",
          "2015-01-11T00:00:00.000000000",
          "2015-01-12T00:00:00.000000000",
          "2015-01-13T00:00:00.000000000",
          "2015-01-14T00:00:00.000000000",
          "2015-01-15T00:00:00.000000000",
          "2015-01-16T00:00:00.000000000",
          "2015-01-17T00:00:00.000000000",
          "2015-01-18T00:00:00.000000000",
          "2015-01-19T00:00:00.000000000",
          "2015-01-20T00:00:00.000000000",
          "2015-01-21T00:00:00.000000000",
          "2015-01-22T00:00:00.000000000",
          "2015-01-23T00:00:00.000000000",
          "2015-01-24T00:00:00.000000000",
          "2015-01-25T00:00:00.000000000",
          "2015-01-26T00:00:00.000000000",
          "2015-01-27T00:00:00.000000000",
          "2015-01-28T00:00:00.000000000",
          "2015-01-29T00:00:00.000000000",
          "2015-01-30T00:00:00.000000000",
          "2015-01-31T00:00:00.000000000",
          "2015-02-01T00:00:00.000000000",
          "2015-02-02T00:00:00.000000000",
          "2015-02-03T00:00:00.000000000",
          "2015-02-04T00:00:00.000000000",
          "2015-02-05T00:00:00.000000000",
          "2015-02-06T00:00:00.000000000",
          "2015-02-07T00:00:00.000000000",
          "2015-02-08T00:00:00.000000000",
          "2015-02-09T00:00:00.000000000",
          "2015-02-10T00:00:00.000000000",
          "2015-02-11T00:00:00.000000000",
          "2015-02-12T00:00:00.000000000",
          "2015-02-13T00:00:00.000000000",
          "2015-02-14T00:00:00.000000000",
          "2015-02-15T00:00:00.000000000",
          "2015-02-16T00:00:00.000000000",
          "2015-02-17T00:00:00.000000000",
          "2015-02-18T00:00:00.000000000",
          "2015-02-19T00:00:00.000000000",
          "2015-02-20T00:00:00.000000000",
          "2015-02-21T00:00:00.000000000",
          "2015-02-22T00:00:00.000000000",
          "2015-02-23T00:00:00.000000000",
          "2015-02-24T00:00:00.000000000",
          "2015-02-25T00:00:00.000000000",
          "2015-02-26T00:00:00.000000000",
          "2015-02-27T00:00:00.000000000",
          "2015-02-28T00:00:00.000000000",
          "2015-03-01T00:00:00.000000000",
          "2015-03-02T00:00:00.000000000",
          "2015-03-03T00:00:00.000000000",
          "2015-03-04T00:00:00.000000000",
          "2015-03-05T00:00:00.000000000",
          "2015-03-06T00:00:00.000000000",
          "2015-03-07T00:00:00.000000000",
          "2015-03-08T00:00:00.000000000",
          "2015-03-09T00:00:00.000000000",
          "2015-03-10T00:00:00.000000000",
          "2015-03-11T00:00:00.000000000",
          "2015-03-12T00:00:00.000000000",
          "2015-03-13T00:00:00.000000000",
          "2015-03-14T00:00:00.000000000",
          "2015-03-15T00:00:00.000000000",
          "2015-03-16T00:00:00.000000000",
          "2015-03-17T00:00:00.000000000",
          "2015-03-18T00:00:00.000000000",
          "2015-03-19T00:00:00.000000000",
          "2015-03-20T00:00:00.000000000",
          "2015-03-21T00:00:00.000000000",
          "2015-03-22T00:00:00.000000000",
          "2015-03-23T00:00:00.000000000",
          "2015-03-24T00:00:00.000000000",
          "2015-03-25T00:00:00.000000000",
          "2015-03-26T00:00:00.000000000",
          "2015-03-27T00:00:00.000000000",
          "2015-03-28T00:00:00.000000000",
          "2015-03-29T00:00:00.000000000",
          "2015-03-30T00:00:00.000000000",
          "2015-03-31T00:00:00.000000000",
          "2015-04-01T00:00:00.000000000",
          "2015-04-02T00:00:00.000000000",
          "2015-04-03T00:00:00.000000000",
          "2015-04-04T00:00:00.000000000",
          "2015-04-05T00:00:00.000000000",
          "2015-04-06T00:00:00.000000000",
          "2015-04-07T00:00:00.000000000",
          "2015-04-08T00:00:00.000000000",
          "2015-04-09T00:00:00.000000000",
          "2015-04-10T00:00:00.000000000",
          "2015-04-11T00:00:00.000000000",
          "2015-04-12T00:00:00.000000000",
          "2015-04-13T00:00:00.000000000",
          "2015-04-14T00:00:00.000000000",
          "2015-04-15T00:00:00.000000000",
          "2015-04-16T00:00:00.000000000",
          "2015-04-17T00:00:00.000000000",
          "2015-04-18T00:00:00.000000000",
          "2015-04-19T00:00:00.000000000",
          "2015-04-20T00:00:00.000000000",
          "2015-04-21T00:00:00.000000000",
          "2015-04-22T00:00:00.000000000",
          "2015-04-23T00:00:00.000000000",
          "2015-04-24T00:00:00.000000000",
          "2015-04-25T00:00:00.000000000",
          "2015-04-26T00:00:00.000000000",
          "2015-04-27T00:00:00.000000000",
          "2015-04-28T00:00:00.000000000",
          "2015-04-29T00:00:00.000000000",
          "2015-04-30T00:00:00.000000000",
          "2015-05-01T00:00:00.000000000",
          "2015-05-02T00:00:00.000000000",
          "2015-05-03T00:00:00.000000000",
          "2015-05-04T00:00:00.000000000",
          "2015-05-05T00:00:00.000000000",
          "2015-05-06T00:00:00.000000000",
          "2015-05-07T00:00:00.000000000",
          "2015-05-08T00:00:00.000000000",
          "2015-05-09T00:00:00.000000000",
          "2015-05-10T00:00:00.000000000",
          "2015-05-11T00:00:00.000000000",
          "2015-05-12T00:00:00.000000000",
          "2015-05-13T00:00:00.000000000",
          "2015-05-14T00:00:00.000000000",
          "2015-05-15T00:00:00.000000000",
          "2015-05-16T00:00:00.000000000",
          "2015-05-17T00:00:00.000000000",
          "2015-05-18T00:00:00.000000000",
          "2015-05-19T00:00:00.000000000",
          "2015-05-20T00:00:00.000000000",
          "2015-05-21T00:00:00.000000000",
          "2015-05-22T00:00:00.000000000",
          "2015-05-23T00:00:00.000000000",
          "2015-05-24T00:00:00.000000000",
          "2015-05-25T00:00:00.000000000",
          "2015-05-26T00:00:00.000000000",
          "2015-05-27T00:00:00.000000000",
          "2015-05-28T00:00:00.000000000",
          "2015-05-29T00:00:00.000000000",
          "2015-05-30T00:00:00.000000000",
          "2015-05-31T00:00:00.000000000",
          "2015-06-01T00:00:00.000000000",
          "2015-06-02T00:00:00.000000000",
          "2015-06-03T00:00:00.000000000",
          "2015-06-04T00:00:00.000000000",
          "2015-06-05T00:00:00.000000000",
          "2015-06-06T00:00:00.000000000",
          "2015-06-07T00:00:00.000000000",
          "2015-06-08T00:00:00.000000000",
          "2015-06-09T00:00:00.000000000",
          "2015-06-10T00:00:00.000000000",
          "2015-06-11T00:00:00.000000000",
          "2015-06-12T00:00:00.000000000",
          "2015-06-13T00:00:00.000000000",
          "2015-06-14T00:00:00.000000000",
          "2015-06-15T00:00:00.000000000",
          "2015-06-16T00:00:00.000000000",
          "2015-06-17T00:00:00.000000000",
          "2015-06-18T00:00:00.000000000",
          "2015-06-19T00:00:00.000000000",
          "2015-06-20T00:00:00.000000000",
          "2015-06-21T00:00:00.000000000",
          "2015-06-22T00:00:00.000000000",
          "2015-06-23T00:00:00.000000000",
          "2015-06-24T00:00:00.000000000",
          "2015-06-25T00:00:00.000000000",
          "2015-06-26T00:00:00.000000000",
          "2015-06-27T00:00:00.000000000",
          "2015-06-28T00:00:00.000000000",
          "2015-06-29T00:00:00.000000000",
          "2015-06-30T00:00:00.000000000",
          "2015-07-01T00:00:00.000000000",
          "2015-07-02T00:00:00.000000000",
          "2015-07-03T00:00:00.000000000",
          "2015-07-04T00:00:00.000000000",
          "2015-07-05T00:00:00.000000000",
          "2015-07-06T00:00:00.000000000",
          "2015-07-07T00:00:00.000000000",
          "2015-07-08T00:00:00.000000000",
          "2015-07-09T00:00:00.000000000",
          "2015-07-10T00:00:00.000000000",
          "2015-07-11T00:00:00.000000000",
          "2015-07-12T00:00:00.000000000",
          "2015-07-13T00:00:00.000000000",
          "2015-07-14T00:00:00.000000000",
          "2015-07-15T00:00:00.000000000",
          "2015-07-16T00:00:00.000000000",
          "2015-07-17T00:00:00.000000000",
          "2015-07-18T00:00:00.000000000",
          "2015-07-19T00:00:00.000000000",
          "2015-07-20T00:00:00.000000000",
          "2015-07-21T00:00:00.000000000",
          "2015-07-22T00:00:00.000000000",
          "2015-07-23T00:00:00.000000000",
          "2015-07-24T00:00:00.000000000",
          "2015-07-25T00:00:00.000000000",
          "2015-07-26T00:00:00.000000000",
          "2015-07-27T00:00:00.000000000",
          "2015-07-28T00:00:00.000000000",
          "2015-07-29T00:00:00.000000000",
          "2015-07-30T00:00:00.000000000",
          "2015-07-31T00:00:00.000000000",
          "2015-08-01T00:00:00.000000000",
          "2015-08-02T00:00:00.000000000",
          "2015-08-03T00:00:00.000000000",
          "2015-08-04T00:00:00.000000000",
          "2015-08-05T00:00:00.000000000",
          "2015-08-06T00:00:00.000000000",
          "2015-08-07T00:00:00.000000000",
          "2015-08-08T00:00:00.000000000",
          "2015-08-09T00:00:00.000000000",
          "2015-08-10T00:00:00.000000000",
          "2015-08-11T00:00:00.000000000",
          "2015-08-12T00:00:00.000000000",
          "2015-08-13T00:00:00.000000000",
          "2015-08-14T00:00:00.000000000",
          "2015-08-15T00:00:00.000000000",
          "2015-08-16T00:00:00.000000000",
          "2015-08-17T00:00:00.000000000",
          "2015-08-18T00:00:00.000000000",
          "2015-08-19T00:00:00.000000000",
          "2015-08-20T00:00:00.000000000",
          "2015-08-21T00:00:00.000000000",
          "2015-08-22T00:00:00.000000000",
          "2015-08-23T00:00:00.000000000",
          "2015-08-24T00:00:00.000000000",
          "2015-08-25T00:00:00.000000000",
          "2015-08-26T00:00:00.000000000",
          "2015-08-27T00:00:00.000000000",
          "2015-08-28T00:00:00.000000000",
          "2015-08-29T00:00:00.000000000",
          "2015-08-30T00:00:00.000000000",
          "2015-08-31T00:00:00.000000000",
          "2015-09-01T00:00:00.000000000",
          "2015-09-02T00:00:00.000000000",
          "2015-09-03T00:00:00.000000000",
          "2015-09-04T00:00:00.000000000",
          "2015-09-05T00:00:00.000000000",
          "2015-09-06T00:00:00.000000000",
          "2015-09-07T00:00:00.000000000",
          "2015-09-08T00:00:00.000000000",
          "2015-09-09T00:00:00.000000000",
          "2015-09-10T00:00:00.000000000",
          "2015-09-11T00:00:00.000000000",
          "2015-09-12T00:00:00.000000000",
          "2015-09-13T00:00:00.000000000",
          "2015-09-14T00:00:00.000000000",
          "2015-09-15T00:00:00.000000000",
          "2015-09-16T00:00:00.000000000",
          "2015-09-17T00:00:00.000000000",
          "2015-09-18T00:00:00.000000000",
          "2015-09-19T00:00:00.000000000",
          "2015-09-20T00:00:00.000000000",
          "2015-09-21T00:00:00.000000000",
          "2015-09-22T00:00:00.000000000",
          "2015-09-23T00:00:00.000000000",
          "2015-09-24T00:00:00.000000000",
          "2015-09-25T00:00:00.000000000",
          "2015-09-26T00:00:00.000000000",
          "2015-09-27T00:00:00.000000000",
          "2015-09-28T00:00:00.000000000",
          "2015-09-29T00:00:00.000000000",
          "2015-09-30T00:00:00.000000000",
          "2015-10-01T00:00:00.000000000",
          "2015-10-02T00:00:00.000000000",
          "2015-10-03T00:00:00.000000000",
          "2015-10-04T00:00:00.000000000",
          "2015-10-05T00:00:00.000000000",
          "2015-10-06T00:00:00.000000000",
          "2015-10-07T00:00:00.000000000",
          "2015-10-08T00:00:00.000000000",
          "2015-10-09T00:00:00.000000000",
          "2015-10-10T00:00:00.000000000",
          "2015-10-11T00:00:00.000000000",
          "2015-10-12T00:00:00.000000000",
          "2015-10-13T00:00:00.000000000",
          "2015-10-14T00:00:00.000000000",
          "2015-10-15T00:00:00.000000000",
          "2015-10-16T00:00:00.000000000",
          "2015-10-17T00:00:00.000000000",
          "2015-10-18T00:00:00.000000000",
          "2015-10-19T00:00:00.000000000",
          "2015-10-20T00:00:00.000000000",
          "2015-10-21T00:00:00.000000000",
          "2015-10-22T00:00:00.000000000",
          "2015-10-23T00:00:00.000000000",
          "2015-10-24T00:00:00.000000000",
          "2015-10-25T00:00:00.000000000",
          "2015-10-26T00:00:00.000000000",
          "2015-10-27T00:00:00.000000000",
          "2015-10-28T00:00:00.000000000",
          "2015-10-29T00:00:00.000000000",
          "2015-10-30T00:00:00.000000000",
          "2015-10-31T00:00:00.000000000",
          "2015-11-01T00:00:00.000000000",
          "2015-11-02T00:00:00.000000000",
          "2015-11-03T00:00:00.000000000",
          "2015-11-04T00:00:00.000000000",
          "2015-11-05T00:00:00.000000000",
          "2015-11-06T00:00:00.000000000",
          "2015-11-07T00:00:00.000000000",
          "2015-11-08T00:00:00.000000000",
          "2015-11-09T00:00:00.000000000",
          "2015-11-10T00:00:00.000000000",
          "2015-11-11T00:00:00.000000000",
          "2015-11-12T00:00:00.000000000",
          "2015-11-13T00:00:00.000000000",
          "2015-11-14T00:00:00.000000000",
          "2015-11-15T00:00:00.000000000",
          "2015-11-16T00:00:00.000000000",
          "2015-11-17T00:00:00.000000000",
          "2015-11-18T00:00:00.000000000",
          "2015-11-19T00:00:00.000000000",
          "2015-11-20T00:00:00.000000000",
          "2015-11-21T00:00:00.000000000",
          "2015-11-22T00:00:00.000000000",
          "2015-11-23T00:00:00.000000000",
          "2015-11-24T00:00:00.000000000",
          "2015-11-25T00:00:00.000000000",
          "2015-11-26T00:00:00.000000000",
          "2015-11-27T00:00:00.000000000",
          "2015-11-28T00:00:00.000000000",
          "2015-11-29T00:00:00.000000000",
          "2015-11-30T00:00:00.000000000",
          "2015-12-01T00:00:00.000000000",
          "2015-12-02T00:00:00.000000000",
          "2015-12-03T00:00:00.000000000",
          "2015-12-04T00:00:00.000000000",
          "2015-12-05T00:00:00.000000000",
          "2015-12-06T00:00:00.000000000",
          "2015-12-07T00:00:00.000000000",
          "2015-12-08T00:00:00.000000000",
          "2015-12-09T00:00:00.000000000",
          "2015-12-10T00:00:00.000000000",
          "2015-12-11T00:00:00.000000000",
          "2015-12-12T00:00:00.000000000",
          "2015-12-13T00:00:00.000000000",
          "2015-12-14T00:00:00.000000000",
          "2015-12-15T00:00:00.000000000",
          "2015-12-16T00:00:00.000000000",
          "2015-12-17T00:00:00.000000000",
          "2015-12-18T00:00:00.000000000",
          "2015-12-19T00:00:00.000000000",
          "2015-12-20T00:00:00.000000000",
          "2015-12-21T00:00:00.000000000",
          "2015-12-22T00:00:00.000000000",
          "2015-12-23T00:00:00.000000000",
          "2015-12-24T00:00:00.000000000",
          "2015-12-25T00:00:00.000000000",
          "2015-12-26T00:00:00.000000000",
          "2015-12-27T00:00:00.000000000",
          "2015-12-28T00:00:00.000000000",
          "2015-12-29T00:00:00.000000000",
          "2015-12-30T00:00:00.000000000",
          "2015-12-31T00:00:00.000000000",
          "2016-01-01T00:00:00.000000000",
          "2016-01-02T00:00:00.000000000",
          "2016-01-03T00:00:00.000000000",
          "2016-01-04T00:00:00.000000000",
          "2016-01-05T00:00:00.000000000",
          "2016-01-06T00:00:00.000000000",
          "2016-01-07T00:00:00.000000000",
          "2016-01-08T00:00:00.000000000",
          "2016-01-09T00:00:00.000000000",
          "2016-01-10T00:00:00.000000000",
          "2016-01-11T00:00:00.000000000",
          "2016-01-12T00:00:00.000000000",
          "2016-01-13T00:00:00.000000000",
          "2016-01-14T00:00:00.000000000",
          "2016-01-15T00:00:00.000000000",
          "2016-01-16T00:00:00.000000000",
          "2016-01-17T00:00:00.000000000",
          "2016-01-18T00:00:00.000000000",
          "2016-01-19T00:00:00.000000000",
          "2016-01-20T00:00:00.000000000",
          "2016-01-21T00:00:00.000000000",
          "2016-01-22T00:00:00.000000000",
          "2016-01-23T00:00:00.000000000",
          "2016-01-24T00:00:00.000000000",
          "2016-01-25T00:00:00.000000000",
          "2016-01-26T00:00:00.000000000",
          "2016-01-27T00:00:00.000000000",
          "2016-01-28T00:00:00.000000000",
          "2016-01-29T00:00:00.000000000",
          "2016-01-30T00:00:00.000000000",
          "2016-01-31T00:00:00.000000000",
          "2016-02-01T00:00:00.000000000",
          "2016-02-02T00:00:00.000000000",
          "2016-02-03T00:00:00.000000000",
          "2016-02-04T00:00:00.000000000",
          "2016-02-05T00:00:00.000000000",
          "2016-02-06T00:00:00.000000000",
          "2016-02-07T00:00:00.000000000",
          "2016-02-08T00:00:00.000000000",
          "2016-02-09T00:00:00.000000000",
          "2016-02-10T00:00:00.000000000",
          "2016-02-11T00:00:00.000000000",
          "2016-02-12T00:00:00.000000000",
          "2016-02-13T00:00:00.000000000",
          "2016-02-14T00:00:00.000000000",
          "2016-02-15T00:00:00.000000000",
          "2016-02-16T00:00:00.000000000",
          "2016-02-17T00:00:00.000000000",
          "2016-02-18T00:00:00.000000000",
          "2016-02-19T00:00:00.000000000",
          "2016-02-20T00:00:00.000000000",
          "2016-02-21T00:00:00.000000000",
          "2016-02-22T00:00:00.000000000",
          "2016-02-23T00:00:00.000000000",
          "2016-02-24T00:00:00.000000000",
          "2016-02-25T00:00:00.000000000",
          "2016-02-26T00:00:00.000000000",
          "2016-02-27T00:00:00.000000000",
          "2016-02-28T00:00:00.000000000",
          "2016-02-29T00:00:00.000000000",
          "2016-03-01T00:00:00.000000000",
          "2016-03-02T00:00:00.000000000",
          "2016-03-03T00:00:00.000000000",
          "2016-03-04T00:00:00.000000000",
          "2016-03-05T00:00:00.000000000",
          "2016-03-06T00:00:00.000000000",
          "2016-03-07T00:00:00.000000000",
          "2016-03-08T00:00:00.000000000",
          "2016-03-09T00:00:00.000000000",
          "2016-03-10T00:00:00.000000000",
          "2016-03-11T00:00:00.000000000",
          "2016-03-12T00:00:00.000000000",
          "2016-03-13T00:00:00.000000000",
          "2016-03-14T00:00:00.000000000",
          "2016-03-15T00:00:00.000000000",
          "2016-03-16T00:00:00.000000000",
          "2016-03-17T00:00:00.000000000",
          "2016-03-18T00:00:00.000000000",
          "2016-03-19T00:00:00.000000000",
          "2016-03-20T00:00:00.000000000",
          "2016-03-21T00:00:00.000000000",
          "2016-03-22T00:00:00.000000000",
          "2016-03-23T00:00:00.000000000",
          "2016-03-24T00:00:00.000000000",
          "2016-03-25T00:00:00.000000000",
          "2016-03-26T00:00:00.000000000",
          "2016-03-27T00:00:00.000000000",
          "2016-03-28T00:00:00.000000000",
          "2016-03-29T00:00:00.000000000",
          "2016-03-30T00:00:00.000000000",
          "2016-03-31T00:00:00.000000000",
          "2016-04-01T00:00:00.000000000",
          "2016-04-02T00:00:00.000000000",
          "2016-04-03T00:00:00.000000000",
          "2016-04-04T00:00:00.000000000",
          "2016-04-05T00:00:00.000000000",
          "2016-04-06T00:00:00.000000000",
          "2016-04-07T00:00:00.000000000",
          "2016-04-08T00:00:00.000000000",
          "2016-04-09T00:00:00.000000000",
          "2016-04-10T00:00:00.000000000",
          "2016-04-11T00:00:00.000000000",
          "2016-04-12T00:00:00.000000000",
          "2016-04-13T00:00:00.000000000",
          "2016-04-14T00:00:00.000000000",
          "2016-04-15T00:00:00.000000000",
          "2016-04-16T00:00:00.000000000",
          "2016-04-17T00:00:00.000000000",
          "2016-04-18T00:00:00.000000000",
          "2016-04-19T00:00:00.000000000",
          "2016-04-20T00:00:00.000000000",
          "2016-04-21T00:00:00.000000000",
          "2016-04-22T00:00:00.000000000",
          "2016-04-23T00:00:00.000000000",
          "2016-04-24T00:00:00.000000000",
          "2016-04-25T00:00:00.000000000",
          "2016-04-26T00:00:00.000000000",
          "2016-04-27T00:00:00.000000000",
          "2016-04-28T00:00:00.000000000",
          "2016-04-29T00:00:00.000000000",
          "2016-04-30T00:00:00.000000000",
          "2016-05-01T00:00:00.000000000",
          "2016-05-02T00:00:00.000000000",
          "2016-05-03T00:00:00.000000000",
          "2016-05-04T00:00:00.000000000",
          "2016-05-05T00:00:00.000000000",
          "2016-05-06T00:00:00.000000000",
          "2016-05-07T00:00:00.000000000",
          "2016-05-08T00:00:00.000000000",
          "2016-05-09T00:00:00.000000000",
          "2016-05-10T00:00:00.000000000",
          "2016-05-11T00:00:00.000000000",
          "2016-05-12T00:00:00.000000000",
          "2016-05-13T00:00:00.000000000",
          "2016-05-14T00:00:00.000000000",
          "2016-05-15T00:00:00.000000000",
          "2016-05-16T00:00:00.000000000",
          "2016-05-17T00:00:00.000000000",
          "2016-05-18T00:00:00.000000000",
          "2016-05-19T00:00:00.000000000",
          "2016-05-20T00:00:00.000000000",
          "2016-05-21T00:00:00.000000000",
          "2016-05-22T00:00:00.000000000",
          "2016-05-23T00:00:00.000000000",
          "2016-05-24T00:00:00.000000000",
          "2016-05-25T00:00:00.000000000",
          "2016-05-26T00:00:00.000000000",
          "2016-05-27T00:00:00.000000000",
          "2016-05-28T00:00:00.000000000",
          "2016-05-29T00:00:00.000000000",
          "2016-05-30T00:00:00.000000000",
          "2016-05-31T00:00:00.000000000",
          "2016-06-01T00:00:00.000000000",
          "2016-06-02T00:00:00.000000000",
          "2016-06-03T00:00:00.000000000",
          "2016-06-04T00:00:00.000000000",
          "2016-06-05T00:00:00.000000000",
          "2016-06-06T00:00:00.000000000",
          "2016-06-07T00:00:00.000000000",
          "2016-06-08T00:00:00.000000000",
          "2016-06-09T00:00:00.000000000",
          "2016-06-10T00:00:00.000000000",
          "2016-06-11T00:00:00.000000000",
          "2016-06-12T00:00:00.000000000",
          "2016-06-13T00:00:00.000000000",
          "2016-06-14T00:00:00.000000000",
          "2016-06-15T00:00:00.000000000",
          "2016-06-16T00:00:00.000000000",
          "2016-06-17T00:00:00.000000000",
          "2016-06-18T00:00:00.000000000",
          "2016-06-19T00:00:00.000000000",
          "2016-06-20T00:00:00.000000000",
          "2016-06-21T00:00:00.000000000",
          "2016-06-22T00:00:00.000000000",
          "2016-06-23T00:00:00.000000000",
          "2016-06-24T00:00:00.000000000",
          "2016-06-25T00:00:00.000000000",
          "2016-06-26T00:00:00.000000000",
          "2016-06-27T00:00:00.000000000",
          "2016-06-28T00:00:00.000000000",
          "2016-06-29T00:00:00.000000000",
          "2016-06-30T00:00:00.000000000",
          "2016-07-01T00:00:00.000000000",
          "2016-07-02T00:00:00.000000000",
          "2016-07-03T00:00:00.000000000",
          "2016-07-04T00:00:00.000000000",
          "2016-07-05T00:00:00.000000000",
          "2016-07-06T00:00:00.000000000",
          "2016-07-07T00:00:00.000000000",
          "2016-07-08T00:00:00.000000000",
          "2016-07-09T00:00:00.000000000",
          "2016-07-10T00:00:00.000000000",
          "2016-07-11T00:00:00.000000000",
          "2016-07-12T00:00:00.000000000",
          "2016-07-13T00:00:00.000000000",
          "2016-07-14T00:00:00.000000000",
          "2016-07-15T00:00:00.000000000",
          "2016-07-16T00:00:00.000000000",
          "2016-07-17T00:00:00.000000000",
          "2016-07-18T00:00:00.000000000",
          "2016-07-19T00:00:00.000000000",
          "2016-07-20T00:00:00.000000000",
          "2016-07-21T00:00:00.000000000",
          "2016-07-22T00:00:00.000000000",
          "2016-07-23T00:00:00.000000000",
          "2016-07-24T00:00:00.000000000",
          "2016-07-25T00:00:00.000000000",
          "2016-07-26T00:00:00.000000000",
          "2016-07-27T00:00:00.000000000",
          "2016-07-28T00:00:00.000000000",
          "2016-07-29T00:00:00.000000000",
          "2016-07-30T00:00:00.000000000",
          "2016-07-31T00:00:00.000000000",
          "2016-08-01T00:00:00.000000000",
          "2016-08-02T00:00:00.000000000",
          "2016-08-03T00:00:00.000000000",
          "2016-08-04T00:00:00.000000000",
          "2016-08-05T00:00:00.000000000",
          "2016-08-06T00:00:00.000000000",
          "2016-08-07T00:00:00.000000000",
          "2016-08-08T00:00:00.000000000",
          "2016-08-09T00:00:00.000000000",
          "2016-08-10T00:00:00.000000000",
          "2016-08-11T00:00:00.000000000",
          "2016-08-12T00:00:00.000000000",
          "2016-08-13T00:00:00.000000000",
          "2016-08-14T00:00:00.000000000",
          "2016-08-15T00:00:00.000000000",
          "2016-08-16T00:00:00.000000000",
          "2016-08-17T00:00:00.000000000",
          "2016-08-18T00:00:00.000000000",
          "2016-08-19T00:00:00.000000000",
          "2016-08-20T00:00:00.000000000",
          "2016-08-21T00:00:00.000000000",
          "2016-08-22T00:00:00.000000000",
          "2016-08-23T00:00:00.000000000",
          "2016-08-24T00:00:00.000000000",
          "2016-08-25T00:00:00.000000000",
          "2016-08-26T00:00:00.000000000",
          "2016-08-27T00:00:00.000000000",
          "2016-08-28T00:00:00.000000000",
          "2016-08-29T00:00:00.000000000",
          "2016-08-30T00:00:00.000000000",
          "2016-08-31T00:00:00.000000000",
          "2016-09-01T00:00:00.000000000",
          "2016-09-02T00:00:00.000000000",
          "2016-09-03T00:00:00.000000000",
          "2016-09-04T00:00:00.000000000",
          "2016-09-05T00:00:00.000000000",
          "2016-09-06T00:00:00.000000000",
          "2016-09-07T00:00:00.000000000",
          "2016-09-08T00:00:00.000000000",
          "2016-09-09T00:00:00.000000000",
          "2016-09-10T00:00:00.000000000",
          "2016-09-11T00:00:00.000000000",
          "2016-09-12T00:00:00.000000000",
          "2016-09-13T00:00:00.000000000",
          "2016-09-14T00:00:00.000000000",
          "2016-09-15T00:00:00.000000000",
          "2016-09-16T00:00:00.000000000",
          "2016-09-17T00:00:00.000000000",
          "2016-09-18T00:00:00.000000000",
          "2016-09-19T00:00:00.000000000",
          "2016-09-20T00:00:00.000000000",
          "2016-09-21T00:00:00.000000000",
          "2016-09-22T00:00:00.000000000",
          "2016-09-23T00:00:00.000000000",
          "2016-09-24T00:00:00.000000000",
          "2016-09-25T00:00:00.000000000",
          "2016-09-26T00:00:00.000000000",
          "2016-09-27T00:00:00.000000000",
          "2016-09-28T00:00:00.000000000",
          "2016-09-29T00:00:00.000000000",
          "2016-09-30T00:00:00.000000000",
          "2016-10-01T00:00:00.000000000",
          "2016-10-02T00:00:00.000000000",
          "2016-10-03T00:00:00.000000000",
          "2016-10-04T00:00:00.000000000",
          "2016-10-05T00:00:00.000000000",
          "2016-10-06T00:00:00.000000000",
          "2016-10-07T00:00:00.000000000",
          "2016-10-08T00:00:00.000000000",
          "2016-10-09T00:00:00.000000000",
          "2016-10-10T00:00:00.000000000",
          "2016-10-11T00:00:00.000000000",
          "2016-10-12T00:00:00.000000000",
          "2016-10-13T00:00:00.000000000",
          "2016-10-14T00:00:00.000000000",
          "2016-10-15T00:00:00.000000000",
          "2016-10-16T00:00:00.000000000",
          "2016-10-17T00:00:00.000000000",
          "2016-10-18T00:00:00.000000000",
          "2016-10-19T00:00:00.000000000",
          "2016-10-20T00:00:00.000000000",
          "2016-10-21T00:00:00.000000000",
          "2016-10-22T00:00:00.000000000",
          "2016-10-23T00:00:00.000000000",
          "2016-10-24T00:00:00.000000000",
          "2016-10-25T00:00:00.000000000",
          "2016-10-26T00:00:00.000000000",
          "2016-10-27T00:00:00.000000000",
          "2016-10-28T00:00:00.000000000",
          "2016-10-29T00:00:00.000000000",
          "2016-10-30T00:00:00.000000000",
          "2016-10-31T00:00:00.000000000",
          "2016-11-01T00:00:00.000000000",
          "2016-11-02T00:00:00.000000000",
          "2016-11-03T00:00:00.000000000",
          "2016-11-04T00:00:00.000000000",
          "2016-11-05T00:00:00.000000000",
          "2016-11-06T00:00:00.000000000",
          "2016-11-07T00:00:00.000000000",
          "2016-11-08T00:00:00.000000000",
          "2016-11-09T00:00:00.000000000",
          "2016-11-10T00:00:00.000000000",
          "2016-11-11T00:00:00.000000000",
          "2016-11-12T00:00:00.000000000",
          "2016-11-13T00:00:00.000000000",
          "2016-11-14T00:00:00.000000000",
          "2016-11-15T00:00:00.000000000",
          "2016-11-16T00:00:00.000000000",
          "2016-11-17T00:00:00.000000000",
          "2016-11-18T00:00:00.000000000",
          "2016-11-19T00:00:00.000000000",
          "2016-11-20T00:00:00.000000000",
          "2016-11-21T00:00:00.000000000",
          "2016-11-22T00:00:00.000000000",
          "2016-11-23T00:00:00.000000000",
          "2016-11-24T00:00:00.000000000",
          "2016-11-25T00:00:00.000000000",
          "2016-11-26T00:00:00.000000000",
          "2016-11-27T00:00:00.000000000",
          "2016-11-28T00:00:00.000000000",
          "2016-11-29T00:00:00.000000000",
          "2016-11-30T00:00:00.000000000",
          "2016-12-01T00:00:00.000000000",
          "2016-12-02T00:00:00.000000000",
          "2016-12-03T00:00:00.000000000",
          "2016-12-04T00:00:00.000000000",
          "2016-12-05T00:00:00.000000000",
          "2016-12-06T00:00:00.000000000",
          "2016-12-07T00:00:00.000000000",
          "2016-12-08T00:00:00.000000000",
          "2016-12-09T00:00:00.000000000",
          "2016-12-10T00:00:00.000000000",
          "2016-12-11T00:00:00.000000000",
          "2016-12-12T00:00:00.000000000",
          "2016-12-13T00:00:00.000000000",
          "2016-12-14T00:00:00.000000000",
          "2016-12-15T00:00:00.000000000",
          "2016-12-16T00:00:00.000000000",
          "2016-12-17T00:00:00.000000000",
          "2016-12-18T00:00:00.000000000",
          "2016-12-19T00:00:00.000000000",
          "2016-12-20T00:00:00.000000000",
          "2016-12-21T00:00:00.000000000",
          "2016-12-22T00:00:00.000000000",
          "2016-12-23T00:00:00.000000000",
          "2016-12-24T00:00:00.000000000",
          "2016-12-25T00:00:00.000000000",
          "2016-12-26T00:00:00.000000000",
          "2016-12-27T00:00:00.000000000",
          "2016-12-28T00:00:00.000000000",
          "2016-12-29T00:00:00.000000000",
          "2016-12-30T00:00:00.000000000",
          "2016-12-31T00:00:00.000000000",
          "2017-01-01T00:00:00.000000000",
          "2017-01-02T00:00:00.000000000",
          "2017-01-03T00:00:00.000000000",
          "2017-01-04T00:00:00.000000000",
          "2017-01-05T00:00:00.000000000",
          "2017-01-06T00:00:00.000000000",
          "2017-01-07T00:00:00.000000000",
          "2017-01-08T00:00:00.000000000",
          "2017-01-09T00:00:00.000000000",
          "2017-01-10T00:00:00.000000000",
          "2017-01-11T00:00:00.000000000",
          "2017-01-12T00:00:00.000000000",
          "2017-01-13T00:00:00.000000000",
          "2017-01-14T00:00:00.000000000",
          "2017-01-15T00:00:00.000000000",
          "2017-01-16T00:00:00.000000000",
          "2017-01-17T00:00:00.000000000",
          "2017-01-18T00:00:00.000000000",
          "2017-01-19T00:00:00.000000000",
          "2017-01-20T00:00:00.000000000",
          "2017-01-21T00:00:00.000000000",
          "2017-01-22T00:00:00.000000000",
          "2017-01-23T00:00:00.000000000",
          "2017-01-24T00:00:00.000000000",
          "2017-01-25T00:00:00.000000000",
          "2017-01-26T00:00:00.000000000",
          "2017-01-27T00:00:00.000000000",
          "2017-01-28T00:00:00.000000000",
          "2017-01-29T00:00:00.000000000",
          "2017-01-30T00:00:00.000000000",
          "2017-01-31T00:00:00.000000000",
          "2017-02-01T00:00:00.000000000",
          "2017-02-02T00:00:00.000000000",
          "2017-02-03T00:00:00.000000000",
          "2017-02-04T00:00:00.000000000",
          "2017-02-05T00:00:00.000000000",
          "2017-02-06T00:00:00.000000000",
          "2017-02-07T00:00:00.000000000",
          "2017-02-08T00:00:00.000000000",
          "2017-02-09T00:00:00.000000000",
          "2017-02-10T00:00:00.000000000",
          "2017-02-11T00:00:00.000000000",
          "2017-02-12T00:00:00.000000000",
          "2017-02-13T00:00:00.000000000",
          "2017-02-14T00:00:00.000000000",
          "2017-02-15T00:00:00.000000000",
          "2017-02-16T00:00:00.000000000",
          "2017-02-17T00:00:00.000000000",
          "2017-02-18T00:00:00.000000000",
          "2017-02-19T00:00:00.000000000",
          "2017-02-20T00:00:00.000000000",
          "2017-02-21T00:00:00.000000000",
          "2017-02-22T00:00:00.000000000",
          "2017-02-23T00:00:00.000000000",
          "2017-02-24T00:00:00.000000000",
          "2017-02-25T00:00:00.000000000",
          "2017-02-26T00:00:00.000000000",
          "2017-02-27T00:00:00.000000000",
          "2017-02-28T00:00:00.000000000",
          "2017-03-01T00:00:00.000000000",
          "2017-03-02T00:00:00.000000000",
          "2017-03-03T00:00:00.000000000",
          "2017-03-04T00:00:00.000000000",
          "2017-03-05T00:00:00.000000000",
          "2017-03-06T00:00:00.000000000",
          "2017-03-07T00:00:00.000000000",
          "2017-03-08T00:00:00.000000000",
          "2017-03-09T00:00:00.000000000",
          "2017-03-10T00:00:00.000000000",
          "2017-03-11T00:00:00.000000000",
          "2017-03-12T00:00:00.000000000",
          "2017-03-13T00:00:00.000000000",
          "2017-03-14T00:00:00.000000000",
          "2017-03-15T00:00:00.000000000",
          "2017-03-16T00:00:00.000000000",
          "2017-03-17T00:00:00.000000000",
          "2017-03-18T00:00:00.000000000",
          "2017-03-19T00:00:00.000000000",
          "2017-03-20T00:00:00.000000000",
          "2017-03-21T00:00:00.000000000",
          "2017-03-22T00:00:00.000000000",
          "2017-03-23T00:00:00.000000000",
          "2017-03-24T00:00:00.000000000",
          "2017-03-25T00:00:00.000000000",
          "2017-03-26T00:00:00.000000000",
          "2017-03-27T00:00:00.000000000",
          "2017-03-28T00:00:00.000000000",
          "2017-03-29T00:00:00.000000000",
          "2017-03-30T00:00:00.000000000",
          "2017-03-31T00:00:00.000000000",
          "2017-04-01T00:00:00.000000000",
          "2017-04-02T00:00:00.000000000",
          "2017-04-03T00:00:00.000000000",
          "2017-04-04T00:00:00.000000000",
          "2017-04-05T00:00:00.000000000",
          "2017-04-06T00:00:00.000000000",
          "2017-04-07T00:00:00.000000000",
          "2017-04-08T00:00:00.000000000",
          "2017-04-09T00:00:00.000000000",
          "2017-04-10T00:00:00.000000000",
          "2017-04-11T00:00:00.000000000",
          "2017-04-12T00:00:00.000000000",
          "2017-04-13T00:00:00.000000000",
          "2017-04-14T00:00:00.000000000",
          "2017-04-15T00:00:00.000000000",
          "2017-04-16T00:00:00.000000000",
          "2017-04-17T00:00:00.000000000",
          "2017-04-18T00:00:00.000000000",
          "2017-04-19T00:00:00.000000000",
          "2017-04-20T00:00:00.000000000",
          "2017-04-21T00:00:00.000000000",
          "2017-04-22T00:00:00.000000000",
          "2017-04-23T00:00:00.000000000",
          "2017-04-24T00:00:00.000000000",
          "2017-04-25T00:00:00.000000000",
          "2017-04-26T00:00:00.000000000",
          "2017-04-27T00:00:00.000000000",
          "2017-04-28T00:00:00.000000000",
          "2017-04-29T00:00:00.000000000",
          "2017-04-30T00:00:00.000000000",
          "2017-05-01T00:00:00.000000000",
          "2017-05-02T00:00:00.000000000",
          "2017-05-03T00:00:00.000000000",
          "2017-05-04T00:00:00.000000000",
          "2017-05-05T00:00:00.000000000",
          "2017-05-06T00:00:00.000000000",
          "2017-05-07T00:00:00.000000000",
          "2017-05-08T00:00:00.000000000",
          "2017-05-09T00:00:00.000000000",
          "2017-05-10T00:00:00.000000000",
          "2017-05-11T00:00:00.000000000",
          "2017-05-12T00:00:00.000000000",
          "2017-05-13T00:00:00.000000000",
          "2017-05-14T00:00:00.000000000",
          "2017-05-15T00:00:00.000000000",
          "2017-05-16T00:00:00.000000000",
          "2017-05-17T00:00:00.000000000",
          "2017-05-18T00:00:00.000000000",
          "2017-05-19T00:00:00.000000000",
          "2017-05-20T00:00:00.000000000",
          "2017-05-21T00:00:00.000000000",
          "2017-05-22T00:00:00.000000000",
          "2017-05-23T00:00:00.000000000",
          "2017-05-24T00:00:00.000000000",
          "2017-05-25T00:00:00.000000000",
          "2017-05-26T00:00:00.000000000",
          "2017-05-27T00:00:00.000000000",
          "2017-05-28T00:00:00.000000000",
          "2017-05-29T00:00:00.000000000",
          "2017-05-30T00:00:00.000000000",
          "2017-05-31T00:00:00.000000000",
          "2017-06-01T00:00:00.000000000",
          "2017-06-02T00:00:00.000000000",
          "2017-06-03T00:00:00.000000000",
          "2017-06-04T00:00:00.000000000",
          "2017-06-05T00:00:00.000000000",
          "2017-06-06T00:00:00.000000000",
          "2017-06-07T00:00:00.000000000",
          "2017-06-08T00:00:00.000000000",
          "2017-06-09T00:00:00.000000000",
          "2017-06-10T00:00:00.000000000",
          "2017-06-11T00:00:00.000000000",
          "2017-06-12T00:00:00.000000000",
          "2017-06-13T00:00:00.000000000",
          "2017-06-14T00:00:00.000000000",
          "2017-06-15T00:00:00.000000000",
          "2017-06-16T00:00:00.000000000",
          "2017-06-17T00:00:00.000000000",
          "2017-06-18T00:00:00.000000000",
          "2017-06-19T00:00:00.000000000",
          "2017-06-20T00:00:00.000000000",
          "2017-06-21T00:00:00.000000000",
          "2017-06-22T00:00:00.000000000",
          "2017-06-23T00:00:00.000000000",
          "2017-06-24T00:00:00.000000000",
          "2017-06-25T00:00:00.000000000",
          "2017-06-26T00:00:00.000000000",
          "2017-06-27T00:00:00.000000000",
          "2017-06-28T00:00:00.000000000",
          "2017-06-29T00:00:00.000000000",
          "2017-06-30T00:00:00.000000000",
          "2017-07-01T00:00:00.000000000",
          "2017-07-02T00:00:00.000000000",
          "2017-07-03T00:00:00.000000000",
          "2017-07-04T00:00:00.000000000",
          "2017-07-05T00:00:00.000000000",
          "2017-07-06T00:00:00.000000000",
          "2017-07-07T00:00:00.000000000",
          "2017-07-08T00:00:00.000000000",
          "2017-07-09T00:00:00.000000000",
          "2017-07-10T00:00:00.000000000",
          "2017-07-11T00:00:00.000000000",
          "2017-07-12T00:00:00.000000000",
          "2017-07-13T00:00:00.000000000",
          "2017-07-14T00:00:00.000000000",
          "2017-07-15T00:00:00.000000000",
          "2017-07-16T00:00:00.000000000",
          "2017-07-17T00:00:00.000000000",
          "2017-07-18T00:00:00.000000000",
          "2017-07-19T00:00:00.000000000",
          "2017-07-20T00:00:00.000000000",
          "2017-07-21T00:00:00.000000000",
          "2017-07-22T00:00:00.000000000",
          "2017-07-23T00:00:00.000000000",
          "2017-07-24T00:00:00.000000000",
          "2017-07-25T00:00:00.000000000",
          "2017-07-26T00:00:00.000000000",
          "2017-07-27T00:00:00.000000000",
          "2017-07-28T00:00:00.000000000",
          "2017-07-29T00:00:00.000000000",
          "2017-07-30T00:00:00.000000000",
          "2017-07-31T00:00:00.000000000"
         ],
         "y": {
          "bdata": "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",
          "dtype": "f8"
         }
        }
       ],
       "layout": {
        "template": {
         "data": {
          "bar": [
           {
            "error_x": {
             "color": "#2a3f5f"
            },
            "error_y": {
             "color": "#2a3f5f"
            },
            "marker": {
             "line": {
              "color": "#E5ECF6",
              "width": 0.5
             },
             "pattern": {
              "fillmode": "overlay",
              "size": 10,
              "solidity": 0.2
             }
            },
            "type": "bar"
           }
          ],
          "barpolar": [
           {
            "marker": {
             "line": {
              "color": "#E5ECF6",
              "width": 0.5
             },
             "pattern": {
              "fillmode": "overlay",
              "size": 10,
              "solidity": 0.2
             }
            },
            "type": "barpolar"
           }
          ],
          "carpet": [
           {
            "aaxis": {
             "endlinecolor": "#2a3f5f",
             "gridcolor": "white",
             "linecolor": "white",
             "minorgridcolor": "white",
             "startlinecolor": "#2a3f5f"
            },
            "baxis": {
             "endlinecolor": "#2a3f5f",
             "gridcolor": "white",
             "linecolor": "white",
             "minorgridcolor": "white",
             "startlinecolor": "#2a3f5f"
            },
            "type": "carpet"
           }
          ],
          "choropleth": [
           {
            "colorbar": {
             "outlinewidth": 0,
             "ticks": ""
            },
            "type": "choropleth"
           }
          ],
          "contour": [
           {
            "colorbar": {
             "outlinewidth": 0,
             "ticks": ""
            },
            "colorscale": [
             [
              0,
              "#0d0887"
             ],
             [
              0.1111111111111111,
              "#46039f"
             ],
             [
              0.2222222222222222,
              "#7201a8"
             ],
             [
              0.3333333333333333,
              "#9c179e"
             ],
             [
              0.4444444444444444,
              "#bd3786"
             ],
             [
              0.5555555555555556,
              "#d8576b"
             ],
             [
              0.6666666666666666,
              "#ed7953"
             ],
             [
              0.7777777777777778,
              "#fb9f3a"
             ],
             [
              0.8888888888888888,
              "#fdca26"
             ],
             [
              1,
              "#f0f921"
             ]
            ],
            "type": "contour"
           }
          ],
          "contourcarpet": [
           {
            "colorbar": {
             "outlinewidth": 0,
             "ticks": ""
            },
            "type": "contourcarpet"
           }
          ],
          "heatmap": [
           {
            "colorbar": {
             "outlinewidth": 0,
             "ticks": ""
            },
            "colorscale": [
             [
              0,
              "#0d0887"
             ],
             [
              0.1111111111111111,
              "#46039f"
             ],
             [
              0.2222222222222222,
              "#7201a8"
             ],
             [
              0.3333333333333333,
              "#9c179e"
             ],
             [
              0.4444444444444444,
              "#bd3786"
             ],
             [
              0.5555555555555556,
              "#d8576b"
             ],
             [
              0.6666666666666666,
              "#ed7953"
             ],
             [
              0.7777777777777778,
              "#fb9f3a"
             ],
             [
              0.8888888888888888,
              "#fdca26"
             ],
             [
              1,
              "#f0f921"
             ]
            ],
            "type": "heatmap"
           }
          ],
          "histogram": [
           {
            "marker": {
             "pattern": {
              "fillmode": "overlay",
              "size": 10,
              "solidity": 0.2
             }
            },
            "type": "histogram"
           }
          ],
          "histogram2d": [
           {
            "colorbar": {
             "outlinewidth": 0,
             "ticks": ""
            },
            "colorscale": [
             [
              0,
              "#0d0887"
             ],
             [
              0.1111111111111111,
              "#46039f"
             ],
             [
              0.2222222222222222,
              "#7201a8"
             ],
             [
              0.3333333333333333,
              "#9c179e"
             ],
             [
              0.4444444444444444,
              "#bd3786"
             ],
             [
              0.5555555555555556,
              "#d8576b"
             ],
             [
              0.6666666666666666,
              "#ed7953"
             ],
             [
              0.7777777777777778,
              "#fb9f3a"
             ],
             [
              0.8888888888888888,
              "#fdca26"
             ],
             [
              1,
              "#f0f921"
             ]
            ],
            "type": "histogram2d"
           }
          ],
          "histogram2dcontour": [
           {
            "colorbar": {
             "outlinewidth": 0,
             "ticks": ""
            },
            "colorscale": [
             [
              0,
              "#0d0887"
             ],
             [
              0.1111111111111111,
              "#46039f"
             ],
             [
              0.2222222222222222,
              "#7201a8"
             ],
             [
              0.3333333333333333,
              "#9c179e"
             ],
             [
              0.4444444444444444,
              "#bd3786"
             ],
             [
              0.5555555555555556,
              "#d8576b"
             ],
             [
              0.6666666666666666,
              "#ed7953"
             ],
             [
              0.7777777777777778,
              "#fb9f3a"
             ],
             [
              0.8888888888888888,
              "#fdca26"
             ],
             [
              1,
              "#f0f921"
             ]
            ],
            "type": "histogram2dcontour"
           }
          ],
          "mesh3d": [
           {
            "colorbar": {
             "outlinewidth": 0,
             "ticks": ""
            },
            "type": "mesh3d"
           }
          ],
          "parcoords": [
           {
            "line": {
             "colorbar": {
              "outlinewidth": 0,
              "ticks": ""
             }
            },
            "type": "parcoords"
           }
          ],
          "pie": [
           {
            "automargin": true,
            "type": "pie"
           }
          ],
          "scatter": [
           {
            "fillpattern": {
             "fillmode": "overlay",
             "size": 10,
             "solidity": 0.2
            },
            "type": "scatter"
           }
          ],
          "scatter3d": [
           {
            "line": {
             "colorbar": {
              "outlinewidth": 0,
              "ticks": ""
             }
            },
            "marker": {
             "colorbar": {
              "outlinewidth": 0,
              "ticks": ""
             }
            },
            "type": "scatter3d"
           }
          ],
          "scattercarpet": [
           {
            "marker": {
             "colorbar": {
              "outlinewidth": 0,
              "ticks": ""
             }
            },
            "type": "scattercarpet"
           }
          ],
          "scattergeo": [
           {
            "marker": {
             "colorbar": {
              "outlinewidth": 0,
              "ticks": ""
             }
            },
            "type": "scattergeo"
           }
          ],
          "scattergl": [
           {
            "marker": {
             "colorbar": {
              "outlinewidth": 0,
              "ticks": ""
             }
            },
            "type": "scattergl"
           }
          ],
          "scattermap": [
           {
            "marker": {
             "colorbar": {
              "outlinewidth": 0,
              "ticks": ""
             }
            },
            "type": "scattermap"
           }
          ],
          "scattermapbox": [
           {
            "marker": {
             "colorbar": {
              "outlinewidth": 0,
              "ticks": ""
             }
            },
            "type": "scattermapbox"
           }
          ],
          "scatterpolar": [
           {
            "marker": {
             "colorbar": {
              "outlinewidth": 0,
              "ticks": ""
             }
            },
            "type": "scatterpolar"
           }
          ],
          "scatterpolargl": [
           {
            "marker": {
             "colorbar": {
              "outlinewidth": 0,
              "ticks": ""
             }
            },
            "type": "scatterpolargl"
           }
          ],
          "scatterternary": [
           {
            "marker": {
             "colorbar": {
              "outlinewidth": 0,
              "ticks": ""
             }
            },
            "type": "scatterternary"
           }
          ],
          "surface": [
           {
            "colorbar": {
             "outlinewidth": 0,
             "ticks": ""
            },
            "colorscale": [
             [
              0,
              "#0d0887"
             ],
             [
              0.1111111111111111,
              "#46039f"
             ],
             [
              0.2222222222222222,
              "#7201a8"
             ],
             [
              0.3333333333333333,
              "#9c179e"
             ],
             [
              0.4444444444444444,
              "#bd3786"
             ],
             [
              0.5555555555555556,
              "#d8576b"
             ],
             [
              0.6666666666666666,
              "#ed7953"
             ],
             [
              0.7777777777777778,
              "#fb9f3a"
             ],
             [
              0.8888888888888888,
              "#fdca26"
             ],
             [
              1,
              "#f0f921"
             ]
            ],
            "type": "surface"
           }
          ],
          "table": [
           {
            "cells": {
             "fill": {
              "color": "#EBF0F8"
             },
             "line": {
              "color": "white"
             }
            },
            "header": {
             "fill": {
              "color": "#C8D4E3"
             },
             "line": {
              "color": "white"
             }
            },
            "type": "table"
           }
          ]
         },
         "layout": {
          "annotationdefaults": {
           "arrowcolor": "#2a3f5f",
           "arrowhead": 0,
           "arrowwidth": 1
          },
          "autotypenumbers": "strict",
          "coloraxis": {
           "colorbar": {
            "outlinewidth": 0,
            "ticks": ""
           }
          },
          "colorscale": {
           "diverging": [
            [
             0,
             "#8e0152"
            ],
            [
             0.1,
             "#c51b7d"
            ],
            [
             0.2,
             "#de77ae"
            ],
            [
             0.3,
             "#f1b6da"
            ],
            [
             0.4,
             "#fde0ef"
            ],
            [
             0.5,
             "#f7f7f7"
            ],
            [
             0.6,
             "#e6f5d0"
            ],
            [
             0.7,
             "#b8e186"
            ],
            [
             0.8,
             "#7fbc41"
            ],
            [
             0.9,
             "#4d9221"
            ],
            [
             1,
             "#276419"
            ]
           ],
           "sequential": [
            [
             0,
             "#0d0887"
            ],
            [
             0.1111111111111111,
             "#46039f"
            ],
            [
             0.2222222222222222,
             "#7201a8"
            ],
            [
             0.3333333333333333,
             "#9c179e"
            ],
            [
             0.4444444444444444,
             "#bd3786"
            ],
            [
             0.5555555555555556,
             "#d8576b"
            ],
            [
             0.6666666666666666,
             "#ed7953"
            ],
            [
             0.7777777777777778,
             "#fb9f3a"
            ],
            [
             0.8888888888888888,
             "#fdca26"
            ],
            [
             1,
             "#f0f921"
            ]
           ],
           "sequentialminus": [
            [
             0,
             "#0d0887"
            ],
            [
             0.1111111111111111,
             "#46039f"
            ],
            [
             0.2222222222222222,
             "#7201a8"
            ],
            [
             0.3333333333333333,
             "#9c179e"
            ],
            [
             0.4444444444444444,
             "#bd3786"
            ],
            [
             0.5555555555555556,
             "#d8576b"
            ],
            [
             0.6666666666666666,
             "#ed7953"
            ],
            [
             0.7777777777777778,
             "#fb9f3a"
            ],
            [
             0.8888888888888888,
             "#fdca26"
            ],
            [
             1,
             "#f0f921"
            ]
           ]
          },
          "colorway": [
           "#636efa",
           "#EF553B",
           "#00cc96",
           "#ab63fa",
           "#FFA15A",
           "#19d3f3",
           "#FF6692",
           "#B6E880",
           "#FF97FF",
           "#FECB52"
          ],
          "font": {
           "color": "#2a3f5f"
          },
          "geo": {
           "bgcolor": "white",
           "lakecolor": "white",
           "landcolor": "#E5ECF6",
           "showlakes": true,
           "showland": true,
           "subunitcolor": "white"
          },
          "hoverlabel": {
           "align": "left"
          },
          "hovermode": "closest",
          "mapbox": {
           "style": "light"
          },
          "paper_bgcolor": "white",
          "plot_bgcolor": "#E5ECF6",
          "polar": {
           "angularaxis": {
            "gridcolor": "white",
            "linecolor": "white",
            "ticks": ""
           },
           "bgcolor": "#E5ECF6",
           "radialaxis": {
            "gridcolor": "white",
            "linecolor": "white",
            "ticks": ""
           }
          },
          "scene": {
           "xaxis": {
            "backgroundcolor": "#E5ECF6",
            "gridcolor": "white",
            "gridwidth": 2,
            "linecolor": "white",
            "showbackground": true,
            "ticks": "",
            "zerolinecolor": "white"
           },
           "yaxis": {
            "backgroundcolor": "#E5ECF6",
            "gridcolor": "white",
            "gridwidth": 2,
            "linecolor": "white",
            "showbackground": true,
            "ticks": "",
            "zerolinecolor": "white"
           },
           "zaxis": {
            "backgroundcolor": "#E5ECF6",
            "gridcolor": "white",
            "gridwidth": 2,
            "linecolor": "white",
            "showbackground": true,
            "ticks": "",
            "zerolinecolor": "white"
           }
          },
          "shapedefaults": {
           "line": {
            "color": "#2a3f5f"
           }
          },
          "ternary": {
           "aaxis": {
            "gridcolor": "white",
            "linecolor": "white",
            "ticks": ""
           },
           "baxis": {
            "gridcolor": "white",
            "linecolor": "white",
            "ticks": ""
           },
           "bgcolor": "#E5ECF6",
           "caxis": {
            "gridcolor": "white",
            "linecolor": "white",
            "ticks": ""
           }
          },
          "title": {
           "x": 0.05
          },
          "xaxis": {
           "automargin": true,
           "gridcolor": "white",
           "linecolor": "white",
           "ticks": "",
           "title": {
            "standoff": 15
           },
           "zerolinecolor": "white",
           "zerolinewidth": 2
          },
          "yaxis": {
           "automargin": true,
           "gridcolor": "white",
           "linecolor": "white",
           "ticks": "",
           "title": {
            "standoff": 15
           },
           "zerolinecolor": "white",
           "zerolinewidth": 2
          }
         }
        },
        "xaxis": {
         "title": {
          "text": "Date"
         }
        },
        "yaxis": {
         "title": {
          "text": "% Change"
         }
        }
       }
      },
      "text/html": [
       "<div>            <script src=\"https://cdnjs.cloudflare.com/ajax/libs/mathjax/2.7.5/MathJax.js?config=TeX-AMS-MML_SVG\"></script><script type=\"text/javascript\">if (window.MathJax && window.MathJax.Hub && window.MathJax.Hub.Config) {window.MathJax.Hub.Config({SVG: {font: \"STIX-Web\"}});}</script>                <script type=\"text/javascript\">window.PlotlyConfig = {MathJaxConfig: 'local'};</script>\n",
       "        <script charset=\"utf-8\" src=\"https://cdn.plot.ly/plotly-3.0.0.min.js\"></script>                <div id=\"9b9041c3-604b-4675-9a27-c6c3c17abb60\" class=\"plotly-graph-div\" style=\"height:525px; width:100%;\"></div>            <script type=\"text/javascript\">                window.PLOTLYENV=window.PLOTLYENV || {};                                if (document.getElementById(\"9b9041c3-604b-4675-9a27-c6c3c17abb60\")) {                    Plotly.newPlot(                        \"9b9041c3-604b-4675-9a27-c6c3c17abb60\",                        [{\"mode\":\"lines\",\"name\":\"% change\",\"x\":[\"2013-04-28T00:00:00.000000000\",\"2013-04-29T00:00:00.000000000\",\"2013-04-30T00:00:00.000000000\",\"2013-05-01T00:00:00.000000000\",\"2013-05-02T00:00:00.000000000\",\"2013-05-03T00:00:00.000000000\",\"2013-05-04T00:00:00.000000000\",\"2013-05-05T00:00:00.000000000\",\"2013-05-06T00:00:00.000000000\",\"2013-05-07T00:00:00.000000000\",\"2013-05-08T00:00:00.000000000\",\"2013-05-09T00:00:00.000000000\",\"2013-05-10T00:00:00.000000000\",\"2013-05-11T00:00:00.000000000\",\"2013-05-12T00:00:00.000000000\",\"2013-05-13T00:00:00.000000000\",\"2013-05-14T00:00:00.000000000\",\"2013-05-15T00:00:00.000000000\",\"2013-05-16T00:00:00.000000000\",\"2013-05-17T00:00:00.000000000\",\"2013-05-18T00:00:00.000000000\",\"2013-05-19T00:00:00.000000000\",\"2013-05-20T00:00:00.000000000\",\"2013-05-21T00:00:00.000000000\",\"2013-05-22T00:00:00.000000000\",\"2013-05-23T00:00:00.000000000\",\"2013-05-24T00:00:00.000000000\",\"2013-05-25T00:00:00.000000000\",\"2013-05-26T00:00:00.000000000\",\"2013-05-27T00:00:00.000000000\",\"2013-05-28T00:00:00.000000000\",\"2013-05-29T00:00:00.000000000\",\"2013-05-30T00:00:00.000000000\",\"2013-05-31T00:00:00.000000000\",\"2013-06-01T00:00:00.000000000\",\"2013-06-02T00:00:00.000000000\",\"2013-06-03T00:00:00.000000000\",\"2013-06-04T00:00:00.000000000\",\"2013-06-05T00:00:00.000000000\",\"2013-06-06T00:00:00.000000000\",\"2013-06-07T00:00:00.000000000\",\"2013-06-08T00:00:00.000000000\",\"2013-06-09T00:00:00.000000000\",\"2013-06-10T00:00:00.000000000\",\"2013-06-11T00:00:00.000000000\",\"2013-06-12T00:00:00.000000000\",\"2013-06-13T00:00:00.000000000\",\"2013-06-14T00:00:00.000000000\",\"2013-06-15T00:00:00.000000000\",\"2013-06-16T00:00:00.000000000\",\"2013-06-17T00:00:00.000000000\",\"2013-06-18T00:00:00.000000000\",\"2013-06-19T00:00:00.000000000\",\"2013-06-20T00:00:00.000000000\",\"2013-06-21T00:00:00.000000000\",\"2013-06-22T00:00:00.000000000\",\"2013-06-23T00:00:00.000000000\",\"2013-06-24T00:00:00.000000000\",\"2013-06-25T00:00:00.000000000\",\"2013-06-26T00:00:00.000000000\",\"2013-06-27T00:00:00.000000000\",\"2013-06-28T00:00:00.000000000\",\"2013-06-29T00:00:00.000000000\",\"2013-06-30T00:00:00.000000000\",\"2013-07-01T00:00:00.000000000\",\"2013-07-02T00:00:00.000000000\",\"2013-07-03T00:00:00.000000000\",\"2013-07-04T00:00:00.000000000\",\"2013-07-05T00:00:00.000000000\",\"2013-07-06T00:00:00.000000000\",\"2013-07-07T00:00:00.000000000\",\"2013-07-08T00:00:00.000000000\",\"2013-07-09T00:00:00.000000000\",\"2013-07-10T00:00:00.000000000\",\"2013-07-11T00:00:00.000000000\",\"2013-07-12T00:00:00.000000000\",\"2013-07-13T00:00:00.000000000\",\"2013-07-14T00:00:00.000000000\",\"2013-07-15T00:00:00.000000000\",\"2013-07-16T00:00:00.000000000\",\"2013-07-17T00:00:00.000000000\",\"2013-07-18T00:00:00.000000000\",\"2013-07-19T00:00:00.000000000\",\"2013-07-20T00:00:00.000000000\",\"2013-07-21T00:00:00.000000000\",\"2013-07-22T00:00:00.000000000\",\"2013-07-23T00:00:00.000000000\",\"2013-07-24T00:00:00.000000000\",\"2013-07-25T00:00:00.000000000\",\"2013-07-26T00:00:00.000000000\",\"2013-07-27T00:00:00.000000000\",\"2013-07-28T00:00:00.000000000\",\"2013-07-29T00:00:00.000000000\",\"2013-07-30T00:00:00.000000000\",\"2013-07-31T00:00:00.000000000\",\"2013-08-01T00:00:00.000000000\",\"2013-08-02T00:00:00.000000000\",\"2013-08-03T00:00:00.000000000\",\"2013-08-04T00:00:00.000000000\",\"2013-08-05T00:00:00.000000000\",\"2013-08-06T00:00:00.000000000\",\"2013-08-07T00:00:00.000000000\",\"2013-08-08T00:00:00.000000000\",\"2013-08-09T00:00:00.000000000\",\"2013-08-10T00:00:00.000000000\",\"2013-08-11T00:00:00.000000000\",\"2013-08-12T00:00:00.000000000\",\"2013-08-13T00:00:00.000000000\",\"2013-08-14T00:00:00.000000000\",\"2013-08-15T00:00:00.000000000\",\"2013-08-16T00:00:00.000000000\",\"2013-08-17T00:00:00.000000000\",\"2013-08-18T00:00:00.000000000\",\"2013-08-19T00:00:00.000000000\",\"2013-08-20T00:00:00.000000000\",\"2013-08-21T00:00:00.000000000\",\"2013-08-22T00:00:00.000000000\",\"2013-08-23T00:00:00.000000000\",\"2013-08-24T00:00:00.000000000\",\"2013-08-25T00:00:00.000000000\",\"2013-08-26T00:00:00.000000000\",\"2013-08-27T00:00:00.000000000\",\"2013-08-28T00:00:00.000000000\",\"2013-08-29T00:00:00.000000000\",\"2013-08-30T00:00:00.000000000\",\"2013-08-31T00:00:00.000000000\",\"2013-09-01T00:00:00.000000000\",\"2013-09-02T00:00:00.000000000\",\"2013-09-03T00:00:00.000000000\",\"2013-09-04T00:00:00.000000000\",\"2013-09-05T00:00:00.000000000\",\"2013-09-06T00:00:00.000000000\",\"2013-09-07T00:00:00.000000000\",\"2013-09-08T00:00:00.000000000\",\"2013-09-09T00:00:00.000000000\",\"2013-09-10T00:00:00.000000000\",\"2013-09-11T00:00:00.000000000\",\"2013-09-12T00:00:00.000000000\",\"2013-09-13T00:00:00.000000000\",\"2013-09-14T00:00:00.000000000\",\"2013-09-15T00:00:00.000000000\",\"2013-09-16T00:00:00.000000000\",\"2013-09-17T00:00:00.000000000\",\"2013-09-18T00:00:00.000000000\",\"2013-09-19T00:00:00.000000000\",\"2013-09-20T00:00:00.000000000\",\"2013-09-21T00:00:00.000000000\",\"2013-09-22T00:00:00.000000000\",\"2013-09-23T00:00:00.000000000\",\"2013-09-24T00:00:00.000000000\",\"2013-09-25T00:00:00.000000000\",\"2013-09-26T00:00:00.000000000\",\"2013-09-27T00:00:00.000000000\",\"2013-09-28T00:00:00.000000000\",\"2013-09-29T00:00:00.000000000\",\"2013-09-30T00:00:00.000000000\",\"2013-10-01T00:00:00.000000000\",\"2013-10-02T00:00:00.000000000\",\"2013-10-03T00:00:00.000000000\",\"2013-10-04T00:00:00.000000000\",\"2013-10-05T00:00:00.000000000\",\"2013-10-06T00:00:00.000000000\",\"2013-10-07T00:00:00.000000000\",\"2013-10-08T00:00:00.000000000\",\"2013-10-09T00:00:00.000000000\",\"2013-10-10T00:00:00.000000000\",\"2013-10-11T00:00:00.000000000\",\"2013-10-12T00:00:00.000000000\",\"2013-10-13T00:00:00.000000000\",\"2013-10-14T00:00:00.000000000\",\"2013-10-15T00:00:00.000000000\",\"2013-10-16T00:00:00.000000000\",\"2013-10-17T00:00:00.000000000\",\"2013-10-18T00:00:00.000000000\",\"2013-10-19T00:00:00.000000000\",\"2013-10-20T00:00:00.000000000\",\"2013-10-21T00:00:00.000000000\",\"2013-10-22T00:00:00.000000000\",\"2013-10-23T00:00:00.000000000\",\"2013-10-24T00:00:00.000000000\",\"2013-10-25T00:00:00.000000000\",\"2013-10-26T00:00:00.000000000\",\"2013-10-27T00:00:00.000000000\",\"2013-10-28T00:00:00.000000000\",\"2013-10-29T00:00:00.000000000\",\"2013-10-30T00:00:00.000000000\",\"2013-10-31T00:00:00.000000000\",\"2013-11-01T00:00:00.000000000\",\"2013-11-02T00:00:00.000000000\",\"2013-11-03T00:00:00.000000000\",\"2013-11-04T00:00:00.000000000\",\"2013-11-05T00:00:00.000000000\",\"2013-11-06T00:00:00.000000000\",\"2013-11-07T00:00:00.000000000\",\"2013-11-08T00:00:00.000000000\",\"2013-11-09T00:00:00.000000000\",\"2013-11-10T00:00:00.000000000\",\"2013-11-11T00:00:00.000000000\",\"2013-11-12T00:00:00.000000000\",\"2013-11-13T00:00:00.000000000\",\"2013-11-14T00:00:00.000000000\",\"2013-11-15T00:00:00.000000000\",\"2013-11-16T00:00:00.000000000\",\"2013-11-17T00:00:00.000000000\",\"2013-11-18T00:00:00.000000000\",\"2013-11-19T00:00:00.000000000\",\"2013-11-20T00:00:00.000000000\",\"2013-11-21T00:00:00.000000000\",\"2013-11-22T00:00:00.000000000\",\"2013-11-23T00:00:00.000000000\",\"2013-11-24T00:00:00.000000000\",\"2013-11-25T00:00:00.000000000\",\"2013-11-26T00:00:00.000000000\",\"2013-11-27T00:00:00.000000000\",\"2013-11-28T00:00:00.000000000\",\"2013-11-29T00:00:00.000000000\",\"2013-11-30T00:00:00.000000000\",\"2013-12-01T00:00:00.000000000\",\"2013-12-02T00:00:00.000000000\",\"2013-12-03T00:00:00.000000000\",\"2013-12-04T00:00:00.000000000\",\"2013-12-05T00:00:00.000000000\",\"2013-12-06T00:00:00.000000000\",\"2013-12-07T00:00:00.000000000\",\"2013-12-08T00:00:00.000000000\",\"2013-12-09T00:00:00.000000000\",\"2013-12-10T00:00:00.000000000\",\"2013-12-11T00:00:00.000000000\",\"2013-12-12T00:00:00.000000000\",\"2013-12-13T00:00:00.000000000\",\"2013-12-14T00:00:00.000000000\",\"2013-12-15T00:00:00.000000000\",\"2013-12-16T00:00:00.000000000\",\"2013-12-17T00:00:00.000000000\",\"2013-12-18T00:00:00.000000000\",\"2013-12-19T00:00:00.000000000\",\"2013-12-20T00:00:00.000000000\",\"2013-12-21T00:00:00.000000000\",\"2013-12-22T00:00:00.000000000\",\"2013-12-23T00:00:00.000000000\",\"2013-12-24T00:00:00.000000000\",\"2013-12-25T00:00:00.000000000\",\"2013-12-26T00:00:00.000000000\",\"2013-12-27T00:00:00.000000000\",\"2013-12-28T00:00:00.000000000\",\"2013-12-29T00:00:00.000000000\",\"2013-12-30T00:00:00.000000000\",\"2013-12-31T00:00:00.000000000\",\"2014-01-01T00:00:00.000000000\",\"2014-01-02T00:00:00.000000000\",\"2014-01-03T00:00:00.000000000\",\"2014-01-04T00:00:00.000000000\",\"2014-01-05T00:00:00.000000000\",\"2014-01-06T00:00:00.000000000\",\"2014-01-07T00:00:00.000000000\",\"2014-01-08T00:00:00.000000000\",\"2014-01-09T00:00:00.000000000\",\"2014-01-10T00:00:00.000000000\",\"2014-01-11T00:00:00.000000000\",\"2014-01-12T00:00:00.000000000\",\"2014-01-13T00:00:00.000000000\",\"2014-01-14T00:00:00.000000000\",\"2014-01-15T00:00:00.000000000\",\"2014-01-16T00:00:00.000000000\",\"2014-01-17T00:00:00.000000000\",\"2014-01-18T00:00:00.000000000\",\"2014-01-19T00:00:00.000000000\",\"2014-01-20T00:00:00.000000000\",\"2014-01-21T00:00:00.000000000\",\"2014-01-22T00:00:00.000000000\",\"2014-01-23T00:00:00.000000000\",\"2014-01-24T00:00:00.000000000\",\"2014-01-25T00:00:00.000000000\",\"2014-01-26T00:00:00.000000000\",\"2014-01-27T00:00:00.000000000\",\"2014-01-28T00:00:00.000000000\",\"2014-01-29T00:00:00.000000000\",\"2014-01-30T00:00:00.000000000\",\"2014-01-31T00:00:00.000000000\",\"2014-02-01T00:00:00.000000000\",\"2014-02-02T00:00:00.000000000\",\"2014-02-03T00:00:00.000000000\",\"2014-02-04T00:00:00.000000000\",\"2014-02-05T00:00:00.000000000\",\"2014-02-06T00:00:00.000000000\",\"2014-02-07T00:00:00.000000000\",\"2014-02-08T00:00:00.000000000\",\"2014-02-09T00:00:00.000000000\",\"2014-02-10T00:00:00.000000000\",\"2014-02-11T00:00:00.000000000\",\"2014-02-12T00:00:00.000000000\",\"2014-02-13T00:00:00.000000000\",\"2014-02-14T00:00:00.000000000\",\"2014-02-15T00:00:00.000000000\",\"2014-02-16T00:00:00.000000000\",\"2014-02-17T00:00:00.000000000\",\"2014-02-18T00:00:00.000000000\",\"2014-02-19T00:00:00.000000000\",\"2014-02-20T00:00:00.000000000\",\"2014-02-21T00:00:00.000000000\",\"2014-02-22T00:00:00.000000000\",\"2014-02-23T00:00:00.000000000\",\"2014-02-24T00:00:00.000000000\",\"2014-02-25T00:00:00.000000000\",\"2014-02-26T00:00:00.000000000\",\"2014-02-27T00:00:00.000000000\",\"2014-02-28T00:00:00.000000000\",\"2014-03-01T00:00:00.000000000\",\"2014-03-02T00:00:00.000000000\",\"2014-03-03T00:00:00.000000000\",\"2014-03-04T00:00:00.000000000\",\"2014-03-05T00:00:00.000000000\",\"2014-03-06T00:00:00.000000000\",\"2014-03-07T00:00:00.000000000\",\"2014-03-08T00:00:00.000000000\",\"2014-03-09T00:00:00.000000000\",\"2014-03-10T00:00:00.000000000\",\"2014-03-11T00:00:00.000000000\",\"2014-03-12T00:00:00.000000000\",\"2014-03-13T00:00:00.000000000\",\"2014-03-14T00:00:00.000000000\",\"2014-03-15T00:00:00.000000000\",\"2014-03-16T00:00:00.000000000\",\"2014-03-17T00:00:00.000000000\",\"2014-03-18T00:00:00.000000000\",\"2014-03-19T00:00:00.000000000\",\"2014-03-20T00:00:00.000000000\",\"2014-03-21T00:00:00.000000000\",\"2014-03-22T00:00:00.000000000\",\"2014-03-23T00:00:00.000000000\",\"2014-03-24T00:00:00.000000000\",\"2014-03-25T00:00:00.000000000\",\"2014-03-26T00:00:00.000000000\",\"2014-03-27T00:00:00.000000000\",\"2014-03-28T00:00:00.000000000\",\"2014-03-29T00:00:00.000000000\",\"2014-03-30T00:00:00.000000000\",\"2014-03-31T00:00:00.000000000\",\"2014-04-01T00:00:00.000000000\",\"2014-04-02T00:00:00.000000000\",\"2014-04-03T00:00:00.000000000\",\"2014-04-04T00:00:00.000000000\",\"2014-04-05T00:00:00.000000000\",\"2014-04-06T00:00:00.000000000\",\"2014-04-07T00:00:00.000000000\",\"2014-04-08T00:00:00.000000000\",\"2014-04-09T00:00:00.000000000\",\"2014-04-10T00:00:00.000000000\",\"2014-04-11T00:00:00.000000000\",\"2014-04-12T00:00:00.000000000\",\"2014-04-13T00:00:00.000000000\",\"2014-04-14T00:00:00.000000000\",\"2014-04-15T00:00:00.000000000\",\"2014-04-16T00:00:00.000000000\",\"2014-04-17T00:00:00.000000000\",\"2014-04-18T00:00:00.000000000\",\"2014-04-19T00:00:00.000000000\",\"2014-04-20T00:00:00.000000000\",\"2014-04-21T00:00:00.000000000\",\"2014-04-22T00:00:00.000000000\",\"2014-04-23T00:00:00.000000000\",\"2014-04-24T00:00:00.000000000\",\"2014-04-25T00:00:00.000000000\",\"2014-04-26T00:00:00.000000000\",\"2014-04-27T00:00:00.000000000\",\"2014-04-28T00:00:00.000000000\",\"2014-04-29T00:00:00.000000000\",\"2014-04-30T00:00:00.000000000\",\"2014-05-01T00:00:00.000000000\",\"2014-05-02T00:00:00.000000000\",\"2014-05-03T00:00:00.000000000\",\"2014-05-04T00:00:00.000000000\",\"2014-05-05T00:00:00.000000000\",\"2014-05-06T00:00:00.000000000\",\"2014-05-07T00:00:00.000000000\",\"2014-05-08T00:00:00.000000000\",\"2014-05-09T00:00:00.000000000\",\"2014-05-10T00:00:00.000000000\",\"2014-05-11T00:00:00.000000000\",\"2014-05-12T00:00:00.000000000\",\"2014-05-13T00:00:00.000000000\",\"2014-05-14T00:00:00.000000000\",\"2014-05-15T00:00:00.000000000\",\"2014-05-16T00:00:00.000000000\",\"2014-05-17T00:00:00.000000000\",\"2014-05-18T00:00:00.000000000\",\"2014-05-19T00:00:00.000000000\",\"2014-05-20T00:00:00.000000000\",\"2014-05-21T00:00:00.000000000\",\"2014-05-22T00:00:00.000000000\",\"2014-05-23T00:00:00.000000000\",\"2014-05-24T00:00:00.000000000\",\"2014-05-25T00:00:00.000000000\",\"2014-05-26T00:00:00.000000000\",\"2014-05-27T00:00:00.000000000\",\"2014-05-28T00:00:00.000000000\",\"2014-05-29T00:00:00.000000000\",\"2014-05-30T00:00:00.000000000\",\"2014-05-31T00:00:00.000000000\",\"2014-06-01T00:00:00.000000000\",\"2014-06-02T00:00:00.000000000\",\"2014-06-03T00:00:00.000000000\",\"2014-06-04T00:00:00.000000000\",\"2014-06-05T00:00:00.000000000\",\"2014-06-06T00:00:00.000000000\",\"2014-06-07T00:00:00.000000000\",\"2014-06-08T00:00:00.000000000\",\"2014-06-09T00:00:00.000000000\",\"2014-06-10T00:00:00.000000000\",\"2014-06-11T00:00:00.000000000\",\"2014-06-12T00:00:00.000000000\",\"2014-06-13T00:00:00.000000000\",\"2014-06-14T00:00:00.000000000\",\"2014-06-15T00:00:00.000000000\",\"2014-06-16T00:00:00.000000000\",\"2014-06-17T00:00:00.000000000\",\"2014-06-18T00:00:00.000000000\",\"2014-06-19T00:00:00.000000000\",\"2014-06-20T00:00:00.000000000\",\"2014-06-21T00:00:00.000000000\",\"2014-06-22T00:00:00.000000000\",\"2014-06-23T00:00:00.000000000\",\"2014-06-24T00:00:00.000000000\",\"2014-06-25T00:00:00.000000000\",\"2014-06-26T00:00:00.000000000\",\"2014-06-27T00:00:00.000000000\",\"2014-06-28T00:00:00.000000000\",\"2014-06-29T00:00:00.000000000\",\"2014-06-30T00:00:00.000000000\",\"2014-07-01T00:00:00.000000000\",\"2014-07-02T00:00:00.000000000\",\"2014-07-03T00:00:00.000000000\",\"2014-07-04T00:00:00.000000000\",\"2014-07-05T00:00:00.000000000\",\"2014-07-06T00:00:00.000000000\",\"2014-07-07T00:00:00.000000000\",\"2014-07-08T00:00:00.000000000\",\"2014-07-09T00:00:00.000000000\",\"2014-07-10T00:00:00.000000000\",\"2014-07-11T00:00:00.000000000\",\"2014-07-12T00:00:00.000000000\",\"2014-07-13T00:00:00.000000000\",\"2014-07-14T00:00:00.000000000\",\"2014-07-15T00:00:00.000000000\",\"2014-07-16T00:00:00.000000000\",\"2014-07-17T00:00:00.000000000\",\"2014-07-18T00:00:00.000000000\",\"2014-07-19T00:00:00.000000000\",\"2014-07-20T00:00:00.000000000\",\"2014-07-21T00:00:00.000000000\",\"2014-07-22T00:00:00.000000000\",\"2014-07-23T00:00:00.000000000\",\"2014-07-24T00:00:00.000000000\",\"2014-07-25T00:00:00.000000000\",\"2014-07-26T00:00:00.000000000\",\"2014-07-27T00:00:00.000000000\",\"2014-07-28T00:00:00.000000000\",\"2014-07-29T00:00:00.000000000\",\"2014-07-30T00:00:00.000000000\",\"2014-07-31T00:00:00.000000000\",\"2014-08-01T00:00:00.000000000\",\"2014-08-02T00:00:00.000000000\",\"2014-08-03T00:00:00.000000000\",\"2014-08-04T00:00:00.000000000\",\"2014-08-05T00:00:00.000000000\",\"2014-08-06T00:00:00.000000000\",\"2014-08-07T00:00:00.000000000\",\"2014-08-08T00:00:00.000000000\",\"2014-08-09T00:00:00.000000000\",\"2014-08-10T00:00:00.000000000\",\"2014-08-11T00:00:00.000000000\",\"2014-08-12T00:00:00.000000000\",\"2014-08-13T00:00:00.000000000\",\"2014-08-14T00:00:00.000000000\",\"2014-08-15T00:00:00.000000000\",\"2014-08-16T00:00:00.000000000\",\"2014-08-17T00:00:00.000000000\",\"2014-08-18T00:00:00.000000000\",\"2014-08-19T00:00:00.000000000\",\"2014-08-20T00:00:00.000000000\",\"2014-08-21T00:00:00.000000000\",\"2014-08-22T00:00:00.000000000\",\"2014-08-23T00:00:00.000000000\",\"2014-08-24T00:00:00.000000000\",\"2014-08-25T00:00:00.000000000\",\"2014-08-26T00:00:00.000000000\",\"2014-08-27T00:00:00.000000000\",\"2014-08-28T00:00:00.000000000\",\"2014-08-29T00:00:00.000000000\",\"2014-08-30T00:00:00.000000000\",\"2014-08-31T00:00:00.000000000\",\"2014-09-01T00:00:00.000000000\",\"2014-09-02T00:00:00.000000000\",\"2014-09-03T00:00:00.000000000\",\"2014-09-04T00:00:00.000000000\",\"2014-09-05T00:00:00.000000000\",\"2014-09-06T00:00:00.000000000\",\"2014-09-07T00:00:00.000000000\",\"2014-09-08T00:00:00.000000000\",\"2014-09-09T00:00:00.000000000\",\"2014-09-10T00:00:00.000000000\",\"2014-09-11T00:00:00.000000000\",\"2014-09-12T00:00:00.000000000\",\"2014-09-13T00:00:00.000000000\",\"2014-09-14T00:00:00.000000000\",\"2014-09-15T00:00:00.000000000\",\"2014-09-16T00:00:00.000000000\",\"2014-09-17T00:00:00.000000000\",\"2014-09-18T00:00:00.000000000\",\"2014-09-19T00:00:00.000000000\",\"2014-09-20T00:00:00.000000000\",\"2014-09-21T00:00:00.000000000\",\"2014-09-22T00:00:00.000000000\",\"2014-09-23T00:00:00.000000000\",\"2014-09-24T00:00:00.000000000\",\"2014-09-25T00:00:00.000000000\",\"2014-09-26T00:00:00.000000000\",\"2014-09-27T00:00:00.000000000\",\"2014-09-28T00:00:00.000000000\",\"2014-09-29T00:00:00.000000000\",\"2014-09-30T00:00:00.000000000\",\"2014-10-01T00:00:00.000000000\",\"2014-10-02T00:00:00.000000000\",\"2014-10-03T00:00:00.000000000\",\"2014-10-04T00:00:00.000000000\",\"2014-10-05T00:00:00.000000000\",\"2014-10-06T00:00:00.000000000\",\"2014-10-07T00:00:00.000000000\",\"2014-10-08T00:00:00.000000000\",\"2014-10-09T00:00:00.000000000\",\"2014-10-10T00:00:00.000000000\",\"2014-10-11T00:00:00.000000000\",\"2014-10-12T00:00:00.000000000\",\"2014-10-13T00:00:00.000000000\",\"2014-10-14T00:00:00.000000000\",\"2014-10-15T00:00:00.000000000\",\"2014-10-16T00:00:00.000000000\",\"2014-10-17T00:00:00.000000000\",\"2014-10-18T00:00:00.000000000\",\"2014-10-19T00:00:00.000000000\",\"2014-10-20T00:00:00.000000000\",\"2014-10-21T00:00:00.000000000\",\"2014-10-22T00:00:00.000000000\",\"2014-10-23T00:00:00.000000000\",\"2014-10-24T00:00:00.000000000\",\"2014-10-25T00:00:00.000000000\",\"2014-10-26T00:00:00.000000000\",\"2014-10-27T00:00:00.000000000\",\"2014-10-28T00:00:00.000000000\",\"2014-10-29T00:00:00.000000000\",\"2014-10-30T00:00:00.000000000\",\"2014-10-31T00:00:00.000000000\",\"2014-11-01T00:00:00.000000000\",\"2014-11-02T00:00:00.000000000\",\"2014-11-03T00:00:00.000000000\",\"2014-11-04T00:00:00.000000000\",\"2014-11-05T00:00:00.000000000\",\"2014-11-06T00:00:00.000000000\",\"2014-11-07T00:00:00.000000000\",\"2014-11-08T00:00:00.000000000\",\"2014-11-09T00:00:00.000000000\",\"2014-11-10T00:00:00.000000000\",\"2014-11-11T00:00:00.000000000\",\"2014-11-12T00:00:00.000000000\",\"2014-11-13T00:00:00.000000000\",\"2014-11-14T00:00:00.000000000\",\"2014-11-15T00:00:00.000000000\",\"2014-11-16T00:00:00.000000000\",\"2014-11-17T00:00:00.000000000\",\"2014-11-18T00:00:00.000000000\",\"2014-11-19T00:00:00.000000000\",\"2014-11-20T00:00:00.000000000\",\"2014-11-21T00:00:00.000000000\",\"2014-11-22T00:00:00.000000000\",\"2014-11-23T00:00:00.000000000\",\"2014-11-24T00:00:00.000000000\",\"2014-11-25T00:00:00.000000000\",\"2014-11-26T00:00:00.000000000\",\"2014-11-27T00:00:00.000000000\",\"2014-11-28T00:00:00.000000000\",\"2014-11-29T00:00:00.000000000\",\"2014-11-30T00:00:00.000000000\",\"2014-12-01T00:00:00.000000000\",\"2014-12-02T00:00:00.000000000\",\"2014-12-03T00:00:00.000000000\",\"2014-12-04T00:00:00.000000000\",\"2014-12-05T00:00:00.000000000\",\"2014-12-06T00:00:00.000000000\",\"2014-12-07T00:00:00.000000000\",\"2014-12-08T00:00:00.000000000\",\"2014-12-09T00:00:00.000000000\",\"2014-12-10T00:00:00.000000000\",\"2014-12-11T00:00:00.000000000\",\"2014-12-12T00:00:00.000000000\",\"2014-12-13T00:00:00.000000000\",\"2014-12-14T00:00:00.000000000\",\"2014-12-15T00:00:00.000000000\",\"2014-12-16T00:00:00.000000000\",\"2014-12-17T00:00:00.000000000\",\"2014-12-18T00:00:00.000000000\",\"2014-12-19T00:00:00.000000000\",\"2014-12-20T00:00:00.000000000\",\"2014-12-21T00:00:00.000000000\",\"2014-12-22T00:00:00.000000000\",\"2014-12-23T00:00:00.000000000\",\"2014-12-24T00:00:00.000000000\",\"2014-12-25T00:00:00.000000000\",\"2014-12-26T00:00:00.000000000\",\"2014-12-27T00:00:00.000000000\",\"2014-12-28T00:00:00.000000000\",\"2014-12-29T00:00:00.000000000\",\"2014-12-30T00:00:00.000000000\",\"2014-12-31T00:00:00.000000000\",\"2015-01-01T00:00:00.000000000\",\"2015-01-02T00:00:00.000000000\",\"2015-01-03T00:00:00.000000000\",\"2015-01-04T00:00:00.000000000\",\"2015-01-05T00:00:00.000000000\",\"2015-01-06T00:00:00.000000000\",\"2015-01-07T00:00:00.000000000\",\"2015-01-08T00:00:00.000000000\",\"2015-01-09T00:00:00.000000000\",\"2015-01-10T00:00:00.000000000\",\"2015-01-11T00:00:00.000000000\",\"2015-01-12T00:00:00.000000000\",\"2015-01-13T00:00:00.000000000\",\"2015-01-14T00:00:00.000000000\",\"2015-01-15T00:00:00.000000000\",\"2015-01-16T00:00:00.000000000\",\"2015-01-17T00:00:00.000000000\",\"2015-01-18T00:00:00.000000000\",\"2015-01-19T00:00:00.000000000\",\"2015-01-20T00:00:00.000000000\",\"2015-01-21T00:00:00.000000000\",\"2015-01-22T00:00:00.000000000\",\"2015-01-23T00:00:00.000000000\",\"2015-01-24T00:00:00.000000000\",\"2015-01-25T00:00:00.000000000\",\"2015-01-26T00:00:00.000000000\",\"2015-01-27T00:00:00.000000000\",\"2015-01-28T00:00:00.000000000\",\"2015-01-29T00:00:00.000000000\",\"2015-01-30T00:00:00.000000000\",\"2015-01-31T00:00:00.000000000\",\"2015-02-01T00:00:00.000000000\",\"2015-02-02T00:00:00.000000000\",\"2015-02-03T00:00:00.000000000\",\"2015-02-04T00:00:00.000000000\",\"2015-02-05T00:00:00.000000000\",\"2015-02-06T00:00:00.000000000\",\"2015-02-07T00:00:00.000000000\",\"2015-02-08T00:00:00.000000000\",\"2015-02-09T00:00:00.000000000\",\"2015-02-10T00:00:00.000000000\",\"2015-02-11T00:00:00.000000000\",\"2015-02-12T00:00:00.000000000\",\"2015-02-13T00:00:00.000000000\",\"2015-02-14T00:00:00.000000000\",\"2015-02-15T00:00:00.000000000\",\"2015-02-16T00:00:00.000000000\",\"2015-02-17T00:00:00.000000000\",\"2015-02-18T00:00:00.000000000\",\"2015-02-19T00:00:00.000000000\",\"2015-02-20T00:00:00.000000000\",\"2015-02-21T00:00:00.000000000\",\"2015-02-22T00:00:00.000000000\",\"2015-02-23T00:00:00.000000000\",\"2015-02-24T00:00:00.000000000\",\"2015-02-25T00:00:00.000000000\",\"2015-02-26T00:00:00.000000000\",\"2015-02-27T00:00:00.000000000\",\"2015-02-28T00:00:00.000000000\",\"2015-03-01T00:00:00.000000000\",\"2015-03-02T00:00:00.000000000\",\"2015-03-03T00:00:00.000000000\",\"2015-03-04T00:00:00.000000000\",\"2015-03-05T00:00:00.000000000\",\"2015-03-06T00:00:00.000000000\",\"2015-03-07T00:00:00.000000000\",\"2015-03-08T00:00:00.000000000\",\"2015-03-09T00:00:00.000000000\",\"2015-03-10T00:00:00.000000000\",\"2015-03-11T00:00:00.000000000\",\"2015-03-12T00:00:00.000000000\",\"2015-03-13T00:00:00.000000000\",\"2015-03-14T00:00:00.000000000\",\"2015-03-15T00:00:00.000000000\",\"2015-03-16T00:00:00.000000000\",\"2015-03-17T00:00:00.000000000\",\"2015-03-18T00:00:00.000000000\",\"2015-03-19T00:00:00.000000000\",\"2015-03-20T00:00:00.000000000\",\"2015-03-21T00:00:00.000000000\",\"2015-03-22T00:00:00.000000000\",\"2015-03-23T00:00:00.000000000\",\"2015-03-24T00:00:00.000000000\",\"2015-03-25T00:00:00.000000000\",\"2015-03-26T00:00:00.000000000\",\"2015-03-27T00:00:00.000000000\",\"2015-03-28T00:00:00.000000000\",\"2015-03-29T00:00:00.000000000\",\"2015-03-30T00:00:00.000000000\",\"2015-03-31T00:00:00.000000000\",\"2015-04-01T00:00:00.000000000\",\"2015-04-02T00:00:00.000000000\",\"2015-04-03T00:00:00.000000000\",\"2015-04-04T00:00:00.000000000\",\"2015-04-05T00:00:00.000000000\",\"2015-04-06T00:00:00.000000000\",\"2015-04-07T00:00:00.000000000\",\"2015-04-08T00:00:00.000000000\",\"2015-04-09T00:00:00.000000000\",\"2015-04-10T00:00:00.000000000\",\"2015-04-11T00:00:00.000000000\",\"2015-04-12T00:00:00.000000000\",\"2015-04-13T00:00:00.000000000\",\"2015-04-14T00:00:00.000000000\",\"2015-04-15T00:00:00.000000000\",\"2015-04-16T00:00:00.000000000\",\"2015-04-17T00:00:00.000000000\",\"2015-04-18T00:00:00.000000000\",\"2015-04-19T00:00:00.000000000\",\"2015-04-20T00:00:00.000000000\",\"2015-04-21T00:00:00.000000000\",\"2015-04-22T00:00:00.000000000\",\"2015-04-23T00:00:00.000000000\",\"2015-04-24T00:00:00.000000000\",\"2015-04-25T00:00:00.000000000\",\"2015-04-26T00:00:00.000000000\",\"2015-04-27T00:00:00.000000000\",\"2015-04-28T00:00:00.000000000\",\"2015-04-29T00:00:00.000000000\",\"2015-04-30T00:00:00.000000000\",\"2015-05-01T00:00:00.000000000\",\"2015-05-02T00:00:00.000000000\",\"2015-05-03T00:00:00.000000000\",\"2015-05-04T00:00:00.000000000\",\"2015-05-05T00:00:00.000000000\",\"2015-05-06T00:00:00.000000000\",\"2015-05-07T00:00:00.000000000\",\"2015-05-08T00:00:00.000000000\",\"2015-05-09T00:00:00.000000000\",\"2015-05-10T00:00:00.000000000\",\"2015-05-11T00:00:00.000000000\",\"2015-05-12T00:00:00.000000000\",\"2015-05-13T00:00:00.000000000\",\"2015-05-14T00:00:00.000000000\",\"2015-05-15T00:00:00.000000000\",\"2015-05-16T00:00:00.000000000\",\"2015-05-17T00:00:00.000000000\",\"2015-05-18T00:00:00.000000000\",\"2015-05-19T00:00:00.000000000\",\"2015-05-20T00:00:00.000000000\",\"2015-05-21T00:00:00.000000000\",\"2015-05-22T00:00:00.000000000\",\"2015-05-23T00:00:00.000000000\",\"2015-05-24T00:00:00.000000000\",\"2015-05-25T00:00:00.000000000\",\"2015-05-26T00:00:00.000000000\",\"2015-05-27T00:00:00.000000000\",\"2015-05-28T00:00:00.000000000\",\"2015-05-29T00:00:00.000000000\",\"2015-05-30T00:00:00.000000000\",\"2015-05-31T00:00:00.000000000\",\"2015-06-01T00:00:00.000000000\",\"2015-06-02T00:00:00.000000000\",\"2015-06-03T00:00:00.000000000\",\"2015-06-04T00:00:00.000000000\",\"2015-06-05T00:00:00.000000000\",\"2015-06-06T00:00:00.000000000\",\"2015-06-07T00:00:00.000000000\",\"2015-06-08T00:00:00.000000000\",\"2015-06-09T00:00:00.000000000\",\"2015-06-10T00:00:00.000000000\",\"2015-06-11T00:00:00.000000000\",\"2015-06-12T00:00:00.000000000\",\"2015-06-13T00:00:00.000000000\",\"2015-06-14T00:00:00.000000000\",\"2015-06-15T00:00:00.000000000\",\"2015-06-16T00:00:00.000000000\",\"2015-06-17T00:00:00.000000000\",\"2015-06-18T00:00:00.000000000\",\"2015-06-19T00:00:00.000000000\",\"2015-06-20T00:00:00.000000000\",\"2015-06-21T00:00:00.000000000\",\"2015-06-22T00:00:00.000000000\",\"2015-06-23T00:00:00.000000000\",\"2015-06-24T00:00:00.000000000\",\"2015-06-25T00:00:00.000000000\",\"2015-06-26T00:00:00.000000000\",\"2015-06-27T00:00:00.000000000\",\"2015-06-28T00:00:00.000000000\",\"2015-06-29T00:00:00.000000000\",\"2015-06-30T00:00:00.000000000\",\"2015-07-01T00:00:00.000000000\",\"2015-07-02T00:00:00.000000000\",\"2015-07-03T00:00:00.000000000\",\"2015-07-04T00:00:00.000000000\",\"2015-07-05T00:00:00.000000000\",\"2015-07-06T00:00:00.000000000\",\"2015-07-07T00:00:00.000000000\",\"2015-07-08T00:00:00.000000000\",\"2015-07-09T00:00:00.000000000\",\"2015-07-10T00:00:00.000000000\",\"2015-07-11T00:00:00.000000000\",\"2015-07-12T00:00:00.000000000\",\"2015-07-13T00:00:00.000000000\",\"2015-07-14T00:00:00.000000000\",\"2015-07-15T00:00:00.000000000\",\"2015-07-16T00:00:00.000000000\",\"2015-07-17T00:00:00.000000000\",\"2015-07-18T00:00:00.000000000\",\"2015-07-19T00:00:00.000000000\",\"2015-07-20T00:00:00.000000000\",\"2015-07-21T00:00:00.000000000\",\"2015-07-22T00:00:00.000000000\",\"2015-07-23T00:00:00.000000000\",\"2015-07-24T00:00:00.000000000\",\"2015-07-25T00:00:00.000000000\",\"2015-07-26T00:00:00.000000000\",\"2015-07-27T00:00:00.000000000\",\"2015-07-28T00:00:00.000000000\",\"2015-07-29T00:00:00.000000000\",\"2015-07-30T00:00:00.000000000\",\"2015-07-31T00:00:00.000000000\",\"2015-08-01T00:00:00.000000000\",\"2015-08-02T00:00:00.000000000\",\"2015-08-03T00:00:00.000000000\",\"2015-08-04T00:00:00.000000000\",\"2015-08-05T00:00:00.000000000\",\"2015-08-06T00:00:00.000000000\",\"2015-08-07T00:00:00.000000000\",\"2015-08-08T00:00:00.000000000\",\"2015-08-09T00:00:00.000000000\",\"2015-08-10T00:00:00.000000000\",\"2015-08-11T00:00:00.000000000\",\"2015-08-12T00:00:00.000000000\",\"2015-08-13T00:00:00.000000000\",\"2015-08-14T00:00:00.000000000\",\"2015-08-15T00:00:00.000000000\",\"2015-08-16T00:00:00.000000000\",\"2015-08-17T00:00:00.000000000\",\"2015-08-18T00:00:00.000000000\",\"2015-08-19T00:00:00.000000000\",\"2015-08-20T00:00:00.000000000\",\"2015-08-21T00:00:00.000000000\",\"2015-08-22T00:00:00.000000000\",\"2015-08-23T00:00:00.000000000\",\"2015-08-24T00:00:00.000000000\",\"2015-08-25T00:00:00.000000000\",\"2015-08-26T00:00:00.000000000\",\"2015-08-27T00:00:00.000000000\",\"2015-08-28T00:00:00.000000000\",\"2015-08-29T00:00:00.000000000\",\"2015-08-30T00:00:00.000000000\",\"2015-08-31T00:00:00.000000000\",\"2015-09-01T00:00:00.000000000\",\"2015-09-02T00:00:00.000000000\",\"2015-09-03T00:00:00.000000000\",\"2015-09-04T00:00:00.000000000\",\"2015-09-05T00:00:00.000000000\",\"2015-09-06T00:00:00.000000000\",\"2015-09-07T00:00:00.000000000\",\"2015-09-08T00:00:00.000000000\",\"2015-09-09T00:00:00.000000000\",\"2015-09-10T00:00:00.000000000\",\"2015-09-11T00:00:00.000000000\",\"2015-09-12T00:00:00.000000000\",\"2015-09-13T00:00:00.000000000\",\"2015-09-14T00:00:00.000000000\",\"2015-09-15T00:00:00.000000000\",\"2015-09-16T00:00:00.000000000\",\"2015-09-17T00:00:00.000000000\",\"2015-09-18T00:00:00.000000000\",\"2015-09-19T00:00:00.000000000\",\"2015-09-20T00:00:00.000000000\",\"2015-09-21T00:00:00.000000000\",\"2015-09-22T00:00:00.000000000\",\"2015-09-23T00:00:00.000000000\",\"2015-09-24T00:00:00.000000000\",\"2015-09-25T00:00:00.000000000\",\"2015-09-26T00:00:00.000000000\",\"2015-09-27T00:00:00.000000000\",\"2015-09-28T00:00:00.000000000\",\"2015-09-29T00:00:00.000000000\",\"2015-09-30T00:00:00.000000000\",\"2015-10-01T00:00:00.000000000\",\"2015-10-02T00:00:00.000000000\",\"2015-10-03T00:00:00.000000000\",\"2015-10-04T00:00:00.000000000\",\"2015-10-05T00:00:00.000000000\",\"2015-10-06T00:00:00.000000000\",\"2015-10-07T00:00:00.000000000\",\"2015-10-08T00:00:00.000000000\",\"2015-10-09T00:00:00.000000000\",\"2015-10-10T00:00:00.000000000\",\"2015-10-11T00:00:00.000000000\",\"2015-10-12T00:00:00.000000000\",\"2015-10-13T00:00:00.000000000\",\"2015-10-14T00:00:00.000000000\",\"2015-10-15T00:00:00.000000000\",\"2015-10-16T00:00:00.000000000\",\"2015-10-17T00:00:00.000000000\",\"2015-10-18T00:00:00.000000000\",\"2015-10-19T00:00:00.000000000\",\"2015-10-20T00:00:00.000000000\",\"2015-10-21T00:00:00.000000000\",\"2015-10-22T00:00:00.000000000\",\"2015-10-23T00:00:00.000000000\",\"2015-10-24T00:00:00.000000000\",\"2015-10-25T00:00:00.000000000\",\"2015-10-26T00:00:00.000000000\",\"2015-10-27T00:00:00.000000000\",\"2015-10-28T00:00:00.000000000\",\"2015-10-29T00:00:00.000000000\",\"2015-10-30T00:00:00.000000000\",\"2015-10-31T00:00:00.000000000\",\"2015-11-01T00:00:00.000000000\",\"2015-11-02T00:00:00.000000000\",\"2015-11-03T00:00:00.000000000\",\"2015-11-04T00:00:00.000000000\",\"2015-11-05T00:00:00.000000000\",\"2015-11-06T00:00:00.000000000\",\"2015-11-07T00:00:00.000000000\",\"2015-11-08T00:00:00.000000000\",\"2015-11-09T00:00:00.000000000\",\"2015-11-10T00:00:00.000000000\",\"2015-11-11T00:00:00.000000000\",\"2015-11-12T00:00:00.000000000\",\"2015-11-13T00:00:00.000000000\",\"2015-11-14T00:00:00.000000000\",\"2015-11-15T00:00:00.000000000\",\"2015-11-16T00:00:00.000000000\",\"2015-11-17T00:00:00.000000000\",\"2015-11-18T00:00:00.000000000\",\"2015-11-19T00:00:00.000000000\",\"2015-11-20T00:00:00.000000000\",\"2015-11-21T00:00:00.000000000\",\"2015-11-22T00:00:00.000000000\",\"2015-11-23T00:00:00.000000000\",\"2015-11-24T00:00:00.000000000\",\"2015-11-25T00:00:00.000000000\",\"2015-11-26T00:00:00.000000000\",\"2015-11-27T00:00:00.000000000\",\"2015-11-28T00:00:00.000000000\",\"2015-11-29T00:00:00.000000000\",\"2015-11-30T00:00:00.000000000\",\"2015-12-01T00:00:00.000000000\",\"2015-12-02T00:00:00.000000000\",\"2015-12-03T00:00:00.000000000\",\"2015-12-04T00:00:00.000000000\",\"2015-12-05T00:00:00.000000000\",\"2015-12-06T00:00:00.000000000\",\"2015-12-07T00:00:00.000000000\",\"2015-12-08T00:00:00.000000000\",\"2015-12-09T00:00:00.000000000\",\"2015-12-10T00:00:00.000000000\",\"2015-12-11T00:00:00.000000000\",\"2015-12-12T00:00:00.000000000\",\"2015-12-13T00:00:00.000000000\",\"2015-12-14T00:00:00.000000000\",\"2015-12-15T00:00:00.000000000\",\"2015-12-16T00:00:00.000000000\",\"2015-12-17T00:00:00.000000000\",\"2015-12-18T00:00:00.000000000\",\"2015-12-19T00:00:00.000000000\",\"2015-12-20T00:00:00.000000000\",\"2015-12-21T00:00:00.000000000\",\"2015-12-22T00:00:00.000000000\",\"2015-12-23T00:00:00.000000000\",\"2015-12-24T00:00:00.000000000\",\"2015-12-25T00:00:00.000000000\",\"2015-12-26T00:00:00.000000000\",\"2015-12-27T00:00:00.000000000\",\"2015-12-28T00:00:00.000000000\",\"2015-12-29T00:00:00.000000000\",\"2015-12-30T00:00:00.000000000\",\"2015-12-31T00:00:00.000000000\",\"2016-01-01T00:00:00.000000000\",\"2016-01-02T00:00:00.000000000\",\"2016-01-03T00:00:00.000000000\",\"2016-01-04T00:00:00.000000000\",\"2016-01-05T00:00:00.000000000\",\"2016-01-06T00:00:00.000000000\",\"2016-01-07T00:00:00.000000000\",\"2016-01-08T00:00:00.000000000\",\"2016-01-09T00:00:00.000000000\",\"2016-01-10T00:00:00.000000000\",\"2016-01-11T00:00:00.000000000\",\"2016-01-12T00:00:00.000000000\",\"2016-01-13T00:00:00.000000000\",\"2016-01-14T00:00:00.000000000\",\"2016-01-15T00:00:00.000000000\",\"2016-01-16T00:00:00.000000000\",\"2016-01-17T00:00:00.000000000\",\"2016-01-18T00:00:00.000000000\",\"2016-01-19T00:00:00.000000000\",\"2016-01-20T00:00:00.000000000\",\"2016-01-21T00:00:00.000000000\",\"2016-01-22T00:00:00.000000000\",\"2016-01-23T00:00:00.000000000\",\"2016-01-24T00:00:00.000000000\",\"2016-01-25T00:00:00.000000000\",\"2016-01-26T00:00:00.000000000\",\"2016-01-27T00:00:00.000000000\",\"2016-01-28T00:00:00.000000000\",\"2016-01-29T00:00:00.000000000\",\"2016-01-30T00:00:00.000000000\",\"2016-01-31T00:00:00.000000000\",\"2016-02-01T00:00:00.000000000\",\"2016-02-02T00:00:00.000000000\",\"2016-02-03T00:00:00.000000000\",\"2016-02-04T00:00:00.000000000\",\"2016-02-05T00:00:00.000000000\",\"2016-02-06T00:00:00.000000000\",\"2016-02-07T00:00:00.000000000\",\"2016-02-08T00:00:00.000000000\",\"2016-02-09T00:00:00.000000000\",\"2016-02-10T00:00:00.000000000\",\"2016-02-11T00:00:00.000000000\",\"2016-02-12T00:00:00.000000000\",\"2016-02-13T00:00:00.000000000\",\"2016-02-14T00:00:00.000000000\",\"2016-02-15T00:00:00.000000000\",\"2016-02-16T00:00:00.000000000\",\"2016-02-17T00:00:00.000000000\",\"2016-02-18T00:00:00.000000000\",\"2016-02-19T00:00:00.000000000\",\"2016-02-20T00:00:00.000000000\",\"2016-02-21T00:00:00.000000000\",\"2016-02-22T00:00:00.000000000\",\"2016-02-23T00:00:00.000000000\",\"2016-02-24T00:00:00.000000000\",\"2016-02-25T00:00:00.000000000\",\"2016-02-26T00:00:00.000000000\",\"2016-02-27T00:00:00.000000000\",\"2016-02-28T00:00:00.000000000\",\"2016-02-29T00:00:00.000000000\",\"2016-03-01T00:00:00.000000000\",\"2016-03-02T00:00:00.000000000\",\"2016-03-03T00:00:00.000000000\",\"2016-03-04T00:00:00.000000000\",\"2016-03-05T00:00:00.000000000\",\"2016-03-06T00:00:00.000000000\",\"2016-03-07T00:00:00.000000000\",\"2016-03-08T00:00:00.000000000\",\"2016-03-09T00:00:00.000000000\",\"2016-03-10T00:00:00.000000000\",\"2016-03-11T00:00:00.000000000\",\"2016-03-12T00:00:00.000000000\",\"2016-03-13T00:00:00.000000000\",\"2016-03-14T00:00:00.000000000\",\"2016-03-15T00:00:00.000000000\",\"2016-03-16T00:00:00.000000000\",\"2016-03-17T00:00:00.000000000\",\"2016-03-18T00:00:00.000000000\",\"2016-03-19T00:00:00.000000000\",\"2016-03-20T00:00:00.000000000\",\"2016-03-21T00:00:00.000000000\",\"2016-03-22T00:00:00.000000000\",\"2016-03-23T00:00:00.000000000\",\"2016-03-24T00:00:00.000000000\",\"2016-03-25T00:00:00.000000000\",\"2016-03-26T00:00:00.000000000\",\"2016-03-27T00:00:00.000000000\",\"2016-03-28T00:00:00.000000000\",\"2016-03-29T00:00:00.000000000\",\"2016-03-30T00:00:00.000000000\",\"2016-03-31T00:00:00.000000000\",\"2016-04-01T00:00:00.000000000\",\"2016-04-02T00:00:00.000000000\",\"2016-04-03T00:00:00.000000000\",\"2016-04-04T00:00:00.000000000\",\"2016-04-05T00:00:00.000000000\",\"2016-04-06T00:00:00.000000000\",\"2016-04-07T00:00:00.000000000\",\"2016-04-08T00:00:00.000000000\",\"2016-04-09T00:00:00.000000000\",\"2016-04-10T00:00:00.000000000\",\"2016-04-11T00:00:00.000000000\",\"2016-04-12T00:00:00.000000000\",\"2016-04-13T00:00:00.000000000\",\"2016-04-14T00:00:00.000000000\",\"2016-04-15T00:00:00.000000000\",\"2016-04-16T00:00:00.000000000\",\"2016-04-17T00:00:00.000000000\",\"2016-04-18T00:00:00.000000000\",\"2016-04-19T00:00:00.000000000\",\"2016-04-20T00:00:00.000000000\",\"2016-04-21T00:00:00.000000000\",\"2016-04-22T00:00:00.000000000\",\"2016-04-23T00:00:00.000000000\",\"2016-04-24T00:00:00.000000000\",\"2016-04-25T00:00:00.000000000\",\"2016-04-26T00:00:00.000000000\",\"2016-04-27T00:00:00.000000000\",\"2016-04-28T00:00:00.000000000\",\"2016-04-29T00:00:00.000000000\",\"2016-04-30T00:00:00.000000000\",\"2016-05-01T00:00:00.000000000\",\"2016-05-02T00:00:00.000000000\",\"2016-05-03T00:00:00.000000000\",\"2016-05-04T00:00:00.000000000\",\"2016-05-05T00:00:00.000000000\",\"2016-05-06T00:00:00.000000000\",\"2016-05-07T00:00:00.000000000\",\"2016-05-08T00:00:00.000000000\",\"2016-05-09T00:00:00.000000000\",\"2016-05-10T00:00:00.000000000\",\"2016-05-11T00:00:00.000000000\",\"2016-05-12T00:00:00.000000000\",\"2016-05-13T00:00:00.000000000\",\"2016-05-14T00:00:00.000000000\",\"2016-05-15T00:00:00.000000000\",\"2016-05-16T00:00:00.000000000\",\"2016-05-17T00:00:00.000000000\",\"2016-05-18T00:00:00.000000000\",\"2016-05-19T00:00:00.000000000\",\"2016-05-20T00:00:00.000000000\",\"2016-05-21T00:00:00.000000000\",\"2016-05-22T00:00:00.000000000\",\"2016-05-23T00:00:00.000000000\",\"2016-05-24T00:00:00.000000000\",\"2016-05-25T00:00:00.000000000\",\"2016-05-26T00:00:00.000000000\",\"2016-05-27T00:00:00.000000000\",\"2016-05-28T00:00:00.000000000\",\"2016-05-29T00:00:00.000000000\",\"2016-05-30T00:00:00.000000000\",\"2016-05-31T00:00:00.000000000\",\"2016-06-01T00:00:00.000000000\",\"2016-06-02T00:00:00.000000000\",\"2016-06-03T00:00:00.000000000\",\"2016-06-04T00:00:00.000000000\",\"2016-06-05T00:00:00.000000000\",\"2016-06-06T00:00:00.000000000\",\"2016-06-07T00:00:00.000000000\",\"2016-06-08T00:00:00.000000000\",\"2016-06-09T00:00:00.000000000\",\"2016-06-10T00:00:00.000000000\",\"2016-06-11T00:00:00.000000000\",\"2016-06-12T00:00:00.000000000\",\"2016-06-13T00:00:00.000000000\",\"2016-06-14T00:00:00.000000000\",\"2016-06-15T00:00:00.000000000\",\"2016-06-16T00:00:00.000000000\",\"2016-06-17T00:00:00.000000000\",\"2016-06-18T00:00:00.000000000\",\"2016-06-19T00:00:00.000000000\",\"2016-06-20T00:00:00.000000000\",\"2016-06-21T00:00:00.000000000\",\"2016-06-22T00:00:00.000000000\",\"2016-06-23T00:00:00.000000000\",\"2016-06-24T00:00:00.000000000\",\"2016-06-25T00:00:00.000000000\",\"2016-06-26T00:00:00.000000000\",\"2016-06-27T00:00:00.000000000\",\"2016-06-28T00:00:00.000000000\",\"2016-06-29T00:00:00.000000000\",\"2016-06-30T00:00:00.000000000\",\"2016-07-01T00:00:00.000000000\",\"2016-07-02T00:00:00.000000000\",\"2016-07-03T00:00:00.000000000\",\"2016-07-04T00:00:00.000000000\",\"2016-07-05T00:00:00.000000000\",\"2016-07-06T00:00:00.000000000\",\"2016-07-07T00:00:00.000000000\",\"2016-07-08T00:00:00.000000000\",\"2016-07-09T00:00:00.000000000\",\"2016-07-10T00:00:00.000000000\",\"2016-07-11T00:00:00.000000000\",\"2016-07-12T00:00:00.000000000\",\"2016-07-13T00:00:00.000000000\",\"2016-07-14T00:00:00.000000000\",\"2016-07-15T00:00:00.000000000\",\"2016-07-16T00:00:00.000000000\",\"2016-07-17T00:00:00.000000000\",\"2016-07-18T00:00:00.000000000\",\"2016-07-19T00:00:00.000000000\",\"2016-07-20T00:00:00.000000000\",\"2016-07-21T00:00:00.000000000\",\"2016-07-22T00:00:00.000000000\",\"2016-07-23T00:00:00.000000000\",\"2016-07-24T00:00:00.000000000\",\"2016-07-25T00:00:00.000000000\",\"2016-07-26T00:00:00.000000000\",\"2016-07-27T00:00:00.000000000\",\"2016-07-28T00:00:00.000000000\",\"2016-07-29T00:00:00.000000000\",\"2016-07-30T00:00:00.000000000\",\"2016-07-31T00:00:00.000000000\",\"2016-08-01T00:00:00.000000000\",\"2016-08-02T00:00:00.000000000\",\"2016-08-03T00:00:00.000000000\",\"2016-08-04T00:00:00.000000000\",\"2016-08-05T00:00:00.000000000\",\"2016-08-06T00:00:00.000000000\",\"2016-08-07T00:00:00.000000000\",\"2016-08-08T00:00:00.000000000\",\"2016-08-09T00:00:00.000000000\",\"2016-08-10T00:00:00.000000000\",\"2016-08-11T00:00:00.000000000\",\"2016-08-12T00:00:00.000000000\",\"2016-08-13T00:00:00.000000000\",\"2016-08-14T00:00:00.000000000\",\"2016-08-15T00:00:00.000000000\",\"2016-08-16T00:00:00.000000000\",\"2016-08-17T00:00:00.000000000\",\"2016-08-18T00:00:00.000000000\",\"2016-08-19T00:00:00.000000000\",\"2016-08-20T00:00:00.000000000\",\"2016-08-21T00:00:00.000000000\",\"2016-08-22T00:00:00.000000000\",\"2016-08-23T00:00:00.000000000\",\"2016-08-24T00:00:00.000000000\",\"2016-08-25T00:00:00.000000000\",\"2016-08-26T00:00:00.000000000\",\"2016-08-27T00:00:00.000000000\",\"2016-08-28T00:00:00.000000000\",\"2016-08-29T00:00:00.000000000\",\"2016-08-30T00:00:00.000000000\",\"2016-08-31T00:00:00.000000000\",\"2016-09-01T00:00:00.000000000\",\"2016-09-02T00:00:00.000000000\",\"2016-09-03T00:00:00.000000000\",\"2016-09-04T00:00:00.000000000\",\"2016-09-05T00:00:00.000000000\",\"2016-09-06T00:00:00.000000000\",\"2016-09-07T00:00:00.000000000\",\"2016-09-08T00:00:00.000000000\",\"2016-09-09T00:00:00.000000000\",\"2016-09-10T00:00:00.000000000\",\"2016-09-11T00:00:00.000000000\",\"2016-09-12T00:00:00.000000000\",\"2016-09-13T00:00:00.000000000\",\"2016-09-14T00:00:00.000000000\",\"2016-09-15T00:00:00.000000000\",\"2016-09-16T00:00:00.000000000\",\"2016-09-17T00:00:00.000000000\",\"2016-09-18T00:00:00.000000000\",\"2016-09-19T00:00:00.000000000\",\"2016-09-20T00:00:00.000000000\",\"2016-09-21T00:00:00.000000000\",\"2016-09-22T00:00:00.000000000\",\"2016-09-23T00:00:00.000000000\",\"2016-09-24T00:00:00.000000000\",\"2016-09-25T00:00:00.000000000\",\"2016-09-26T00:00:00.000000000\",\"2016-09-27T00:00:00.000000000\",\"2016-09-28T00:00:00.000000000\",\"2016-09-29T00:00:00.000000000\",\"2016-09-30T00:00:00.000000000\",\"2016-10-01T00:00:00.000000000\",\"2016-10-02T00:00:00.000000000\",\"2016-10-03T00:00:00.000000000\",\"2016-10-04T00:00:00.000000000\",\"2016-10-05T00:00:00.000000000\",\"2016-10-06T00:00:00.000000000\",\"2016-10-07T00:00:00.000000000\",\"2016-10-08T00:00:00.000000000\",\"2016-10-09T00:00:00.000000000\",\"2016-10-10T00:00:00.000000000\",\"2016-10-11T00:00:00.000000000\",\"2016-10-12T00:00:00.000000000\",\"2016-10-13T00:00:00.000000000\",\"2016-10-14T00:00:00.000000000\",\"2016-10-15T00:00:00.000000000\",\"2016-10-16T00:00:00.000000000\",\"2016-10-17T00:00:00.000000000\",\"2016-10-18T00:00:00.000000000\",\"2016-10-19T00:00:00.000000000\",\"2016-10-20T00:00:00.000000000\",\"2016-10-21T00:00:00.000000000\",\"2016-10-22T00:00:00.000000000\",\"2016-10-23T00:00:00.000000000\",\"2016-10-24T00:00:00.000000000\",\"2016-10-25T00:00:00.000000000\",\"2016-10-26T00:00:00.000000000\",\"2016-10-27T00:00:00.000000000\",\"2016-10-28T00:00:00.000000000\",\"2016-10-29T00:00:00.000000000\",\"2016-10-30T00:00:00.000000000\",\"2016-10-31T00:00:00.000000000\",\"2016-11-01T00:00:00.000000000\",\"2016-11-02T00:00:00.000000000\",\"2016-11-03T00:00:00.000000000\",\"2016-11-04T00:00:00.000000000\",\"2016-11-05T00:00:00.000000000\",\"2016-11-06T00:00:00.000000000\",\"2016-11-07T00:00:00.000000000\",\"2016-11-08T00:00:00.000000000\",\"2016-11-09T00:00:00.000000000\",\"2016-11-10T00:00:00.000000000\",\"2016-11-11T00:00:00.000000000\",\"2016-11-12T00:00:00.000000000\",\"2016-11-13T00:00:00.000000000\",\"2016-11-14T00:00:00.000000000\",\"2016-11-15T00:00:00.000000000\",\"2016-11-16T00:00:00.000000000\",\"2016-11-17T00:00:00.000000000\",\"2016-11-18T00:00:00.000000000\",\"2016-11-19T00:00:00.000000000\",\"2016-11-20T00:00:00.000000000\",\"2016-11-21T00:00:00.000000000\",\"2016-11-22T00:00:00.000000000\",\"2016-11-23T00:00:00.000000000\",\"2016-11-24T00:00:00.000000000\",\"2016-11-25T00:00:00.000000000\",\"2016-11-26T00:00:00.000000000\",\"2016-11-27T00:00:00.000000000\",\"2016-11-28T00:00:00.000000000\",\"2016-11-29T00:00:00.000000000\",\"2016-11-30T00:00:00.000000000\",\"2016-12-01T00:00:00.000000000\",\"2016-12-02T00:00:00.000000000\",\"2016-12-03T00:00:00.000000000\",\"2016-12-04T00:00:00.000000000\",\"2016-12-05T00:00:00.000000000\",\"2016-12-06T00:00:00.000000000\",\"2016-12-07T00:00:00.000000000\",\"2016-12-08T00:00:00.000000000\",\"2016-12-09T00:00:00.000000000\",\"2016-12-10T00:00:00.000000000\",\"2016-12-11T00:00:00.000000000\",\"2016-12-12T00:00:00.000000000\",\"2016-12-13T00:00:00.000000000\",\"2016-12-14T00:00:00.000000000\",\"2016-12-15T00:00:00.000000000\",\"2016-12-16T00:00:00.000000000\",\"2016-12-17T00:00:00.000000000\",\"2016-12-18T00:00:00.000000000\",\"2016-12-19T00:00:00.000000000\",\"2016-12-20T00:00:00.000000000\",\"2016-12-21T00:00:00.000000000\",\"2016-12-22T00:00:00.000000000\",\"2016-12-23T00:00:00.000000000\",\"2016-12-24T00:00:00.000000000\",\"2016-12-25T00:00:00.000000000\",\"2016-12-26T00:00:00.000000000\",\"2016-12-27T00:00:00.000000000\",\"2016-12-28T00:00:00.000000000\",\"2016-12-29T00:00:00.000000000\",\"2016-12-30T00:00:00.000000000\",\"2016-12-31T00:00:00.000000000\",\"2017-01-01T00:00:00.000000000\",\"2017-01-02T00:00:00.000000000\",\"2017-01-03T00:00:00.000000000\",\"2017-01-04T00:00:00.000000000\",\"2017-01-05T00:00:00.000000000\",\"2017-01-06T00:00:00.000000000\",\"2017-01-07T00:00:00.000000000\",\"2017-01-08T00:00:00.000000000\",\"2017-01-09T00:00:00.000000000\",\"2017-01-10T00:00:00.000000000\",\"2017-01-11T00:00:00.000000000\",\"2017-01-12T00:00:00.000000000\",\"2017-01-13T00:00:00.000000000\",\"2017-01-14T00:00:00.000000000\",\"2017-01-15T00:00:00.000000000\",\"2017-01-16T00:00:00.000000000\",\"2017-01-17T00:00:00.000000000\",\"2017-01-18T00:00:00.000000000\",\"2017-01-19T00:00:00.000000000\",\"2017-01-20T00:00:00.000000000\",\"2017-01-21T00:00:00.000000000\",\"2017-01-22T00:00:00.000000000\",\"2017-01-23T00:00:00.000000000\",\"2017-01-24T00:00:00.000000000\",\"2017-01-25T00:00:00.000000000\",\"2017-01-26T00:00:00.000000000\",\"2017-01-27T00:00:00.000000000\",\"2017-01-28T00:00:00.000000000\",\"2017-01-29T00:00:00.000000000\",\"2017-01-30T00:00:00.000000000\",\"2017-01-31T00:00:00.000000000\",\"2017-02-01T00:00:00.000000000\",\"2017-02-02T00:00:00.000000000\",\"2017-02-03T00:00:00.000000000\",\"2017-02-04T00:00:00.000000000\",\"2017-02-05T00:00:00.000000000\",\"2017-02-06T00:00:00.000000000\",\"2017-02-07T00:00:00.000000000\",\"2017-02-08T00:00:00.000000000\",\"2017-02-09T00:00:00.000000000\",\"2017-02-10T00:00:00.000000000\",\"2017-02-11T00:00:00.000000000\",\"2017-02-12T00:00:00.000000000\",\"2017-02-13T00:00:00.000000000\",\"2017-02-14T00:00:00.000000000\",\"2017-02-15T00:00:00.000000000\",\"2017-02-16T00:00:00.000000000\",\"2017-02-17T00:00:00.000000000\",\"2017-02-18T00:00:00.000000000\",\"2017-02-19T00:00:00.000000000\",\"2017-02-20T00:00:00.000000000\",\"2017-02-21T00:00:00.000000000\",\"2017-02-22T00:00:00.000000000\",\"2017-02-23T00:00:00.000000000\",\"2017-02-24T00:00:00.000000000\",\"2017-02-25T00:00:00.000000000\",\"2017-02-26T00:00:00.000000000\",\"2017-02-27T00:00:00.000000000\",\"2017-02-28T00:00:00.000000000\",\"2017-03-01T00:00:00.000000000\",\"2017-03-02T00:00:00.000000000\",\"2017-03-03T00:00:00.000000000\",\"2017-03-04T00:00:00.000000000\",\"2017-03-05T00:00:00.000000000\",\"2017-03-06T00:00:00.000000000\",\"2017-03-07T00:00:00.000000000\",\"2017-03-08T00:00:00.000000000\",\"2017-03-09T00:00:00.000000000\",\"2017-03-10T00:00:00.000000000\",\"2017-03-11T00:00:00.000000000\",\"2017-03-12T00:00:00.000000000\",\"2017-03-13T00:00:00.000000000\",\"2017-03-14T00:00:00.000000000\",\"2017-03-15T00:00:00.000000000\",\"2017-03-16T00:00:00.000000000\",\"2017-03-17T00:00:00.000000000\",\"2017-03-18T00:00:00.000000000\",\"2017-03-19T00:00:00.000000000\",\"2017-03-20T00:00:00.000000000\",\"2017-03-21T00:00:00.000000000\",\"2017-03-22T00:00:00.000000000\",\"2017-03-23T00:00:00.000000000\",\"2017-03-24T00:00:00.000000000\",\"2017-03-25T00:00:00.000000000\",\"2017-03-26T00:00:00.000000000\",\"2017-03-27T00:00:00.000000000\",\"2017-03-28T00:00:00.000000000\",\"2017-03-29T00:00:00.000000000\",\"2017-03-30T00:00:00.000000000\",\"2017-03-31T00:00:00.000000000\",\"2017-04-01T00:00:00.000000000\",\"2017-04-02T00:00:00.000000000\",\"2017-04-03T00:00:00.000000000\",\"2017-04-04T00:00:00.000000000\",\"2017-04-05T00:00:00.000000000\",\"2017-04-06T00:00:00.000000000\",\"2017-04-07T00:00:00.000000000\",\"2017-04-08T00:00:00.000000000\",\"2017-04-09T00:00:00.000000000\",\"2017-04-10T00:00:00.000000000\",\"2017-04-11T00:00:00.000000000\",\"2017-04-12T00:00:00.000000000\",\"2017-04-13T00:00:00.000000000\",\"2017-04-14T00:00:00.000000000\",\"2017-04-15T00:00:00.000000000\",\"2017-04-16T00:00:00.000000000\",\"2017-04-17T00:00:00.000000000\",\"2017-04-18T00:00:00.000000000\",\"2017-04-19T00:00:00.000000000\",\"2017-04-20T00:00:00.000000000\",\"2017-04-21T00:00:00.000000000\",\"2017-04-22T00:00:00.000000000\",\"2017-04-23T00:00:00.000000000\",\"2017-04-24T00:00:00.000000000\",\"2017-04-25T00:00:00.000000000\",\"2017-04-26T00:00:00.000000000\",\"2017-04-27T00:00:00.000000000\",\"2017-04-28T00:00:00.000000000\",\"2017-04-29T00:00:00.000000000\",\"2017-04-30T00:00:00.000000000\",\"2017-05-01T00:00:00.000000000\",\"2017-05-02T00:00:00.000000000\",\"2017-05-03T00:00:00.000000000\",\"2017-05-04T00:00:00.000000000\",\"2017-05-05T00:00:00.000000000\",\"2017-05-06T00:00:00.000000000\",\"2017-05-07T00:00:00.000000000\",\"2017-05-08T00:00:00.000000000\",\"2017-05-09T00:00:00.000000000\",\"2017-05-10T00:00:00.000000000\",\"2017-05-11T00:00:00.000000000\",\"2017-05-12T00:00:00.000000000\",\"2017-05-13T00:00:00.000000000\",\"2017-05-14T00:00:00.000000000\",\"2017-05-15T00:00:00.000000000\",\"2017-05-16T00:00:00.000000000\",\"2017-05-17T00:00:00.000000000\",\"2017-05-18T00:00:00.000000000\",\"2017-05-19T00:00:00.000000000\",\"2017-05-20T00:00:00.000000000\",\"2017-05-21T00:00:00.000000000\",\"2017-05-22T00:00:00.000000000\",\"2017-05-23T00:00:00.000000000\",\"2017-05-24T00:00:00.000000000\",\"2017-05-25T00:00:00.000000000\",\"2017-05-26T00:00:00.000000000\",\"2017-05-27T00:00:00.000000000\",\"2017-05-28T00:00:00.000000000\",\"2017-05-29T00:00:00.000000000\",\"2017-05-30T00:00:00.000000000\",\"2017-05-31T00:00:00.000000000\",\"2017-06-01T00:00:00.000000000\",\"2017-06-02T00:00:00.000000000\",\"2017-06-03T00:00:00.000000000\",\"2017-06-04T00:00:00.000000000\",\"2017-06-05T00:00:00.000000000\",\"2017-06-06T00:00:00.000000000\",\"2017-06-07T00:00:00.000000000\",\"2017-06-08T00:00:00.000000000\",\"2017-06-09T00:00:00.000000000\",\"2017-06-10T00:00:00.000000000\",\"2017-06-11T00:00:00.000000000\",\"2017-06-12T00:00:00.000000000\",\"2017-06-13T00:00:00.000000000\",\"2017-06-14T00:00:00.000000000\",\"2017-06-15T00:00:00.000000000\",\"2017-06-16T00:00:00.000000000\",\"2017-06-17T00:00:00.000000000\",\"2017-06-18T00:00:00.000000000\",\"2017-06-19T00:00:00.000000000\",\"2017-06-20T00:00:00.000000000\",\"2017-06-21T00:00:00.000000000\",\"2017-06-22T00:00:00.000000000\",\"2017-06-23T00:00:00.000000000\",\"2017-06-24T00:00:00.000000000\",\"2017-06-25T00:00:00.000000000\",\"2017-06-26T00:00:00.000000000\",\"2017-06-27T00:00:00.000000000\",\"2017-06-28T00:00:00.000000000\",\"2017-06-29T00:00:00.000000000\",\"2017-06-30T00:00:00.000000000\",\"2017-07-01T00:00:00.000000000\",\"2017-07-02T00:00:00.000000000\",\"2017-07-03T00:00:00.000000000\",\"2017-07-04T00:00:00.000000000\",\"2017-07-05T00:00:00.000000000\",\"2017-07-06T00:00:00.000000000\",\"2017-07-07T00:00:00.000000000\",\"2017-07-08T00:00:00.000000000\",\"2017-07-09T00:00:00.000000000\",\"2017-07-10T00:00:00.000000000\",\"2017-07-11T00:00:00.000000000\",\"2017-07-12T00:00:00.000000000\",\"2017-07-13T00:00:00.000000000\",\"2017-07-14T00:00:00.000000000\",\"2017-07-15T00:00:00.000000000\",\"2017-07-16T00:00:00.000000000\",\"2017-07-17T00:00:00.000000000\",\"2017-07-18T00:00:00.000000000\",\"2017-07-19T00:00:00.000000000\",\"2017-07-20T00:00:00.000000000\",\"2017-07-21T00:00:00.000000000\",\"2017-07-22T00:00:00.000000000\",\"2017-07-23T00:00:00.000000000\",\"2017-07-24T00:00:00.000000000\",\"2017-07-25T00:00:00.000000000\",\"2017-07-26T00:00:00.000000000\",\"2017-07-27T00:00:00.000000000\",\"2017-07-28T00:00:00.000000000\",\"2017-07-29T00:00:00.000000000\",\"2017-07-30T00:00:00.000000000\",\"2017-07-31T00:00:00.000000000\"],\"y\":{\"dtype\":\"f8\",\"bdata\":\"AAAAAAAA+H\\u002fVuvFU0O0gQEAGirDJTNi\\u002f5CZcC2QqE8C8saOjKm4kwCuea1aH0SvAVcDTUPJpGUCaN73pTW8KQHZBlDQLuxNA9TUOFj8AIsAKs9CmioAAQHltGXXIBwDALW644YYbHkDv6mjzPsUFwNS1KpcYlfC\\u002fnJrERE0H8T9o6WxNk6ftPwmNOuH3pArAHCZqFtJgBEBZjVgFEgcWQAByV8RTbqS\\u002f5CEGpGMp47+g9CJOVJ7mvwANe0GXDOC\\u002fyJlCoCkE6j\\u002fynHPOOecCQIrln+iqzhVA2N9Vxo4f3r9Mk5twtrEAQADx8PDw8Ni\\u002fxDrF8ZLgDMCEKHeh6qD4P7DrDa1XadC\\u002fSpvPI1Zu\\u002fL9AhX5KIqa3vxiZ3adJvdK\\u002f2sWUOEdUFcBUYTe\\u002fhYDxP7BGBycXH9O\\u002fqPawa8It078e9Hb8HqUKwC6fejGfehnA05BmGI9yAcDc2X3miUvwP+CIejWCEN2\\u002f6AFHiob4\\u002fz9ADM0SYVP1v0J3onzpThTAnNyWgUKQ7r\\u002fJUF0eWTMAwIhms9lsNuM\\u002fJs3lrUVqIUBcGeSM26Hpv+QclVoOnQ1AABU1RU1R4z9aYQHGRn8RwJ5FpEz94PC\\u002fWKWlpaWl27+G\\u002fYW6u3j7v8Q5OWxNdO2\\u002f7lKUoGuZ9r8+dmIndmIBwLbcIO1ohfu\\u002f4qYrOUns\\u002fb9QH68qCwHev54Bu8sm9BXAzu9NpcTh9r9ub3Tv7UwhwC8svLWs7w3AAAAAAAAAGcDYkl8s+cXiv+x5aaA+Lx1A\\u002fv\\u002f\\u002f\\u002f\\u002f\\u002f\\u002fAMCR4ziO4zgmQDiT4gUyKQ5A24eyuvJkLkDciZ3YiR0WwDCeZUQfUN0\\u002fnpkQQOvvCUDY2UcGBQQAwMAU0RIRM7w\\u002fcsmjFMK58r9P0jMiWSYNwMalpaWlpQHAPoUpg4HD87+ArfsQWterP1t605ve9BRAvKlUZ65u679AcrrP7VX2P4CQ5+xdacI\\u002fqAj87Fvc3r\\u002f4ZnkSmYYNQBTUOVD4iv4\\u002fck3K1qRsFUCG1TBMLtEIQDZ+edKh\\u002fwfAAAAAAAAAAAAbx3Ecx3EAwIDxENIsksQ\\u002fMHe82BJ8+z+I4TM4EinXv4RXBxZCxuK\\u002fAAAAAAAAAADgzvUyAfrtv\\u002fQLNEaU\\u002ffu\\u002fSA7rWoHd8z8QV5E08F4FQOz\\u002f\\u002f\\u002f\\u002f\\u002f\\u002f\\u002fM\\u002fqKxXmeaqFECQLGQhC1n4v7xfa1rg1+q\\u002ffNXI5bCo9D9Yp3Eap3HqP9jcwn4VMR1AgH08QojNpL+UIUneo7b4P1J1\\u002ffOdD\\u002fK\\u002f8DbNFuZu878EAAAAAADgv5RXjxnMFvU\\u002fYNEkpUb6yL8ITUQ3QkMNQABlcRt3GLA\\u002fCcHRMO++BsAYozzvjHsjQOIHMWh9Sg5ANl4yzMrvC0CA1cWMNkneP844EyKlRxbAYBndIqrPEUAjuU\\u002fmfBMiwL6INmZQ9AjA4JICQDiX8b88kMQlt\\u002f\\u002fuv3A88J+e1gtAgH6KiUHc4D\\u002fS8vp\\u002fM\\u002fEYQG44rgScUPS\\u002f1MQUvv2i8T+C0bochB70v9sT0RlG+AnAaNs9GZop7z8AmKW9qdyeP8Azg70RNtU\\u002fnJLFe1st8b\\u002fI\\u002fOdzwl8HQOKYRhrorBTAibH0l8aTEEDgj2youiXtvxQa1WGytA\\u002fAcED5hzv++z+DpUCtXykQQPDc4GQvBsK\\u002f6KXKuxIj5T9aQ5WUwF8NQBrjdeltt\\u002fm\\u002fZbsKtLqCBcCYgQnUN7jov+ksd1uV0h3AdCAs56zmFECQNmF0BjjRP0z877ueIuO\\u002f0FCzUQkc3j+MRLY37zEBwIxYrw953ApAABlSOdZJyL8g9AGSxizOPxytxZbxXQdA2s8BMPiwAUCSUAZBY4APQCj4foffMuw\\u002fDcSAbX\\u002fREkCqEPzlDEcJwIAd8\\u002fgALBdAKMP5LMmYK0AKYyL8Niv3v9V6V92\\u002fqRZAvVfy9ObHGEAL+CKVAq4hQCzfRos1dvw\\u002flCQCw1EQIcBG\\u002f+Vb8wkVwJnkNvhEDBFARP+CAY3B8T\\u002foA\\u002f5G+tkIQOzOrqA2EgFAdNFoTxJy\\u002fr\\u002fYyzcsHO3mP3B8CGtAMOE\\u002f8ig6SiMSDEDTGiyHpa8dQEzfJ9oiAyFAOG4CxSexE0C8eFwX2E4vQFnXTHaYrSZA+ipneBT+IkDBLO5WCLQVwOB7SOXZzcQ\\u002fNCPSkiJICkC0M9dFBj8sQOoZYTNS5QZA5GOLW4+FBkA2phObapkGQDhvjOL9WSZARhA1jORLREDJMyobghQtQEW6NsWknDnAnHoQXP9NNkD67bWmJOEZQDbPnihSbCBARivH5d7NEcBw6a1KYFHaP9o0dcOqEy1AiSTZRM6gH0DnrbvkSy4eQDtx9ZT\\u002fwxlAQNDtbHyV6T8SlgFGwOn\\u002fv1KeZtNgahvAmnCUs2LCDkC5A44UDfEVQNCGib9hfMO\\u002f+A08yrZmI8AaamClvQIywG5taycJZhjA2UgKuPnCLUAgX5X\\u002f1VUgQOAycjTW6ts\\u002f4bJRLoXlI8DhotrFSqwRQGXhyjFmjA\\u002fAvWAhDeBZAMBoVXH4Gj3cv0gz1d2e4izACM0B19QBJMAa9AvxH28QQJLrV\\u002fV\\u002fzghApVriIpyKJMBgwQf2u37+P+AjipOLAAFAoDd\\u002fCcZa4D8QwRPSkpvPv84iHeVm2CtAAFpFw02Zn7\\u002f\\u002fGKBwrlQPwOCi\\u002fUm0jso\\u002f7F7lNpc5A0DYi5ltDyHpv1Ddea0uEv8\\u002fC7Wd9dYxF0B834Dfov76P0BVYStfUghAIH0kG1mdJUCgG3sjji4bQHCbPCPBNBTAUj8Ht7uvI8AUd8SJUjrnv7Bnr5onSek\\u002f2coBAhsXF0BgJRq7l3LoP0wlfANU9hzAiBspCVbO5L+AXv7gewEAQOwPA6yKYei\\u002frR0OIV55BcBAaSSOOpDFv0qkpyNYBAxATDWp\\u002fIFY\\u002fD8cqfuhlrziv\\u002fRrIMtEEPS\\u002fqQRzTwUVAcBi8gjgFGALwFB53RtY+hJAXjNsxi6EEECQkl6df67cv\\u002fNyW5WDGRvA8AwtWy\\u002fM4D+sDFFXgFvovwB1VAxwHcU\\u002f9iGLRxDSBEC8xPqBE3\\u002fwv5XACKk8RgHAgFsYy7SA+j\\u002fwyC98u7XVv8FiTNLEugDAxuMqTdjcEcCUrGQlK1kfwO5AvLwwK\\u002fW\\u002fcONerYk6878gPNrOAeXzP9Ll+snaNRbAPuQQJOy5AcA1ag04P4EUQKbNrMNWRxHA0JGgSzSG3z9YHgSvJ5vzv2KLHL3SQPu\\u002fgnh1Qd5UAcCM+QyOkHbkv\\u002fIax2I3hxzAVkU\\u002fgaegFUBfTe4SyI0QQFuW\\u002fBK6MBTAX480zdfMJcD2JnMwQQ8nQM4HbFIc1vm\\u002fyPoLtPyw+r9iqKZW7nj9vyCq2WhKL+C\\u002fdnUom7o2N0B0daeMzHTuv0qAOjfeNQnAOFt5cVBn5b+4GQqNXCrlv0rNei74JxLAPAltUosx9j+g5E7RwhnAP2D0He5Jd++\\u002f+CudEp8V+D\\u002fgKzQDp+niv+wxk7SgMue\\u002fgCqr5RE5r7\\u002f46qTBxzjQvwjG0b5MS+i\\u002fLqtoVcsF+r9AV4F1mAqwv27PHIvhgv+\\u002f8CzVp3cU679w4IlqpTIVwKhOz2VC0tm\\u002fuD\\u002fGikflBkCwtErB2HDIv5CnQwu9Fuk\\u002fRKaKxBeu+b8ICHzk68kiwHSjNGA0FxDAwWlY9qfKA8CMm5EvN2L+v9DnH\\u002fKqZwRAwHfD4LH5rb+5iTrIwGAiwKwqdMyQHfI\\u002fcKjVXyRk\\u002fz8Y3N0NrfviPyDk8HdRzem\\u002fMvgHMoHH8b+4oRNKSqXXv5CDtVtysgXAysQkIBGKCMB0Lk4bGFECQLD17ek9OAbARgK1wUfRI0CQXsYw9vckQDSEbLzuBBJAfmlG8\\u002fsi+r\\u002fZIn9QSy4awEjwdzBI1e8\\u002f6NZlMAQ69z\\u002fAV0XM\\u002fBCuv5JHn\\u002fl3CPe\\u002fQncPkCmz\\u002f79UOgaQQmP3PwBhtuNyXqC\\u002ffSd0pkGXHMBCE5t+0\\u002fHxv4qdk3I6jQTA8DJxQ1Jj7T8gxcZTw5u+v9b8aHqN3QBAqEkY5mie4r+Gy+gWvs39v1GSJEmSJAHAQFgYWrN20T+sBRTHDKf5PwjL3uyESNu\\u002f6BD6gUFI4D+ASR\\u002fXkp3uP2g7oZ2mxeU\\u002foIZcaAwnuL\\u002fy6fWOCvsGwGBynT8pNbC\\u002fEARrLiPx8D\\u002fIZz2P8H7mP2BCtwYdecg\\u002fcIRPVe++0j+g3cWTHUvfv0jpgqh6ct+\\u002fqqnoi8mbI0DwnLPWIBTjP49EfsAHExlAfg7CwiRHCUANYsDiu8gIwLSLdq1TiiNAVub3BSSHAECgnn7lE5XIPyBt+AlZlf2\\u002fAJ17evrP0L8h6Wip36ocQAzAWsrvMfA\\u002fAz07cYL1HUDgxveC0qPsvxjzsPhBs\\u002fQ\\u002foPyriIlY6r8QZLksXBPov2jmMZqC1dS\\u002f1PUI\\u002fS1v5b+QSQXXVebSPwA9GNd67Ma\\u002fwD0uHOyu0j\\u002fgH18dWAjZv40JIsx\\u002fDAfAQSDgwivMDMDtLzuFxQkCwJaHtyKaKva\\u002fgA+Dal9KBUBAXU+RqdDWP9C+9L2PI+o\\u002f9Bv1oqvp4r9O6YeNBVIAwAB6y5PJwai\\u002feP9va6l08T8ApFPzIHfdv4xPd88rjfC\\u002fkIGNOsrqAcB49KsklZrVvyZJ3fSVbglA+OB7LAMy5z9AbInAVoSwv0+rP1bwMRtADE\\u002fNTHeF\\u002fz8gxkstlPXGv5gCKXqmzOy\\u002fYNDa2EID17+Vy9xe7MMCwKgTqbXRcOs\\u002fEFhfD+3czb8COaIiPUT6v4ALxMBjgqg\\u002f0B\\u002fBfQT3wb\\u002fg9SxHAIPuP+gEkFjNIuc\\u002fSBWIVrhm079e3wdg3qDyvyhL2QCocda\\u002fkOf6nb\\u002f81L+YptE8KW\\u002fgPzDtwZbW1t0\\u002fAM4F\\u002ffsJer+AkR6V69G4v2D31Sm8wea\\u002fABxj2HA6oT8A1QJ+tVKVP8Qzinaqf+S\\u002fWk14FA06AcCYhAGILEDqv1i4MfLeveC\\u002fCCw47xBZ579MzP9uTKjwvwQkGszjuuG\\u002fQH7yuD6AyD9EUFjdsuD\\u002fP\\u002fxJCB\\u002fzG+C\\u002feEUPQZv77r+g7e\\u002f7rGreP3g6ydoGfda\\u002feBVKdpjS2b94vX3ozqnjPwyRWPV5APM\\u002fbPyYWGE67r9QAtonF3\\u002fVPxB7UeSJwt+\\u002fBWFKQiWxA8AcuHVi7r3lv6DDd\\u002fhZsxLA6Iom\\u002fTiMFMB4U4NhB2HkP5C9yvfpqc+\\u002fmfpg4nACEMBgQiXcMeIFwHejlTuV0hpAAjDqj\\u002fwFBUAGEjj1H1j\\u002fv7a9dWSUB\\u002fa\\u002f0GqiZ9KL0b9k0dW6CCPtv1ALW9ExJew\\u002fsEGEdV0H+T\\u002fAx7LsOfbrv\\u002fBoErxbtuu\\u002fsBr3MZ3E3b+EpkC2b9XrvzXhGa5kAg\\u002fAmNRT5EmY3r8wly7+BPbQv2Y\\u002fMrNbSwRAGEKoMJRQ5b+wcbNBMpzav8A\\u002f+B3mxLu\\u002fgBlJ2SIU1z\\u002fftaLVZVUEwC4e\\u002fLGx6ABALInEcB3O8L8U27hWhAviv\\u002fgvq9XgnOA\\u002fSHEyFTIi3r9AmoJgtmfQv\\u002fwldduH7OO\\u002fguus4NQg+b8h0DdBiVMDwJMyE\\u002f2+ahnAQspql\\u002fnw8L\\u002fwOiL6GIsEwPaQnw8xYPW\\u002fj7ZdhIQGIUAaRcnHh7\\u002fzv0KrA91XGAfANma5tf80AMD7TIOtdgoAwLjZPXAKCfa\\u002fJXz9hiGKD8BMg0x\\u002fVff3P8BSjgfLMLo\\u002fFvpHorsJ+L8kNSA1IDUAwDm\\u002fbLSd9QvA3Y86LormGMCgunueFi3vP5z4uRBhQvu\\u002fjDbbTtbQEUBs1kwnEAMgQNJU+7njAgDAyW\\u002fXPLrOAMBOWuNC2qoKQC9RlVvWwxJAPp\\u002fldk0kDUBn1isD2WYCwJgLIAtUNeu\\u002f82LOKFO9CsCU7YRk2BYEQLgIy2NTwtO\\u002fVGDtKONa7794Ftz4NRXlP+Zm3NOxlfC\\u002fcFCzC+gR7b9immyJ8oAVwLqGY0mht\\u002fO\\u002foFaFRLDDxr8wHU7Y+AXFv9CxqXx4F9g\\u002fKIjyXLcc478YyUxVK\\u002fH+v+RkRcisFOq\\u002fP4KObe1IAcBx12fPP\\u002fgKwDALsgO9Efg\\u002fqI6lTIJd5b+0GB+Sn\\u002fgLQKDHcMnVXQZAANCwhhVosb\\u002f6TicYANv5vy1oIDlAIhNADqV9e1GeCEBEW9TuZPftv2TCWjwqdi9A0cfdQyB6GUCUlBHxkY4gwC1\\u002fe\\u002fMZLgrAd5O7vuoODcAhZlr3UNsTQOSs3bB9WxHAIoJZhX0j+L\\u002f+R+tYznbyvzmrjqeyRhnAgLB44tcd\\u002fz9QQfCQVFv6P342dOFcpRFAKBWY5Rnz\\u002fj\\u002fR3ew0cDoRwBQ0v7uubu+\\u002fPMmzMVXuAkBA95uzt+TzP7x0j1nF7fS\\u002fIHekZdzn0j9AMBulFFu5P2jlA27i1NC\\u002fjHCz4NRL8r\\u002fgh1BqG0HCP9BULo7E+si\\u002fVLQ+opND4r9AGqOMQLCxvxkXsyqAkgvAfBHz7f+NB8CSZnXQF2MEQI74M89YjQLAEPehgvLBxb+AIrL0jRLRP\\u002fgexBEbWtu\\u002fhER9JWAP+7\\u002fZIHPbeIwLwNXaxZrWhwjAtt9j6Wia+b\\u002fWy0stbJwNQEBvXX3avMq\\u002fyJnHSUzL9T\\u002fI6LmOb8jkP9A1iNeTf92\\u002fDzyLEaXYDMDggPVgqbEFQJy4WCMwPOi\\u002fgrO1vT6ZBcDAxQo\\u002fvTKzP0Dm6H3oRvu\\u002fEL0eHO5X+z9ARMg49vyzP+zIFkXq9\\u002fa\\u002fAOYRoan2y7\\u002f+Spet8rchwA6Xw525wgjA8HZoBaJ4CkAyDoeK6CgPQBokCI47vvi\\u002foFJEnpht8L\\u002fSnjq68WDwv6p9LQCckgfAAUokj9VIBcBm8BO2uAr3v9tOWjbQizDAKHblrFOCAkBLFRgvfh8KwH7\\u002fgntzzBHAbqisWDJMCkAgNb+6C67sv0wAXNvt\\u002f+W\\u002fMwd7LqNSF0AwJFGkOTUQQHgb9h2fbu2\\u002f1FxBK+DFFkCcBaZDPRwGQH7g4D7NSjVAwzODKDDqJcDWW5bVQvYJwBK7qjjm4STAwLu5Z8i\\u002f+z8NUW4rCM0OwGxiXyYec+q\\u002fVjkG+bpTEkA83TkLIfn4P\\u002fDr+emc2xnA7JI5a7JBEEABxbUFYr0NwCAbj5t7Ure\\u002f6KoABjbm1799JALiowkDwDxrFWm1AO+\\u002faCUFmjMV5z8Yfw5D1FThv14zR61wQSBAlcPjQCdGIECUpJPY9NsBQLTkD081pSPAMrMoYpLoBECwnjbClevjv1Toaug5s+S\\u002fLM7zC1k1\\u002fT\\u002fgZH5k2pwKQGEetNsG+wvAhg1hvfNjBMDgxjnfxWO2vwBBB8QN4c2\\u002fML0WZxPL5b8qkmGU6t4fQACiaIYdcOi\\u002fuDuNIa7kBUAqVbQAVGEWQNT\\u002fxRWfgQtAtGOEaSeU4b8oZPDSXNLsvyTHxqf8D\\u002fe\\u002fQIdHhbshtj8A0BPnyHttP6bDzq\\u002f\\u002fXBVAWmiZOr4PBEDkwjtNTUPsv4DjD+Ed07m\\u002fcOy+f7Pl678sMUsfmCoGwIDWd9qe\\u002fLA\\u002fbkovP+ApBUAcArBhg+7iv4PXfexjPAPAkDTk1iiUHcAAYglhhIzNP7Afp95RAvC\\u002f4AaDfy0JB0DICWFRH2QGQMGTwHIRtw3A8AG6eoCuGsCwgWnuz5AAQIBTWQ8R8+4\\u002fmNUqB+Ey8L8wirI7OPDav\\u002fBKxAeApvi\\u002fIEOeLA4xyr\\u002fIDOGmmp7ev37+FDEzXQZAcIDRXJne4z9g7edZOH\\u002fTv1DyHfGR\\u002fABAsEpmBFB\\u002f2z\\u002fgvvAl1k0CwBTZqpCohOi\\u002fAEg\\u002fNWBcCMAoemXxJpjvv5TVR2prP\\u002fu\\u002fWGrYW\\u002f8t6L\\u002fgET8rkETVvyJKlgPWMBTArDay+WRb4L92m3rge98EQEAJ3lCfLdW\\u002fjqIuoo4KAMCw7G3PaPXsPwAAAAAAAAAAtK4Q98GGD0CsXDfgLvTxPyiefxRhXuO\\u002foO5Do0lSsb9YZgrA72P5vxh5sz4oVQPAQEP+3ox0BkCI1MgL2iD6v8p7JtF7JvG\\u002fJL7mI8sOFkDgXxUcQ4bPv+bD5fhusfW\\u002flhZU\\u002fZ18CUDQRhqQ4ZLPv6pVsUMOr\\u002fa\\u002fBNCntAdl8r8MLOKeke7xP2jN5+3+BQhAgP1SBPi\\u002f4z+6eAgBfRX4vwAWsTtD+rQ\\u002frKm4hJg14r8w3RAifZvVP\\u002fppNjI6XgPAAIbXC1WR2T\\u002fgjClfhyXcvwDFmksyxcE\\u002f+F0\\u002fNDIM1r+IbcQP06P0v0CrgbQO+cw\\u002fQOZEP4JF5T+MO4kJggQAQAAbmho4f5k\\u002fYGvqj5452T94lQGn+WPZvzCXslN0dPK\\u002fwFyU0a19xT+QZtHIxP3Vv8DPiN+LJcC\\u002fUHXPqjssx7\\u002fo1S2nCer5v0SERtOmIOW\\u002f31wQPaNDAsCw1G0\\u002fY7PbPwA5IugJFNe\\u002fmOpJ+eg60b+AonEdhVK8vwCUfJIJp8o\\u002frCxI9Ygh9z9YHVMDe8fkP2zW\\u002fdQXNuC\\u002fYDFzjudozD8wzsXGK2bVP0huxmUvBeY\\u002fEL3Qpshl7j9E5o47LE30P0hRkASHYBdAEI8VlC09AEA2Ieju5ob9v+Asyo6Wr9y\\u002fZve5FGhqAMDwqVdyBMPPv9Cq9tLonfE\\u002fMEYGXFIB0L\\u002fcFuu5nCbzv8CO7e92dNq\\u002fYG7JjuwXxj9kWxwsKOkIQMCqalSwULG\\u002fVDkS1E0cA0DkCKMuh6QQQEpQSuCRIPC\\u002fwh+\\u002fPyFc9b8OhnaVV9P7v2CS8yePQvs\\u002fmxin+\\u002f32E0CASBCqDPbwPwgcN4pxiAHAwMYODx454z+g7Rg\\u002fuALOvzrfG0sKWSBABMUvPWVK9T\\u002fnKi\\u002fMbUcVQDyLcmPFgfG\\u002fxUK+ltYJE8AMCVl84VXvv6iWlpaWlua\\u002fLUZx6nXyDcCwW5LmR7DpP4vwjRurbAPA1KR5uxw28z9g0PlkKgLiP47CgurEbPC\\u002fQAmzQ3dIxD9DiSpxvgUQQBD1VsuVX+A\\u002fAJRV+SSJ6T+gGDtrNcX5P6CTiFKAEti\\u002ffNfVtMXC5r8cT9NcvPT3v0i2130iz9m\\u002f+L4yi4NQ9r\\u002fcGp7PrFblv1inC4hRlus\\u002fgMNgHbyFtT\\u002fgRoff99Cyv8zDMaN8HvS\\u002fsAoVrfRA4b+wp0uX0\\u002f\\u002fEv9y3IUHeeRLAAGILXOAChz9QwgYR8CH0P4AQfO6Fgro\\u002f9HxfsPg++r\\u002fw9nFMDs\\u002fdP1AZj\\u002ftvJNO\\u002fXiOT4zJh+b9AZv6Iqafnvyx2V15A1e6\\u002fqOIBroDoH8CA6VsFu0CRv+BQE4kqWNm\\u002fpLEZIV3l47+YxthRvaTuv06GOgjMa\\u002f+\\u002f4AqTGDeH6b+4Xk0N4S0BQDC83vFRlPG\\u002fVld1bekFB0Dkaq7jZDXrvwi+GD3ljt+\\u002fgMn1A79EqL\\u002foCeAL1WrUv\\u002fga+5T4ttG\\u002foCmm3XIz27\\u002fIq8DYUx7iP1Y3aQ+xJwJA1oU5\\u002fX\\u002fvBkCo+V9v6BPVv9iTyVjhQPg\\u002fkOKF5fa04b+CgywvRH30v0DCxA6Qdqm\\u002fYBQLvDnd279EhyUwTdr7v+rP+\\u002fwevPe\\u002fipvyDxICJ0AWRlyfY5MlwMjP0Bq9BNq\\u002f7Lc3d1NH\\u002fD\\u002fwwbkZByLfv\\u002fBubPpbDde\\u002fgKu1nnKs379whi04PzHgPzA1lTE9S86\\u002f1HoIUENL+j8wTJaJ4yvoP0gQpY0RXOu\\u002foNuQVkKn178Uuv+sQ2gAQGBwsDjamcg\\u002f3EVmL36f678w07MJNx3TPwBMwHIQeaU\\u002fYEHbz7So1D+A8jOYhC\\u002fCvwDo7UCL4eI\\u002fRkGdcwTVBUAAwZ7VM\\u002fS6v6R8UXPKhe+\\u002fAJpjRAvFgL+Qx+l3MJDcP8hrMJh6C+k\\u002fgDq3WHq+tT\\u002fMqD34PQryP6gXRKjJ1Pk\\u002fuDRCRF0k5T++3ah9RckPQHjtClAjZQZAxD2WnD9X5r8x7lV\\u002f6SsEwJT3U9HdJwJAgJE2v5Gvlr+QyAjTg\\u002fUAQEirjpruHOk\\u002f4Fl7tXNl8T8298zPJ4kRQIUsPID11AfApsKO1aSXDkC0WOVb+1QLQBR0t0DA6w5A40bfynIdFEDg9Q+1BZ\\u002fav67MDwPHh\\u002fm\\u002fa9CU7BskJ0DqMsWOu8IsQArW\\u002fkBZlTJA+HbH7zxfI8BpTkkMqxwnwFTvjHt\\u002fOPW\\u002fgPh+QY3wxr9G4EtMDOvyv8jBDFWMJ\\u002fC\\u002fnfrFC5JmJcDYv6C\\u002f8SP1PxR+pW2rVfO\\u002fmNvc1yKg6b+eoaPoYqfwv\\u002fBMZyAC+ey\\u002ftps\\u002fcPk1AEDE9TKTgzbhv9DZrZI20ta\\u002fQ1k9zCsjBcAQDIW\\u002fqJDgPxA5aeeWbda\\u002fFHo9T65+4r\\u002fUaDQajUbkv6AfaMYBEP4\\u002f1ZSTwsjdJkBYAJ7VjajrvzaEp3CA0vG\\u002fgPsJWz+XC0CEAw4Oh2kGQNBYpe63tOy\\u002fZtj6\\u002fuqgEcDuyBJitcEBQAR1Gcr7Kv2\\u002fAAAAAADoHED0DO5O2rgKQPRLytG+j+a\\u002fJqRXv60uD0BsUT7jkhv9P0SpY21MTeu\\u002fyoUFafrrHkDu\\u002fw7ELmAOQPqpEm6FYRfAtB28N27H8z8+yv28a0MQQIDqAMf9NJi\\u002fIMg+Z2ZH+b90y7B2cpT5P4A8Fe9SA7Y\\u002f8FRtdgE15L+fdRJ5V\\u002fgOwCBvguXJ7s2\\u002fAOXMyK47yD9o4DlmtREJQMCyzaRxwKC\\u002fMBayo8rmxr8DVM9R1EUdwPSaIQI\\u002fvPU\\u002fSDYeMLLm5z+A8Te1c9fUP+hA+uBvqNW\\u002fsFbpUT+d6D\\u002fA1B93lEymv\\u002fQgpzJyBuG\\u002fABM2vbUExz\\u002fAYXs0Awi0v2DvIHNRGeG\\u002f87IDCLzsGEAo\\u002fdmrRwTtPxiuKdP7pvy\\u002fVmX3ROdG9r\\u002fIyb7jK8bgP9xFmCEXnOG\\u002faiDTl+YvB8CQxqdpKYDbv3gKyD\\u002flq+a\\u002fCtJcECJzIsDAu8jWADi6PyS6TyK3aOe\\u002fwAQX6\\u002fRnuL8zhKh5Ll0jQFBE7dfe++G\\u002fno9XqDKXB8BO2KPVVu8OwBYeqoX8MwZAaJZe8kIE6b9E7dwcVRjyv3Am3YZF7c2\\u002faCaidFic1b8\\u002fUUNQOH4GwJzvgj4Jzuy\\u002foIIeK1Qnw7+MxGVQrS7jv7B4aqxHieK\\u002fEAtvRHCrz78ld7225cURQDDP8roa\\u002f8C\\u002fAsWwpxY\\u002f8r8kB2PMNNb3v4hbrIO2otC\\u002fQIIqb4Qn5r90\\u002f7O\\u002f3nMBQLSt+dUVguO\\u002f4HQ3dPdm3j8wQRIZerj8Pxar7eLoYA9A+D1JL6rA6D9wVExWDXXWvx5NL4Le7AdAEDwri1BZ8j+YY3mvtsjlv\\u002ffk0bVl2RFAmBJr50359T9yUd6a0xEAwKCCHOZXncc\\u002fn1TjRsYGCsCYYIg2VVHgPzj\\u002fRKZTkvA\\u002fkC4mvdrN3j9AhJeFBF\\u002fVPxgMgHoDafU\\u002f0LA6ukb22r8w+Zo9HCbrv6MG23qBXAPAwAZGrJfepr8Gdzht9jAKwEA6uMYCO8Q\\u002fMGFADwYn7z\\u002fAn+5OM7KzP4AS9ODM1Km\\u002fwFhetIDE1j90hlFwXpr4P1wNjRIAFOC\\u002foDu50pi5878AH1Zh+KmTPzAX8hVzRdY\\u002foIeEqmHwur\\u002foHLHux1vpP8AKAx8JXbu\\u002f02FJT2k0AsAA6EfkfGvsP3glONZIrdK\\u002fUNyIaysy8z\\u002fAjLvulDrLPxAFqG4jA8K\\u002fcI5wwuZXwr9gEmKbVtzLP8ZCBekSuwJAcIVfjYn03L8Q3eMVgcrDv+ngkE6GlgHAABj1Tyel1z8AEpJb13movxjpWYm86+0\\u002fIN+7CHVTvr9AXbymORPHP3B1pKpUGN0\\u002fgEhFurlKsD8wE+iFOjvKvxD4qxZUrtk\\u002fCkzr1WHQ8L+QF3XFsJHXP4DJQM8aLrI\\u002fdB1iK+Iu8T9wS7LYw5LCv+hoKmqtWdO\\u002fdIU0wfEm8T+AXr\\u002fFphjkPwhuojq1o9K\\u002f4HZNgxMo379YTr+fsyj5P9jPov8GzPk\\u002f6M8VMcEV+z\\u002fg9aII8AXFv4Ce5SvDv7o\\u002fGoo\\u002fRieJAUC8jA8rPH\\u002f2P9B4\\u002feEEYdI\\u002f0Eze6wcSyL9R65uYWwYOwPgSf0\\u002fov\\u002fQ\\u002fgDm3x22cpz8AOLOfHdjlvwBIGH\\u002fLGoK\\u002fCBnd2Xr00r\\u002fA7Q5nGG7Ev0CihLu3ktq\\u002feMSUEL30BkDg5kMthWvDv\\u002fg8lb4qgdG\\u002fmEzIMVdQ5T9gszKrznG+vzAmmOJZdfm\\u002fQCWHmTnWtD8QcpuhsK7dP0Ci3sb7pKi\\u002foKNMqcvq2T\\u002fAYmE48li7v2BIqOoE3OW\\u002fwK7m25ooyj+As5jOYjrTv6N0Is8JngLAQAGNdbIhr78AhILrrzC0v8DPDFp+jso\\u002fEJ7wmeDN4z+QpfsTNefmP3BBp847vOc\\u002foUQlQaKcFUBKRexyoSMnQBYL4fAkug5AKCJaFKvB+79wOVxiT7DaP6B9F7xFueS\\u002fFIKs6wUW4L9YYZ4uMGIZQNDgwhyXkAVAhoaejbLY8784NKGdghjkP4g\\u002f5iz+reQ\\u002f\\u002fLdfvfgc9L\\u002fgJztLUhy8v+Rga6W53+C\\u002fH+85PhtVE0BxB1QhVJopQKcRYMcqMxJAMv31XMWy+b8QVqfnhZ\\u002fyv4KZhoHPPCZAgOwsYpohyz9wk\\u002fB9aLXVPz5u6iwiYve\\u002f+NaBvWs01b\\u002fyO3yLlIYNwMhEWj3zGB\\u002fAcMoWkpUUHcCkmSHMEqcgQBDGRmU+ePc\\u002fzqgmqsjHDcDUxNg0Arv5v3hWJu2ub+M\\u002f1t1kNUKuAcBNvce9hA8TQDjbllpld\\u002fk\\u002fjGEBgkV2BEDgJo\\u002f1yhnHP5MhoSy+LgjAgJNn2oN2mb\\u002fQPWB1zsbNv8Dt03G45bM\\u002fe8KtsKJtAsCAZPxtpFepv8jhV15P6gDARK7zThcB8j+EX9PAwfQCQETslE1YFu+\\u002fUNpAXl7B679oG5\\u002fIkS3kPyADKVASy7e\\u002fhKvzThEZA0Bg2gckbMO+v3SH6z0havO\\u002fwPS4LrCdqr\\u002fgl+VAgejvv4CWKiSiqqs\\u002fCkL479aB+L8Q9S+YBG7wP8AaRHEztci\\u002ftEopi5ET67+AVVi72P3HPwAnRuwczpU\\u002fAMoi2L8knz9AYVO5a1iwPyDBu1kQlty\\u002fmDNzZs7MEcCE\\u002fWQNifQAwHZmtxNQxhnACIn7glMi8T+AsKG8hvLKv4Cd9iESAPw\\u002f8HoDFLPF+D+UXq05BjXov9inAHiZgdS\\u002f8KR4cGMQ+D\\u002fALBR8DAfavx7eKsEwbvS\\u002fAO5uq1BNmL9I9+dA9z7mv5wbGv2wgwDAACbDFibD9j9gJN3m17PCv1R+jjvGE+G\\u002fgB3gXyPwsz8wzI9ni1jpPyCQY1Xobc0\\u002f+Jvb7BqA5z9gW8Tl5S\\u002fGP8imyzGS6++\\u002fMMGxerI34b8AswwFk\\u002f2dP7D8qdWW+cC\\u002fnClmnB8I8L\\u002fAlY+BT\\u002fnYPxA3692RGdc\\u002f4INB5Kwhtr8QcACbsirRvyDqzrYCw72\\u002fPtRROG6UEEAck2H5kHcAQABBfDQhL92\\u002fMDZduVy00j9YcpPWk2\\u002fjP15AsbNAhgJAOD4r6hm\\u002f079glIfp2anRv6j0tS8ZC+M\\u002ffR1NMQnnCcCgzOXlEbfcP8DKkEc+1b8\\u002fMNh1ogf9wb+ozdzJbirTv0Bsq6+oac2\\u002foDeCfFI32D\\u002fAuIoxNCfAP0C0BGy2is2\\u002f\\u002fJ+eRfgh77\\u002fE4SjfyAnrv7gDjfGhPOk\\u002foBGG+TUSzT+wViIC9GfJv4C++K6UPuk\\u002fAO7DH6WFkj+AtzCxbHfRv4DPvlvXaaM\\u002fAGv\\u002fwO7L3j+4dVwLYd3sP4CjsdNNzMm\\u002fENgZm6LPzb9AMICiPLu1v4DNpYhaZ9I\\u002fADCFgDqxWj+Q\\u002fK13fFLlPwCzwE\\u002fyF9Q\\u002fQE81Ul\\u002fYur\\u002fw7bNQgunVP\\u002fh2xo7tugpAQDnTdQ2Bvb\\u002fYmKmsLAzZvyCsAqx8i9g\\u002fQJMaHAVewD9A0rA5NeW\\u002fP4D+Pad4sra\\u002fkKuwGEWvz7\\u002fIoEjTq63SvzzZUw3eZ\\u002fG\\u002fsObbLTv61T+mVwbtG2sOQMD5EuRkfdw\\u002f8Ndr9avH4r8w0UUXXXTxP0rIP68ibwJAPH2Piffa9D8QVLN8zjHRPwOZC3pnWxFAhKPy7Ubl67\\u002f0PrBBt6Tlvy5zYM0pog5ACBwuyyYI4z9YoK8ollblP3b55HAI1RTAADJG++QAtT9ws7YdlIfuP0iJl2xTit+\\u002fYPar8bRC1D\\u002fenlgyvlwOQDPhs2DZaALAPPrCHjjN5L\\u002fg92LrQNnEv9KXiUX4hvq\\u002foHzFgyeDwj+0qkkfomL1PzQtm\\u002foE1BFAUON6yO4p8T9AdW5bT2DXv2A2pz\\u002f0j9w\\u002fQGz7LC+6ub\\u002fgxg\\u002fsSCT9v5Ak7wqYNfo\\u002fIBumt42By78456HRYA7nvxjWqQL1Mea\\u002fgP+Mh3JUsz8YJgVczYHbv2C\\u002fZ+dRfsG\\u002foGFriUC7sr+IcNornbH2P4RiaMelHvY\\u002fUudmUCNMCEDQBrl95\\u002fvYv4wLIpJ3AuK\\u002fgOvEeeJ2qr8g\\u002fqL2Dj3wvzjGCOBLvug\\u002fIK\\u002fsDmc22j+AgNB0e3iWv1A\\u002fvg1KJ9U\\u002fEMsT7S\\u002fc0r\\u002fgpAIsA2jtP+CV6JjPw+o\\u002fCHU8XrAY6r8gthQLJaSzv3B\\u002fZBUCfN0\\u002fOCPT+pR97j\\u002fQMYD5MwLSP4BXohkdM8K\\u002fmNdjGUEr7z8fUzn8RHEQQCAN4se75RNATH2QCQyJFkCAtn6b7LDGvwGOMWXGpATAIIw6hQwQ+D\\u002fq4Uj7KooHQBSnEEmqhg5AYPcooFDS1j8cEfb9RnLmvxwQTggp7Oy\\u002feblebvtTEEAM\\u002fqfYFZQGQBCxlkihr\\u002fM\\u002fdKGhcBYYJkDA3avj9NsFQNxFi9BfOijASJQrxGhoKsAiDa6WCw0OQOhbr8+VogjAoBremOCHwD+Ido8lDwXgP+sjPKDiRSTAQKrlMxJN1T+4YFPaAYLnPyQMz\\u002fzskfa\\u002fyEkqoP7N9T9o5iG5lTgiQLgVodmuY+g\\u002fCoKRR3169r\\u002fA1hM2F27ivzhqOJH54AhAqJI9HwuD8T\\u002fQ0+DUmZLvv8BuJSF3edy\\u002f8wCmi3YVAsCUqzHf2nv8P7CkpqGhFNs\\u002fgO+Fig4isz9ARz4IdyervwANXcnZg6S\\u002f+AQXVJA4FUBc0CtSkCH8P1qXB1U1vgNAVsVkqRUQAEBoBUa+D57yP\\u002fDMPVnmx8u\\u002fQCJ2l2rGuD+gpf+IWnv6P2TwndSLrPk\\u002fcJYGaJy37T9rgMHdrIsgwOg9gzNupPA\\u002fELe\\u002f\\u002f6K53L84qe9cf\\u002fHQv9iF04iEDO4\\u002fIMFCCMDk0L9YxK4muXMDQHjezJ8vqP4\\u002fiPpFwkkY6D\\u002fgFOtQAuDZvzi27wP37AFAvPkUu583C0BQKn27e1DnP3dIWtVzNRJA6EAGLVspAEADmxEXaQUBwDT7QhzuGeS\\u002fzPozlb\\u002fi8z+Qpoye8oLuP1zm2CQ9nANAPsbHvAnvCUCAl+0W+Av3P4B\\u002fSGYSMrK\\u002feJpY4ghK7r84qxCkTv7lP0DPw\\u002fRxDqK\\u002faFsTsZ42C8A+DxsKkIcGwKNBxuBmYxhACh8g7TAhGMCqImr\\u002f1jYGQJi0auzwGOs\\u002fCJPhqqU94z9AENI\\u002fB3vhP8hC3+5FSeA\\u002fJQflEJO+GMCaFEeAfWYWwJg2xP3ztQ\\u002fAOE0jkdKT5L\\u002fPGT576FkWQEBx7zN\\u002fTMS\\u002fGLMZjsNbFsAYfMYJeIb6v4jwyWuR4BjAsO37GWJmCkDo8Vp4V4IOQHyOZhu75\\u002fs\\u002fnAOvjzWd7L\\u002fMsc3mKLbhv0juh\\u002f1zigNARFcex6oB+T+wpr7iOkL3P8BQlzOZ4w9AUIfKE\\u002fQd2j\\u002f23\\u002ftN94n9v0Wnv\\u002faNxhJAoDjCkLpHw79QTF7hekLBv0BVvHxrg\\u002fA\\u002ftA4yd9lc4r\\u002fwVx3i89T3P+BqaZMctbO\\u002f4NnaykmCur+0ZWXhjwX0v2DVYxfwGM6\\u002fYDxDYt7OsL9osgFXUbPkP\\u002fD8p7sNW\\u002f4\\u002fcKex+\\u002f+nxb+4C3eMZqMAQLiiUZAtBNm\\u002fgMWkqdV7n794KLIvfWfRv\\u002fTSTiduVfg\\u002ftLpPeH9I9T\\u002fOsllbuDIBQDA1iyJAu\\u002f4\\u002faG7oekAU7D9g8aqYPJ3TvyA\\u002fUlGD9\\u002fg\\u002fYSODeIWkGUAawjeHchMGQOSZEosDfPQ\\u002fO9PtHeQeH0BISzfAlCPiP+7xVDV8ZQPA4AQc8B4p8j9X09LN97gfQIneh\\u002flskBlAMH82hRCoA8BnxAD23R4TQMSum9iiXO6\\u002fFwVfDxmaAsBAOmfVzEPwPzBgLIVkRPC\\u002fjLirKPy0978ayyrhkn4RQGwOOav5WQFAQNjHTPICFUCvIgLefQEQQNh5Btb1XPo\\u002f4Gqx5YNxIUAYqOvYQoDnP0t0ugM2fCFAkkJ2zswEI0BkGtQp2XwbwGPsr1MyXijAIIPi3bk31D\\u002fUdoIXswX8PzAB9G6KPcy\\u002fsC4bpRRb2T\\u002ffKACc+MMXQARxuOeCPvo\\u002f2kuOjT0DDkAA4NtJK7vDPyQslVPEOA9Adu+Ub3NOJ0BqLz\\u002fDjmcRwD5jmD7YJ\\u002f6\\u002fCo65Gu2NCEDI3JD7RSz7P7iydz+1uvg\\u002fAAZ4J7aNlj9cRu9ovckbwMB2JV39SLS\\u002flGH7K\\u002fsXIsCA4h54Vk\\u002fKP1P\\u002fqSG94BZAXNS1AFGE678AKYmUctmcP5rxhl8nOQ5AoLpoFhLT0z9ASzjVgtz7v+BFuc1NVvg\\u002fCHf5A9+70L\\u002fU0\\u002fSx3vMFwLs0cRZz\\u002fAPAgkQ6z9w1A8C4n7EEmCYAQNCaL5senuK\\u002fCFS2FhhI8r8KH\\u002fS23H77v4Acib3wJqS\\u002fKiZCngavCUDUdCBdcI\\u002f2P4hEavjyvdW\\u002fcH1TgxTxzL+kq0RymOImQND\\u002ffZTPpSfARBRL+l31A0CksnDnE9kNwBcvYqUjgBPAIF\\u002fFzX0n2z+AgBfO8OWvP++5VIcdcQTAli1m71hcFsDcZGcAEOcewOAjXciKriBABP2CsEAtHEBgmUEAKaDZP6g3lNJTATVAxVzMtOYtAcC4ykW8lBHrP0rFCss25\\u002fC\\u002fYinVD7oG\\u002f79QbGcCmCfVv6Iq6i7DuxbAPEDoqmJMCUDGv\\u002ftFBVEeQA1yOnrcfAjAcDCkvAOd\\u002fL88jdeEOAITQA==\"},\"type\":\"scatter\"}],                        {\"xaxis\":{\"title\":{\"text\":\"Date\"}},\"yaxis\":{\"title\":{\"text\":\"% Change\"}},\"template\":{\"data\":{\"histogram2dcontour\":[{\"type\":\"histogram2dcontour\",\"colorbar\":{\"outlinewidth\":0,\"ticks\":\"\"},\"colorscale\":[[0.0,\"#0d0887\"],[0.1111111111111111,\"#46039f\"],[0.2222222222222222,\"#7201a8\"],[0.3333333333333333,\"#9c179e\"],[0.4444444444444444,\"#bd3786\"],[0.5555555555555556,\"#d8576b\"],[0.6666666666666666,\"#ed7953\"],[0.7777777777777778,\"#fb9f3a\"],[0.8888888888888888,\"#fdca26\"],[1.0,\"#f0f921\"]]}],\"choropleth\":[{\"type\":\"choropleth\",\"colorbar\":{\"outlinewidth\":0,\"ticks\":\"\"}}],\"histogram2d\":[{\"type\":\"histogram2d\",\"colorbar\":{\"outlinewidth\":0,\"ticks\":\"\"},\"colorscale\":[[0.0,\"#0d0887\"],[0.1111111111111111,\"#46039f\"],[0.2222222222222222,\"#7201a8\"],[0.3333333333333333,\"#9c179e\"],[0.4444444444444444,\"#bd3786\"],[0.5555555555555556,\"#d8576b\"],[0.6666666666666666,\"#ed7953\"],[0.7777777777777778,\"#fb9f3a\"],[0.8888888888888888,\"#fdca26\"],[1.0,\"#f0f921\"]]}],\"heatmap\":[{\"type\":\"heatmap\",\"colorbar\":{\"outlinewidth\":0,\"ticks\":\"\"},\"colorscale\":[[0.0,\"#0d0887\"],[0.1111111111111111,\"#46039f\"],[0.2222222222222222,\"#7201a8\"],[0.3333333333333333,\"#9c179e\"],[0.4444444444444444,\"#bd3786\"],[0.5555555555555556,\"#d8576b\"],[0.6666666666666666,\"#ed7953\"],[0.7777777777777778,\"#fb9f3a\"],[0.8888888888888888,\"#fdca26\"],[1.0,\"#f0f921\"]]}],\"contourcarpet\":[{\"type\":\"contourcarpet\",\"colorbar\":{\"outlinewidth\":0,\"ticks\":\"\"}}],\"contour\":[{\"type\":\"contour\",\"colorbar\":{\"outlinewidth\":0,\"ticks\":\"\"},\"colorscale\":[[0.0,\"#0d0887\"],[0.1111111111111111,\"#46039f\"],[0.2222222222222222,\"#7201a8\"],[0.3333333333333333,\"#9c179e\"],[0.4444444444444444,\"#bd3786\"],[0.5555555555555556,\"#d8576b\"],[0.6666666666666666,\"#ed7953\"],[0.7777777777777778,\"#fb9f3a\"],[0.8888888888888888,\"#fdca26\"],[1.0,\"#f0f921\"]]}],\"surface\":[{\"type\":\"surface\",\"colorbar\":{\"outlinewidth\":0,\"ticks\":\"\"},\"colorscale\":[[0.0,\"#0d0887\"],[0.1111111111111111,\"#46039f\"],[0.2222222222222222,\"#7201a8\"],[0.3333333333333333,\"#9c179e\"],[0.4444444444444444,\"#bd3786\"],[0.5555555555555556,\"#d8576b\"],[0.6666666666666666,\"#ed7953\"],[0.7777777777777778,\"#fb9f3a\"],[0.8888888888888888,\"#fdca26\"],[1.0,\"#f0f921\"]]}],\"mesh3d\":[{\"type\":\"mesh3d\",\"colorbar\":{\"outlinewidth\":0,\"ticks\":\"\"}}],\"scatter\":[{\"fillpattern\":{\"fillmode\":\"overlay\",\"size\":10,\"solidity\":0.2},\"type\":\"scatter\"}],\"parcoords\":[{\"type\":\"parcoords\",\"line\":{\"colorbar\":{\"outlinewidth\":0,\"ticks\":\"\"}}}],\"scatterpolargl\":[{\"type\":\"scatterpolargl\",\"marker\":{\"colorbar\":{\"outlinewidth\":0,\"ticks\":\"\"}}}],\"bar\":[{\"error_x\":{\"color\":\"#2a3f5f\"},\"error_y\":{\"color\":\"#2a3f5f\"},\"marker\":{\"line\":{\"color\":\"#E5ECF6\",\"width\":0.5},\"pattern\":{\"fillmode\":\"overlay\",\"size\":10,\"solidity\":0.2}},\"type\":\"bar\"}],\"scattergeo\":[{\"type\":\"scattergeo\",\"marker\":{\"colorbar\":{\"outlinewidth\":0,\"ticks\":\"\"}}}],\"scatterpolar\":[{\"type\":\"scatterpolar\",\"marker\":{\"colorbar\":{\"outlinewidth\":0,\"ticks\":\"\"}}}],\"histogram\":[{\"marker\":{\"pattern\":{\"fillmode\":\"overlay\",\"size\":10,\"solidity\":0.2}},\"type\":\"histogram\"}],\"scattergl\":[{\"type\":\"scattergl\",\"marker\":{\"colorbar\":{\"outlinewidth\":0,\"ticks\":\"\"}}}],\"scatter3d\":[{\"type\":\"scatter3d\",\"line\":{\"colorbar\":{\"outlinewidth\":0,\"ticks\":\"\"}},\"marker\":{\"colorbar\":{\"outlinewidth\":0,\"ticks\":\"\"}}}],\"scattermap\":[{\"type\":\"scattermap\",\"marker\":{\"colorbar\":{\"outlinewidth\":0,\"ticks\":\"\"}}}],\"scattermapbox\":[{\"type\":\"scattermapbox\",\"marker\":{\"colorbar\":{\"outlinewidth\":0,\"ticks\":\"\"}}}],\"scatterternary\":[{\"type\":\"scatterternary\",\"marker\":{\"colorbar\":{\"outlinewidth\":0,\"ticks\":\"\"}}}],\"scattercarpet\":[{\"type\":\"scattercarpet\",\"marker\":{\"colorbar\":{\"outlinewidth\":0,\"ticks\":\"\"}}}],\"carpet\":[{\"aaxis\":{\"endlinecolor\":\"#2a3f5f\",\"gridcolor\":\"white\",\"linecolor\":\"white\",\"minorgridcolor\":\"white\",\"startlinecolor\":\"#2a3f5f\"},\"baxis\":{\"endlinecolor\":\"#2a3f5f\",\"gridcolor\":\"white\",\"linecolor\":\"white\",\"minorgridcolor\":\"white\",\"startlinecolor\":\"#2a3f5f\"},\"type\":\"carpet\"}],\"table\":[{\"cells\":{\"fill\":{\"color\":\"#EBF0F8\"},\"line\":{\"color\":\"white\"}},\"header\":{\"fill\":{\"color\":\"#C8D4E3\"},\"line\":{\"color\":\"white\"}},\"type\":\"table\"}],\"barpolar\":[{\"marker\":{\"line\":{\"color\":\"#E5ECF6\",\"width\":0.5},\"pattern\":{\"fillmode\":\"overlay\",\"size\":10,\"solidity\":0.2}},\"type\":\"barpolar\"}],\"pie\":[{\"automargin\":true,\"type\":\"pie\"}]},\"layout\":{\"autotypenumbers\":\"strict\",\"colorway\":[\"#636efa\",\"#EF553B\",\"#00cc96\",\"#ab63fa\",\"#FFA15A\",\"#19d3f3\",\"#FF6692\",\"#B6E880\",\"#FF97FF\",\"#FECB52\"],\"font\":{\"color\":\"#2a3f5f\"},\"hovermode\":\"closest\",\"hoverlabel\":{\"align\":\"left\"},\"paper_bgcolor\":\"white\",\"plot_bgcolor\":\"#E5ECF6\",\"polar\":{\"bgcolor\":\"#E5ECF6\",\"angularaxis\":{\"gridcolor\":\"white\",\"linecolor\":\"white\",\"ticks\":\"\"},\"radialaxis\":{\"gridcolor\":\"white\",\"linecolor\":\"white\",\"ticks\":\"\"}},\"ternary\":{\"bgcolor\":\"#E5ECF6\",\"aaxis\":{\"gridcolor\":\"white\",\"linecolor\":\"white\",\"ticks\":\"\"},\"baxis\":{\"gridcolor\":\"white\",\"linecolor\":\"white\",\"ticks\":\"\"},\"caxis\":{\"gridcolor\":\"white\",\"linecolor\":\"white\",\"ticks\":\"\"}},\"coloraxis\":{\"colorbar\":{\"outlinewidth\":0,\"ticks\":\"\"}},\"colorscale\":{\"sequential\":[[0.0,\"#0d0887\"],[0.1111111111111111,\"#46039f\"],[0.2222222222222222,\"#7201a8\"],[0.3333333333333333,\"#9c179e\"],[0.4444444444444444,\"#bd3786\"],[0.5555555555555556,\"#d8576b\"],[0.6666666666666666,\"#ed7953\"],[0.7777777777777778,\"#fb9f3a\"],[0.8888888888888888,\"#fdca26\"],[1.0,\"#f0f921\"]],\"sequentialminus\":[[0.0,\"#0d0887\"],[0.1111111111111111,\"#46039f\"],[0.2222222222222222,\"#7201a8\"],[0.3333333333333333,\"#9c179e\"],[0.4444444444444444,\"#bd3786\"],[0.5555555555555556,\"#d8576b\"],[0.6666666666666666,\"#ed7953\"],[0.7777777777777778,\"#fb9f3a\"],[0.8888888888888888,\"#fdca26\"],[1.0,\"#f0f921\"]],\"diverging\":[[0,\"#8e0152\"],[0.1,\"#c51b7d\"],[0.2,\"#de77ae\"],[0.3,\"#f1b6da\"],[0.4,\"#fde0ef\"],[0.5,\"#f7f7f7\"],[0.6,\"#e6f5d0\"],[0.7,\"#b8e186\"],[0.8,\"#7fbc41\"],[0.9,\"#4d9221\"],[1,\"#276419\"]]},\"xaxis\":{\"gridcolor\":\"white\",\"linecolor\":\"white\",\"ticks\":\"\",\"title\":{\"standoff\":15},\"zerolinecolor\":\"white\",\"automargin\":true,\"zerolinewidth\":2},\"yaxis\":{\"gridcolor\":\"white\",\"linecolor\":\"white\",\"ticks\":\"\",\"title\":{\"standoff\":15},\"zerolinecolor\":\"white\",\"automargin\":true,\"zerolinewidth\":2},\"scene\":{\"xaxis\":{\"backgroundcolor\":\"#E5ECF6\",\"gridcolor\":\"white\",\"linecolor\":\"white\",\"showbackground\":true,\"ticks\":\"\",\"zerolinecolor\":\"white\",\"gridwidth\":2},\"yaxis\":{\"backgroundcolor\":\"#E5ECF6\",\"gridcolor\":\"white\",\"linecolor\":\"white\",\"showbackground\":true,\"ticks\":\"\",\"zerolinecolor\":\"white\",\"gridwidth\":2},\"zaxis\":{\"backgroundcolor\":\"#E5ECF6\",\"gridcolor\":\"white\",\"linecolor\":\"white\",\"showbackground\":true,\"ticks\":\"\",\"zerolinecolor\":\"white\",\"gridwidth\":2}},\"shapedefaults\":{\"line\":{\"color\":\"#2a3f5f\"}},\"annotationdefaults\":{\"arrowcolor\":\"#2a3f5f\",\"arrowhead\":0,\"arrowwidth\":1},\"geo\":{\"bgcolor\":\"white\",\"landcolor\":\"#E5ECF6\",\"subunitcolor\":\"white\",\"showland\":true,\"showlakes\":true,\"lakecolor\":\"white\"},\"title\":{\"x\":0.05},\"mapbox\":{\"style\":\"light\"}}}},                        {\"responsive\": true}                    ).then(function(){\n",
       "                            \n",
       "var gd = document.getElementById('9b9041c3-604b-4675-9a27-c6c3c17abb60');\n",
       "var x = new MutationObserver(function (mutations, observer) {{\n",
       "        var display = window.getComputedStyle(gd).display;\n",
       "        if (!display || display === 'none') {{\n",
       "            console.log([gd, 'removed!']);\n",
       "            Plotly.purge(gd);\n",
       "            observer.disconnect();\n",
       "        }}\n",
       "}});\n",
       "\n",
       "// Listen for the removal of the full notebook cells\n",
       "var notebookContainer = gd.closest('#notebook-container');\n",
       "if (notebookContainer) {{\n",
       "    x.observe(notebookContainer, {childList: true});\n",
       "}}\n",
       "\n",
       "// Listen for the clearing of the current output cell\n",
       "var outputEl = gd.closest('.output');\n",
       "if (outputEl) {{\n",
       "    x.observe(outputEl, {childList: true});\n",
       "}}\n",
       "\n",
       "                        })                };            </script>        </div>"
      ]
     },
     "metadata": {},
     "output_type": "display_data"
    }
   ],
   "source": [
    "import plotly.graph_objs as go\n",
    "\n",
    "# Create a trace for the data\n",
    "trace = go.Scatter(\n",
    "    x=btc_df.index,\n",
    "    y=btc_df['% change'],\n",
    "    mode='lines',\n",
    "    name='% change'\n",
    ")\n",
    "\n",
    "# Define the layout with titlefont explicitly set\n",
    "layout = go.Layout(\n",
    "    xaxis=dict(title='Date'),\n",
    "    yaxis=dict(title='% Change')\n",
    ")\n",
    "\n",
    "# Create the figure and plot it\n",
    "fig = go.Figure(data=[trace], layout=layout)\n",
    "fig.show()\n"
   ]
  },
  {
   "cell_type": "code",
   "execution_count": null,
   "id": "42d7b5a7-affb-4178-95fc-75c6091cf0f1",
   "metadata": {},
   "outputs": [],
   "source": [
    "# we can now visually analyse the price variation per day"
   ]
  }
 ],
 "metadata": {
  "kernelspec": {
   "display_name": "Python 3 (ipykernel)",
   "language": "python",
   "name": "python3"
  },
  "language_info": {
   "codemirror_mode": {
    "name": "ipython",
    "version": 3
   },
   "file_extension": ".py",
   "mimetype": "text/x-python",
   "name": "python",
   "nbconvert_exporter": "python",
   "pygments_lexer": "ipython3",
   "version": "3.12.3"
  }
 },
 "nbformat": 4,
 "nbformat_minor": 5
}
